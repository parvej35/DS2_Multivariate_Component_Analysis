{
 "cells": [
  {
   "cell_type": "code",
   "execution_count": 28,
   "id": "75ae8405",
   "metadata": {},
   "outputs": [],
   "source": [
    "import pandas as pd\n",
    "import numpy as np\n",
    "import random as rd\n",
    "from sklearn.decomposition import PCA\n",
    "from sklearn import preprocessing\n",
    "\n",
    "import matplotlib.pyplot as plt\n",
    "import matplotlib.collections as mc"
   ]
  },
  {
   "cell_type": "code",
   "execution_count": 29,
   "id": "8f22c453",
   "metadata": {},
   "outputs": [],
   "source": [
    "# https://www.youtube.com/watch?v=Lsue2gEM9D0"
   ]
  },
  {
   "cell_type": "markdown",
   "id": "16297cbc",
   "metadata": {},
   "source": [
    "### Generate a sample dataset"
   ]
  },
  {
   "cell_type": "code",
   "execution_count": 30,
   "id": "a0c278e2",
   "metadata": {},
   "outputs": [
    {
     "name": "stdout",
     "output_type": "stream",
     "text": [
      "['wt1', 'wt2', 'wt3', 'wt4', 'wt5']\n",
      "['ko1', 'ko2', 'ko3', 'ko4', 'ko5']\n"
     ]
    }
   ],
   "source": [
    "genes = ['gene' +str(i) for i in range (1, 101)]\n",
    "# print(genes)\n",
    "\n",
    "#create arrays of sample names.\n",
    "# We have 5 'wild type' (wt) and 5 'knock out' (ko) samples \n",
    "wt = ['wt' +str(i) for i in range (1, 6)]\n",
    "print(wt)\n",
    "\n",
    "ko = ['ko' +str(i) for i in range (1, 6)]\n",
    "print(ko)"
   ]
  },
  {
   "cell_type": "code",
   "execution_count": 35,
   "id": "905cd09c",
   "metadata": {},
   "outputs": [
    {
     "name": "stdout",
     "output_type": "stream",
     "text": [
      "       wt1  wt2  wt3  wt4  wt5   ko1  ko2  ko3   ko4  ko5\n",
      "gene1  519  496  473  517  499   729  784  796   780  723\n",
      "gene2   50   50   50   38   57   175  168  168   196  184\n",
      "gene3  144  139  149  127  133   492  482  481   533  515\n",
      "gene4  775  742  874  781  774   561  579  586   569  565\n",
      "gene5  698  701  722  714  708  1026  902  965  1009  944\n",
      "(100, 10)\n"
     ]
    }
   ],
   "source": [
    "#Create dataframe from the dataset\n",
    "\n",
    "# data = pd.DataFrame(columns=[\"wt\", \"ko\"], index=genes)\n",
    "data = pd.DataFrame(columns=[*wt, *ko], index=genes)\n",
    "\n",
    "for gene in data.index:\n",
    "    data.loc[gene,'wt1':'wt5'] = np.random.poisson(lam=rd.randrange(10,1000), size=5)\n",
    "    data.loc[gene,'ko1':'ko5'] = np.random.poisson(lam=rd.randrange(10,1000), size=5)\n",
    "\n",
    "    \n",
    "print(data.head())\n",
    "print(data.shape)"
   ]
  },
  {
   "cell_type": "code",
   "execution_count": null,
   "id": "f542dce2",
   "metadata": {},
   "outputs": [],
   "source": []
  },
  {
   "cell_type": "code",
   "execution_count": null,
   "id": "ebe312c1",
   "metadata": {},
   "outputs": [],
   "source": []
  },
  {
   "cell_type": "code",
   "execution_count": null,
   "id": "665e8ed4",
   "metadata": {},
   "outputs": [],
   "source": []
  },
  {
   "cell_type": "code",
   "execution_count": null,
   "id": "e3418f02",
   "metadata": {},
   "outputs": [],
   "source": []
  },
  {
   "cell_type": "code",
   "execution_count": null,
   "id": "20c7f475",
   "metadata": {},
   "outputs": [],
   "source": []
  },
  {
   "cell_type": "code",
   "execution_count": null,
   "id": "7ec9b10b",
   "metadata": {},
   "outputs": [],
   "source": []
  }
 ],
 "metadata": {
  "kernelspec": {
   "display_name": "Python 3 (ipykernel)",
   "language": "python",
   "name": "python3"
  },
  "language_info": {
   "codemirror_mode": {
    "name": "ipython",
    "version": 3
   },
   "file_extension": ".py",
   "mimetype": "text/x-python",
   "name": "python",
   "nbconvert_exporter": "python",
   "pygments_lexer": "ipython3",
   "version": "3.9.7"
  }
 },
 "nbformat": 4,
 "nbformat_minor": 5
}
