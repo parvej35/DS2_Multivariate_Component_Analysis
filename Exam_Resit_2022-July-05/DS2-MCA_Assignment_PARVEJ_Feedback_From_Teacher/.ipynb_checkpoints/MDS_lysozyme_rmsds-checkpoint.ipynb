{
 "cells": [
  {
   "cell_type": "markdown",
   "metadata": {},
   "source": [
    "# Data Science 2: Multivariate Component Analysis Exam, 05 July 2022\n",
    " - Date: 05-July-2022\n",
    " - Student: Parvej Chowdhury\n",
    " - Student ID: 434653\n"
   ]
  },
  {
   "cell_type": "code",
   "execution_count": 1,
   "metadata": {},
   "outputs": [],
   "source": [
    "import pandas as pd\n",
    "import numpy as np\n",
    "import matplotlib.pyplot as plt\n",
    "import seaborn as sns\n",
    "\n",
    "import seaborn as sns\n",
    "import matplotlib.pyplot as plt\n",
    "\n",
    "from sklearn.linear_model import LinearRegression\n",
    "from sklearn.decomposition import PCA\n",
    "from sklearn.ensemble import RandomForestClassifier\n",
    "from sklearn.metrics import accuracy_score\n",
    "\n",
    "from sklearn.manifold import MDS\n",
    "import sklearn.datasets as dt\n",
    "from sklearn.metrics.pairwise import manhattan_distances, euclidean_distances\n",
    "from matplotlib.offsetbox import OffsetImage, AnnotationBbox\n",
    "\n",
    "# for data visualization\n",
    "import plotly.express as px\n",
    "import matplotlib.cm as cm\n",
    "\n",
    "import warnings\n",
    "warnings.filterwarnings('ignore')"
   ]
  },
  {
   "cell_type": "markdown",
   "metadata": {},
   "source": [
    "# 1. Dataset: Lysozyme"
   ]
  },
  {
   "cell_type": "markdown",
   "metadata": {},
   "source": [
    "The dataset file **lysozyme_rmsds.csv** contains a distance matrix of a selection of lysozyme structures from the Protein DataBank (PDB). Lysozyme is one of the most used/studied proteins, with >5400 structures available in the database. Distances were determined as root-mean-square deviation (RMSD) after least-squares alignment using the CE align algorithm.\n",
    "\n",
    "**Multidimensional Scaling (MDS)** is a technique that allows us to reduce the dimensions of the data whilst still preserving the distances and dissimilarities between samples. It is a non-linear technique for embedding data in lower-dimensional space. This makes it possible to make a distinction between the different variants easier.\n",
    "\n",
    "This lysozyme dataset contains the distance matrix of a selection of lysozyme structures. My aim is to see whether any clusters are formed based on their shapes/coordenates, Multidimensional scaling would be an appropriate technique. "
   ]
  },
  {
   "cell_type": "markdown",
   "metadata": {},
   "source": [
    "## Loading, inspecting and processing the data"
   ]
  },
  {
   "cell_type": "code",
   "execution_count": 20,
   "metadata": {},
   "outputs": [
    {
     "data": {
      "text/html": [
       "<div>\n",
       "<style scoped>\n",
       "    .dataframe tbody tr th:only-of-type {\n",
       "        vertical-align: middle;\n",
       "    }\n",
       "\n",
       "    .dataframe tbody tr th {\n",
       "        vertical-align: top;\n",
       "    }\n",
       "\n",
       "    .dataframe thead th {\n",
       "        text-align: right;\n",
       "    }\n",
       "</style>\n",
       "<table border=\"1\" class=\"dataframe\">\n",
       "  <thead>\n",
       "    <tr style=\"text-align: right;\">\n",
       "      <th></th>\n",
       "      <th>Unnamed: 0</th>\n",
       "      <th>1ta0</th>\n",
       "      <th>5m1y</th>\n",
       "      <th>1flq</th>\n",
       "      <th>4ru1</th>\n",
       "      <th>1uia</th>\n",
       "      <th>3ma8</th>\n",
       "      <th>2zc6</th>\n",
       "      <th>4m53</th>\n",
       "      <th>1cwv</th>\n",
       "      <th>...</th>\n",
       "      <th>5dla</th>\n",
       "      <th>4u2a</th>\n",
       "      <th>6fe3</th>\n",
       "      <th>4ws6</th>\n",
       "      <th>225l</th>\n",
       "      <th>1l17</th>\n",
       "      <th>4zee</th>\n",
       "      <th>5hmj</th>\n",
       "      <th>4qdn</th>\n",
       "      <th>4x6p</th>\n",
       "    </tr>\n",
       "  </thead>\n",
       "  <tbody>\n",
       "    <tr>\n",
       "      <th>0</th>\n",
       "      <td>1ta0</td>\n",
       "      <td>0.000000</td>\n",
       "      <td>9.944671</td>\n",
       "      <td>10.914137</td>\n",
       "      <td>5.368414</td>\n",
       "      <td>10.147917</td>\n",
       "      <td>6.330169</td>\n",
       "      <td>13.397298</td>\n",
       "      <td>4.796260</td>\n",
       "      <td>6.708178</td>\n",
       "      <td>...</td>\n",
       "      <td>10.748649</td>\n",
       "      <td>4.697932</td>\n",
       "      <td>6.442754</td>\n",
       "      <td>5.967243</td>\n",
       "      <td>6.613105</td>\n",
       "      <td>6.550033</td>\n",
       "      <td>10.885024</td>\n",
       "      <td>10.758552</td>\n",
       "      <td>10.531178</td>\n",
       "      <td>7.134530</td>\n",
       "    </tr>\n",
       "    <tr>\n",
       "      <th>1</th>\n",
       "      <td>5m1y</td>\n",
       "      <td>9.944671</td>\n",
       "      <td>0.000000</td>\n",
       "      <td>0.351689</td>\n",
       "      <td>8.778090</td>\n",
       "      <td>0.360542</td>\n",
       "      <td>6.532751</td>\n",
       "      <td>6.447437</td>\n",
       "      <td>11.661980</td>\n",
       "      <td>10.892651</td>\n",
       "      <td>...</td>\n",
       "      <td>0.450633</td>\n",
       "      <td>6.518186</td>\n",
       "      <td>10.142028</td>\n",
       "      <td>8.008221</td>\n",
       "      <td>5.411168</td>\n",
       "      <td>5.225135</td>\n",
       "      <td>0.423226</td>\n",
       "      <td>0.382607</td>\n",
       "      <td>4.660109</td>\n",
       "      <td>6.716681</td>\n",
       "    </tr>\n",
       "    <tr>\n",
       "      <th>2</th>\n",
       "      <td>1flq</td>\n",
       "      <td>10.914137</td>\n",
       "      <td>0.351689</td>\n",
       "      <td>0.000000</td>\n",
       "      <td>8.781974</td>\n",
       "      <td>0.201154</td>\n",
       "      <td>5.892352</td>\n",
       "      <td>6.476417</td>\n",
       "      <td>10.141856</td>\n",
       "      <td>8.676370</td>\n",
       "      <td>...</td>\n",
       "      <td>0.300225</td>\n",
       "      <td>6.862653</td>\n",
       "      <td>8.398187</td>\n",
       "      <td>8.305965</td>\n",
       "      <td>5.385658</td>\n",
       "      <td>5.390587</td>\n",
       "      <td>0.312325</td>\n",
       "      <td>0.241490</td>\n",
       "      <td>4.646545</td>\n",
       "      <td>6.584307</td>\n",
       "    </tr>\n",
       "    <tr>\n",
       "      <th>3</th>\n",
       "      <td>4ru1</td>\n",
       "      <td>5.368414</td>\n",
       "      <td>8.778090</td>\n",
       "      <td>8.781974</td>\n",
       "      <td>0.000000</td>\n",
       "      <td>8.802099</td>\n",
       "      <td>6.510888</td>\n",
       "      <td>11.596014</td>\n",
       "      <td>6.613473</td>\n",
       "      <td>6.483236</td>\n",
       "      <td>...</td>\n",
       "      <td>10.002309</td>\n",
       "      <td>9.219876</td>\n",
       "      <td>8.978669</td>\n",
       "      <td>5.131378</td>\n",
       "      <td>8.586637</td>\n",
       "      <td>9.308215</td>\n",
       "      <td>7.545538</td>\n",
       "      <td>9.995192</td>\n",
       "      <td>11.135262</td>\n",
       "      <td>10.210994</td>\n",
       "    </tr>\n",
       "    <tr>\n",
       "      <th>4</th>\n",
       "      <td>1uia</td>\n",
       "      <td>10.147917</td>\n",
       "      <td>0.360542</td>\n",
       "      <td>0.201154</td>\n",
       "      <td>8.802099</td>\n",
       "      <td>0.000000</td>\n",
       "      <td>8.169978</td>\n",
       "      <td>6.458828</td>\n",
       "      <td>11.358191</td>\n",
       "      <td>10.635841</td>\n",
       "      <td>...</td>\n",
       "      <td>0.296834</td>\n",
       "      <td>7.002353</td>\n",
       "      <td>11.221244</td>\n",
       "      <td>10.178038</td>\n",
       "      <td>5.404494</td>\n",
       "      <td>5.409590</td>\n",
       "      <td>0.333920</td>\n",
       "      <td>0.247616</td>\n",
       "      <td>4.522474</td>\n",
       "      <td>6.734468</td>\n",
       "    </tr>\n",
       "  </tbody>\n",
       "</table>\n",
       "<p>5 rows × 173 columns</p>\n",
       "</div>"
      ],
      "text/plain": [
       "  Unnamed: 0       1ta0      5m1y       1flq      4ru1       1uia      3ma8  \\\n",
       "0       1ta0   0.000000  9.944671  10.914137  5.368414  10.147917  6.330169   \n",
       "1       5m1y   9.944671  0.000000   0.351689  8.778090   0.360542  6.532751   \n",
       "2       1flq  10.914137  0.351689   0.000000  8.781974   0.201154  5.892352   \n",
       "3       4ru1   5.368414  8.778090   8.781974  0.000000   8.802099  6.510888   \n",
       "4       1uia  10.147917  0.360542   0.201154  8.802099   0.000000  8.169978   \n",
       "\n",
       "        2zc6       4m53       1cwv  ...       5dla      4u2a       6fe3  \\\n",
       "0  13.397298   4.796260   6.708178  ...  10.748649  4.697932   6.442754   \n",
       "1   6.447437  11.661980  10.892651  ...   0.450633  6.518186  10.142028   \n",
       "2   6.476417  10.141856   8.676370  ...   0.300225  6.862653   8.398187   \n",
       "3  11.596014   6.613473   6.483236  ...  10.002309  9.219876   8.978669   \n",
       "4   6.458828  11.358191  10.635841  ...   0.296834  7.002353  11.221244   \n",
       "\n",
       "        4ws6      225l      1l17       4zee       5hmj       4qdn       4x6p  \n",
       "0   5.967243  6.613105  6.550033  10.885024  10.758552  10.531178   7.134530  \n",
       "1   8.008221  5.411168  5.225135   0.423226   0.382607   4.660109   6.716681  \n",
       "2   8.305965  5.385658  5.390587   0.312325   0.241490   4.646545   6.584307  \n",
       "3   5.131378  8.586637  9.308215   7.545538   9.995192  11.135262  10.210994  \n",
       "4  10.178038  5.404494  5.409590   0.333920   0.247616   4.522474   6.734468  \n",
       "\n",
       "[5 rows x 173 columns]"
      ]
     },
     "execution_count": 20,
     "metadata": {},
     "output_type": "execute_result"
    }
   ],
   "source": [
    "df_lysozyme = pd.read_csv('lysozyme_rmsds.csv', sep=',')\n",
    "df_lysozyme.head(5)\n",
    "# df_lysozyme.shape"
   ]
  },
  {
   "cell_type": "markdown",
   "metadata": {},
   "source": [
    "Columns **'Unnamed: 0'** does not contain any significant information. Hence this column is not required for our investigation, I am going to drop this column. "
   ]
  },
  {
   "cell_type": "code",
   "execution_count": null,
   "metadata": {},
   "outputs": [],
   "source": [
    "df_lysozyme = df_lysozyme.drop(columns=['Unnamed: 0'], axis=1)"
   ]
  },
  {
   "cell_type": "code",
   "execution_count": null,
   "metadata": {},
   "outputs": [],
   "source": [
    "df_lysozyme.head()"
   ]
  },
  {
   "cell_type": "code",
   "execution_count": 5,
   "metadata": {},
   "outputs": [
    {
     "name": "stdout",
     "output_type": "stream",
     "text": [
      "Shape of the dataset: (172, 172)\n"
     ]
    }
   ],
   "source": [
    "# After deleting the column, lets check the shape of the dataset\n",
    "print(\"Shape of the dataset:\", df_lysozyme.shape)"
   ]
  },
  {
   "cell_type": "code",
   "execution_count": 6,
   "metadata": {},
   "outputs": [
    {
     "name": "stdout",
     "output_type": "stream",
     "text": [
      "Total NULL values in the dataset: 0\n"
     ]
    }
   ],
   "source": [
    "# Checking for null values\n",
    "print(\"Total NULL values in the dataset:\", df_lysozyme.isnull().sum().sum())"
   ]
  },
  {
   "cell_type": "markdown",
   "metadata": {},
   "source": [
    "**Now it seems the dataset is clear and there is no NULL value.**"
   ]
  },
  {
   "cell_type": "code",
   "execution_count": 7,
   "metadata": {},
   "outputs": [
    {
     "data": {
      "text/html": [
       "<div>\n",
       "<style scoped>\n",
       "    .dataframe tbody tr th:only-of-type {\n",
       "        vertical-align: middle;\n",
       "    }\n",
       "\n",
       "    .dataframe tbody tr th {\n",
       "        vertical-align: top;\n",
       "    }\n",
       "\n",
       "    .dataframe thead th {\n",
       "        text-align: right;\n",
       "    }\n",
       "</style>\n",
       "<table border=\"1\" class=\"dataframe\">\n",
       "  <thead>\n",
       "    <tr style=\"text-align: right;\">\n",
       "      <th></th>\n",
       "      <th>1ta0</th>\n",
       "      <th>5m1y</th>\n",
       "      <th>1flq</th>\n",
       "      <th>4ru1</th>\n",
       "      <th>1uia</th>\n",
       "      <th>3ma8</th>\n",
       "      <th>2zc6</th>\n",
       "      <th>4m53</th>\n",
       "      <th>1cwv</th>\n",
       "      <th>6nup</th>\n",
       "      <th>...</th>\n",
       "      <th>5dla</th>\n",
       "      <th>4u2a</th>\n",
       "      <th>6fe3</th>\n",
       "      <th>4ws6</th>\n",
       "      <th>225l</th>\n",
       "      <th>1l17</th>\n",
       "      <th>4zee</th>\n",
       "      <th>5hmj</th>\n",
       "      <th>4qdn</th>\n",
       "      <th>4x6p</th>\n",
       "    </tr>\n",
       "  </thead>\n",
       "  <tbody>\n",
       "    <tr>\n",
       "      <th>count</th>\n",
       "      <td>172.000000</td>\n",
       "      <td>172.000000</td>\n",
       "      <td>172.000000</td>\n",
       "      <td>172.000000</td>\n",
       "      <td>172.000000</td>\n",
       "      <td>172.000000</td>\n",
       "      <td>172.000000</td>\n",
       "      <td>172.000000</td>\n",
       "      <td>172.000000</td>\n",
       "      <td>172.000000</td>\n",
       "      <td>...</td>\n",
       "      <td>172.000000</td>\n",
       "      <td>172.000000</td>\n",
       "      <td>172.000000</td>\n",
       "      <td>172.000000</td>\n",
       "      <td>172.000000</td>\n",
       "      <td>172.000000</td>\n",
       "      <td>172.000000</td>\n",
       "      <td>172.000000</td>\n",
       "      <td>172.000000</td>\n",
       "      <td>172.000000</td>\n",
       "    </tr>\n",
       "    <tr>\n",
       "      <th>mean</th>\n",
       "      <td>8.036919</td>\n",
       "      <td>6.388850</td>\n",
       "      <td>6.318031</td>\n",
       "      <td>7.842816</td>\n",
       "      <td>6.312647</td>\n",
       "      <td>8.072835</td>\n",
       "      <td>7.653471</td>\n",
       "      <td>7.852616</td>\n",
       "      <td>8.306167</td>\n",
       "      <td>8.176573</td>\n",
       "      <td>...</td>\n",
       "      <td>6.231414</td>\n",
       "      <td>7.522106</td>\n",
       "      <td>8.503638</td>\n",
       "      <td>7.898512</td>\n",
       "      <td>6.406067</td>\n",
       "      <td>6.430737</td>\n",
       "      <td>6.358953</td>\n",
       "      <td>6.239349</td>\n",
       "      <td>6.640808</td>\n",
       "      <td>8.261526</td>\n",
       "    </tr>\n",
       "    <tr>\n",
       "      <th>std</th>\n",
       "      <td>2.213574</td>\n",
       "      <td>3.440428</td>\n",
       "      <td>3.429335</td>\n",
       "      <td>1.847217</td>\n",
       "      <td>3.430601</td>\n",
       "      <td>2.391028</td>\n",
       "      <td>1.897116</td>\n",
       "      <td>2.147198</td>\n",
       "      <td>1.837843</td>\n",
       "      <td>2.125762</td>\n",
       "      <td>...</td>\n",
       "      <td>3.346811</td>\n",
       "      <td>1.456069</td>\n",
       "      <td>1.920008</td>\n",
       "      <td>1.766548</td>\n",
       "      <td>2.994734</td>\n",
       "      <td>2.996154</td>\n",
       "      <td>3.415427</td>\n",
       "      <td>3.379766</td>\n",
       "      <td>2.175881</td>\n",
       "      <td>2.157962</td>\n",
       "    </tr>\n",
       "    <tr>\n",
       "      <th>min</th>\n",
       "      <td>0.000000</td>\n",
       "      <td>0.000000</td>\n",
       "      <td>0.000000</td>\n",
       "      <td>0.000000</td>\n",
       "      <td>0.000000</td>\n",
       "      <td>0.000000</td>\n",
       "      <td>0.000000</td>\n",
       "      <td>0.000000</td>\n",
       "      <td>0.000000</td>\n",
       "      <td>0.000000</td>\n",
       "      <td>...</td>\n",
       "      <td>0.000000</td>\n",
       "      <td>0.000000</td>\n",
       "      <td>0.000000</td>\n",
       "      <td>0.000000</td>\n",
       "      <td>0.000000</td>\n",
       "      <td>0.000000</td>\n",
       "      <td>0.000000</td>\n",
       "      <td>0.000000</td>\n",
       "      <td>0.000000</td>\n",
       "      <td>0.000000</td>\n",
       "    </tr>\n",
       "    <tr>\n",
       "      <th>25%</th>\n",
       "      <td>6.523725</td>\n",
       "      <td>5.116153</td>\n",
       "      <td>5.037334</td>\n",
       "      <td>6.311903</td>\n",
       "      <td>5.123895</td>\n",
       "      <td>6.011803</td>\n",
       "      <td>6.485349</td>\n",
       "      <td>6.117363</td>\n",
       "      <td>7.142767</td>\n",
       "      <td>6.246024</td>\n",
       "      <td>...</td>\n",
       "      <td>5.294430</td>\n",
       "      <td>6.734974</td>\n",
       "      <td>7.127571</td>\n",
       "      <td>6.715068</td>\n",
       "      <td>5.405806</td>\n",
       "      <td>5.407561</td>\n",
       "      <td>5.080435</td>\n",
       "      <td>5.112808</td>\n",
       "      <td>4.880142</td>\n",
       "      <td>6.754290</td>\n",
       "    </tr>\n",
       "    <tr>\n",
       "      <th>50%</th>\n",
       "      <td>7.453511</td>\n",
       "      <td>6.877664</td>\n",
       "      <td>6.800721</td>\n",
       "      <td>7.949098</td>\n",
       "      <td>6.745680</td>\n",
       "      <td>7.609880</td>\n",
       "      <td>7.432059</td>\n",
       "      <td>7.402749</td>\n",
       "      <td>8.464008</td>\n",
       "      <td>8.384525</td>\n",
       "      <td>...</td>\n",
       "      <td>6.781129</td>\n",
       "      <td>7.417251</td>\n",
       "      <td>8.400959</td>\n",
       "      <td>7.996756</td>\n",
       "      <td>6.696565</td>\n",
       "      <td>6.693226</td>\n",
       "      <td>6.980725</td>\n",
       "      <td>6.778710</td>\n",
       "      <td>5.884252</td>\n",
       "      <td>7.787650</td>\n",
       "    </tr>\n",
       "    <tr>\n",
       "      <th>75%</th>\n",
       "      <td>10.215548</td>\n",
       "      <td>9.128679</td>\n",
       "      <td>9.017460</td>\n",
       "      <td>9.306795</td>\n",
       "      <td>8.804445</td>\n",
       "      <td>9.619301</td>\n",
       "      <td>8.675533</td>\n",
       "      <td>9.861910</td>\n",
       "      <td>9.618126</td>\n",
       "      <td>9.631722</td>\n",
       "      <td>...</td>\n",
       "      <td>8.303838</td>\n",
       "      <td>8.251927</td>\n",
       "      <td>9.782955</td>\n",
       "      <td>9.210807</td>\n",
       "      <td>8.392679</td>\n",
       "      <td>8.516926</td>\n",
       "      <td>8.775682</td>\n",
       "      <td>8.818425</td>\n",
       "      <td>8.246352</td>\n",
       "      <td>9.751182</td>\n",
       "    </tr>\n",
       "    <tr>\n",
       "      <th>max</th>\n",
       "      <td>13.397298</td>\n",
       "      <td>13.090482</td>\n",
       "      <td>12.598936</td>\n",
       "      <td>12.234976</td>\n",
       "      <td>12.914645</td>\n",
       "      <td>12.815619</td>\n",
       "      <td>13.400449</td>\n",
       "      <td>12.809534</td>\n",
       "      <td>12.306097</td>\n",
       "      <td>13.123021</td>\n",
       "      <td>...</td>\n",
       "      <td>12.423120</td>\n",
       "      <td>12.121846</td>\n",
       "      <td>14.339375</td>\n",
       "      <td>11.865446</td>\n",
       "      <td>12.260640</td>\n",
       "      <td>12.252623</td>\n",
       "      <td>12.902373</td>\n",
       "      <td>12.589769</td>\n",
       "      <td>12.408708</td>\n",
       "      <td>12.366853</td>\n",
       "    </tr>\n",
       "  </tbody>\n",
       "</table>\n",
       "<p>8 rows × 172 columns</p>\n",
       "</div>"
      ],
      "text/plain": [
       "             1ta0        5m1y        1flq        4ru1        1uia        3ma8  \\\n",
       "count  172.000000  172.000000  172.000000  172.000000  172.000000  172.000000   \n",
       "mean     8.036919    6.388850    6.318031    7.842816    6.312647    8.072835   \n",
       "std      2.213574    3.440428    3.429335    1.847217    3.430601    2.391028   \n",
       "min      0.000000    0.000000    0.000000    0.000000    0.000000    0.000000   \n",
       "25%      6.523725    5.116153    5.037334    6.311903    5.123895    6.011803   \n",
       "50%      7.453511    6.877664    6.800721    7.949098    6.745680    7.609880   \n",
       "75%     10.215548    9.128679    9.017460    9.306795    8.804445    9.619301   \n",
       "max     13.397298   13.090482   12.598936   12.234976   12.914645   12.815619   \n",
       "\n",
       "             2zc6        4m53        1cwv        6nup  ...        5dla  \\\n",
       "count  172.000000  172.000000  172.000000  172.000000  ...  172.000000   \n",
       "mean     7.653471    7.852616    8.306167    8.176573  ...    6.231414   \n",
       "std      1.897116    2.147198    1.837843    2.125762  ...    3.346811   \n",
       "min      0.000000    0.000000    0.000000    0.000000  ...    0.000000   \n",
       "25%      6.485349    6.117363    7.142767    6.246024  ...    5.294430   \n",
       "50%      7.432059    7.402749    8.464008    8.384525  ...    6.781129   \n",
       "75%      8.675533    9.861910    9.618126    9.631722  ...    8.303838   \n",
       "max     13.400449   12.809534   12.306097   13.123021  ...   12.423120   \n",
       "\n",
       "             4u2a        6fe3        4ws6        225l        1l17        4zee  \\\n",
       "count  172.000000  172.000000  172.000000  172.000000  172.000000  172.000000   \n",
       "mean     7.522106    8.503638    7.898512    6.406067    6.430737    6.358953   \n",
       "std      1.456069    1.920008    1.766548    2.994734    2.996154    3.415427   \n",
       "min      0.000000    0.000000    0.000000    0.000000    0.000000    0.000000   \n",
       "25%      6.734974    7.127571    6.715068    5.405806    5.407561    5.080435   \n",
       "50%      7.417251    8.400959    7.996756    6.696565    6.693226    6.980725   \n",
       "75%      8.251927    9.782955    9.210807    8.392679    8.516926    8.775682   \n",
       "max     12.121846   14.339375   11.865446   12.260640   12.252623   12.902373   \n",
       "\n",
       "             5hmj        4qdn        4x6p  \n",
       "count  172.000000  172.000000  172.000000  \n",
       "mean     6.239349    6.640808    8.261526  \n",
       "std      3.379766    2.175881    2.157962  \n",
       "min      0.000000    0.000000    0.000000  \n",
       "25%      5.112808    4.880142    6.754290  \n",
       "50%      6.778710    5.884252    7.787650  \n",
       "75%      8.818425    8.246352    9.751182  \n",
       "max     12.589769   12.408708   12.366853  \n",
       "\n",
       "[8 rows x 172 columns]"
      ]
     },
     "execution_count": 7,
     "metadata": {},
     "output_type": "execute_result"
    }
   ],
   "source": [
    "df_lysozyme.describe()"
   ]
  },
  {
   "cell_type": "code",
   "execution_count": 8,
   "metadata": {},
   "outputs": [],
   "source": [
    "X = df_lysozyme.values\n",
    "# y = df_metabolom['Species'].values\n",
    "\n",
    "# X\n",
    "# len(X)"
   ]
  },
  {
   "cell_type": "markdown",
   "metadata": {},
   "source": [
    "To do multidimensional scaling we will use the stress levels and determine what the best stress level is. I use random samples from the dataset, to make sure it can be calculated quickly."
   ]
  },
  {
   "cell_type": "code",
   "execution_count": 9,
   "metadata": {},
   "outputs": [],
   "source": [
    "X_sample = X.copy()\n",
    "X_sample\n",
    "\n",
    "np.random.shuffle(X_sample)\n",
    "X_sample = X_sample[::]\n",
    "\n",
    "# X_sample"
   ]
  },
  {
   "cell_type": "code",
   "execution_count": 10,
   "metadata": {},
   "outputs": [],
   "source": [
    "stress = []\n",
    "for i in range(1, 20):\n",
    "    model = MDS(n_components=i)\n",
    "    \n",
    "    pts = model.fit_transform(X)\n",
    "    \n",
    "    stress.append(model.stress_)"
   ]
  },
  {
   "cell_type": "code",
   "execution_count": 11,
   "metadata": {},
   "outputs": [
    {
     "data": {
      "image/png": "[encoded data removed]",
      "text/plain": [
       "<Figure size 432x288 with 1 Axes>"
      ]
     },
     "metadata": {
      "needs_background": "light"
     },
     "output_type": "display_data"
    }
   ],
   "source": [
    "plt.plot(range(1, 20), stress)\n",
    "plt.xticks(range(1, 20))\n",
    "plt.title('stress')\n",
    "plt.ylabel('stress')\n",
    "plt.xlabel('Components')\n",
    "plt.show()"
   ]
  },
  {
   "cell_type": "markdown",
   "metadata": {},
   "source": [
    "Although the sklearn stress is plotted, it is recommended to use the Kruskal's stress. However, due to time constraints I chose the sklearn stress. We can see that 3 dimensions is descent, but the more dimensions the better in this context. For visualization purposes I'll go with the 2 and 3 dimensions. "
   ]
  },
  {
   "cell_type": "code",
   "execution_count": 12,
   "metadata": {},
   "outputs": [],
   "source": [
    "# Dissimilarity measure to use:\n",
    "\n",
    "# ‘euclidean’:\n",
    "# Pairwise Euclidean distances between points in the dataset.\n",
    "\n",
    "# ‘precomputed’:\n",
    "# Pre-computed dissimilarities are passed directly to fit and fit_transform.\n",
    "\n",
    "mds = MDS(n_components=2, random_state=0, dissimilarity='euclidean')\n",
    "pts = mds.fit_transform(X)"
   ]
  },
  {
   "cell_type": "code",
   "execution_count": 13,
   "metadata": {},
   "outputs": [],
   "source": [
    "# 3d embedding\n",
    "mds = MDS(n_components=3, random_state=0, dissimilarity='euclidean')\n",
    "pts_3d = mds.fit_transform(X)\n"
   ]
  },
  {
   "cell_type": "code",
   "execution_count": 14,
   "metadata": {},
   "outputs": [
    {
     "data": {
      "image/png": "[encoded data removed]",
      "text/plain": [
       "<Figure size 1080x576 with 1 Axes>"
      ]
     },
     "metadata": {
      "needs_background": "light"
     },
     "output_type": "display_data"
    }
   ],
   "source": [
    "colors = ['r', 'g', 'b', 'c', 'm']\n",
    "colors = cm.rainbow(np.linspace(0, 1, len(pts)))\n",
    "\n",
    "fig = plt.figure(figsize=(15, 8))\n",
    "plt.scatter(pts[:,0], pts[:,1], c=colors)\n",
    "plt.show()"
   ]
  },
  {
   "cell_type": "code",
   "execution_count": 18,
   "metadata": {},
   "outputs": [
    {
     "data": {
      "application/vnd.plotly.v1+json": {
       "config": {
        "plotlyServerURL": "https://plot.ly"
       },
       "data": [
        {
         "hovertemplate": "x=%{x}<br>y=%{y}<br>z=%{z}<br>color=%{marker.color}<extra></extra>",
         "legendgroup": "",
         "marker": {
          "color": [
           21.582191731794506,
           -14.14472483557378,
           -9.236867786414118,
           21.816527303773714,
           -3.3357409999232637,
           36.53672005580772,
           -0.8086693862059569,
           15.749017479151517,
           20.814527872585444,
           31.749126951255327,
           -28.55311372294509,
           -31.71745363378741,
           -7.170965967838348,
           6.0807338338762476,
           2.801404757171931,
           10.740893238268374,
           -2.182413045369435,
           0.7417441834142854,
           11.698234253378736,
           13.99171548153557,
           2.9316735391444637,
           13.317073198137725,
           31.12549519899126,
           -30.673127734407128,
           6.289366366837054,
           -30.72966804753337,
           8.770594738958382,
           -7.6437414780406145,
           -6.362607633506222,
           -36.02563586110349,
           4.2935503363779475,
           4.1849949097601495,
           -10.82563332098106,
           -8.020914595601994,
           -27.69416436820302,
           17.865603354419093,
           21.066005301308714,
           3.802316703235642,
           13.375448559699972,
           -6.539539014419196,
           -3.574489866292688,
           -2.0244567166278316,
           -0.29170457424736645,
           -14.25683213447985,
           6.728656455372196,
           13.02337640428973,
           27.721757413450078,
           -32.926178963820604,
           0.490930201307829,
           6.746457018354557,
           28.600819518536348,
           -11.53141245736061,
           -5.8335190111780015,
           -29.385810581085675,
           18.868122328586015,
           12.587746265099533,
           2.5109035535616275,
           -34.03701354736279,
           21.252957368049795,
           18.700602806084635,
           -29.910637968230237,
           -5.521733561452571,
           -20.19442340503141,
           -3.686597700430223,
           18.374876794875444,
           -23.243904188068733,
           -12.724233856042678,
           1.1559269827314067,
           13.707687509598047,
           -35.01258300832807,
           -2.955010625489105,
           -9.416754908857477,
           -13.257545829478087,
           11.768437855173678,
           33.42871854404033,
           0.014772284576020228,
           -4.247277880842007,
           -4.178615586334829,
           -0.6483210401276287,
           18.171148820257386,
           -7.9949811556119075,
           -0.612348392918846,
           -28.25275340166769,
           -30.803827472720414,
           6.4657615122459315,
           22.445960868078235,
           4.992780716122299,
           -3.9924952269128875,
           14.994912958772428,
           8.989121987532213,
           13.208639121094086,
           -13.382894203388009,
           -26.92624187878417,
           10.569138932903051,
           25.66996957617999,
           -32.300428954461744,
           7.716940339150088,
           4.9224081534659225,
           -10.348069883360406,
           2.822257946593244,
           -11.659331430418549,
           26.220435484818022,
           -34.95384028602998,
           34.094256060211066,
           -3.302682380466726,
           -13.312475883298317,
           -25.189314827744955,
           6.885601640572418,
           18.01423002792431,
           -0.54840516453271,
           15.836074197703992,
           -9.960663424930072,
           29.34517768602163,
           -29.623048037464702,
           -15.741113687593044,
           -5.877934244054629,
           11.65913547680435,
           -11.48499942480728,
           -8.82120897487803,
           -12.651422532396413,
           -4.738717769422082,
           18.984965061698677,
           -6.115467599337108,
           22.48061617432174,
           -7.932257004948023,
           25.6069386444435,
           -16.272913255064665,
           25.985283448565035,
           26.310101190298685,
           -9.426436542193278,
           -33.750270228334976,
           7.657546859961062,
           23.122431089716056,
           -5.266340601753956,
           -4.9667594460567,
           24.035960604443854,
           3.5750846341379052,
           0.6104228375761439,
           -12.72943941813386,
           8.551586680852594,
           -15.953022391963808,
           26.49378073829826,
           7.495803128395309,
           -14.74594563281174,
           15.13688221584802,
           18.268154061177704,
           -8.275931597009977,
           5.932132579865942,
           17.69160893075904,
           -5.585389971653033,
           26.41152167606416,
           -1.4414787252169674,
           -4.873735883540927,
           15.130856387663666,
           -8.314768488494954,
           -20.494874699294744,
           17.389280982231735,
           0.424989242013247,
           -8.574449822928129,
           3.1459428863046144,
           -32.209962828291395,
           -17.375208331309118,
           -3.4592869945711615,
           7.3173943789246945,
           11.231720864195895,
           6.67576462210393,
           -27.54840036425973,
           -29.26839271920216,
           -9.1322860187863,
           -7.3221268706748495,
           -16.533149308447626,
           24.873102146281568
          ],
          "coloraxis": "coloraxis",
          "line": {
           "color": "black",
           "width": 0.1
          },
          "size": 5,
          "symbol": "circle"
         },
         "mode": "markers",
         "name": "",
         "scene": "scene",
         "showlegend": false,
         "type": "scatter3d",
         "x": [
          21.582191731794506,
          -14.14472483557378,
          -9.236867786414118,
          21.816527303773714,
          -3.3357409999232637,
          36.53672005580772,
          -0.8086693862059569,
          15.749017479151517,
          20.814527872585444,
          31.749126951255327,
          -28.55311372294509,
          -31.71745363378741,
          -7.170965967838348,
          6.0807338338762476,
          2.801404757171931,
          10.740893238268374,
          -2.182413045369435,
          0.7417441834142854,
          11.698234253378736,
          13.99171548153557,
          2.9316735391444637,
          13.317073198137725,
          31.12549519899126,
          -30.673127734407128,
          6.289366366837054,
          -30.72966804753337,
          8.770594738958382,
          -7.6437414780406145,
          -6.362607633506222,
          -36.02563586110349,
          4.2935503363779475,
          4.1849949097601495,
          -10.82563332098106,
          -8.020914595601994,
          -27.69416436820302,
          17.865603354419093,
          21.066005301308714,
          3.802316703235642,
          13.375448559699972,
          -6.539539014419196,
          -3.574489866292688,
          -2.0244567166278316,
          -0.29170457424736645,
          -14.25683213447985,
          6.728656455372196,
          13.02337640428973,
          27.721757413450078,
          -32.926178963820604,
          0.490930201307829,
          6.746457018354557,
          28.600819518536348,
          -11.53141245736061,
          -5.8335190111780015,
          -29.385810581085675,
          18.868122328586015,
          12.587746265099533,
          2.5109035535616275,
          -34.03701354736279,
          21.252957368049795,
          18.700602806084635,
          -29.910637968230237,
          -5.521733561452571,
          -20.19442340503141,
          -3.686597700430223,
          18.374876794875444,
          -23.243904188068733,
          -12.724233856042678,
          1.1559269827314067,
          13.707687509598047,
          -35.01258300832807,
          -2.955010625489105,
          -9.416754908857477,
          -13.257545829478087,
          11.768437855173678,
          33.42871854404033,
          0.014772284576020228,
          -4.247277880842007,
          -4.178615586334829,
          -0.6483210401276287,
          18.171148820257386,
          -7.9949811556119075,
          -0.612348392918846,
          -28.25275340166769,
          -30.803827472720414,
          6.4657615122459315,
          22.445960868078235,
          4.992780716122299,
          -3.9924952269128875,
          14.994912958772428,
          8.989121987532213,
          13.208639121094086,
          -13.382894203388009,
          -26.92624187878417,
          10.569138932903051,
          25.66996957617999,
          -32.300428954461744,
          7.716940339150088,
          4.9224081534659225,
          -10.348069883360406,
          2.822257946593244,
          -11.659331430418549,
          26.220435484818022,
          -34.95384028602998,
          34.094256060211066,
          -3.302682380466726,
          -13.312475883298317,
          -25.189314827744955,
          6.885601640572418,
          18.01423002792431,
          -0.54840516453271,
          15.836074197703992,
          -9.960663424930072,
          29.34517768602163,
          -29.623048037464702,
          -15.741113687593044,
          -5.877934244054629,
          11.65913547680435,
          -11.48499942480728,
          -8.82120897487803,
          -12.651422532396413,
          -4.738717769422082,
          18.984965061698677,
          -6.115467599337108,
          22.48061617432174,
          -7.932257004948023,
          25.6069386444435,
          -16.272913255064665,
          25.985283448565035,
          26.310101190298685,
          -9.426436542193278,
          -33.750270228334976,
          7.657546859961062,
          23.122431089716056,
          -5.266340601753956,
          -4.9667594460567,
          24.035960604443854,
          3.5750846341379052,
          0.6104228375761439,
          -12.72943941813386,
          8.551586680852594,
          -15.953022391963808,
          26.49378073829826,
          7.495803128395309,
          -14.74594563281174,
          15.13688221584802,
          18.268154061177704,
          -8.275931597009977,
          5.932132579865942,
          17.69160893075904,
          -5.585389971653033,
          26.41152167606416,
          -1.4414787252169674,
          -4.873735883540927,
          15.130856387663666,
          -8.314768488494954,
          -20.494874699294744,
          17.389280982231735,
          0.424989242013247,
          -8.574449822928129,
          3.1459428863046144,
          -32.209962828291395,
          -17.375208331309118,
          -3.4592869945711615,
          7.3173943789246945,
          11.231720864195895,
          6.67576462210393,
          -27.54840036425973,
          -29.26839271920216,
          -9.1322860187863,
          -7.3221268706748495,
          -16.533149308447626,
          24.873102146281568
         ],
         "y": [
          30.726777808747045,
          -34.440630829334125,
          -35.32852709612199,
          20.834438687819386,
          -28.09350903816218,
          -2.662656814395281,
          -13.347960272166281,
          31.552123065754262,
          23.071277588515763,
          0.0911514620484027,
          7.9443994775414,
          7.785827662711551,
          33.27675785719894,
          16.463037508424716,
          30.15124378256725,
          29.93175267434413,
          -20.989120073594563,
          16.574848021127693,
          27.516157920707577,
          10.007012816700465,
          25.457712688550124,
          19.57511804121622,
          10.362379316676908,
          -2.287867016656667,
          -25.346305849810722,
          2.431780576643495,
          13.12105623483941,
          -3.7949973285897705,
          -32.97165905488833,
          8.66843484691544,
          -21.064312177921458,
          5.453046134328581,
          -11.98798426376574,
          -32.66523665285695,
          6.890413502292123,
          -1.0638917629141709,
          19.964770142545945,
          -27.763542343651505,
          -0.8961445777699852,
          -34.03504545376266,
          1.310418807568237,
          -35.51672294852046,
          27.24466990796742,
          12.199637023459688,
          -8.425218252509989,
          13.360751755661356,
          17.364575259541052,
          0.8431262640146895,
          39.75082023265339,
          25.50013378233433,
          13.511758382952195,
          9.908632483205958,
          13.92228367043188,
          -3.8738492574274637,
          -6.207208183423075,
          38.637202496265864,
          -14.495362649328793,
          -1.9779157035382129,
          -9.352103927190372,
          -14.285273281877636,
          -7.149979894804685,
          20.031859396322886,
          -32.169250071743434,
          -34.14499602839794,
          21.476810802611112,
          8.968950386082566,
          -9.30926727146194,
          18.55038837093628,
          -15.761385568292187,
          0.8024710594763441,
          -29.184540388472808,
          -30.015369765593128,
          -33.42756176216379,
          -10.280685169315722,
          10.941142992903613,
          -4.724520289711913,
          -31.89103798799231,
          17.421660338928202,
          -33.83800105189189,
          10.607268254894668,
          -29.791079380866048,
          4.965304149674336,
          3.9492366038768547,
          6.818413854887759,
          -2.493754972544517,
          11.779196489909676,
          15.664408705691717,
          -35.59819797959744,
          13.987245924494312,
          32.24788284001278,
          -4.125692015045039,
          -5.978544660805222,
          6.0929246276489515,
          6.8808778264944115,
          7.244682024582543,
          4.037080691728779,
          6.58010136299124,
          -5.808294586244186,
          -32.73581184685424,
          20.632698256737733,
          -31.015492831347654,
          5.3092089470576465,
          3.4952858939582936,
          5.473813427813549,
          -36.31172777781397,
          1.139586826571031,
          4.841936191921124,
          7.550373318180892,
          14.456590809932122,
          7.9040535694911584,
          9.219779493518162,
          33.270011176786994,
          27.572847349223856,
          10.346909796073733,
          2.3567592499602172,
          -10.891218180347863,
          0.9557752679174558,
          -32.70966777544875,
          -29.501499845408844,
          -6.165632256055804,
          -10.66709126396386,
          19.674640865527834,
          -35.103027552457576,
          24.24273622422429,
          -0.49111203804152886,
          8.506594011642578,
          -3.613145601460019,
          -5.366326050473815,
          21.662592754317632,
          14.226354205019707,
          5.1271938139723625,
          2.1384014811738368,
          -12.654064526196986,
          13.113484301427933,
          -38.25683900115327,
          10.22811049907171,
          -33.04161868816503,
          -32.5578397875861,
          7.240005723608082,
          6.056492987863264,
          6.237919544777132,
          17.32401285611205,
          16.714832580711825,
          -16.6113361425146,
          31.33794495224462,
          -0.9561711098036223,
          3.758719487210331,
          2.7802377613383933,
          30.494454414984297,
          12.028680824758409,
          -11.432180022711442,
          10.654959339701902,
          -1.008843499135502,
          21.176364477142844,
          -20.906472703637142,
          3.9129863395522415,
          26.328683145324014,
          -36.61517434432247,
          24.401119582782787,
          0.6083595944785075,
          9.800386886409097,
          -30.676400151643925,
          -34.58179662274418,
          3.8595490973118203,
          -5.7972903731049374,
          25.281309678176545,
          9.46816220144012,
          5.355848475294504,
          -36.74324526587691,
          -33.89703832212087,
          -16.142060401254973,
          -13.704874634398005
         ],
         "z": [
          -0.3475709671531824,
          -13.05822131049326,
          -15.778910490049762,
          6.670522049942403,
          -28.00211167125284,
          11.871659563975902,
          19.466586698872963,
          1.0850196463450779,
          3.059839611321775,
          -3.6721191518464122,
          -19.55223523552377,
          -14.411435518019767,
          24.929122419856977,
          -9.759109010500309,
          2.464152380354257,
          -6.966097539949414,
          -3.464786582452406,
          -7.5443900382089275,
          4.376008451541282,
          23.11903974265539,
          1.2862971189806005,
          25.189388301792047,
          11.40188276791024,
          -12.266436080637607,
          -29.51246587929339,
          -18.513873893816196,
          -14.61858234005495,
          18.307399723689933,
          -21.154751141084535,
          -0.6951595995523268,
          -30.439470814140613,
          -5.789040725437057,
          11.877264858000203,
          -20.61940261159644,
          -20.785330308166905,
          13.662857937436321,
          -6.898085354139347,
          -22.01322520570633,
          -8.745175937803122,
          -7.877492628427471,
          23.865585466026527,
          -16.5527314002334,
          18.70657617888534,
          25.70887403134869,
          19.67594066626408,
          15.210697828855098,
          22.66377158778492,
          -15.441626597400413,
          10.851564480017656,
          31.8708488140653,
          9.720495235083375,
          8.942412837003062,
          3.896226668025363,
          -5.806553242447797,
          2.184346447142396,
          16.297413297679107,
          14.614344443672577,
          -8.248234013189835,
          15.315386903369081,
          13.154619433065072,
          -3.608379809468508,
          14.477352431893152,
          -6.366737607352659,
          -18.78328117858518,
          24.14905126802641,
          -22.31780534016883,
          8.595822009990112,
          13.568907559926554,
          25.091729317645573,
          -3.006768939439968,
          -24.989442653435805,
          -9.575413611550323,
          -15.31499977559198,
          18.707526021990308,
          0.20330876509056606,
          -18.131818596789525,
          -23.480687244348147,
          -1.5895738215904438,
          -19.535621312238096,
          -7.676064291261893,
          -24.50333985320023,
          27.844035661605513,
          -21.53224538025977,
          -16.93114396134968,
          26.89855532080158,
          12.603475484722296,
          19.12616958996966,
          -15.689295271334583,
          3.0184657749030257,
          15.19059250812845,
          17.37525361980298,
          4.515739547000507,
          -21.901007560039673,
          -13.305545626495753,
          1.4370706037427197,
          -15.945071078658229,
          9.8570225388625,
          -17.757831279729935,
          -19.474494771881808,
          32.020526822896386,
          -21.764129535469596,
          -14.089925240478916,
          -9.290457905582885,
          19.3085718054531,
          -10.501847142605301,
          19.57279267682835,
          -25.700928923172448,
          18.030301242222656,
          33.14848789775565,
          15.739947076646954,
          -3.6472409774440684,
          16.496485817143533,
          10.113053345762614,
          -16.497013678695772,
          11.810059228507178,
          -9.055950213444962,
          -1.03209197302933,
          -17.427515703211775,
          -22.00914466201569,
          14.415343260356325,
          21.667275666859215,
          -3.147152217179729,
          -16.510690629897525,
          21.71739411094882,
          1.5891534403036116,
          20.441617671255234,
          14.655415160132813,
          7.900600055824438,
          12.573949026882088,
          -25.256927554581853,
          -12.937158902671184,
          23.538768050660096,
          11.433320567414013,
          25.427761190071404,
          -7.327956611515143,
          1.2811185089514106,
          -16.507247414299563,
          -21.03923467727069,
          -21.499108359613153,
          32.3358317721368,
          -26.709683449677676,
          24.49014719468375,
          -11.142045288185813,
          -1.3830796588396956,
          11.781112310788552,
          -6.576135085911642,
          -10.200957143943425,
          -19.3465382069128,
          26.551933238588372,
          21.891441682458584,
          -0.44344541010592703,
          17.169087823589507,
          -6.024193116815717,
          -14.623757218839684,
          -23.69113293031337,
          -22.733542064399312,
          14.617258478513325,
          -14.366196928239917,
          7.277429334287133,
          12.259913791073222,
          -12.733494479353622,
          2.8111894360904253,
          -17.887011169199145,
          1.841936116679792,
          30.381989655856074,
          9.73851363415717,
          -20.955659293378886,
          -18.60531757499209,
          -11.437084831105322,
          -18.51322828112436,
          3.4142792507614645,
          19.015188749261824
         ]
        }
       ],
       "layout": {
        "coloraxis": {
         "colorbar": {
          "title": {
           "text": "color"
          }
         },
         "colorscale": [
          [
           0,
           "#0d0887"
          ],
          [
           0.1111111111111111,
           "#46039f"
          ],
          [
           0.2222222222222222,
           "#7201a8"
          ],
          [
           0.3333333333333333,
           "#9c179e"
          ],
          [
           0.4444444444444444,
           "#bd3786"
          ],
          [
           0.5555555555555556,
           "#d8576b"
          ],
          [
           0.6666666666666666,
           "#ed7953"
          ],
          [
           0.7777777777777778,
           "#fb9f3a"
          ],
          [
           0.8888888888888888,
           "#fdca26"
          ],
          [
           1,
           "#f0f921"
          ]
         ],
         "showscale": false
        },
        "legend": {
         "tracegroupgap": 0
        },
        "margin": {
         "b": 0,
         "l": 0,
         "r": 0,
         "t": 0
        },
        "scene": {
         "camera": {
          "center": {
           "x": 0,
           "y": 0,
           "z": -0.1
          },
          "eye": {
           "x": 1.25,
           "y": 1.5,
           "z": 1
          },
          "up": {
           "x": 0,
           "y": 0,
           "z": 1
          }
         },
         "domain": {
          "x": [
           0,
           1
          ],
          "y": [
           0,
           1
          ]
         },
         "xaxis": {
          "backgroundcolor": "white",
          "color": "black",
          "gridcolor": "#f0f0f0",
          "tickfont": {
           "size": 10
          },
          "title": {
           "font": {
            "size": 10
           },
           "text": "x"
          }
         },
         "yaxis": {
          "backgroundcolor": "white",
          "color": "black",
          "gridcolor": "#f0f0f0",
          "tickfont": {
           "size": 10
          },
          "title": {
           "font": {
            "size": 10
           },
           "text": "y"
          }
         },
         "zaxis": {
          "backgroundcolor": "lightgrey",
          "color": "black",
          "gridcolor": "#f0f0f0",
          "tickfont": {
           "size": 10
          },
          "title": {
           "font": {
            "size": 10
           },
           "text": "z"
          }
         }
        },
        "showlegend": false,
        "template": {
         "data": {
          "bar": [
           {
            "error_x": {
             "color": "#2a3f5f"
            },
            "error_y": {
             "color": "#2a3f5f"
            },
            "marker": {
             "line": {
              "color": "#E5ECF6",
              "width": 0.5
             },
             "pattern": {
              "fillmode": "overlay",
              "size": 10,
              "solidity": 0.2
             }
            },
            "type": "bar"
           }
          ],
          "barpolar": [
           {
            "marker": {
             "line": {
              "color": "#E5ECF6",
              "width": 0.5
             },
             "pattern": {
              "fillmode": "overlay",
              "size": 10,
              "solidity": 0.2
             }
            },
            "type": "barpolar"
           }
          ],
          "carpet": [
           {
            "aaxis": {
             "endlinecolor": "#2a3f5f",
             "gridcolor": "white",
             "linecolor": "white",
             "minorgridcolor": "white",
             "startlinecolor": "#2a3f5f"
            },
            "baxis": {
             "endlinecolor": "#2a3f5f",
             "gridcolor": "white",
             "linecolor": "white",
             "minorgridcolor": "white",
             "startlinecolor": "#2a3f5f"
            },
            "type": "carpet"
           }
          ],
          "choropleth": [
           {
            "colorbar": {
             "outlinewidth": 0,
             "ticks": ""
            },
            "type": "choropleth"
           }
          ],
          "contour": [
           {
            "colorbar": {
             "outlinewidth": 0,
             "ticks": ""
            },
            "colorscale": [
             [
              0,
              "#0d0887"
             ],
             [
              0.1111111111111111,
              "#46039f"
             ],
             [
              0.2222222222222222,
              "#7201a8"
             ],
             [
              0.3333333333333333,
              "#9c179e"
             ],
             [
              0.4444444444444444,
              "#bd3786"
             ],
             [
              0.5555555555555556,
              "#d8576b"
             ],
             [
              0.6666666666666666,
              "#ed7953"
             ],
             [
              0.7777777777777778,
              "#fb9f3a"
             ],
             [
              0.8888888888888888,
              "#fdca26"
             ],
             [
              1,
              "#f0f921"
             ]
            ],
            "type": "contour"
           }
          ],
          "contourcarpet": [
           {
            "colorbar": {
             "outlinewidth": 0,
             "ticks": ""
            },
            "type": "contourcarpet"
           }
          ],
          "heatmap": [
           {
            "colorbar": {
             "outlinewidth": 0,
             "ticks": ""
            },
            "colorscale": [
             [
              0,
              "#0d0887"
             ],
             [
              0.1111111111111111,
              "#46039f"
             ],
             [
              0.2222222222222222,
              "#7201a8"
             ],
             [
              0.3333333333333333,
              "#9c179e"
             ],
             [
              0.4444444444444444,
              "#bd3786"
             ],
             [
              0.5555555555555556,
              "#d8576b"
             ],
             [
              0.6666666666666666,
              "#ed7953"
             ],
             [
              0.7777777777777778,
              "#fb9f3a"
             ],
             [
              0.8888888888888888,
              "#fdca26"
             ],
             [
              1,
              "#f0f921"
             ]
            ],
            "type": "heatmap"
           }
          ],
          "heatmapgl": [
           {
            "colorbar": {
             "outlinewidth": 0,
             "ticks": ""
            },
            "colorscale": [
             [
              0,
              "#0d0887"
             ],
             [
              0.1111111111111111,
              "#46039f"
             ],
             [
              0.2222222222222222,
              "#7201a8"
             ],
             [
              0.3333333333333333,
              "#9c179e"
             ],
             [
              0.4444444444444444,
              "#bd3786"
             ],
             [
              0.5555555555555556,
              "#d8576b"
             ],
             [
              0.6666666666666666,
              "#ed7953"
             ],
             [
              0.7777777777777778,
              "#fb9f3a"
             ],
             [
              0.8888888888888888,
              "#fdca26"
             ],
             [
              1,
              "#f0f921"
             ]
            ],
            "type": "heatmapgl"
           }
          ],
          "histogram": [
           {
            "marker": {
             "pattern": {
              "fillmode": "overlay",
              "size": 10,
              "solidity": 0.2
             }
            },
            "type": "histogram"
           }
          ],
          "histogram2d": [
           {
            "colorbar": {
             "outlinewidth": 0,
             "ticks": ""
            },
            "colorscale": [
             [
              0,
              "#0d0887"
             ],
             [
              0.1111111111111111,
              "#46039f"
             ],
             [
              0.2222222222222222,
              "#7201a8"
             ],
             [
              0.3333333333333333,
              "#9c179e"
             ],
             [
              0.4444444444444444,
              "#bd3786"
             ],
             [
              0.5555555555555556,
              "#d8576b"
             ],
             [
              0.6666666666666666,
              "#ed7953"
             ],
             [
              0.7777777777777778,
              "#fb9f3a"
             ],
             [
              0.8888888888888888,
              "#fdca26"
             ],
             [
              1,
              "#f0f921"
             ]
            ],
            "type": "histogram2d"
           }
          ],
          "histogram2dcontour": [
           {
            "colorbar": {
             "outlinewidth": 0,
             "ticks": ""
            },
            "colorscale": [
             [
              0,
              "#0d0887"
             ],
             [
              0.1111111111111111,
              "#46039f"
             ],
             [
              0.2222222222222222,
              "#7201a8"
             ],
             [
              0.3333333333333333,
              "#9c179e"
             ],
             [
              0.4444444444444444,
              "#bd3786"
             ],
             [
              0.5555555555555556,
              "#d8576b"
             ],
             [
              0.6666666666666666,
              "#ed7953"
             ],
             [
              0.7777777777777778,
              "#fb9f3a"
             ],
             [
              0.8888888888888888,
              "#fdca26"
             ],
             [
              1,
              "#f0f921"
             ]
            ],
            "type": "histogram2dcontour"
           }
          ],
          "mesh3d": [
           {
            "colorbar": {
             "outlinewidth": 0,
             "ticks": ""
            },
            "type": "mesh3d"
           }
          ],
          "parcoords": [
           {
            "line": {
             "colorbar": {
              "outlinewidth": 0,
              "ticks": ""
             }
            },
            "type": "parcoords"
           }
          ],
          "pie": [
           {
            "automargin": true,
            "type": "pie"
           }
          ],
          "scatter": [
           {
            "marker": {
             "colorbar": {
              "outlinewidth": 0,
              "ticks": ""
             }
            },
            "type": "scatter"
           }
          ],
          "scatter3d": [
           {
            "line": {
             "colorbar": {
              "outlinewidth": 0,
              "ticks": ""
             }
            },
            "marker": {
             "colorbar": {
              "outlinewidth": 0,
              "ticks": ""
             }
            },
            "type": "scatter3d"
           }
          ],
          "scattercarpet": [
           {
            "marker": {
             "colorbar": {
              "outlinewidth": 0,
              "ticks": ""
             }
            },
            "type": "scattercarpet"
           }
          ],
          "scattergeo": [
           {
            "marker": {
             "colorbar": {
              "outlinewidth": 0,
              "ticks": ""
             }
            },
            "type": "scattergeo"
           }
          ],
          "scattergl": [
           {
            "marker": {
             "colorbar": {
              "outlinewidth": 0,
              "ticks": ""
             }
            },
            "type": "scattergl"
           }
          ],
          "scattermapbox": [
           {
            "marker": {
             "colorbar": {
              "outlinewidth": 0,
              "ticks": ""
             }
            },
            "type": "scattermapbox"
           }
          ],
          "scatterpolar": [
           {
            "marker": {
             "colorbar": {
              "outlinewidth": 0,
              "ticks": ""
             }
            },
            "type": "scatterpolar"
           }
          ],
          "scatterpolargl": [
           {
            "marker": {
             "colorbar": {
              "outlinewidth": 0,
              "ticks": ""
             }
            },
            "type": "scatterpolargl"
           }
          ],
          "scatterternary": [
           {
            "marker": {
             "colorbar": {
              "outlinewidth": 0,
              "ticks": ""
             }
            },
            "type": "scatterternary"
           }
          ],
          "surface": [
           {
            "colorbar": {
             "outlinewidth": 0,
             "ticks": ""
            },
            "colorscale": [
             [
              0,
              "#0d0887"
             ],
             [
              0.1111111111111111,
              "#46039f"
             ],
             [
              0.2222222222222222,
              "#7201a8"
             ],
             [
              0.3333333333333333,
              "#9c179e"
             ],
             [
              0.4444444444444444,
              "#bd3786"
             ],
             [
              0.5555555555555556,
              "#d8576b"
             ],
             [
              0.6666666666666666,
              "#ed7953"
             ],
             [
              0.7777777777777778,
              "#fb9f3a"
             ],
             [
              0.8888888888888888,
              "#fdca26"
             ],
             [
              1,
              "#f0f921"
             ]
            ],
            "type": "surface"
           }
          ],
          "table": [
           {
            "cells": {
             "fill": {
              "color": "#EBF0F8"
             },
             "line": {
              "color": "white"
             }
            },
            "header": {
             "fill": {
              "color": "#C8D4E3"
             },
             "line": {
              "color": "white"
             }
            },
            "type": "table"
           }
          ]
         },
         "layout": {
          "annotationdefaults": {
           "arrowcolor": "#2a3f5f",
           "arrowhead": 0,
           "arrowwidth": 1
          },
          "autotypenumbers": "strict",
          "coloraxis": {
           "colorbar": {
            "outlinewidth": 0,
            "ticks": ""
           }
          },
          "colorscale": {
           "diverging": [
            [
             0,
             "#8e0152"
            ],
            [
             0.1,
             "#c51b7d"
            ],
            [
             0.2,
             "#de77ae"
            ],
            [
             0.3,
             "#f1b6da"
            ],
            [
             0.4,
             "#fde0ef"
            ],
            [
             0.5,
             "#f7f7f7"
            ],
            [
             0.6,
             "#e6f5d0"
            ],
            [
             0.7,
             "#b8e186"
            ],
            [
             0.8,
             "#7fbc41"
            ],
            [
             0.9,
             "#4d9221"
            ],
            [
             1,
             "#276419"
            ]
           ],
           "sequential": [
            [
             0,
             "#0d0887"
            ],
            [
             0.1111111111111111,
             "#46039f"
            ],
            [
             0.2222222222222222,
             "#7201a8"
            ],
            [
             0.3333333333333333,
             "#9c179e"
            ],
            [
             0.4444444444444444,
             "#bd3786"
            ],
            [
             0.5555555555555556,
             "#d8576b"
            ],
            [
             0.6666666666666666,
             "#ed7953"
            ],
            [
             0.7777777777777778,
             "#fb9f3a"
            ],
            [
             0.8888888888888888,
             "#fdca26"
            ],
            [
             1,
             "#f0f921"
            ]
           ],
           "sequentialminus": [
            [
             0,
             "#0d0887"
            ],
            [
             0.1111111111111111,
             "#46039f"
            ],
            [
             0.2222222222222222,
             "#7201a8"
            ],
            [
             0.3333333333333333,
             "#9c179e"
            ],
            [
             0.4444444444444444,
             "#bd3786"
            ],
            [
             0.5555555555555556,
             "#d8576b"
            ],
            [
             0.6666666666666666,
             "#ed7953"
            ],
            [
             0.7777777777777778,
             "#fb9f3a"
            ],
            [
             0.8888888888888888,
             "#fdca26"
            ],
            [
             1,
             "#f0f921"
            ]
           ]
          },
          "colorway": [
           "#636efa",
           "#EF553B",
           "#00cc96",
           "#ab63fa",
           "#FFA15A",
           "#19d3f3",
           "#FF6692",
           "#B6E880",
           "#FF97FF",
           "#FECB52"
          ],
          "font": {
           "color": "#2a3f5f"
          },
          "geo": {
           "bgcolor": "white",
           "lakecolor": "white",
           "landcolor": "#E5ECF6",
           "showlakes": true,
           "showland": true,
           "subunitcolor": "white"
          },
          "hoverlabel": {
           "align": "left"
          },
          "hovermode": "closest",
          "mapbox": {
           "style": "light"
          },
          "paper_bgcolor": "white",
          "plot_bgcolor": "#E5ECF6",
          "polar": {
           "angularaxis": {
            "gridcolor": "white",
            "linecolor": "white",
            "ticks": ""
           },
           "bgcolor": "#E5ECF6",
           "radialaxis": {
            "gridcolor": "white",
            "linecolor": "white",
            "ticks": ""
           }
          },
          "scene": {
           "xaxis": {
            "backgroundcolor": "#E5ECF6",
            "gridcolor": "white",
            "gridwidth": 2,
            "linecolor": "white",
            "showbackground": true,
            "ticks": "",
            "zerolinecolor": "white"
           },
           "yaxis": {
            "backgroundcolor": "#E5ECF6",
            "gridcolor": "white",
            "gridwidth": 2,
            "linecolor": "white",
            "showbackground": true,
            "ticks": "",
            "zerolinecolor": "white"
           },
           "zaxis": {
            "backgroundcolor": "#E5ECF6",
            "gridcolor": "white",
            "gridwidth": 2,
            "linecolor": "white",
            "showbackground": true,
            "ticks": "",
            "zerolinecolor": "white"
           }
          },
          "shapedefaults": {
           "line": {
            "color": "#2a3f5f"
           }
          },
          "ternary": {
           "aaxis": {
            "gridcolor": "white",
            "linecolor": "white",
            "ticks": ""
           },
           "baxis": {
            "gridcolor": "white",
            "linecolor": "white",
            "ticks": ""
           },
           "bgcolor": "#E5ECF6",
           "caxis": {
            "gridcolor": "white",
            "linecolor": "white",
            "ticks": ""
           }
          },
          "title": {
           "x": 0.05
          },
          "xaxis": {
           "automargin": true,
           "gridcolor": "white",
           "linecolor": "white",
           "ticks": "",
           "title": {
            "standoff": 15
           },
           "zerolinecolor": "white",
           "zerolinewidth": 2
          },
          "yaxis": {
           "automargin": true,
           "gridcolor": "white",
           "linecolor": "white",
           "ticks": "",
           "title": {
            "standoff": 15
           },
           "zerolinecolor": "white",
           "zerolinewidth": 2
          }
         }
        }
       }
      },
      "text/html": [
       "<div>                            <div id=\"13cfd433-543e-4c5f-bdfc-611ee75bab75\" class=\"plotly-graph-div\" style=\"height:525px; width:100%;\"></div>            <script type=\"text/javascript\">                require([\"plotly\"], function(Plotly) {                    window.PLOTLYENV=window.PLOTLYENV || {};                                    if (document.getElementById(\"13cfd433-543e-4c5f-bdfc-611ee75bab75\")) {                    Plotly.newPlot(                        \"13cfd433-543e-4c5f-bdfc-611ee75bab75\",                        [{\"hovertemplate\":\"x=%{x}<br>y=%{y}<br>z=%{z}<br>color=%{marker.color}<extra></extra>\",\"legendgroup\":\"\",\"marker\":{\"color\":[21.582191731794506,-14.14472483557378,-9.236867786414118,21.816527303773714,-3.3357409999232637,36.53672005580772,-0.8086693862059569,15.749017479151517,20.814527872585444,31.749126951255327,-28.55311372294509,-31.71745363378741,-7.170965967838348,6.0807338338762476,2.801404757171931,10.740893238268374,-2.182413045369435,0.7417441834142854,11.698234253378736,13.99171548153557,2.9316735391444637,13.317073198137725,31.12549519899126,-30.673127734407128,6.289366366837054,-30.72966804753337,8.770594738958382,-7.6437414780406145,-6.362607633506222,-36.02563586110349,4.2935503363779475,4.1849949097601495,-10.82563332098106,-8.020914595601994,-27.69416436820302,17.865603354419093,21.066005301308714,3.802316703235642,13.375448559699972,-6.539539014419196,-3.574489866292688,-2.0244567166278316,-0.29170457424736645,-14.25683213447985,6.728656455372196,13.02337640428973,27.721757413450078,-32.926178963820604,0.490930201307829,6.746457018354557,28.600819518536348,-11.53141245736061,-5.8335190111780015,-29.385810581085675,18.868122328586015,12.587746265099533,2.5109035535616275,-34.03701354736279,21.252957368049795,18.700602806084635,-29.910637968230237,-5.521733561452571,-20.19442340503141,-3.686597700430223,18.374876794875444,-23.243904188068733,-12.724233856042678,1.1559269827314067,13.707687509598047,-35.01258300832807,-2.955010625489105,-9.416754908857477,-13.257545829478087,11.768437855173678,33.42871854404033,0.014772284576020228,-4.247277880842007,-4.178615586334829,-0.6483210401276287,18.171148820257386,-7.9949811556119075,-0.612348392918846,-28.25275340166769,-30.803827472720414,6.4657615122459315,22.445960868078235,4.992780716122299,-3.9924952269128875,14.994912958772428,8.989121987532213,13.208639121094086,-13.382894203388009,-26.92624187878417,10.569138932903051,25.66996957617999,-32.300428954461744,7.716940339150088,4.9224081534659225,-10.348069883360406,2.822257946593244,-11.659331430418549,26.220435484818022,-34.95384028602998,34.094256060211066,-3.302682380466726,-13.312475883298317,-25.189314827744955,6.885601640572418,18.01423002792431,-0.54840516453271,15.836074197703992,-9.960663424930072,29.34517768602163,-29.623048037464702,-15.741113687593044,-5.877934244054629,11.65913547680435,-11.48499942480728,-8.82120897487803,-12.651422532396413,-4.738717769422082,18.984965061698677,-6.115467599337108,22.48061617432174,-7.932257004948023,25.6069386444435,-16.272913255064665,25.985283448565035,26.310101190298685,-9.426436542193278,-33.750270228334976,7.657546859961062,23.122431089716056,-5.266340601753956,-4.9667594460567,24.035960604443854,3.5750846341379052,0.6104228375761439,-12.72943941813386,8.551586680852594,-15.953022391963808,26.49378073829826,7.495803128395309,-14.74594563281174,15.13688221584802,18.268154061177704,-8.275931597009977,5.932132579865942,17.69160893075904,-5.585389971653033,26.41152167606416,-1.4414787252169674,-4.873735883540927,15.130856387663666,-8.314768488494954,-20.494874699294744,17.389280982231735,0.424989242013247,-8.574449822928129,3.1459428863046144,-32.209962828291395,-17.375208331309118,-3.4592869945711615,7.3173943789246945,11.231720864195895,6.67576462210393,-27.54840036425973,-29.26839271920216,-9.1322860187863,-7.3221268706748495,-16.533149308447626,24.873102146281568],\"coloraxis\":\"coloraxis\",\"symbol\":\"circle\",\"line\":{\"color\":\"black\",\"width\":0.1},\"size\":5},\"mode\":\"markers\",\"name\":\"\",\"scene\":\"scene\",\"showlegend\":false,\"x\":[21.582191731794506,-14.14472483557378,-9.236867786414118,21.816527303773714,-3.3357409999232637,36.53672005580772,-0.8086693862059569,15.749017479151517,20.814527872585444,31.749126951255327,-28.55311372294509,-31.71745363378741,-7.170965967838348,6.0807338338762476,2.801404757171931,10.740893238268374,-2.182413045369435,0.7417441834142854,11.698234253378736,13.99171548153557,2.9316735391444637,13.317073198137725,31.12549519899126,-30.673127734407128,6.289366366837054,-30.72966804753337,8.770594738958382,-7.6437414780406145,-6.362607633506222,-36.02563586110349,4.2935503363779475,4.1849949097601495,-10.82563332098106,-8.020914595601994,-27.69416436820302,17.865603354419093,21.066005301308714,3.802316703235642,13.375448559699972,-6.539539014419196,-3.574489866292688,-2.0244567166278316,-0.29170457424736645,-14.25683213447985,6.728656455372196,13.02337640428973,27.721757413450078,-32.926178963820604,0.490930201307829,6.746457018354557,28.600819518536348,-11.53141245736061,-5.8335190111780015,-29.385810581085675,18.868122328586015,12.587746265099533,2.5109035535616275,-34.03701354736279,21.252957368049795,18.700602806084635,-29.910637968230237,-5.521733561452571,-20.19442340503141,-3.686597700430223,18.374876794875444,-23.243904188068733,-12.724233856042678,1.1559269827314067,13.707687509598047,-35.01258300832807,-2.955010625489105,-9.416754908857477,-13.257545829478087,11.768437855173678,33.42871854404033,0.014772284576020228,-4.247277880842007,-4.178615586334829,-0.6483210401276287,18.171148820257386,-7.9949811556119075,-0.612348392918846,-28.25275340166769,-30.803827472720414,6.4657615122459315,22.445960868078235,4.992780716122299,-3.9924952269128875,14.994912958772428,8.989121987532213,13.208639121094086,-13.382894203388009,-26.92624187878417,10.569138932903051,25.66996957617999,-32.300428954461744,7.716940339150088,4.9224081534659225,-10.348069883360406,2.822257946593244,-11.659331430418549,26.220435484818022,-34.95384028602998,34.094256060211066,-3.302682380466726,-13.312475883298317,-25.189314827744955,6.885601640572418,18.01423002792431,-0.54840516453271,15.836074197703992,-9.960663424930072,29.34517768602163,-29.623048037464702,-15.741113687593044,-5.877934244054629,11.65913547680435,-11.48499942480728,-8.82120897487803,-12.651422532396413,-4.738717769422082,18.984965061698677,-6.115467599337108,22.48061617432174,-7.932257004948023,25.6069386444435,-16.272913255064665,25.985283448565035,26.310101190298685,-9.426436542193278,-33.750270228334976,7.657546859961062,23.122431089716056,-5.266340601753956,-4.9667594460567,24.035960604443854,3.5750846341379052,0.6104228375761439,-12.72943941813386,8.551586680852594,-15.953022391963808,26.49378073829826,7.495803128395309,-14.74594563281174,15.13688221584802,18.268154061177704,-8.275931597009977,5.932132579865942,17.69160893075904,-5.585389971653033,26.41152167606416,-1.4414787252169674,-4.873735883540927,15.130856387663666,-8.314768488494954,-20.494874699294744,17.389280982231735,0.424989242013247,-8.574449822928129,3.1459428863046144,-32.209962828291395,-17.375208331309118,-3.4592869945711615,7.3173943789246945,11.231720864195895,6.67576462210393,-27.54840036425973,-29.26839271920216,-9.1322860187863,-7.3221268706748495,-16.533149308447626,24.873102146281568],\"y\":[30.726777808747045,-34.440630829334125,-35.32852709612199,20.834438687819386,-28.09350903816218,-2.662656814395281,-13.347960272166281,31.552123065754262,23.071277588515763,0.0911514620484027,7.9443994775414,7.785827662711551,33.27675785719894,16.463037508424716,30.15124378256725,29.93175267434413,-20.989120073594563,16.574848021127693,27.516157920707577,10.007012816700465,25.457712688550124,19.57511804121622,10.362379316676908,-2.287867016656667,-25.346305849810722,2.431780576643495,13.12105623483941,-3.7949973285897705,-32.97165905488833,8.66843484691544,-21.064312177921458,5.453046134328581,-11.98798426376574,-32.66523665285695,6.890413502292123,-1.0638917629141709,19.964770142545945,-27.763542343651505,-0.8961445777699852,-34.03504545376266,1.310418807568237,-35.51672294852046,27.24466990796742,12.199637023459688,-8.425218252509989,13.360751755661356,17.364575259541052,0.8431262640146895,39.75082023265339,25.50013378233433,13.511758382952195,9.908632483205958,13.92228367043188,-3.8738492574274637,-6.207208183423075,38.637202496265864,-14.495362649328793,-1.9779157035382129,-9.352103927190372,-14.285273281877636,-7.149979894804685,20.031859396322886,-32.169250071743434,-34.14499602839794,21.476810802611112,8.968950386082566,-9.30926727146194,18.55038837093628,-15.761385568292187,0.8024710594763441,-29.184540388472808,-30.015369765593128,-33.42756176216379,-10.280685169315722,10.941142992903613,-4.724520289711913,-31.89103798799231,17.421660338928202,-33.83800105189189,10.607268254894668,-29.791079380866048,4.965304149674336,3.9492366038768547,6.818413854887759,-2.493754972544517,11.779196489909676,15.664408705691717,-35.59819797959744,13.987245924494312,32.24788284001278,-4.125692015045039,-5.978544660805222,6.0929246276489515,6.8808778264944115,7.244682024582543,4.037080691728779,6.58010136299124,-5.808294586244186,-32.73581184685424,20.632698256737733,-31.015492831347654,5.3092089470576465,3.4952858939582936,5.473813427813549,-36.31172777781397,1.139586826571031,4.841936191921124,7.550373318180892,14.456590809932122,7.9040535694911584,9.219779493518162,33.270011176786994,27.572847349223856,10.346909796073733,2.3567592499602172,-10.891218180347863,0.9557752679174558,-32.70966777544875,-29.501499845408844,-6.165632256055804,-10.66709126396386,19.674640865527834,-35.103027552457576,24.24273622422429,-0.49111203804152886,8.506594011642578,-3.613145601460019,-5.366326050473815,21.662592754317632,14.226354205019707,5.1271938139723625,2.1384014811738368,-12.654064526196986,13.113484301427933,-38.25683900115327,10.22811049907171,-33.04161868816503,-32.5578397875861,7.240005723608082,6.056492987863264,6.237919544777132,17.32401285611205,16.714832580711825,-16.6113361425146,31.33794495224462,-0.9561711098036223,3.758719487210331,2.7802377613383933,30.494454414984297,12.028680824758409,-11.432180022711442,10.654959339701902,-1.008843499135502,21.176364477142844,-20.906472703637142,3.9129863395522415,26.328683145324014,-36.61517434432247,24.401119582782787,0.6083595944785075,9.800386886409097,-30.676400151643925,-34.58179662274418,3.8595490973118203,-5.7972903731049374,25.281309678176545,9.46816220144012,5.355848475294504,-36.74324526587691,-33.89703832212087,-16.142060401254973,-13.704874634398005],\"z\":[-0.3475709671531824,-13.05822131049326,-15.778910490049762,6.670522049942403,-28.00211167125284,11.871659563975902,19.466586698872963,1.0850196463450779,3.059839611321775,-3.6721191518464122,-19.55223523552377,-14.411435518019767,24.929122419856977,-9.759109010500309,2.464152380354257,-6.966097539949414,-3.464786582452406,-7.5443900382089275,4.376008451541282,23.11903974265539,1.2862971189806005,25.189388301792047,11.40188276791024,-12.266436080637607,-29.51246587929339,-18.513873893816196,-14.61858234005495,18.307399723689933,-21.154751141084535,-0.6951595995523268,-30.439470814140613,-5.789040725437057,11.877264858000203,-20.61940261159644,-20.785330308166905,13.662857937436321,-6.898085354139347,-22.01322520570633,-8.745175937803122,-7.877492628427471,23.865585466026527,-16.5527314002334,18.70657617888534,25.70887403134869,19.67594066626408,15.210697828855098,22.66377158778492,-15.441626597400413,10.851564480017656,31.8708488140653,9.720495235083375,8.942412837003062,3.896226668025363,-5.806553242447797,2.184346447142396,16.297413297679107,14.614344443672577,-8.248234013189835,15.315386903369081,13.154619433065072,-3.608379809468508,14.477352431893152,-6.366737607352659,-18.78328117858518,24.14905126802641,-22.31780534016883,8.595822009990112,13.568907559926554,25.091729317645573,-3.006768939439968,-24.989442653435805,-9.575413611550323,-15.31499977559198,18.707526021990308,0.20330876509056606,-18.131818596789525,-23.480687244348147,-1.5895738215904438,-19.535621312238096,-7.676064291261893,-24.50333985320023,27.844035661605513,-21.53224538025977,-16.93114396134968,26.89855532080158,12.603475484722296,19.12616958996966,-15.689295271334583,3.0184657749030257,15.19059250812845,17.37525361980298,4.515739547000507,-21.901007560039673,-13.305545626495753,1.4370706037427197,-15.945071078658229,9.8570225388625,-17.757831279729935,-19.474494771881808,32.020526822896386,-21.764129535469596,-14.089925240478916,-9.290457905582885,19.3085718054531,-10.501847142605301,19.57279267682835,-25.700928923172448,18.030301242222656,33.14848789775565,15.739947076646954,-3.6472409774440684,16.496485817143533,10.113053345762614,-16.497013678695772,11.810059228507178,-9.055950213444962,-1.03209197302933,-17.427515703211775,-22.00914466201569,14.415343260356325,21.667275666859215,-3.147152217179729,-16.510690629897525,21.71739411094882,1.5891534403036116,20.441617671255234,14.655415160132813,7.900600055824438,12.573949026882088,-25.256927554581853,-12.937158902671184,23.538768050660096,11.433320567414013,25.427761190071404,-7.327956611515143,1.2811185089514106,-16.507247414299563,-21.03923467727069,-21.499108359613153,32.3358317721368,-26.709683449677676,24.49014719468375,-11.142045288185813,-1.3830796588396956,11.781112310788552,-6.576135085911642,-10.200957143943425,-19.3465382069128,26.551933238588372,21.891441682458584,-0.44344541010592703,17.169087823589507,-6.024193116815717,-14.623757218839684,-23.69113293031337,-22.733542064399312,14.617258478513325,-14.366196928239917,7.277429334287133,12.259913791073222,-12.733494479353622,2.8111894360904253,-17.887011169199145,1.841936116679792,30.381989655856074,9.73851363415717,-20.955659293378886,-18.60531757499209,-11.437084831105322,-18.51322828112436,3.4142792507614645,19.015188749261824],\"type\":\"scatter3d\"}],                        {\"template\":{\"data\":{\"bar\":[{\"error_x\":{\"color\":\"#2a3f5f\"},\"error_y\":{\"color\":\"#2a3f5f\"},\"marker\":{\"line\":{\"color\":\"#E5ECF6\",\"width\":0.5},\"pattern\":{\"fillmode\":\"overlay\",\"size\":10,\"solidity\":0.2}},\"type\":\"bar\"}],\"barpolar\":[{\"marker\":{\"line\":{\"color\":\"#E5ECF6\",\"width\":0.5},\"pattern\":{\"fillmode\":\"overlay\",\"size\":10,\"solidity\":0.2}},\"type\":\"barpolar\"}],\"carpet\":[{\"aaxis\":{\"endlinecolor\":\"#2a3f5f\",\"gridcolor\":\"white\",\"linecolor\":\"white\",\"minorgridcolor\":\"white\",\"startlinecolor\":\"#2a3f5f\"},\"baxis\":{\"endlinecolor\":\"#2a3f5f\",\"gridcolor\":\"white\",\"linecolor\":\"white\",\"minorgridcolor\":\"white\",\"startlinecolor\":\"#2a3f5f\"},\"type\":\"carpet\"}],\"choropleth\":[{\"colorbar\":{\"outlinewidth\":0,\"ticks\":\"\"},\"type\":\"choropleth\"}],\"contour\":[{\"colorbar\":{\"outlinewidth\":0,\"ticks\":\"\"},\"colorscale\":[[0.0,\"#0d0887\"],[0.1111111111111111,\"#46039f\"],[0.2222222222222222,\"#7201a8\"],[0.3333333333333333,\"#9c179e\"],[0.4444444444444444,\"#bd3786\"],[0.5555555555555556,\"#d8576b\"],[0.6666666666666666,\"#ed7953\"],[0.7777777777777778,\"#fb9f3a\"],[0.8888888888888888,\"#fdca26\"],[1.0,\"#f0f921\"]],\"type\":\"contour\"}],\"contourcarpet\":[{\"colorbar\":{\"outlinewidth\":0,\"ticks\":\"\"},\"type\":\"contourcarpet\"}],\"heatmap\":[{\"colorbar\":{\"outlinewidth\":0,\"ticks\":\"\"},\"colorscale\":[[0.0,\"#0d0887\"],[0.1111111111111111,\"#46039f\"],[0.2222222222222222,\"#7201a8\"],[0.3333333333333333,\"#9c179e\"],[0.4444444444444444,\"#bd3786\"],[0.5555555555555556,\"#d8576b\"],[0.6666666666666666,\"#ed7953\"],[0.7777777777777778,\"#fb9f3a\"],[0.8888888888888888,\"#fdca26\"],[1.0,\"#f0f921\"]],\"type\":\"heatmap\"}],\"heatmapgl\":[{\"colorbar\":{\"outlinewidth\":0,\"ticks\":\"\"},\"colorscale\":[[0.0,\"#0d0887\"],[0.1111111111111111,\"#46039f\"],[0.2222222222222222,\"#7201a8\"],[0.3333333333333333,\"#9c179e\"],[0.4444444444444444,\"#bd3786\"],[0.5555555555555556,\"#d8576b\"],[0.6666666666666666,\"#ed7953\"],[0.7777777777777778,\"#fb9f3a\"],[0.8888888888888888,\"#fdca26\"],[1.0,\"#f0f921\"]],\"type\":\"heatmapgl\"}],\"histogram\":[{\"marker\":{\"pattern\":{\"fillmode\":\"overlay\",\"size\":10,\"solidity\":0.2}},\"type\":\"histogram\"}],\"histogram2d\":[{\"colorbar\":{\"outlinewidth\":0,\"ticks\":\"\"},\"colorscale\":[[0.0,\"#0d0887\"],[0.1111111111111111,\"#46039f\"],[0.2222222222222222,\"#7201a8\"],[0.3333333333333333,\"#9c179e\"],[0.4444444444444444,\"#bd3786\"],[0.5555555555555556,\"#d8576b\"],[0.6666666666666666,\"#ed7953\"],[0.7777777777777778,\"#fb9f3a\"],[0.8888888888888888,\"#fdca26\"],[1.0,\"#f0f921\"]],\"type\":\"histogram2d\"}],\"histogram2dcontour\":[{\"colorbar\":{\"outlinewidth\":0,\"ticks\":\"\"},\"colorscale\":[[0.0,\"#0d0887\"],[0.1111111111111111,\"#46039f\"],[0.2222222222222222,\"#7201a8\"],[0.3333333333333333,\"#9c179e\"],[0.4444444444444444,\"#bd3786\"],[0.5555555555555556,\"#d8576b\"],[0.6666666666666666,\"#ed7953\"],[0.7777777777777778,\"#fb9f3a\"],[0.8888888888888888,\"#fdca26\"],[1.0,\"#f0f921\"]],\"type\":\"histogram2dcontour\"}],\"mesh3d\":[{\"colorbar\":{\"outlinewidth\":0,\"ticks\":\"\"},\"type\":\"mesh3d\"}],\"parcoords\":[{\"line\":{\"colorbar\":{\"outlinewidth\":0,\"ticks\":\"\"}},\"type\":\"parcoords\"}],\"pie\":[{\"automargin\":true,\"type\":\"pie\"}],\"scatter\":[{\"marker\":{\"colorbar\":{\"outlinewidth\":0,\"ticks\":\"\"}},\"type\":\"scatter\"}],\"scatter3d\":[{\"line\":{\"colorbar\":{\"outlinewidth\":0,\"ticks\":\"\"}},\"marker\":{\"colorbar\":{\"outlinewidth\":0,\"ticks\":\"\"}},\"type\":\"scatter3d\"}],\"scattercarpet\":[{\"marker\":{\"colorbar\":{\"outlinewidth\":0,\"ticks\":\"\"}},\"type\":\"scattercarpet\"}],\"scattergeo\":[{\"marker\":{\"colorbar\":{\"outlinewidth\":0,\"ticks\":\"\"}},\"type\":\"scattergeo\"}],\"scattergl\":[{\"marker\":{\"colorbar\":{\"outlinewidth\":0,\"ticks\":\"\"}},\"type\":\"scattergl\"}],\"scattermapbox\":[{\"marker\":{\"colorbar\":{\"outlinewidth\":0,\"ticks\":\"\"}},\"type\":\"scattermapbox\"}],\"scatterpolar\":[{\"marker\":{\"colorbar\":{\"outlinewidth\":0,\"ticks\":\"\"}},\"type\":\"scatterpolar\"}],\"scatterpolargl\":[{\"marker\":{\"colorbar\":{\"outlinewidth\":0,\"ticks\":\"\"}},\"type\":\"scatterpolargl\"}],\"scatterternary\":[{\"marker\":{\"colorbar\":{\"outlinewidth\":0,\"ticks\":\"\"}},\"type\":\"scatterternary\"}],\"surface\":[{\"colorbar\":{\"outlinewidth\":0,\"ticks\":\"\"},\"colorscale\":[[0.0,\"#0d0887\"],[0.1111111111111111,\"#46039f\"],[0.2222222222222222,\"#7201a8\"],[0.3333333333333333,\"#9c179e\"],[0.4444444444444444,\"#bd3786\"],[0.5555555555555556,\"#d8576b\"],[0.6666666666666666,\"#ed7953\"],[0.7777777777777778,\"#fb9f3a\"],[0.8888888888888888,\"#fdca26\"],[1.0,\"#f0f921\"]],\"type\":\"surface\"}],\"table\":[{\"cells\":{\"fill\":{\"color\":\"#EBF0F8\"},\"line\":{\"color\":\"white\"}},\"header\":{\"fill\":{\"color\":\"#C8D4E3\"},\"line\":{\"color\":\"white\"}},\"type\":\"table\"}]},\"layout\":{\"annotationdefaults\":{\"arrowcolor\":\"#2a3f5f\",\"arrowhead\":0,\"arrowwidth\":1},\"autotypenumbers\":\"strict\",\"coloraxis\":{\"colorbar\":{\"outlinewidth\":0,\"ticks\":\"\"}},\"colorscale\":{\"diverging\":[[0,\"#8e0152\"],[0.1,\"#c51b7d\"],[0.2,\"#de77ae\"],[0.3,\"#f1b6da\"],[0.4,\"#fde0ef\"],[0.5,\"#f7f7f7\"],[0.6,\"#e6f5d0\"],[0.7,\"#b8e186\"],[0.8,\"#7fbc41\"],[0.9,\"#4d9221\"],[1,\"#276419\"]],\"sequential\":[[0.0,\"#0d0887\"],[0.1111111111111111,\"#46039f\"],[0.2222222222222222,\"#7201a8\"],[0.3333333333333333,\"#9c179e\"],[0.4444444444444444,\"#bd3786\"],[0.5555555555555556,\"#d8576b\"],[0.6666666666666666,\"#ed7953\"],[0.7777777777777778,\"#fb9f3a\"],[0.8888888888888888,\"#fdca26\"],[1.0,\"#f0f921\"]],\"sequentialminus\":[[0.0,\"#0d0887\"],[0.1111111111111111,\"#46039f\"],[0.2222222222222222,\"#7201a8\"],[0.3333333333333333,\"#9c179e\"],[0.4444444444444444,\"#bd3786\"],[0.5555555555555556,\"#d8576b\"],[0.6666666666666666,\"#ed7953\"],[0.7777777777777778,\"#fb9f3a\"],[0.8888888888888888,\"#fdca26\"],[1.0,\"#f0f921\"]]},\"colorway\":[\"#636efa\",\"#EF553B\",\"#00cc96\",\"#ab63fa\",\"#FFA15A\",\"#19d3f3\",\"#FF6692\",\"#B6E880\",\"#FF97FF\",\"#FECB52\"],\"font\":{\"color\":\"#2a3f5f\"},\"geo\":{\"bgcolor\":\"white\",\"lakecolor\":\"white\",\"landcolor\":\"#E5ECF6\",\"showlakes\":true,\"showland\":true,\"subunitcolor\":\"white\"},\"hoverlabel\":{\"align\":\"left\"},\"hovermode\":\"closest\",\"mapbox\":{\"style\":\"light\"},\"paper_bgcolor\":\"white\",\"plot_bgcolor\":\"#E5ECF6\",\"polar\":{\"angularaxis\":{\"gridcolor\":\"white\",\"linecolor\":\"white\",\"ticks\":\"\"},\"bgcolor\":\"#E5ECF6\",\"radialaxis\":{\"gridcolor\":\"white\",\"linecolor\":\"white\",\"ticks\":\"\"}},\"scene\":{\"xaxis\":{\"backgroundcolor\":\"#E5ECF6\",\"gridcolor\":\"white\",\"gridwidth\":2,\"linecolor\":\"white\",\"showbackground\":true,\"ticks\":\"\",\"zerolinecolor\":\"white\"},\"yaxis\":{\"backgroundcolor\":\"#E5ECF6\",\"gridcolor\":\"white\",\"gridwidth\":2,\"linecolor\":\"white\",\"showbackground\":true,\"ticks\":\"\",\"zerolinecolor\":\"white\"},\"zaxis\":{\"backgroundcolor\":\"#E5ECF6\",\"gridcolor\":\"white\",\"gridwidth\":2,\"linecolor\":\"white\",\"showbackground\":true,\"ticks\":\"\",\"zerolinecolor\":\"white\"}},\"shapedefaults\":{\"line\":{\"color\":\"#2a3f5f\"}},\"ternary\":{\"aaxis\":{\"gridcolor\":\"white\",\"linecolor\":\"white\",\"ticks\":\"\"},\"baxis\":{\"gridcolor\":\"white\",\"linecolor\":\"white\",\"ticks\":\"\"},\"bgcolor\":\"#E5ECF6\",\"caxis\":{\"gridcolor\":\"white\",\"linecolor\":\"white\",\"ticks\":\"\"}},\"title\":{\"x\":0.05},\"xaxis\":{\"automargin\":true,\"gridcolor\":\"white\",\"linecolor\":\"white\",\"ticks\":\"\",\"title\":{\"standoff\":15},\"zerolinecolor\":\"white\",\"zerolinewidth\":2},\"yaxis\":{\"automargin\":true,\"gridcolor\":\"white\",\"linecolor\":\"white\",\"ticks\":\"\",\"title\":{\"standoff\":15},\"zerolinecolor\":\"white\",\"zerolinewidth\":2}}},\"scene\":{\"domain\":{\"x\":[0.0,1.0],\"y\":[0.0,1.0]},\"xaxis\":{\"title\":{\"text\":\"x\",\"font\":{\"size\":10}},\"tickfont\":{\"size\":10},\"backgroundcolor\":\"white\",\"color\":\"black\",\"gridcolor\":\"#f0f0f0\"},\"yaxis\":{\"title\":{\"text\":\"y\",\"font\":{\"size\":10}},\"tickfont\":{\"size\":10},\"backgroundcolor\":\"white\",\"color\":\"black\",\"gridcolor\":\"#f0f0f0\"},\"zaxis\":{\"title\":{\"text\":\"z\",\"font\":{\"size\":10}},\"tickfont\":{\"size\":10},\"backgroundcolor\":\"lightgrey\",\"color\":\"black\",\"gridcolor\":\"#f0f0f0\"},\"camera\":{\"up\":{\"x\":0,\"y\":0,\"z\":1},\"center\":{\"x\":0,\"y\":0,\"z\":-0.1},\"eye\":{\"x\":1.25,\"y\":1.5,\"z\":1}}},\"coloraxis\":{\"colorbar\":{\"title\":{\"text\":\"color\"}},\"colorscale\":[[0.0,\"#0d0887\"],[0.1111111111111111,\"#46039f\"],[0.2222222222222222,\"#7201a8\"],[0.3333333333333333,\"#9c179e\"],[0.4444444444444444,\"#bd3786\"],[0.5555555555555556,\"#d8576b\"],[0.6666666666666666,\"#ed7953\"],[0.7777777777777778,\"#fb9f3a\"],[0.8888888888888888,\"#fdca26\"],[1.0,\"#f0f921\"]],\"showscale\":false},\"legend\":{\"tracegroupgap\":0},\"margin\":{\"t\":0,\"l\":0,\"r\":0,\"b\":0},\"showlegend\":false},                        {\"responsive\": true}                    ).then(function(){\n",
       "                            \n",
       "var gd = document.getElementById('13cfd433-543e-4c5f-bdfc-611ee75bab75');\n",
       "var x = new MutationObserver(function (mutations, observer) {{\n",
       "        var display = window.getComputedStyle(gd).display;\n",
       "        if (!display || display === 'none') {{\n",
       "            console.log([gd, 'removed!']);\n",
       "            Plotly.purge(gd);\n",
       "            observer.disconnect();\n",
       "        }}\n",
       "}});\n",
       "\n",
       "// Listen for the removal of the full notebook cells\n",
       "var notebookContainer = gd.closest('#notebook-container');\n",
       "if (notebookContainer) {{\n",
       "    x.observe(notebookContainer, {childList: true});\n",
       "}}\n",
       "\n",
       "// Listen for the clearing of the current output cell\n",
       "var outputEl = gd.closest('.output');\n",
       "if (outputEl) {{\n",
       "    x.observe(outputEl, {childList: true});\n",
       "}}\n",
       "\n",
       "                        })                };                });            </script>        </div>"
      ]
     },
     "metadata": {},
     "output_type": "display_data"
    }
   ],
   "source": [
    "# Create a 3D scatter plot\n",
    "fig = px.scatter_3d(None, x=pts_3d[:,0], y=pts_3d[:,1], z=pts_3d[:,2], color=pts_3d[:,0])\n",
    "\n",
    "# Update chart looks\n",
    "fig.update_layout(showlegend=False,\n",
    "                  scene_camera=dict(up=dict(x=0, y=0, z=1), \n",
    "                                        center=dict(x=0, y=0, z=-0.1),\n",
    "                                        eye=dict(x=1.25, y=1.5, z=1)),\n",
    "                                        margin=dict(l=0, r=0, b=0, t=0),\n",
    "                  scene = dict(xaxis=dict(backgroundcolor='white',\n",
    "                                          color='black',\n",
    "                                          gridcolor='#f0f0f0',\n",
    "                                          title_font=dict(size=10),\n",
    "                                          tickfont=dict(size=10),\n",
    "                                         ),\n",
    "                               yaxis=dict(backgroundcolor='white',\n",
    "                                          color='black',\n",
    "                                          gridcolor='#f0f0f0',\n",
    "                                          title_font=dict(size=10),\n",
    "                                          tickfont=dict(size=10),\n",
    "                                          ),\n",
    "                               zaxis=dict(backgroundcolor='lightgrey',\n",
    "                                          color='black', \n",
    "                                          gridcolor='#f0f0f0',\n",
    "                                          title_font=dict(size=10),\n",
    "                                          tickfont=dict(size=10),\n",
    "                                         )))\n",
    "\n",
    "# Update marker size\n",
    "fig.update_traces(marker=dict(size=5, line=dict(color='black', width=0.1)))\n",
    "\n",
    "fig.update(layout_coloraxis_showscale=False)\n",
    "fig.show()"
   ]
  },
  {
   "cell_type": "markdown",
   "metadata": {},
   "source": [
    "As can be seen in the 2D plot, there are several clusters. Each lysozyme has its own place in the 2D space. This means that lysozyme can be categorized by their position."
   ]
  },
  {
   "cell_type": "markdown",
   "metadata": {},
   "source": [
    "In the 3D plot we can also clearly see that the lysozyme are grouped."
   ]
  },
  {
   "cell_type": "markdown",
   "metadata": {},
   "source": [
    "## Conclusion\n",
    "\n",
    "We can see that the distance of the lysozyme structures are in the Cartesian space. Therefore, we can take it a step further and predict the lysozyme structures in this space.\n",
    "\n",
    "The expectation that different variants can be distinguised in term of conformation and dynamics seems to be correct. However, the data can be analysed even more, by integrating domain knowledge. It may be that a difference dissimilarity metric gives a different result."
   ]
  },
  {
   "cell_type": "markdown",
   "metadata": {},
   "source": [
    "<font color='red'>\n",
    "   Assessment: The idea was good, but since a distance matrix was given, you can't make a selection of rows and the only proper approach was using dissimilarity='precomputed'. The results show dispersed points, which do not warrant the conclusions you draw. You should've noted the two clusters at the bottom of the cloud of points, which suggest there are many structures that are grouped there. The colors used in the graph make little sense; the dataset has no specific ordering.\n",
    "</font>\n",
    "\n",
    "- give the rationale for using the method for the data selected and state expectations (20%) 20\n",
    "- justify the selections (rows/columns) and/or treatment of the data (15%) 0\n",
    "- explain/justify the choices made in the application of the method (15%) 0\n",
    "- plot the results in a clear and logical manner (20%) 10\n",
    "- interpret and reflect on the results (30%) 0\n",
    "\n",
    "\n"
   ]
  }
 ],
 "metadata": {
  "interpreter": {
   "hash": "e323154c6dbaee44121557ea788e367821a6676207fc70c01e89d301d1f621ee"
  },
  "kernelspec": {
   "display_name": "Python 3 (ipykernel)",
   "language": "python",
   "name": "python3"
  },
  "language_info": {
   "codemirror_mode": {
    "name": "ipython",
    "version": 3
   },
   "file_extension": ".py",
   "mimetype": "text/x-python",
   "name": "python",
   "nbconvert_exporter": "python",
   "pygments_lexer": "ipython3",
   "version": "3.10.4"
  }
 },
 "nbformat": 4,
 "nbformat_minor": 2
}
