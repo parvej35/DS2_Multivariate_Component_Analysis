{
 "cells": [
  {
   "cell_type": "markdown",
   "metadata": {},
   "source": [
    "## Final assignment MCA"
   ]
  },
  {
   "cell_type": "markdown",
   "metadata": {},
   "source": [
    "Author: Peter Riesebos\n",
    "\n",
    "Deadline: July 8th 17:00\n",
    "\n",
    "The assignment is to perform meaningful, complete, and correct analyses of two or more datasets and present these. Demonstrate (at least) three different methods. PCA and/or FA must be included, and regression (MLR, PCR, or PLSR) must be included. A third method may be selected as desired (PA, MDS, LDA, SGP, ...).\n",
    "\n",
    "- give the rationale for using the method for the data selected and state expectations (20%)\n",
    "- justify the selections (rows/columns) and/or treatment of the data (15%)\n",
    "- explain/justify the choices made in the application of the method (15%)\n",
    "- plot the results in a clear and logical manner (20%)\n",
    "- interpret and reflect on the results (30%)"
   ]
  },
  {
   "cell_type": "markdown",
   "metadata": {},
   "source": [
    "### Imports"
   ]
  },
  {
   "cell_type": "code",
   "execution_count": 5,
   "metadata": {},
   "outputs": [],
   "source": [
    "import pandas as pd\n",
    "import numpy as np\n",
    "import seaborn as sn\n",
    "import matplotlib.pyplot as plt\n",
    "# import statsmodels.api as sm\n",
    "# from statsmodels.stats.outliers_influence import variance_inflation_factor\n",
    "# from sklearn.discriminant_analysis import LinearDiscriminantAnalysis\n",
    "# from sklearn.model_selection import cross_val_score\n",
    "# from sklearn.preprocessing import StandardScaler\n",
    "from sklearn.manifold import MDS\n",
    "from sklearn import linear_model\n",
    "# from pca import pca # install this package which doesn't come with anaconda\n",
    "%matplotlib inline"
   ]
  },
  {
   "cell_type": "markdown",
   "metadata": {},
   "source": [
    "### Metabolom dataset"
   ]
  },
  {
   "cell_type": "markdown",
   "metadata": {},
   "source": [
    "CSV contains measurements of monoterpenes in certain plant leaves in AUC/mg.\n",
    "\n",
    "Source: 'Unifying community detection across scales from genomes to landscapes' from Hudon and coworkers\n"
   ]
  },
  {
   "cell_type": "markdown",
   "metadata": {},
   "source": [
    "#### Data exploration"
   ]
  },
  {
   "cell_type": "code",
   "execution_count": 620,
   "metadata": {},
   "outputs": [
    {
     "data": {
      "text/html": [
       "<div>\n",
       "<style scoped>\n",
       "    .dataframe tbody tr th:only-of-type {\n",
       "        vertical-align: middle;\n",
       "    }\n",
       "\n",
       "    .dataframe tbody tr th {\n",
       "        vertical-align: top;\n",
       "    }\n",
       "\n",
       "    .dataframe thead th {\n",
       "        text-align: right;\n",
       "    }\n",
       "</style>\n",
       "<table border=\"1\" class=\"dataframe\">\n",
       "  <thead>\n",
       "    <tr style=\"text-align: right;\">\n",
       "      <th></th>\n",
       "      <th>SampleID</th>\n",
       "      <th>Species</th>\n",
       "      <th>Unk3.2</th>\n",
       "      <th>Unk3.6</th>\n",
       "      <th>Unk11.9</th>\n",
       "      <th>Unk12.4</th>\n",
       "      <th>aPinene</th>\n",
       "      <th>Camphene</th>\n",
       "      <th>bPinene</th>\n",
       "      <th>aPhellendrine</th>\n",
       "      <th>pcymene</th>\n",
       "      <th>Cineole</th>\n",
       "      <th>Unk18.2</th>\n",
       "      <th>Unk18.6</th>\n",
       "      <th>Unk20.5</th>\n",
       "      <th>Camphor</th>\n",
       "      <th>Unk21</th>\n",
       "      <th>Unk21.5</th>\n",
       "      <th>Unk23.5</th>\n",
       "    </tr>\n",
       "  </thead>\n",
       "  <tbody>\n",
       "    <tr>\n",
       "      <th>0</th>\n",
       "      <td>MF032</td>\n",
       "      <td>wyoming</td>\n",
       "      <td>17.447216</td>\n",
       "      <td>78.480388</td>\n",
       "      <td>2.575015</td>\n",
       "      <td>0.480588</td>\n",
       "      <td>6.873549</td>\n",
       "      <td>14.667799</td>\n",
       "      <td>10.505447</td>\n",
       "      <td>64.308777</td>\n",
       "      <td>5.311575</td>\n",
       "      <td>6.917810</td>\n",
       "      <td>10.258485</td>\n",
       "      <td>29.725402</td>\n",
       "      <td>5.320274</td>\n",
       "      <td>92.868922</td>\n",
       "      <td>32.733879</td>\n",
       "      <td>245.373027</td>\n",
       "      <td>9.190845</td>\n",
       "    </tr>\n",
       "    <tr>\n",
       "      <th>1</th>\n",
       "      <td>MF034</td>\n",
       "      <td>wyoming</td>\n",
       "      <td>0.000000</td>\n",
       "      <td>0.000000</td>\n",
       "      <td>0.566885</td>\n",
       "      <td>9.274434</td>\n",
       "      <td>29.331204</td>\n",
       "      <td>189.922801</td>\n",
       "      <td>20.664100</td>\n",
       "      <td>0.368826</td>\n",
       "      <td>8.201353</td>\n",
       "      <td>140.641077</td>\n",
       "      <td>0.000000</td>\n",
       "      <td>1.275490</td>\n",
       "      <td>0.000000</td>\n",
       "      <td>0.000000</td>\n",
       "      <td>675.617594</td>\n",
       "      <td>13.323675</td>\n",
       "      <td>0.646352</td>\n",
       "    </tr>\n",
       "    <tr>\n",
       "      <th>2</th>\n",
       "      <td>MF036</td>\n",
       "      <td>wyoming</td>\n",
       "      <td>13.247976</td>\n",
       "      <td>52.978520</td>\n",
       "      <td>3.838784</td>\n",
       "      <td>0.000000</td>\n",
       "      <td>5.958195</td>\n",
       "      <td>6.564323</td>\n",
       "      <td>23.170531</td>\n",
       "      <td>61.671574</td>\n",
       "      <td>2.010833</td>\n",
       "      <td>4.594991</td>\n",
       "      <td>9.309720</td>\n",
       "      <td>27.877841</td>\n",
       "      <td>10.200175</td>\n",
       "      <td>54.894681</td>\n",
       "      <td>25.178064</td>\n",
       "      <td>232.263740</td>\n",
       "      <td>8.166170</td>\n",
       "    </tr>\n",
       "    <tr>\n",
       "      <th>3</th>\n",
       "      <td>MF038</td>\n",
       "      <td>wyoming</td>\n",
       "      <td>0.000000</td>\n",
       "      <td>71.897745</td>\n",
       "      <td>5.582314</td>\n",
       "      <td>7.300492</td>\n",
       "      <td>8.662203</td>\n",
       "      <td>3.662696</td>\n",
       "      <td>9.404492</td>\n",
       "      <td>0.165965</td>\n",
       "      <td>1.854227</td>\n",
       "      <td>6.792163</td>\n",
       "      <td>9.031663</td>\n",
       "      <td>32.740878</td>\n",
       "      <td>7.444111</td>\n",
       "      <td>67.025993</td>\n",
       "      <td>24.894070</td>\n",
       "      <td>392.559512</td>\n",
       "      <td>10.195839</td>\n",
       "    </tr>\n",
       "    <tr>\n",
       "      <th>4</th>\n",
       "      <td>MF049</td>\n",
       "      <td>wyoming</td>\n",
       "      <td>15.501606</td>\n",
       "      <td>56.658287</td>\n",
       "      <td>7.009434</td>\n",
       "      <td>0.397118</td>\n",
       "      <td>0.000000</td>\n",
       "      <td>9.505731</td>\n",
       "      <td>11.259664</td>\n",
       "      <td>18.164837</td>\n",
       "      <td>3.222653</td>\n",
       "      <td>17.167722</td>\n",
       "      <td>9.857530</td>\n",
       "      <td>6.071136</td>\n",
       "      <td>10.047028</td>\n",
       "      <td>87.913989</td>\n",
       "      <td>33.114384</td>\n",
       "      <td>0.341623</td>\n",
       "      <td>11.994086</td>\n",
       "    </tr>\n",
       "    <tr>\n",
       "      <th>...</th>\n",
       "      <td>...</td>\n",
       "      <td>...</td>\n",
       "      <td>...</td>\n",
       "      <td>...</td>\n",
       "      <td>...</td>\n",
       "      <td>...</td>\n",
       "      <td>...</td>\n",
       "      <td>...</td>\n",
       "      <td>...</td>\n",
       "      <td>...</td>\n",
       "      <td>...</td>\n",
       "      <td>...</td>\n",
       "      <td>...</td>\n",
       "      <td>...</td>\n",
       "      <td>...</td>\n",
       "      <td>...</td>\n",
       "      <td>...</td>\n",
       "      <td>...</td>\n",
       "      <td>...</td>\n",
       "    </tr>\n",
       "    <tr>\n",
       "      <th>89</th>\n",
       "      <td>MF307</td>\n",
       "      <td>wyoming</td>\n",
       "      <td>34.999561</td>\n",
       "      <td>110.826808</td>\n",
       "      <td>3.713417</td>\n",
       "      <td>1.092522</td>\n",
       "      <td>3.635173</td>\n",
       "      <td>25.416764</td>\n",
       "      <td>11.319855</td>\n",
       "      <td>57.996107</td>\n",
       "      <td>9.337529</td>\n",
       "      <td>31.488208</td>\n",
       "      <td>8.461742</td>\n",
       "      <td>18.543212</td>\n",
       "      <td>3.612682</td>\n",
       "      <td>91.353085</td>\n",
       "      <td>19.635540</td>\n",
       "      <td>193.448965</td>\n",
       "      <td>7.282802</td>\n",
       "    </tr>\n",
       "    <tr>\n",
       "      <th>90</th>\n",
       "      <td>MF308</td>\n",
       "      <td>3-tip</td>\n",
       "      <td>13.748601</td>\n",
       "      <td>0.000000</td>\n",
       "      <td>0.000000</td>\n",
       "      <td>8.024367</td>\n",
       "      <td>47.490551</td>\n",
       "      <td>125.726955</td>\n",
       "      <td>20.436416</td>\n",
       "      <td>0.000000</td>\n",
       "      <td>30.094909</td>\n",
       "      <td>4.942429</td>\n",
       "      <td>0.000000</td>\n",
       "      <td>0.759998</td>\n",
       "      <td>0.000000</td>\n",
       "      <td>0.000000</td>\n",
       "      <td>421.669616</td>\n",
       "      <td>12.199856</td>\n",
       "      <td>0.544602</td>\n",
       "    </tr>\n",
       "    <tr>\n",
       "      <th>91</th>\n",
       "      <td>MF309</td>\n",
       "      <td>3-tip</td>\n",
       "      <td>13.946355</td>\n",
       "      <td>0.000000</td>\n",
       "      <td>0.000000</td>\n",
       "      <td>8.285327</td>\n",
       "      <td>81.580728</td>\n",
       "      <td>142.999149</td>\n",
       "      <td>0.670380</td>\n",
       "      <td>0.000000</td>\n",
       "      <td>38.130357</td>\n",
       "      <td>4.841986</td>\n",
       "      <td>0.000000</td>\n",
       "      <td>0.000000</td>\n",
       "      <td>0.000000</td>\n",
       "      <td>0.000000</td>\n",
       "      <td>497.831436</td>\n",
       "      <td>13.430400</td>\n",
       "      <td>0.000000</td>\n",
       "    </tr>\n",
       "    <tr>\n",
       "      <th>92</th>\n",
       "      <td>MF310</td>\n",
       "      <td>wyoming</td>\n",
       "      <td>43.199183</td>\n",
       "      <td>67.388458</td>\n",
       "      <td>17.454482</td>\n",
       "      <td>0.788624</td>\n",
       "      <td>2.435465</td>\n",
       "      <td>17.218276</td>\n",
       "      <td>74.732220</td>\n",
       "      <td>18.961495</td>\n",
       "      <td>3.335756</td>\n",
       "      <td>47.823441</td>\n",
       "      <td>6.603522</td>\n",
       "      <td>10.623682</td>\n",
       "      <td>41.042015</td>\n",
       "      <td>49.214527</td>\n",
       "      <td>31.067011</td>\n",
       "      <td>75.488476</td>\n",
       "      <td>0.203115</td>\n",
       "    </tr>\n",
       "    <tr>\n",
       "      <th>93</th>\n",
       "      <td>MF311</td>\n",
       "      <td>wyoming</td>\n",
       "      <td>29.156576</td>\n",
       "      <td>21.561263</td>\n",
       "      <td>1.397200</td>\n",
       "      <td>0.840508</td>\n",
       "      <td>1.580013</td>\n",
       "      <td>8.091641</td>\n",
       "      <td>26.992020</td>\n",
       "      <td>20.915596</td>\n",
       "      <td>2.582817</td>\n",
       "      <td>30.153951</td>\n",
       "      <td>2.312392</td>\n",
       "      <td>17.001017</td>\n",
       "      <td>7.083195</td>\n",
       "      <td>14.525973</td>\n",
       "      <td>8.187077</td>\n",
       "      <td>45.853621</td>\n",
       "      <td>2.287864</td>\n",
       "    </tr>\n",
       "  </tbody>\n",
       "</table>\n",
       "<p>94 rows × 19 columns</p>\n",
       "</div>"
      ],
      "text/plain": [
       "   SampleID  Species     Unk3.2      Unk3.6    Unk11.9   Unk12.4    aPinene  \\\n",
       "0     MF032  wyoming  17.447216   78.480388   2.575015  0.480588   6.873549   \n",
       "1     MF034  wyoming   0.000000    0.000000   0.566885  9.274434  29.331204   \n",
       "2     MF036  wyoming  13.247976   52.978520   3.838784  0.000000   5.958195   \n",
       "3     MF038  wyoming   0.000000   71.897745   5.582314  7.300492   8.662203   \n",
       "4     MF049  wyoming  15.501606   56.658287   7.009434  0.397118   0.000000   \n",
       "..      ...      ...        ...         ...        ...       ...        ...   \n",
       "89    MF307  wyoming  34.999561  110.826808   3.713417  1.092522   3.635173   \n",
       "90    MF308    3-tip  13.748601    0.000000   0.000000  8.024367  47.490551   \n",
       "91    MF309    3-tip  13.946355    0.000000   0.000000  8.285327  81.580728   \n",
       "92    MF310  wyoming  43.199183   67.388458  17.454482  0.788624   2.435465   \n",
       "93    MF311  wyoming  29.156576   21.561263   1.397200  0.840508   1.580013   \n",
       "\n",
       "      Camphene    bPinene  aPhellendrine    pcymene     Cineole    Unk18.2  \\\n",
       "0    14.667799  10.505447      64.308777   5.311575    6.917810  10.258485   \n",
       "1   189.922801  20.664100       0.368826   8.201353  140.641077   0.000000   \n",
       "2     6.564323  23.170531      61.671574   2.010833    4.594991   9.309720   \n",
       "3     3.662696   9.404492       0.165965   1.854227    6.792163   9.031663   \n",
       "4     9.505731  11.259664      18.164837   3.222653   17.167722   9.857530   \n",
       "..         ...        ...            ...        ...         ...        ...   \n",
       "89   25.416764  11.319855      57.996107   9.337529   31.488208   8.461742   \n",
       "90  125.726955  20.436416       0.000000  30.094909    4.942429   0.000000   \n",
       "91  142.999149   0.670380       0.000000  38.130357    4.841986   0.000000   \n",
       "92   17.218276  74.732220      18.961495   3.335756   47.823441   6.603522   \n",
       "93    8.091641  26.992020      20.915596   2.582817   30.153951   2.312392   \n",
       "\n",
       "      Unk18.6    Unk20.5    Camphor       Unk21     Unk21.5    Unk23.5  \n",
       "0   29.725402   5.320274  92.868922   32.733879  245.373027   9.190845  \n",
       "1    1.275490   0.000000   0.000000  675.617594   13.323675   0.646352  \n",
       "2   27.877841  10.200175  54.894681   25.178064  232.263740   8.166170  \n",
       "3   32.740878   7.444111  67.025993   24.894070  392.559512  10.195839  \n",
       "4    6.071136  10.047028  87.913989   33.114384    0.341623  11.994086  \n",
       "..        ...        ...        ...         ...         ...        ...  \n",
       "89  18.543212   3.612682  91.353085   19.635540  193.448965   7.282802  \n",
       "90   0.759998   0.000000   0.000000  421.669616   12.199856   0.544602  \n",
       "91   0.000000   0.000000   0.000000  497.831436   13.430400   0.000000  \n",
       "92  10.623682  41.042015  49.214527   31.067011   75.488476   0.203115  \n",
       "93  17.001017   7.083195  14.525973    8.187077   45.853621   2.287864  \n",
       "\n",
       "[94 rows x 19 columns]"
      ]
     },
     "execution_count": 620,
     "metadata": {},
     "output_type": "execute_result"
    }
   ],
   "source": [
    "metabolom_df = pd.read_csv('DATASET/metabolom_data.csv', sep=',') # loading in the data into a pandas dataframe\n",
    "metabolom_df"
   ]
  },
  {
   "cell_type": "markdown",
   "metadata": {},
   "source": [
    "Here we can see a general overview of our data. We can see here that we have 94 rows and 19 columns."
   ]
  },
  {
   "cell_type": "code",
   "execution_count": 621,
   "metadata": {},
   "outputs": [
    {
     "name": "stdout",
     "output_type": "stream",
     "text": [
      "missing values: 0\n",
      "<class 'pandas.core.frame.DataFrame'>\n",
      "RangeIndex: 94 entries, 0 to 93\n",
      "Data columns (total 19 columns):\n",
      " #   Column         Non-Null Count  Dtype  \n",
      "---  ------         --------------  -----  \n",
      " 0   SampleID       94 non-null     object \n",
      " 1   Species        94 non-null     object \n",
      " 2   Unk3.2         94 non-null     float64\n",
      " 3   Unk3.6         94 non-null     float64\n",
      " 4   Unk11.9        94 non-null     float64\n",
      " 5   Unk12.4        94 non-null     float64\n",
      " 6   aPinene        94 non-null     float64\n",
      " 7   Camphene       94 non-null     float64\n",
      " 8   bPinene        94 non-null     float64\n",
      " 9   aPhellendrine  94 non-null     float64\n",
      " 10  pcymene        94 non-null     float64\n",
      " 11  Cineole        94 non-null     float64\n",
      " 12  Unk18.2        94 non-null     float64\n",
      " 13  Unk18.6        94 non-null     float64\n",
      " 14  Unk20.5        94 non-null     float64\n",
      " 15  Camphor        94 non-null     float64\n",
      " 16  Unk21          94 non-null     float64\n",
      " 17  Unk21.5        94 non-null     float64\n",
      " 18  Unk23.5        94 non-null     float64\n",
      "dtypes: float64(17), object(2)\n",
      "memory usage: 14.1+ KB\n"
     ]
    }
   ],
   "source": [
    "print('missing values:', metabolom_df.isnull().sum().sum())\n",
    "metabolom_df.info()"
   ]
  },
  {
   "cell_type": "markdown",
   "metadata": {},
   "source": [
    "Here we get a nice overview of all the columns as well as checking the data types of each column. We can see that there is no missing data."
   ]
  },
  {
   "cell_type": "code",
   "execution_count": 622,
   "metadata": {},
   "outputs": [
    {
     "name": "stderr",
     "output_type": "stream",
     "text": [
      "d:\\Users\\pries\\anaconda3\\lib\\site-packages\\seaborn\\_decorators.py:36: FutureWarning: Pass the following variable as a keyword arg: x. From version 0.12, the only valid positional argument will be `data`, and passing other arguments without an explicit keyword will result in an error or misinterpretation.\n",
      "  warnings.warn(\n"
     ]
    },
    {
     "data": {
      "image/png": "[encoded data removed]",
      "text/plain": [
       "<Figure size 432x288 with 1 Axes>"
      ]
     },
     "metadata": {
      "needs_background": "light"
     },
     "output_type": "display_data"
    }
   ],
   "source": [
    "sn.countplot(metabolom_df['Species'])\n",
    "plt.show()"
   ]
  },
  {
   "cell_type": "markdown",
   "metadata": {},
   "source": [
    "We can see that the data is skewed and that the species are not equally distributed"
   ]
  },
  {
   "cell_type": "code",
   "execution_count": 623,
   "metadata": {},
   "outputs": [],
   "source": [
    "metabolom_df = metabolom_df.drop(\"SampleID\",axis=1)"
   ]
  },
  {
   "cell_type": "markdown",
   "metadata": {},
   "source": [
    "Here I choose to drop the SampleID column because it won't have any meaningfull contribution to the steps we are going to take next"
   ]
  },
  {
   "cell_type": "code",
   "execution_count": 624,
   "metadata": {},
   "outputs": [],
   "source": [
    "X = metabolom_df.iloc[:, 1:]\n",
    "y = metabolom_df.iloc[:, 0]"
   ]
  },
  {
   "cell_type": "markdown",
   "metadata": {},
   "source": [
    "Here we select and assign the independant (X) and dependant value (Y). Species is our depedant variable and the monoterpenes in certain plant leaves in AUC/mg will be our independant variable."
   ]
  },
  {
   "cell_type": "code",
   "execution_count": 625,
   "metadata": {},
   "outputs": [
    {
     "data": {
      "text/plain": [
       "(12.886749063417717, 73000.89092252743)"
      ]
     },
     "execution_count": 625,
     "metadata": {},
     "output_type": "execute_result"
    }
   ],
   "source": [
    "X.var(axis=0).min(), X.var(axis=0).max()"
   ]
  },
  {
   "cell_type": "markdown",
   "metadata": {},
   "source": [
    "As we can see there is quite the difference between the minimum and maximum value of the independant variable"
   ]
  },
  {
   "cell_type": "markdown",
   "metadata": {},
   "source": [
    "#### Data standarization"
   ]
  },
  {
   "cell_type": "code",
   "execution_count": 626,
   "metadata": {},
   "outputs": [],
   "source": [
    "scaler = StandardScaler(with_mean=True, with_std=True)\n",
    "X = scaler.fit_transform(X)"
   ]
  },
  {
   "cell_type": "markdown",
   "metadata": {},
   "source": [
    "Here I choose to standarize my data. This involves rescaling the features such that they have the properties of a standard normal distribution with a mean of zero and a standard deviation of one. This is done to range the continuous initial variables so that each one of them contributes equally to the analysis"
   ]
  },
  {
   "cell_type": "markdown",
   "metadata": {},
   "source": [
    "#### PCA"
   ]
  },
  {
   "cell_type": "markdown",
   "metadata": {},
   "source": [
    "Here I choose to use PCA to reduce the dimensions of the data. This allows us to analyze the data. With PCA we can see if there are any clusters formed and if there are any features which mostly explain the variance in the data.\n",
    "\n",
    "My expectations here are that PCA is able to reduce the dimensions of the data and that we will see clusters being formed. Which will allow us to see which features explain most of the variance so that futher research can capitalize on this."
   ]
  },
  {
   "cell_type": "code",
   "execution_count": 627,
   "metadata": {},
   "outputs": [
    {
     "name": "stdout",
     "output_type": "stream",
     "text": [
      "[pca] >Column labels are auto-completed.\n",
      "[pca] >Row labels are auto-completed.\n",
      "[pca] >Normalizing input data per feature (zero mean and unit variance)..\n",
      "[pca] >The PCA reduction is performed on the [17] columns of the input dataframe.\n",
      "[pca] >Fit using PCA.\n",
      "[pca] >Compute loadings and PCs.\n",
      "[pca] >Compute explained variance.\n",
      "[pca] >Outlier detection using Hotelling T2 test with alpha=[0.05] and n_components=[8]\n",
      "[pca] >Outlier detection using SPE/DmodX with n_std=[2]\n"
     ]
    }
   ],
   "source": [
    "model = pca(n_components=8, normalize=True, detect_outliers=['ht2', 'spe'])\n",
    "results = model.fit_transform(X)"
   ]
  },
  {
   "cell_type": "markdown",
   "metadata": {},
   "source": [
    "Here I create my PCA model using 8 components just to explore. "
   ]
  },
  {
   "cell_type": "code",
   "execution_count": 628,
   "metadata": {},
   "outputs": [
    {
     "data": {
      "text/html": [
       "<div>\n",
       "<style scoped>\n",
       "    .dataframe tbody tr th:only-of-type {\n",
       "        vertical-align: middle;\n",
       "    }\n",
       "\n",
       "    .dataframe tbody tr th {\n",
       "        vertical-align: top;\n",
       "    }\n",
       "\n",
       "    .dataframe thead th {\n",
       "        text-align: right;\n",
       "    }\n",
       "</style>\n",
       "<table border=\"1\" class=\"dataframe\">\n",
       "  <thead>\n",
       "    <tr style=\"text-align: right;\">\n",
       "      <th></th>\n",
       "      <th>1</th>\n",
       "      <th>2</th>\n",
       "      <th>3</th>\n",
       "      <th>4</th>\n",
       "      <th>5</th>\n",
       "      <th>6</th>\n",
       "      <th>7</th>\n",
       "      <th>8</th>\n",
       "      <th>9</th>\n",
       "      <th>10</th>\n",
       "      <th>11</th>\n",
       "      <th>12</th>\n",
       "      <th>13</th>\n",
       "      <th>14</th>\n",
       "      <th>15</th>\n",
       "      <th>16</th>\n",
       "      <th>17</th>\n",
       "    </tr>\n",
       "  </thead>\n",
       "  <tbody>\n",
       "    <tr>\n",
       "      <th>PC1</th>\n",
       "      <td>-0.214315</td>\n",
       "      <td>-0.293946</td>\n",
       "      <td>-0.149952</td>\n",
       "      <td>0.316286</td>\n",
       "      <td>0.326551</td>\n",
       "      <td>0.317016</td>\n",
       "      <td>-0.077642</td>\n",
       "      <td>-0.266285</td>\n",
       "      <td>0.299234</td>\n",
       "      <td>-0.018047</td>\n",
       "      <td>-0.283969</td>\n",
       "      <td>-0.187168</td>\n",
       "      <td>-0.197053</td>\n",
       "      <td>-0.240587</td>\n",
       "      <td>0.322680</td>\n",
       "      <td>-0.181444</td>\n",
       "      <td>-0.147574</td>\n",
       "    </tr>\n",
       "    <tr>\n",
       "      <th>PC2</th>\n",
       "      <td>0.200580</td>\n",
       "      <td>-0.006912</td>\n",
       "      <td>0.289756</td>\n",
       "      <td>0.049422</td>\n",
       "      <td>0.007900</td>\n",
       "      <td>0.121445</td>\n",
       "      <td>0.464911</td>\n",
       "      <td>-0.259891</td>\n",
       "      <td>0.039542</td>\n",
       "      <td>0.362002</td>\n",
       "      <td>0.000514</td>\n",
       "      <td>-0.330626</td>\n",
       "      <td>0.350377</td>\n",
       "      <td>0.246665</td>\n",
       "      <td>0.017873</td>\n",
       "      <td>-0.368879</td>\n",
       "      <td>0.113578</td>\n",
       "    </tr>\n",
       "    <tr>\n",
       "      <th>PC3</th>\n",
       "      <td>0.192372</td>\n",
       "      <td>0.236287</td>\n",
       "      <td>0.409315</td>\n",
       "      <td>0.199328</td>\n",
       "      <td>0.165273</td>\n",
       "      <td>0.176035</td>\n",
       "      <td>-0.398861</td>\n",
       "      <td>0.052965</td>\n",
       "      <td>0.209887</td>\n",
       "      <td>-0.116727</td>\n",
       "      <td>0.371529</td>\n",
       "      <td>-0.210403</td>\n",
       "      <td>-0.215756</td>\n",
       "      <td>0.188385</td>\n",
       "      <td>0.172039</td>\n",
       "      <td>0.101929</td>\n",
       "      <td>0.343050</td>\n",
       "    </tr>\n",
       "    <tr>\n",
       "      <th>PC4</th>\n",
       "      <td>0.276295</td>\n",
       "      <td>0.103084</td>\n",
       "      <td>-0.210566</td>\n",
       "      <td>0.129652</td>\n",
       "      <td>0.127402</td>\n",
       "      <td>0.074091</td>\n",
       "      <td>0.266444</td>\n",
       "      <td>0.131207</td>\n",
       "      <td>0.092758</td>\n",
       "      <td>-0.547701</td>\n",
       "      <td>-0.116889</td>\n",
       "      <td>0.036440</td>\n",
       "      <td>0.444503</td>\n",
       "      <td>-0.245388</td>\n",
       "      <td>0.131262</td>\n",
       "      <td>0.088242</td>\n",
       "      <td>0.368201</td>\n",
       "    </tr>\n",
       "    <tr>\n",
       "      <th>PC5</th>\n",
       "      <td>-0.410863</td>\n",
       "      <td>-0.160087</td>\n",
       "      <td>0.007860</td>\n",
       "      <td>0.096274</td>\n",
       "      <td>0.001418</td>\n",
       "      <td>0.073308</td>\n",
       "      <td>0.156580</td>\n",
       "      <td>-0.029761</td>\n",
       "      <td>-0.123636</td>\n",
       "      <td>0.381852</td>\n",
       "      <td>0.013902</td>\n",
       "      <td>0.221302</td>\n",
       "      <td>-0.045613</td>\n",
       "      <td>-0.120531</td>\n",
       "      <td>0.059306</td>\n",
       "      <td>0.290002</td>\n",
       "      <td>0.671538</td>\n",
       "    </tr>\n",
       "    <tr>\n",
       "      <th>PC6</th>\n",
       "      <td>-0.006731</td>\n",
       "      <td>-0.122651</td>\n",
       "      <td>-0.332377</td>\n",
       "      <td>-0.249025</td>\n",
       "      <td>-0.192060</td>\n",
       "      <td>-0.171828</td>\n",
       "      <td>-0.293497</td>\n",
       "      <td>-0.305087</td>\n",
       "      <td>-0.165348</td>\n",
       "      <td>-0.190326</td>\n",
       "      <td>0.020008</td>\n",
       "      <td>-0.316311</td>\n",
       "      <td>-0.122841</td>\n",
       "      <td>-0.002325</td>\n",
       "      <td>-0.118168</td>\n",
       "      <td>-0.419445</td>\n",
       "      <td>0.444728</td>\n",
       "    </tr>\n",
       "    <tr>\n",
       "      <th>PC7</th>\n",
       "      <td>-0.393139</td>\n",
       "      <td>-0.305909</td>\n",
       "      <td>0.496455</td>\n",
       "      <td>-0.016734</td>\n",
       "      <td>0.030303</td>\n",
       "      <td>-0.048457</td>\n",
       "      <td>0.081498</td>\n",
       "      <td>-0.116985</td>\n",
       "      <td>-0.006075</td>\n",
       "      <td>-0.501864</td>\n",
       "      <td>0.110959</td>\n",
       "      <td>0.329616</td>\n",
       "      <td>0.085922</td>\n",
       "      <td>0.134226</td>\n",
       "      <td>-0.090594</td>\n",
       "      <td>-0.273882</td>\n",
       "      <td>-0.006295</td>\n",
       "    </tr>\n",
       "    <tr>\n",
       "      <th>PC8</th>\n",
       "      <td>0.558913</td>\n",
       "      <td>-0.196019</td>\n",
       "      <td>0.173353</td>\n",
       "      <td>-0.005725</td>\n",
       "      <td>0.005704</td>\n",
       "      <td>0.003100</td>\n",
       "      <td>-0.194350</td>\n",
       "      <td>-0.013573</td>\n",
       "      <td>0.133467</td>\n",
       "      <td>0.196871</td>\n",
       "      <td>-0.308926</td>\n",
       "      <td>0.531507</td>\n",
       "      <td>-0.141400</td>\n",
       "      <td>-0.147620</td>\n",
       "      <td>-0.125350</td>\n",
       "      <td>-0.248941</td>\n",
       "      <td>0.164724</td>\n",
       "    </tr>\n",
       "  </tbody>\n",
       "</table>\n",
       "</div>"
      ],
      "text/plain": [
       "            1         2         3         4         5         6         7  \\\n",
       "PC1 -0.214315 -0.293946 -0.149952  0.316286  0.326551  0.317016 -0.077642   \n",
       "PC2  0.200580 -0.006912  0.289756  0.049422  0.007900  0.121445  0.464911   \n",
       "PC3  0.192372  0.236287  0.409315  0.199328  0.165273  0.176035 -0.398861   \n",
       "PC4  0.276295  0.103084 -0.210566  0.129652  0.127402  0.074091  0.266444   \n",
       "PC5 -0.410863 -0.160087  0.007860  0.096274  0.001418  0.073308  0.156580   \n",
       "PC6 -0.006731 -0.122651 -0.332377 -0.249025 -0.192060 -0.171828 -0.293497   \n",
       "PC7 -0.393139 -0.305909  0.496455 -0.016734  0.030303 -0.048457  0.081498   \n",
       "PC8  0.558913 -0.196019  0.173353 -0.005725  0.005704  0.003100 -0.194350   \n",
       "\n",
       "            8         9        10        11        12        13        14  \\\n",
       "PC1 -0.266285  0.299234 -0.018047 -0.283969 -0.187168 -0.197053 -0.240587   \n",
       "PC2 -0.259891  0.039542  0.362002  0.000514 -0.330626  0.350377  0.246665   \n",
       "PC3  0.052965  0.209887 -0.116727  0.371529 -0.210403 -0.215756  0.188385   \n",
       "PC4  0.131207  0.092758 -0.547701 -0.116889  0.036440  0.444503 -0.245388   \n",
       "PC5 -0.029761 -0.123636  0.381852  0.013902  0.221302 -0.045613 -0.120531   \n",
       "PC6 -0.305087 -0.165348 -0.190326  0.020008 -0.316311 -0.122841 -0.002325   \n",
       "PC7 -0.116985 -0.006075 -0.501864  0.110959  0.329616  0.085922  0.134226   \n",
       "PC8 -0.013573  0.133467  0.196871 -0.308926  0.531507 -0.141400 -0.147620   \n",
       "\n",
       "           15        16        17  \n",
       "PC1  0.322680 -0.181444 -0.147574  \n",
       "PC2  0.017873 -0.368879  0.113578  \n",
       "PC3  0.172039  0.101929  0.343050  \n",
       "PC4  0.131262  0.088242  0.368201  \n",
       "PC5  0.059306  0.290002  0.671538  \n",
       "PC6 -0.118168 -0.419445  0.444728  \n",
       "PC7 -0.090594 -0.273882 -0.006295  \n",
       "PC8 -0.125350 -0.248941  0.164724  "
      ]
     },
     "execution_count": 628,
     "metadata": {},
     "output_type": "execute_result"
    }
   ],
   "source": [
    "loadings = results[\"loadings\"]\n",
    "loadings"
   ]
  },
  {
   "cell_type": "markdown",
   "metadata": {},
   "source": [
    "A quick overview of the created loadings"
   ]
  },
  {
   "cell_type": "code",
   "execution_count": 629,
   "metadata": {},
   "outputs": [
    {
     "data": {
      "image/png": "[encoded data removed]",
      "text/plain": [
       "<Figure size 720x576 with 1 Axes>"
      ]
     },
     "metadata": {
      "needs_background": "light"
     },
     "output_type": "display_data"
    },
    {
     "data": {
      "text/plain": [
       "(<Figure size 720x576 with 1 Axes>,\n",
       " <AxesSubplot:title={'center':'Cumulative explained variance\\n 8 Principal Components explain [89.79%] of the variance.'}, xlabel='Principle Component', ylabel='Percentage explained variance'>)"
      ]
     },
     "execution_count": 629,
     "metadata": {},
     "output_type": "execute_result"
    },
    {
     "data": {
      "text/plain": [
       "<Figure size 432x288 with 0 Axes>"
      ]
     },
     "metadata": {},
     "output_type": "display_data"
    }
   ],
   "source": [
    "model.plot(figsize=(10,8))"
   ]
  },
  {
   "cell_type": "markdown",
   "metadata": {},
   "source": [
    "Using a scree plot allows us to see that 8 components explain nearly 90% of the data. Sticking with the rule of thumb that the components should at least explain 80% of variance we can choose to use less components. The first component clearly explains most of the variance."
   ]
  },
  {
   "cell_type": "code",
   "execution_count": 630,
   "metadata": {},
   "outputs": [
    {
     "name": "stdout",
     "output_type": "stream",
     "text": [
      "[pca] >Column labels are auto-completed.\n",
      "[pca] >Row labels are auto-completed.\n",
      "[pca] >Normalizing input data per feature (zero mean and unit variance)..\n",
      "[pca] >The PCA reduction is performed on the [17] columns of the input dataframe.\n",
      "[pca] >Fit using PCA.\n",
      "[pca] >Compute loadings and PCs.\n",
      "[pca] >Compute explained variance.\n",
      "[pca] >Outlier detection using Hotelling T2 test with alpha=[0.05] and n_components=[6]\n",
      "[pca] >Outlier detection using SPE/DmodX with n_std=[2]\n"
     ]
    }
   ],
   "source": [
    "model = pca(n_components=6, normalize=True, detect_outliers=['ht2', 'spe'])\n",
    "results = model.fit_transform(X)"
   ]
  },
  {
   "cell_type": "markdown",
   "metadata": {},
   "source": [
    "Here I create my PCA model again with only 6 components which still explains more than 80% of the variance."
   ]
  },
  {
   "cell_type": "code",
   "execution_count": 631,
   "metadata": {},
   "outputs": [
    {
     "name": "stdout",
     "output_type": "stream",
     "text": [
      "[pca] >Plot PC1 vs PC2 with loadings.\n"
     ]
    },
    {
     "data": {
      "image/png": "[encoded data removed]",
      "text/plain": [
       "<Figure size 720x576 with 1 Axes>"
      ]
     },
     "metadata": {
      "needs_background": "light"
     },
     "output_type": "display_data"
    },
    {
     "data": {
      "text/plain": [
       "(<Figure size 720x576 with 1 Axes>,\n",
       " <AxesSubplot:title={'center':'6 Principal Components explain [82.84%] of the variance'}, xlabel='PC1 (47.0% expl.var)', ylabel='PC2 (14.1% expl.var)'>)"
      ]
     },
     "execution_count": 631,
     "metadata": {},
     "output_type": "execute_result"
    }
   ],
   "source": [
    "model.biplot(n_feat=5, legend=True, figsize=(10,8), y=y, label=False)"
   ]
  },
  {
   "cell_type": "markdown",
   "metadata": {},
   "source": [
    "With the use of a biplot we can see if there are any clusters. From the plot above we can see that there are two big clusters. One for the 3-tip species and one for the wyoming species. The clusters indicate that observations share some or all properties. We can also see that the features mostly point towards the same direction suggestion some correlation."
   ]
  },
  {
   "cell_type": "code",
   "execution_count": 632,
   "metadata": {},
   "outputs": [
    {
     "name": "stdout",
     "output_type": "stream",
     "text": [
      "[pca] >Plot PC1 vs PC2 vs PC3 with loadings.\n"
     ]
    },
    {
     "data": {
      "image/png": "[encoded data removed]",
      "text/plain": [
       "<Figure size 720x576 with 2 Axes>"
      ]
     },
     "metadata": {
      "needs_background": "light"
     },
     "output_type": "display_data"
    },
    {
     "data": {
      "text/plain": [
       "(<Figure size 720x576 with 2 Axes>,\n",
       " <Axes3D:title={'center':'6 Principal Components explain [82.84%] of the variance'}, xlabel='PC1 (47.0% expl.var)', ylabel='PC2 (14.1% expl.var)'>)"
      ]
     },
     "execution_count": 632,
     "metadata": {},
     "output_type": "execute_result"
    }
   ],
   "source": [
    "model.biplot3d(n_feat=3, legend=True, figsize=(10,8), y=y, label=False)"
   ]
  },
  {
   "cell_type": "markdown",
   "metadata": {},
   "source": [
    "Using a 3d biplot gives us a different view and allows us to take a better look at if there are any clusters. Again, the same clusters can be observed as before. With there not being a cluster for the hybrid species. This is most likely due to it being under represented in the dataset."
   ]
  },
  {
   "cell_type": "code",
   "execution_count": 633,
   "metadata": {},
   "outputs": [
    {
     "data": {
      "text/html": [
       "<div>\n",
       "<style scoped>\n",
       "    .dataframe tbody tr th:only-of-type {\n",
       "        vertical-align: middle;\n",
       "    }\n",
       "\n",
       "    .dataframe tbody tr th {\n",
       "        vertical-align: top;\n",
       "    }\n",
       "\n",
       "    .dataframe thead th {\n",
       "        text-align: right;\n",
       "    }\n",
       "</style>\n",
       "<table border=\"1\" class=\"dataframe\">\n",
       "  <thead>\n",
       "    <tr style=\"text-align: right;\">\n",
       "      <th></th>\n",
       "      <th>PC</th>\n",
       "      <th>feature</th>\n",
       "      <th>loading</th>\n",
       "      <th>type</th>\n",
       "    </tr>\n",
       "  </thead>\n",
       "  <tbody>\n",
       "    <tr>\n",
       "      <th>0</th>\n",
       "      <td>PC1</td>\n",
       "      <td>5</td>\n",
       "      <td>0.326551</td>\n",
       "      <td>best</td>\n",
       "    </tr>\n",
       "    <tr>\n",
       "      <th>1</th>\n",
       "      <td>PC2</td>\n",
       "      <td>7</td>\n",
       "      <td>0.464911</td>\n",
       "      <td>best</td>\n",
       "    </tr>\n",
       "    <tr>\n",
       "      <th>2</th>\n",
       "      <td>PC3</td>\n",
       "      <td>3</td>\n",
       "      <td>0.409315</td>\n",
       "      <td>best</td>\n",
       "    </tr>\n",
       "    <tr>\n",
       "      <th>3</th>\n",
       "      <td>PC4</td>\n",
       "      <td>10</td>\n",
       "      <td>-0.547701</td>\n",
       "      <td>best</td>\n",
       "    </tr>\n",
       "    <tr>\n",
       "      <th>4</th>\n",
       "      <td>PC5</td>\n",
       "      <td>17</td>\n",
       "      <td>0.671538</td>\n",
       "      <td>best</td>\n",
       "    </tr>\n",
       "    <tr>\n",
       "      <th>5</th>\n",
       "      <td>PC6</td>\n",
       "      <td>17</td>\n",
       "      <td>0.444728</td>\n",
       "      <td>best</td>\n",
       "    </tr>\n",
       "    <tr>\n",
       "      <th>6</th>\n",
       "      <td>PC5</td>\n",
       "      <td>1</td>\n",
       "      <td>-0.410863</td>\n",
       "      <td>weak</td>\n",
       "    </tr>\n",
       "    <tr>\n",
       "      <th>7</th>\n",
       "      <td>PC1</td>\n",
       "      <td>2</td>\n",
       "      <td>-0.293946</td>\n",
       "      <td>weak</td>\n",
       "    </tr>\n",
       "    <tr>\n",
       "      <th>8</th>\n",
       "      <td>PC1</td>\n",
       "      <td>4</td>\n",
       "      <td>0.316286</td>\n",
       "      <td>weak</td>\n",
       "    </tr>\n",
       "    <tr>\n",
       "      <th>9</th>\n",
       "      <td>PC1</td>\n",
       "      <td>6</td>\n",
       "      <td>0.317016</td>\n",
       "      <td>weak</td>\n",
       "    </tr>\n",
       "    <tr>\n",
       "      <th>10</th>\n",
       "      <td>PC6</td>\n",
       "      <td>8</td>\n",
       "      <td>-0.305087</td>\n",
       "      <td>weak</td>\n",
       "    </tr>\n",
       "    <tr>\n",
       "      <th>11</th>\n",
       "      <td>PC1</td>\n",
       "      <td>9</td>\n",
       "      <td>0.299234</td>\n",
       "      <td>weak</td>\n",
       "    </tr>\n",
       "    <tr>\n",
       "      <th>12</th>\n",
       "      <td>PC3</td>\n",
       "      <td>11</td>\n",
       "      <td>0.371529</td>\n",
       "      <td>weak</td>\n",
       "    </tr>\n",
       "    <tr>\n",
       "      <th>13</th>\n",
       "      <td>PC2</td>\n",
       "      <td>12</td>\n",
       "      <td>-0.330626</td>\n",
       "      <td>weak</td>\n",
       "    </tr>\n",
       "    <tr>\n",
       "      <th>14</th>\n",
       "      <td>PC4</td>\n",
       "      <td>13</td>\n",
       "      <td>0.444503</td>\n",
       "      <td>weak</td>\n",
       "    </tr>\n",
       "    <tr>\n",
       "      <th>15</th>\n",
       "      <td>PC2</td>\n",
       "      <td>14</td>\n",
       "      <td>0.246665</td>\n",
       "      <td>weak</td>\n",
       "    </tr>\n",
       "    <tr>\n",
       "      <th>16</th>\n",
       "      <td>PC1</td>\n",
       "      <td>15</td>\n",
       "      <td>0.322680</td>\n",
       "      <td>weak</td>\n",
       "    </tr>\n",
       "    <tr>\n",
       "      <th>17</th>\n",
       "      <td>PC6</td>\n",
       "      <td>16</td>\n",
       "      <td>-0.419445</td>\n",
       "      <td>weak</td>\n",
       "    </tr>\n",
       "  </tbody>\n",
       "</table>\n",
       "</div>"
      ],
      "text/plain": [
       "     PC feature   loading  type\n",
       "0   PC1       5  0.326551  best\n",
       "1   PC2       7  0.464911  best\n",
       "2   PC3       3  0.409315  best\n",
       "3   PC4      10 -0.547701  best\n",
       "4   PC5      17  0.671538  best\n",
       "5   PC6      17  0.444728  best\n",
       "6   PC5       1 -0.410863  weak\n",
       "7   PC1       2 -0.293946  weak\n",
       "8   PC1       4  0.316286  weak\n",
       "9   PC1       6  0.317016  weak\n",
       "10  PC6       8 -0.305087  weak\n",
       "11  PC1       9  0.299234  weak\n",
       "12  PC3      11  0.371529  weak\n",
       "13  PC2      12 -0.330626  weak\n",
       "14  PC4      13  0.444503  weak\n",
       "15  PC2      14  0.246665  weak\n",
       "16  PC1      15  0.322680  weak\n",
       "17  PC6      16 -0.419445  weak"
      ]
     },
     "execution_count": 633,
     "metadata": {},
     "output_type": "execute_result"
    }
   ],
   "source": [
    "results['topfeat']"
   ]
  },
  {
   "cell_type": "markdown",
   "metadata": {},
   "source": [
    "Here we can see the top features"
   ]
  },
  {
   "cell_type": "code",
   "execution_count": 634,
   "metadata": {},
   "outputs": [
    {
     "data": {
      "text/html": [
       "<div>\n",
       "<style scoped>\n",
       "    .dataframe tbody tr th:only-of-type {\n",
       "        vertical-align: middle;\n",
       "    }\n",
       "\n",
       "    .dataframe tbody tr th {\n",
       "        vertical-align: top;\n",
       "    }\n",
       "\n",
       "    .dataframe thead th {\n",
       "        text-align: right;\n",
       "    }\n",
       "</style>\n",
       "<table border=\"1\" class=\"dataframe\">\n",
       "  <thead>\n",
       "    <tr style=\"text-align: right;\">\n",
       "      <th></th>\n",
       "      <th>y_proba</th>\n",
       "      <th>y_score</th>\n",
       "      <th>y_bool</th>\n",
       "      <th>y_bool_spe</th>\n",
       "      <th>y_score_spe</th>\n",
       "    </tr>\n",
       "  </thead>\n",
       "  <tbody>\n",
       "    <tr>\n",
       "      <th>1.0</th>\n",
       "      <td>0.258665</td>\n",
       "      <td>14.692844</td>\n",
       "      <td>False</td>\n",
       "      <td>True</td>\n",
       "      <td>4.133938</td>\n",
       "    </tr>\n",
       "    <tr>\n",
       "      <th>1.0</th>\n",
       "      <td>0.207283</td>\n",
       "      <td>15.660538</td>\n",
       "      <td>False</td>\n",
       "      <td>False</td>\n",
       "      <td>3.567273</td>\n",
       "    </tr>\n",
       "    <tr>\n",
       "      <th>1.0</th>\n",
       "      <td>0.396067</td>\n",
       "      <td>12.635679</td>\n",
       "      <td>False</td>\n",
       "      <td>False</td>\n",
       "      <td>3.783401</td>\n",
       "    </tr>\n",
       "    <tr>\n",
       "      <th>1.0</th>\n",
       "      <td>0.231299</td>\n",
       "      <td>15.188315</td>\n",
       "      <td>False</td>\n",
       "      <td>False</td>\n",
       "      <td>3.371232</td>\n",
       "    </tr>\n",
       "    <tr>\n",
       "      <th>1.0</th>\n",
       "      <td>0.854899</td>\n",
       "      <td>7.040899</td>\n",
       "      <td>False</td>\n",
       "      <td>False</td>\n",
       "      <td>1.518982</td>\n",
       "    </tr>\n",
       "    <tr>\n",
       "      <th>...</th>\n",
       "      <td>...</td>\n",
       "      <td>...</td>\n",
       "      <td>...</td>\n",
       "      <td>...</td>\n",
       "      <td>...</td>\n",
       "    </tr>\n",
       "    <tr>\n",
       "      <th>1.0</th>\n",
       "      <td>0.563629</td>\n",
       "      <td>10.598216</td>\n",
       "      <td>False</td>\n",
       "      <td>False</td>\n",
       "      <td>3.292412</td>\n",
       "    </tr>\n",
       "    <tr>\n",
       "      <th>1.0</th>\n",
       "      <td>0.717266</td>\n",
       "      <td>8.831328</td>\n",
       "      <td>False</td>\n",
       "      <td>False</td>\n",
       "      <td>3.343698</td>\n",
       "    </tr>\n",
       "    <tr>\n",
       "      <th>1.0</th>\n",
       "      <td>0.428568</td>\n",
       "      <td>12.215036</td>\n",
       "      <td>False</td>\n",
       "      <td>False</td>\n",
       "      <td>4.125256</td>\n",
       "    </tr>\n",
       "    <tr>\n",
       "      <th>1.0</th>\n",
       "      <td>0.636310</td>\n",
       "      <td>9.767955</td>\n",
       "      <td>False</td>\n",
       "      <td>False</td>\n",
       "      <td>2.865179</td>\n",
       "    </tr>\n",
       "    <tr>\n",
       "      <th>1.0</th>\n",
       "      <td>0.943515</td>\n",
       "      <td>5.393841</td>\n",
       "      <td>False</td>\n",
       "      <td>False</td>\n",
       "      <td>1.068497</td>\n",
       "    </tr>\n",
       "  </tbody>\n",
       "</table>\n",
       "<p>94 rows × 5 columns</p>\n",
       "</div>"
      ],
      "text/plain": [
       "      y_proba    y_score  y_bool  y_bool_spe  y_score_spe\n",
       "1.0  0.258665  14.692844   False        True     4.133938\n",
       "1.0  0.207283  15.660538   False       False     3.567273\n",
       "1.0  0.396067  12.635679   False       False     3.783401\n",
       "1.0  0.231299  15.188315   False       False     3.371232\n",
       "1.0  0.854899   7.040899   False       False     1.518982\n",
       "..        ...        ...     ...         ...          ...\n",
       "1.0  0.563629  10.598216   False       False     3.292412\n",
       "1.0  0.717266   8.831328   False       False     3.343698\n",
       "1.0  0.428568  12.215036   False       False     4.125256\n",
       "1.0  0.636310   9.767955   False       False     2.865179\n",
       "1.0  0.943515   5.393841   False       False     1.068497\n",
       "\n",
       "[94 rows x 5 columns]"
      ]
     },
     "execution_count": 634,
     "metadata": {},
     "output_type": "execute_result"
    }
   ],
   "source": [
    "results['outliers']"
   ]
  },
  {
   "cell_type": "markdown",
   "metadata": {},
   "source": [
    "And here we can observe any outliers"
   ]
  },
  {
   "cell_type": "markdown",
   "metadata": {},
   "source": [
    "##### Conclusion\n",
    "\n",
    "We can see that feature 5 contributes to PC1 the most and feature 7 the most to PC2. Futhermore, a lot of features can be observed which are anti-correlated with the principal components. Futher research could be done to the most contributing features to get a clearer picture of the impact they have. For a more meaningfull anaylsis more data is needed for the under represented species."
   ]
  },
  {
   "cell_type": "markdown",
   "metadata": {},
   "source": [
    "#### LDA Analysis\n",
    "\n",
    "I have also chosen to use LDA (which the authors of the paper have used as well). This is also to reduce the number of features to a more manageable number and find if there is a linear combination of variables that can differentiate between the species."
   ]
  },
  {
   "cell_type": "code",
   "execution_count": 635,
   "metadata": {},
   "outputs": [],
   "source": [
    "lr = LinearDiscriminantAnalysis()"
   ]
  },
  {
   "cell_type": "markdown",
   "metadata": {},
   "source": [
    "Here I create the LDA model"
   ]
  },
  {
   "cell_type": "code",
   "execution_count": 636,
   "metadata": {},
   "outputs": [],
   "source": [
    "lr.fit(X, y)\n",
    "prediction = lr.predict(X)"
   ]
  },
  {
   "cell_type": "markdown",
   "metadata": {},
   "source": [
    "Fitting the dependant and independant variables to the model"
   ]
  },
  {
   "cell_type": "code",
   "execution_count": 637,
   "metadata": {},
   "outputs": [
    {
     "name": "stdout",
     "output_type": "stream",
     "text": [
      "Accuracy: 98.94\n"
     ]
    }
   ],
   "source": [
    "accuracy = (y == prediction).sum() / y.size\n",
    "print('Accuracy: {:.2f}'.format(accuracy*100))"
   ]
  },
  {
   "cell_type": "markdown",
   "metadata": {},
   "source": [
    "We can see that the model has an accuracy of nearly 99% which is really high and close to perfect. This would indicate that based on the independant variable we can accuratly predict the species."
   ]
  },
  {
   "cell_type": "code",
   "execution_count": 638,
   "metadata": {},
   "outputs": [],
   "source": [
    "cross_validation_score = cross_val_score(lr, X, y, scoring='accuracy', cv=2, n_jobs=-1)"
   ]
  },
  {
   "cell_type": "code",
   "execution_count": 639,
   "metadata": {},
   "outputs": [
    {
     "name": "stdout",
     "output_type": "stream",
     "text": [
      "Mean accuracy: 0.904 Standard deviation: 0.053\n"
     ]
    }
   ],
   "source": [
    "print('Mean accuracy: {:.3f} Standard deviation: {:.3f}'.format(np.mean(cross_validation_score), np.std(cross_validation_score)))"
   ]
  },
  {
   "cell_type": "markdown",
   "metadata": {},
   "source": [
    "Looking at both accuracy scores we can conclude that our model can accuratly predict the species."
   ]
  },
  {
   "cell_type": "markdown",
   "metadata": {},
   "source": [
    "### SourceData2 dataset"
   ]
  },
  {
   "cell_type": "markdown",
   "metadata": {},
   "source": [
    "Contains infrared spectra from saliva from people that tested negative and people that tested positive for SARS nCoV2019. For each subject, three spectra were determined.\n",
    "\n",
    "Source: 'Infrared based saliva screening test for COVID-19' from Wood et al."
   ]
  },
  {
   "cell_type": "code",
   "execution_count": 640,
   "metadata": {},
   "outputs": [
    {
     "data": {
      "text/html": [
       "<div>\n",
       "<style scoped>\n",
       "    .dataframe tbody tr th:only-of-type {\n",
       "        vertical-align: middle;\n",
       "    }\n",
       "\n",
       "    .dataframe tbody tr th {\n",
       "        vertical-align: top;\n",
       "    }\n",
       "\n",
       "    .dataframe thead th {\n",
       "        text-align: right;\n",
       "    }\n",
       "</style>\n",
       "<table border=\"1\" class=\"dataframe\">\n",
       "  <thead>\n",
       "    <tr style=\"text-align: right;\">\n",
       "      <th></th>\n",
       "      <th>ID</th>\n",
       "      <th>Ct</th>\n",
       "      <th>1300</th>\n",
       "      <th>1298</th>\n",
       "      <th>1296</th>\n",
       "      <th>1294</th>\n",
       "      <th>1292</th>\n",
       "      <th>1290</th>\n",
       "      <th>1288</th>\n",
       "      <th>1286</th>\n",
       "      <th>...</th>\n",
       "      <th>818</th>\n",
       "      <th>816</th>\n",
       "      <th>814</th>\n",
       "      <th>812</th>\n",
       "      <th>810</th>\n",
       "      <th>808</th>\n",
       "      <th>806</th>\n",
       "      <th>804</th>\n",
       "      <th>802</th>\n",
       "      <th>800</th>\n",
       "    </tr>\n",
       "  </thead>\n",
       "  <tbody>\n",
       "    <tr>\n",
       "      <th>0</th>\n",
       "      <td>N1</td>\n",
       "      <td>NaN</td>\n",
       "      <td>0.277705</td>\n",
       "      <td>0.277532</td>\n",
       "      <td>0.277387</td>\n",
       "      <td>0.277217</td>\n",
       "      <td>0.277042</td>\n",
       "      <td>0.276930</td>\n",
       "      <td>0.276856</td>\n",
       "      <td>0.276737</td>\n",
       "      <td>...</td>\n",
       "      <td>0.242726</td>\n",
       "      <td>0.241897</td>\n",
       "      <td>0.241107</td>\n",
       "      <td>0.240374</td>\n",
       "      <td>0.239742</td>\n",
       "      <td>0.239234</td>\n",
       "      <td>0.238833</td>\n",
       "      <td>0.238523</td>\n",
       "      <td>0.238314</td>\n",
       "      <td>0.238197</td>\n",
       "    </tr>\n",
       "    <tr>\n",
       "      <th>1</th>\n",
       "      <td>N1</td>\n",
       "      <td>NaN</td>\n",
       "      <td>0.251624</td>\n",
       "      <td>0.251438</td>\n",
       "      <td>0.251268</td>\n",
       "      <td>0.251067</td>\n",
       "      <td>0.250843</td>\n",
       "      <td>0.250645</td>\n",
       "      <td>0.250467</td>\n",
       "      <td>0.250280</td>\n",
       "      <td>...</td>\n",
       "      <td>0.213427</td>\n",
       "      <td>0.212628</td>\n",
       "      <td>0.211891</td>\n",
       "      <td>0.211234</td>\n",
       "      <td>0.210662</td>\n",
       "      <td>0.210173</td>\n",
       "      <td>0.209763</td>\n",
       "      <td>0.209450</td>\n",
       "      <td>0.209267</td>\n",
       "      <td>0.209202</td>\n",
       "    </tr>\n",
       "    <tr>\n",
       "      <th>2</th>\n",
       "      <td>N1</td>\n",
       "      <td>NaN</td>\n",
       "      <td>0.083310</td>\n",
       "      <td>0.083293</td>\n",
       "      <td>0.083307</td>\n",
       "      <td>0.083338</td>\n",
       "      <td>0.083391</td>\n",
       "      <td>0.083478</td>\n",
       "      <td>0.083585</td>\n",
       "      <td>0.083674</td>\n",
       "      <td>...</td>\n",
       "      <td>0.085724</td>\n",
       "      <td>0.085260</td>\n",
       "      <td>0.084823</td>\n",
       "      <td>0.084445</td>\n",
       "      <td>0.084137</td>\n",
       "      <td>0.083894</td>\n",
       "      <td>0.083715</td>\n",
       "      <td>0.083602</td>\n",
       "      <td>0.083543</td>\n",
       "      <td>0.083495</td>\n",
       "    </tr>\n",
       "    <tr>\n",
       "      <th>3</th>\n",
       "      <td>N2</td>\n",
       "      <td>NaN</td>\n",
       "      <td>0.067509</td>\n",
       "      <td>0.067070</td>\n",
       "      <td>0.066684</td>\n",
       "      <td>0.066359</td>\n",
       "      <td>0.066106</td>\n",
       "      <td>0.065938</td>\n",
       "      <td>0.065852</td>\n",
       "      <td>0.065828</td>\n",
       "      <td>...</td>\n",
       "      <td>0.055012</td>\n",
       "      <td>0.054969</td>\n",
       "      <td>0.054902</td>\n",
       "      <td>0.054832</td>\n",
       "      <td>0.054781</td>\n",
       "      <td>0.054767</td>\n",
       "      <td>0.054787</td>\n",
       "      <td>0.054823</td>\n",
       "      <td>0.054857</td>\n",
       "      <td>0.054893</td>\n",
       "    </tr>\n",
       "    <tr>\n",
       "      <th>4</th>\n",
       "      <td>N2</td>\n",
       "      <td>NaN</td>\n",
       "      <td>0.129576</td>\n",
       "      <td>0.128690</td>\n",
       "      <td>0.127912</td>\n",
       "      <td>0.127232</td>\n",
       "      <td>0.126676</td>\n",
       "      <td>0.126306</td>\n",
       "      <td>0.126138</td>\n",
       "      <td>0.126113</td>\n",
       "      <td>...</td>\n",
       "      <td>0.099128</td>\n",
       "      <td>0.098794</td>\n",
       "      <td>0.098337</td>\n",
       "      <td>0.097886</td>\n",
       "      <td>0.097527</td>\n",
       "      <td>0.097272</td>\n",
       "      <td>0.097091</td>\n",
       "      <td>0.096970</td>\n",
       "      <td>0.096906</td>\n",
       "      <td>0.096881</td>\n",
       "    </tr>\n",
       "    <tr>\n",
       "      <th>...</th>\n",
       "      <td>...</td>\n",
       "      <td>...</td>\n",
       "      <td>...</td>\n",
       "      <td>...</td>\n",
       "      <td>...</td>\n",
       "      <td>...</td>\n",
       "      <td>...</td>\n",
       "      <td>...</td>\n",
       "      <td>...</td>\n",
       "      <td>...</td>\n",
       "      <td>...</td>\n",
       "      <td>...</td>\n",
       "      <td>...</td>\n",
       "      <td>...</td>\n",
       "      <td>...</td>\n",
       "      <td>...</td>\n",
       "      <td>...</td>\n",
       "      <td>...</td>\n",
       "      <td>...</td>\n",
       "      <td>...</td>\n",
       "      <td>...</td>\n",
       "    </tr>\n",
       "    <tr>\n",
       "      <th>178</th>\n",
       "      <td>P30</td>\n",
       "      <td>16.95</td>\n",
       "      <td>0.169349</td>\n",
       "      <td>0.169277</td>\n",
       "      <td>0.169212</td>\n",
       "      <td>0.169121</td>\n",
       "      <td>0.169057</td>\n",
       "      <td>0.169072</td>\n",
       "      <td>0.169133</td>\n",
       "      <td>0.169197</td>\n",
       "      <td>...</td>\n",
       "      <td>0.103987</td>\n",
       "      <td>0.103974</td>\n",
       "      <td>0.103963</td>\n",
       "      <td>0.103903</td>\n",
       "      <td>0.103825</td>\n",
       "      <td>0.103762</td>\n",
       "      <td>0.103700</td>\n",
       "      <td>0.103615</td>\n",
       "      <td>0.103513</td>\n",
       "      <td>0.103393</td>\n",
       "    </tr>\n",
       "    <tr>\n",
       "      <th>179</th>\n",
       "      <td>P30</td>\n",
       "      <td>16.95</td>\n",
       "      <td>0.277632</td>\n",
       "      <td>0.277423</td>\n",
       "      <td>0.277119</td>\n",
       "      <td>0.276688</td>\n",
       "      <td>0.276211</td>\n",
       "      <td>0.275814</td>\n",
       "      <td>0.275529</td>\n",
       "      <td>0.275318</td>\n",
       "      <td>...</td>\n",
       "      <td>0.177726</td>\n",
       "      <td>0.178111</td>\n",
       "      <td>0.178484</td>\n",
       "      <td>0.178827</td>\n",
       "      <td>0.179161</td>\n",
       "      <td>0.179454</td>\n",
       "      <td>0.179650</td>\n",
       "      <td>0.179756</td>\n",
       "      <td>0.179837</td>\n",
       "      <td>0.179928</td>\n",
       "    </tr>\n",
       "    <tr>\n",
       "      <th>180</th>\n",
       "      <td>P31</td>\n",
       "      <td>32.10</td>\n",
       "      <td>0.175842</td>\n",
       "      <td>0.174590</td>\n",
       "      <td>0.173493</td>\n",
       "      <td>0.172534</td>\n",
       "      <td>0.171712</td>\n",
       "      <td>0.171067</td>\n",
       "      <td>0.170605</td>\n",
       "      <td>0.170303</td>\n",
       "      <td>...</td>\n",
       "      <td>0.097160</td>\n",
       "      <td>0.097295</td>\n",
       "      <td>0.097339</td>\n",
       "      <td>0.097355</td>\n",
       "      <td>0.097408</td>\n",
       "      <td>0.097484</td>\n",
       "      <td>0.097523</td>\n",
       "      <td>0.097521</td>\n",
       "      <td>0.097521</td>\n",
       "      <td>0.097536</td>\n",
       "    </tr>\n",
       "    <tr>\n",
       "      <th>181</th>\n",
       "      <td>P31</td>\n",
       "      <td>32.10</td>\n",
       "      <td>0.305833</td>\n",
       "      <td>0.304135</td>\n",
       "      <td>0.302663</td>\n",
       "      <td>0.301395</td>\n",
       "      <td>0.300495</td>\n",
       "      <td>0.300195</td>\n",
       "      <td>0.300463</td>\n",
       "      <td>0.301050</td>\n",
       "      <td>...</td>\n",
       "      <td>0.221463</td>\n",
       "      <td>0.222138</td>\n",
       "      <td>0.222542</td>\n",
       "      <td>0.222775</td>\n",
       "      <td>0.222966</td>\n",
       "      <td>0.223190</td>\n",
       "      <td>0.223473</td>\n",
       "      <td>0.223837</td>\n",
       "      <td>0.224288</td>\n",
       "      <td>0.224766</td>\n",
       "    </tr>\n",
       "    <tr>\n",
       "      <th>182</th>\n",
       "      <td>P31</td>\n",
       "      <td>32.10</td>\n",
       "      <td>0.271944</td>\n",
       "      <td>0.270299</td>\n",
       "      <td>0.268843</td>\n",
       "      <td>0.267598</td>\n",
       "      <td>0.266660</td>\n",
       "      <td>0.266113</td>\n",
       "      <td>0.265897</td>\n",
       "      <td>0.265881</td>\n",
       "      <td>...</td>\n",
       "      <td>0.173923</td>\n",
       "      <td>0.174306</td>\n",
       "      <td>0.174538</td>\n",
       "      <td>0.174685</td>\n",
       "      <td>0.174833</td>\n",
       "      <td>0.175021</td>\n",
       "      <td>0.175224</td>\n",
       "      <td>0.175406</td>\n",
       "      <td>0.175568</td>\n",
       "      <td>0.175727</td>\n",
       "    </tr>\n",
       "  </tbody>\n",
       "</table>\n",
       "<p>183 rows × 253 columns</p>\n",
       "</div>"
      ],
      "text/plain": [
       "      ID     Ct      1300      1298      1296      1294      1292      1290  \\\n",
       "0     N1    NaN  0.277705  0.277532  0.277387  0.277217  0.277042  0.276930   \n",
       "1     N1    NaN  0.251624  0.251438  0.251268  0.251067  0.250843  0.250645   \n",
       "2     N1    NaN  0.083310  0.083293  0.083307  0.083338  0.083391  0.083478   \n",
       "3     N2    NaN  0.067509  0.067070  0.066684  0.066359  0.066106  0.065938   \n",
       "4     N2    NaN  0.129576  0.128690  0.127912  0.127232  0.126676  0.126306   \n",
       "..   ...    ...       ...       ...       ...       ...       ...       ...   \n",
       "178  P30  16.95  0.169349  0.169277  0.169212  0.169121  0.169057  0.169072   \n",
       "179  P30  16.95  0.277632  0.277423  0.277119  0.276688  0.276211  0.275814   \n",
       "180  P31  32.10  0.175842  0.174590  0.173493  0.172534  0.171712  0.171067   \n",
       "181  P31  32.10  0.305833  0.304135  0.302663  0.301395  0.300495  0.300195   \n",
       "182  P31  32.10  0.271944  0.270299  0.268843  0.267598  0.266660  0.266113   \n",
       "\n",
       "         1288      1286  ...       818       816       814       812  \\\n",
       "0    0.276856  0.276737  ...  0.242726  0.241897  0.241107  0.240374   \n",
       "1    0.250467  0.250280  ...  0.213427  0.212628  0.211891  0.211234   \n",
       "2    0.083585  0.083674  ...  0.085724  0.085260  0.084823  0.084445   \n",
       "3    0.065852  0.065828  ...  0.055012  0.054969  0.054902  0.054832   \n",
       "4    0.126138  0.126113  ...  0.099128  0.098794  0.098337  0.097886   \n",
       "..        ...       ...  ...       ...       ...       ...       ...   \n",
       "178  0.169133  0.169197  ...  0.103987  0.103974  0.103963  0.103903   \n",
       "179  0.275529  0.275318  ...  0.177726  0.178111  0.178484  0.178827   \n",
       "180  0.170605  0.170303  ...  0.097160  0.097295  0.097339  0.097355   \n",
       "181  0.300463  0.301050  ...  0.221463  0.222138  0.222542  0.222775   \n",
       "182  0.265897  0.265881  ...  0.173923  0.174306  0.174538  0.174685   \n",
       "\n",
       "          810       808       806       804       802       800  \n",
       "0    0.239742  0.239234  0.238833  0.238523  0.238314  0.238197  \n",
       "1    0.210662  0.210173  0.209763  0.209450  0.209267  0.209202  \n",
       "2    0.084137  0.083894  0.083715  0.083602  0.083543  0.083495  \n",
       "3    0.054781  0.054767  0.054787  0.054823  0.054857  0.054893  \n",
       "4    0.097527  0.097272  0.097091  0.096970  0.096906  0.096881  \n",
       "..        ...       ...       ...       ...       ...       ...  \n",
       "178  0.103825  0.103762  0.103700  0.103615  0.103513  0.103393  \n",
       "179  0.179161  0.179454  0.179650  0.179756  0.179837  0.179928  \n",
       "180  0.097408  0.097484  0.097523  0.097521  0.097521  0.097536  \n",
       "181  0.222966  0.223190  0.223473  0.223837  0.224288  0.224766  \n",
       "182  0.174833  0.175021  0.175224  0.175406  0.175568  0.175727  \n",
       "\n",
       "[183 rows x 253 columns]"
      ]
     },
     "execution_count": 640,
     "metadata": {},
     "output_type": "execute_result"
    }
   ],
   "source": [
    "source_df = pd.read_excel('./data/SourceData2.xlsx')\n",
    "source_df"
   ]
  },
  {
   "cell_type": "markdown",
   "metadata": {},
   "source": [
    "Loading the dataset into a pandas dataframe and getting an overview of the data which seems to have 183 rows and 253 columns, which is quite a lot."
   ]
  },
  {
   "cell_type": "markdown",
   "metadata": {},
   "source": [
    "#### Data inspection"
   ]
  },
  {
   "cell_type": "code",
   "execution_count": 641,
   "metadata": {},
   "outputs": [
    {
     "name": "stdout",
     "output_type": "stream",
     "text": [
      "missing values: 132\n",
      "missing values by column:\n",
      " ID      0\n",
      "Ct    132\n",
      "dtype: int64\n",
      "<class 'pandas.core.frame.DataFrame'>\n",
      "RangeIndex: 183 entries, 0 to 182\n",
      "Columns: 253 entries, ID to 800\n",
      "dtypes: float64(252), object(1)\n",
      "memory usage: 361.8+ KB\n"
     ]
    }
   ],
   "source": [
    "print('missing values:', source_df.isnull().sum().sum())\n",
    "print('missing values by column:\\n',source_df.isnull().sum()[:2])\n",
    "source_df.info()"
   ]
  },
  {
   "cell_type": "markdown",
   "metadata": {},
   "source": [
    "Further inspection of the dataset (datatypes mostly) and any possible missing data. There seem to be 132 rows which missing data in the Ct column which we will have to filter out."
   ]
  },
  {
   "cell_type": "code",
   "execution_count": 642,
   "metadata": {},
   "outputs": [],
   "source": [
    "source_df = source_df.drop([\"ID\"], axis = 1)\n",
    "source_df = source_df.dropna()"
   ]
  },
  {
   "cell_type": "markdown",
   "metadata": {},
   "source": [
    "here we drop the ID column as well as the rows with missing data. The ID column has no value for any futher analysis and the missing data would have interfered with any further analysis."
   ]
  },
  {
   "cell_type": "markdown",
   "metadata": {},
   "source": [
    "#### MLR"
   ]
  },
  {
   "cell_type": "code",
   "execution_count": 643,
   "metadata": {},
   "outputs": [],
   "source": [
    "X = source_df.iloc[:, 1:]\n",
    "y = source_df.iloc[:, 0]\n",
    "\n",
    "regr = linear_model.LinearRegression()\n",
    "regr.fit(X, y) \n",
    "pred = regr.predict(X)"
   ]
  },
  {
   "cell_type": "markdown",
   "metadata": {},
   "source": [
    "Selecting the data for the independant(X) and dependant(y) variables. With the dependant variable being the Ct value. This value has been chosen because we want to see if the infrared spectra from saliva have an influence on the Ct value and hence if a subject is covid negative or positive.\n",
    "\n",
    "We also already create a linear regression model, fit the data. This model has been chosen because it will allow us to predict based on the spectra data if a participant is covid negative or positive. LinearRegression fits perfectly for this task."
   ]
  },
  {
   "cell_type": "code",
   "execution_count": 652,
   "metadata": {},
   "outputs": [
    {
     "data": {
      "text/plain": [
       "Text(0.5, 1.0, 'MLR Predicted CT value of infared spectra values')"
      ]
     },
     "execution_count": 652,
     "metadata": {},
     "output_type": "execute_result"
    },
    {
     "data": {
      "image/png": "[encoded data removed]",
      "text/plain": [
       "<Figure size 720x360 with 1 Axes>"
      ]
     },
     "metadata": {
      "needs_background": "light"
     },
     "output_type": "display_data"
    }
   ],
   "source": [
    "plt.figure(figsize=(10, 5))\n",
    "plt.plot(y, pred, linestyle='dotted', marker='s')\n",
    "plt.ylabel('CT value prediction')\n",
    "plt.xlabel('CT value')\n",
    "plt.title(\"MLR Predicted CT value of infared spectra values\")"
   ]
  },
  {
   "cell_type": "markdown",
   "metadata": {},
   "source": [
    "Here we plot the predicted ct value's against the actual ct value. We can see that we have a perfectly straight line. Let's investigate futher."
   ]
  },
  {
   "cell_type": "code",
   "execution_count": 645,
   "metadata": {},
   "outputs": [
    {
     "name": "stdout",
     "output_type": "stream",
     "text": [
      "                            OLS Regression Results                            \n",
      "==============================================================================\n",
      "Dep. Variable:                     Ct   R-squared:                       1.000\n",
      "Model:                            OLS   Adj. R-squared:                    nan\n",
      "Method:                 Least Squares   F-statistic:                       nan\n",
      "Date:                Fri, 08 Jul 2022   Prob (F-statistic):                nan\n",
      "Time:                        16:52:31   Log-Likelihood:                 1194.6\n",
      "No. Observations:                  51   AIC:                            -2287.\n",
      "Df Residuals:                       0   BIC:                            -2189.\n",
      "Df Model:                          50                                         \n",
      "Covariance Type:            nonrobust                                         \n",
      "==============================================================================\n",
      "                 coef    std err          t      P>|t|      [0.025      0.975]\n",
      "------------------------------------------------------------------------------\n",
      "1300        9298.0595        inf          0        nan         nan         nan\n",
      "1298        2967.6762        inf          0        nan         nan         nan\n",
      "1296        -751.6745        inf         -0        nan         nan         nan\n",
      "1294       -4147.2087        inf         -0        nan         nan         nan\n",
      "1292       -6446.2134        inf         -0        nan         nan         nan\n",
      "1290       -5355.0905        inf         -0        nan         nan         nan\n",
      "1288       -1592.0917        inf         -0        nan         nan         nan\n",
      "1286        1735.9226        inf          0        nan         nan         nan\n",
      "1284        3169.9552        inf          0        nan         nan         nan\n",
      "1282        3650.6988        inf          0        nan         nan         nan\n",
      "1280        3863.4040        inf          0        nan         nan         nan\n",
      "1278        2848.8796        inf          0        nan         nan         nan\n",
      "1276         390.7328        inf          0        nan         nan         nan\n",
      "1274       -1286.6349        inf         -0        nan         nan         nan\n",
      "1272        -498.5884        inf         -0        nan         nan         nan\n",
      "1270        1305.4920        inf          0        nan         nan         nan\n",
      "1268        1281.8629        inf          0        nan         nan         nan\n",
      "1266       -1036.9677        inf         -0        nan         nan         nan\n",
      "1264       -3258.5625        inf         -0        nan         nan         nan\n",
      "1262       -3187.0483        inf         -0        nan         nan         nan\n",
      "1260       -1452.7963        inf         -0        nan         nan         nan\n",
      "1258        -441.5299        inf         -0        nan         nan         nan\n",
      "1256       -1120.6449        inf         -0        nan         nan         nan\n",
      "1254       -1873.6451        inf         -0        nan         nan         nan\n",
      "1252        -989.0721        inf         -0        nan         nan         nan\n",
      "1250         890.4343        inf          0        nan         nan         nan\n",
      "1248        1121.8646        inf          0        nan         nan         nan\n",
      "1246       -1320.9853        inf         -0        nan         nan         nan\n",
      "1244       -3558.0219        inf         -0        nan         nan         nan\n",
      "1242       -2273.2888        inf         -0        nan         nan         nan\n",
      "1240        1713.2479        inf          0        nan         nan         nan\n",
      "1238        4225.3502        inf          0        nan         nan         nan\n",
      "1236        2882.9261        inf          0        nan         nan         nan\n",
      "1234          47.2535        inf          0        nan         nan         nan\n",
      "1232        -297.2484        inf         -0        nan         nan         nan\n",
      "1230        2362.4453        inf          0        nan         nan         nan\n",
      "1228        4519.5084        inf          0        nan         nan         nan\n",
      "1226        2834.6878        inf          0        nan         nan         nan\n",
      "1224       -2223.7009        inf         -0        nan         nan         nan\n",
      "1222       -6862.2288        inf         -0        nan         nan         nan\n",
      "1220       -7786.0272        inf         -0        nan         nan         nan\n",
      "1218       -5068.4696        inf         -0        nan         nan         nan\n",
      "1216       -1165.0299        inf         -0        nan         nan         nan\n",
      "1214        1839.9055        inf          0        nan         nan         nan\n",
      "1212        3402.9546        inf          0        nan         nan         nan\n",
      "1210        3962.9448        inf          0        nan         nan         nan\n",
      "1208        3874.6468        inf          0        nan         nan         nan\n",
      "1206        3854.9113        inf          0        nan         nan         nan\n",
      "1204        4230.1853        inf          0        nan         nan         nan\n",
      "1202        4275.8007        inf          0        nan         nan         nan\n",
      "1200        2460.4435        inf          0        nan         nan         nan\n",
      "1198       -1473.2021        inf         -0        nan         nan         nan\n",
      "1196       -5559.8868        inf         -0        nan         nan         nan\n",
      "1194       -7801.7016        inf         -0        nan         nan         nan\n",
      "1192       -7578.1139        inf         -0        nan         nan         nan\n",
      "1190       -4808.9114        inf         -0        nan         nan         nan\n",
      "1188         166.8268        inf          0        nan         nan         nan\n",
      "1186        5228.1968        inf          0        nan         nan         nan\n",
      "1184        6405.8863        inf          0        nan         nan         nan\n",
      "1182        1969.0039        inf          0        nan         nan         nan\n",
      "1180       -4745.9768        inf         -0        nan         nan         nan\n",
      "1178       -8059.7894        inf         -0        nan         nan         nan\n",
      "1176       -5678.1645        inf         -0        nan         nan         nan\n",
      "1174         317.9813        inf          0        nan         nan         nan\n",
      "1172        6374.6979        inf          0        nan         nan         nan\n",
      "1170        9734.7345        inf          0        nan         nan         nan\n",
      "1168        8929.6911        inf          0        nan         nan         nan\n",
      "1166        4846.5106        inf          0        nan         nan         nan\n",
      "1164         873.8841        inf          0        nan         nan         nan\n",
      "1162        -565.5094        inf         -0        nan         nan         nan\n",
      "1160        -885.1184        inf         -0        nan         nan         nan\n",
      "1158       -2417.6749        inf         -0        nan         nan         nan\n",
      "1156       -4477.4982        inf         -0        nan         nan         nan\n",
      "1154       -4463.2752        inf         -0        nan         nan         nan\n",
      "1152       -2981.9261        inf         -0        nan         nan         nan\n",
      "1150       -2992.6495        inf         -0        nan         nan         nan\n",
      "1148       -4372.4202        inf         -0        nan         nan         nan\n",
      "1146       -3317.5903        inf         -0        nan         nan         nan\n",
      "1144        1445.7082        inf          0        nan         nan         nan\n",
      "1142        5955.2733        inf          0        nan         nan         nan\n",
      "1140        6273.1374        inf          0        nan         nan         nan\n",
      "1138        3373.3377        inf          0        nan         nan         nan\n",
      "1136         578.2500        inf          0        nan         nan         nan\n",
      "1134        -972.6741        inf         -0        nan         nan         nan\n",
      "1132       -2184.3784        inf         -0        nan         nan         nan\n",
      "1130       -2963.4300        inf         -0        nan         nan         nan\n",
      "1128       -2772.4278        inf         -0        nan         nan         nan\n",
      "1126       -2438.8593        inf         -0        nan         nan         nan\n",
      "1124       -3136.0776        inf         -0        nan         nan         nan\n",
      "1122       -3956.7251        inf         -0        nan         nan         nan\n",
      "1120       -3067.8203        inf         -0        nan         nan         nan\n",
      "1118        -149.9067        inf         -0        nan         nan         nan\n",
      "1116        3736.2539        inf          0        nan         nan         nan\n",
      "1114        7691.2903        inf          0        nan         nan         nan\n",
      "1112        1.083e+04        inf          0        nan         nan         nan\n",
      "1110        1.113e+04        inf          0        nan         nan         nan\n",
      "1108        7068.6929        inf          0        nan         nan         nan\n",
      "1106         178.1699        inf          0        nan         nan         nan\n",
      "1104       -5680.7206        inf         -0        nan         nan         nan\n",
      "1102       -7861.7226        inf         -0        nan         nan         nan\n",
      "1100       -6614.9624        inf         -0        nan         nan         nan\n",
      "1098       -4083.9845        inf         -0        nan         nan         nan\n",
      "1096       -2260.2185        inf         -0        nan         nan         nan\n",
      "1094       -1445.8694        inf         -0        nan         nan         nan\n",
      "1092       -1026.4107        inf         -0        nan         nan         nan\n",
      "1090        -188.2422        inf         -0        nan         nan         nan\n",
      "1088         932.0854        inf          0        nan         nan         nan\n",
      "1086        1850.8508        inf          0        nan         nan         nan\n",
      "1084        2694.6811        inf          0        nan         nan         nan\n",
      "1082        3710.5582        inf          0        nan         nan         nan\n",
      "1080        3977.3788        inf          0        nan         nan         nan\n",
      "1078        2155.3386        inf          0        nan         nan         nan\n",
      "1076       -1251.6890        inf         -0        nan         nan         nan\n",
      "1074       -3891.0654        inf         -0        nan         nan         nan\n",
      "1072       -4091.4440        inf         -0        nan         nan         nan\n",
      "1070       -2612.7816        inf         -0        nan         nan         nan\n",
      "1068       -1113.8725        inf         -0        nan         nan         nan\n",
      "1066        -700.6108        inf         -0        nan         nan         nan\n",
      "1064       -1431.2685        inf         -0        nan         nan         nan\n",
      "1062       -2173.9867        inf         -0        nan         nan         nan\n",
      "1060       -1139.2215        inf         -0        nan         nan         nan\n",
      "1058        2325.0884        inf          0        nan         nan         nan\n",
      "1056        5762.7460        inf          0        nan         nan         nan\n",
      "1054        5571.7262        inf          0        nan         nan         nan\n",
      "1052        1485.8837        inf          0        nan         nan         nan\n",
      "1050       -2990.7342        inf         -0        nan         nan         nan\n",
      "1048       -4452.0836        inf         -0        nan         nan         nan\n",
      "1046       -2850.8283        inf         -0        nan         nan         nan\n",
      "1044         -92.9741        inf         -0        nan         nan         nan\n",
      "1042        2285.2710        inf          0        nan         nan         nan\n",
      "1040        2971.6032        inf          0        nan         nan         nan\n",
      "1038         690.5260        inf          0        nan         nan         nan\n",
      "1036       -3869.8062        inf         -0        nan         nan         nan\n",
      "1034       -7034.8821        inf         -0        nan         nan         nan\n",
      "1032       -5551.4287        inf         -0        nan         nan         nan\n",
      "1030         -39.9872        inf         -0        nan         nan         nan\n",
      "1028        5323.1249        inf          0        nan         nan         nan\n",
      "1026        6961.4056        inf          0        nan         nan         nan\n",
      "1024        4841.8814        inf          0        nan         nan         nan\n",
      "1022        1699.4407        inf          0        nan         nan         nan\n",
      "1020        -238.0085        inf         -0        nan         nan         nan\n",
      "1018       -1004.1425        inf         -0        nan         nan         nan\n",
      "1016       -1983.8270        inf         -0        nan         nan         nan\n",
      "1014       -3198.7430        inf         -0        nan         nan         nan\n",
      "1012       -2532.1508        inf         -0        nan         nan         nan\n",
      "1010        1087.0965        inf          0        nan         nan         nan\n",
      "1008        5315.9400        inf          0        nan         nan         nan\n",
      "1006        6243.6270        inf          0        nan         nan         nan\n",
      "1004        2914.4249        inf          0        nan         nan         nan\n",
      "1002       -1871.8347        inf         -0        nan         nan         nan\n",
      "1000       -4660.9841        inf         -0        nan         nan         nan\n",
      "998        -4620.6241        inf         -0        nan         nan         nan\n",
      "996        -3116.0184        inf         -0        nan         nan         nan\n",
      "994        -2036.3471        inf         -0        nan         nan         nan\n",
      "992        -2182.9479        inf         -0        nan         nan         nan\n",
      "990        -3242.1235        inf         -0        nan         nan         nan\n",
      "988        -3274.7765        inf         -0        nan         nan         nan\n",
      "986         -635.4292        inf         -0        nan         nan         nan\n",
      "984         3785.3219        inf          0        nan         nan         nan\n",
      "982         6873.9991        inf          0        nan         nan         nan\n",
      "980         6433.4100        inf          0        nan         nan         nan\n",
      "978         3683.6498        inf          0        nan         nan         nan\n",
      "976         1447.1965        inf          0        nan         nan         nan\n",
      "974          584.0054        inf          0        nan         nan         nan\n",
      "972         -401.3570        inf         -0        nan         nan         nan\n",
      "970        -2774.8945        inf         -0        nan         nan         nan\n",
      "968        -5435.5202        inf         -0        nan         nan         nan\n",
      "966        -5833.8877        inf         -0        nan         nan         nan\n",
      "964        -3117.6793        inf         -0        nan         nan         nan\n",
      "962          525.0015        inf          0        nan         nan         nan\n",
      "960         1976.9538        inf          0        nan         nan         nan\n",
      "958          947.0393        inf          0        nan         nan         nan\n",
      "956          206.3261        inf          0        nan         nan         nan\n",
      "954         1912.5511        inf          0        nan         nan         nan\n",
      "952         4686.2262        inf          0        nan         nan         nan\n",
      "950         5230.4818        inf          0        nan         nan         nan\n",
      "948         2852.0689        inf          0        nan         nan         nan\n",
      "946         -104.6578        inf         -0        nan         nan         nan\n",
      "944        -1654.6944        inf         -0        nan         nan         nan\n",
      "942        -2253.2782        inf         -0        nan         nan         nan\n",
      "940        -3055.3094        inf         -0        nan         nan         nan\n",
      "938        -3515.8704        inf         -0        nan         nan         nan\n",
      "936        -2621.8467        inf         -0        nan         nan         nan\n",
      "934         -582.9303        inf         -0        nan         nan         nan\n",
      "932          945.5230        inf          0        nan         nan         nan\n",
      "930         1070.3169        inf          0        nan         nan         nan\n",
      "928          688.4458        inf          0        nan         nan         nan\n",
      "926         1422.1591        inf          0        nan         nan         nan\n",
      "924         3226.8045        inf          0        nan         nan         nan\n",
      "922         3817.9377        inf          0        nan         nan         nan\n",
      "920         1096.4315        inf          0        nan         nan         nan\n",
      "918        -3873.7051        inf         -0        nan         nan         nan\n",
      "916        -7324.2921        inf         -0        nan         nan         nan\n",
      "914        -6769.9157        inf         -0        nan         nan         nan\n",
      "912        -3728.8999        inf         -0        nan         nan         nan\n",
      "910        -1243.0352        inf         -0        nan         nan         nan\n",
      "908          524.9126        inf          0        nan         nan         nan\n",
      "906         3289.0226        inf          0        nan         nan         nan\n",
      "904         6720.5677        inf          0        nan         nan         nan\n",
      "902         7603.8005        inf          0        nan         nan         nan\n",
      "900         4472.5734        inf          0        nan         nan         nan\n",
      "898            1.0248        inf          0        nan         nan         nan\n",
      "896        -2795.9184        inf         -0        nan         nan         nan\n",
      "894        -4029.1721        inf         -0        nan         nan         nan\n",
      "892        -4787.6224        inf         -0        nan         nan         nan\n",
      "890        -3874.4513        inf         -0        nan         nan         nan\n",
      "888          798.7881        inf          0        nan         nan         nan\n",
      "886         7375.6451        inf          0        nan         nan         nan\n",
      "884         1.039e+04        inf          0        nan         nan         nan\n",
      "882         6585.3424        inf          0        nan         nan         nan\n",
      "880        -1370.5162        inf         -0        nan         nan         nan\n",
      "878        -7662.7076        inf         -0        nan         nan         nan\n",
      "876        -9126.1509        inf         -0        nan         nan         nan\n",
      "874        -6824.6850        inf         -0        nan         nan         nan\n",
      "872        -3146.7102        inf         -0        nan         nan         nan\n",
      "870          752.8802        inf          0        nan         nan         nan\n",
      "868         4358.1408        inf          0        nan         nan         nan\n",
      "866         6524.6906        inf          0        nan         nan         nan\n",
      "864         6368.8450        inf          0        nan         nan         nan\n",
      "862         4433.5890        inf          0        nan         nan         nan\n",
      "860         2035.1016        inf          0        nan         nan         nan\n",
      "858         -288.1121        inf         -0        nan         nan         nan\n",
      "856        -2738.2991        inf         -0        nan         nan         nan\n",
      "854        -4294.2110        inf         -0        nan         nan         nan\n",
      "852        -3053.0518        inf         -0        nan         nan         nan\n",
      "850         1302.5099        inf          0        nan         nan         nan\n",
      "848         5658.4880        inf          0        nan         nan         nan\n",
      "846         5977.8193        inf          0        nan         nan         nan\n",
      "844         1463.5049        inf          0        nan         nan         nan\n",
      "842        -4545.4005        inf         -0        nan         nan         nan\n",
      "840        -7969.0808        inf         -0        nan         nan         nan\n",
      "838        -6856.3993        inf         -0        nan         nan         nan\n",
      "836        -1989.0933        inf         -0        nan         nan         nan\n",
      "834         3546.5189        inf          0        nan         nan         nan\n",
      "832         5389.2470        inf          0        nan         nan         nan\n",
      "830         1429.9150        inf          0        nan         nan         nan\n",
      "828        -5326.5318        inf         -0        nan         nan         nan\n",
      "826        -8510.6799        inf         -0        nan         nan         nan\n",
      "824        -5018.2125        inf         -0        nan         nan         nan\n",
      "822         1639.6504        inf          0        nan         nan         nan\n",
      "820         5519.8854        inf          0        nan         nan         nan\n",
      "818         4252.2328        inf          0        nan         nan         nan\n",
      "816         -308.3841        inf         -0        nan         nan         nan\n",
      "814        -4792.7865        inf         -0        nan         nan         nan\n",
      "812        -5741.4039        inf         -0        nan         nan         nan\n",
      "810        -1564.7253        inf         -0        nan         nan         nan\n",
      "808         5467.0704        inf          0        nan         nan         nan\n",
      "806         9338.8038        inf          0        nan         nan         nan\n",
      "804         5958.6523        inf          0        nan         nan         nan\n",
      "802        -1681.5780        inf         -0        nan         nan         nan\n",
      "800        -6074.7408        inf         -0        nan         nan         nan\n",
      "==============================================================================\n",
      "Omnibus:                        2.445   Durbin-Watson:                   1.385\n",
      "Prob(Omnibus):                  0.294   Jarque-Bera (JB):                1.748\n",
      "Skew:                          -0.444   Prob(JB):                        0.417\n",
      "Kurtosis:                       3.181   Cond. No.                     1.33e+05\n",
      "==============================================================================\n",
      "\n",
      "Notes:\n",
      "[1] Standard Errors assume that the covariance matrix of the errors is correctly specified.\n",
      "[2] The input rank is higher than the number of observations.\n",
      "[3] The condition number is large, 1.33e+05. This might indicate that there are\n",
      "strong multicollinearity or other numerical problems.\n"
     ]
    },
    {
     "name": "stderr",
     "output_type": "stream",
     "text": [
      "d:\\Users\\pries\\anaconda3\\lib\\site-packages\\statsmodels\\regression\\linear_model.py:1749: RuntimeWarning: divide by zero encountered in true_divide\n",
      "  return 1 - (np.divide(self.nobs - self.k_constant, self.df_resid)\n",
      "d:\\Users\\pries\\anaconda3\\lib\\site-packages\\statsmodels\\regression\\linear_model.py:1749: RuntimeWarning: invalid value encountered in double_scalars\n",
      "  return 1 - (np.divide(self.nobs - self.k_constant, self.df_resid)\n",
      "d:\\Users\\pries\\anaconda3\\lib\\site-packages\\statsmodels\\regression\\linear_model.py:1671: RuntimeWarning: divide by zero encountered in double_scalars\n",
      "  return np.dot(wresid, wresid) / self.df_resid\n"
     ]
    }
   ],
   "source": [
    "olsmod = sm.OLS(source_df['Ct'], X).fit()\n",
    "print(olsmod.summary())"
   ]
  },
  {
   "cell_type": "markdown",
   "metadata": {},
   "source": [
    "Using the statsmodels.api we can see that our r squared value is 1 this would indicate a perfect fit, which is highly unlikely but possible. This could be due to having too little data. A possible solution to not have a perfect fit would be to use the fit_regularized function instead of the fit function from Statsmodels' elastic net penalized logistic regression."
   ]
  },
  {
   "cell_type": "code",
   "execution_count": 646,
   "metadata": {},
   "outputs": [
    {
     "name": "stderr",
     "output_type": "stream",
     "text": [
      "d:\\Users\\pries\\anaconda3\\lib\\site-packages\\statsmodels\\stats\\outliers_influence.py:195: RuntimeWarning: divide by zero encountered in double_scalars\n",
      "  vif = 1. / (1. - r_squared_i)\n"
     ]
    },
    {
     "data": {
      "text/html": [
       "<div>\n",
       "<style scoped>\n",
       "    .dataframe tbody tr th:only-of-type {\n",
       "        vertical-align: middle;\n",
       "    }\n",
       "\n",
       "    .dataframe tbody tr th {\n",
       "        vertical-align: top;\n",
       "    }\n",
       "\n",
       "    .dataframe thead th {\n",
       "        text-align: right;\n",
       "    }\n",
       "</style>\n",
       "<table border=\"1\" class=\"dataframe\">\n",
       "  <thead>\n",
       "    <tr style=\"text-align: right;\">\n",
       "      <th></th>\n",
       "      <th>VIF Factor</th>\n",
       "      <th>features</th>\n",
       "    </tr>\n",
       "  </thead>\n",
       "  <tbody>\n",
       "    <tr>\n",
       "      <th>0</th>\n",
       "      <td>inf</td>\n",
       "      <td>1300</td>\n",
       "    </tr>\n",
       "    <tr>\n",
       "      <th>1</th>\n",
       "      <td>inf</td>\n",
       "      <td>1298</td>\n",
       "    </tr>\n",
       "    <tr>\n",
       "      <th>2</th>\n",
       "      <td>inf</td>\n",
       "      <td>1296</td>\n",
       "    </tr>\n",
       "    <tr>\n",
       "      <th>3</th>\n",
       "      <td>inf</td>\n",
       "      <td>1294</td>\n",
       "    </tr>\n",
       "    <tr>\n",
       "      <th>4</th>\n",
       "      <td>inf</td>\n",
       "      <td>1292</td>\n",
       "    </tr>\n",
       "    <tr>\n",
       "      <th>...</th>\n",
       "      <td>...</td>\n",
       "      <td>...</td>\n",
       "    </tr>\n",
       "    <tr>\n",
       "      <th>246</th>\n",
       "      <td>inf</td>\n",
       "      <td>808</td>\n",
       "    </tr>\n",
       "    <tr>\n",
       "      <th>247</th>\n",
       "      <td>inf</td>\n",
       "      <td>806</td>\n",
       "    </tr>\n",
       "    <tr>\n",
       "      <th>248</th>\n",
       "      <td>inf</td>\n",
       "      <td>804</td>\n",
       "    </tr>\n",
       "    <tr>\n",
       "      <th>249</th>\n",
       "      <td>inf</td>\n",
       "      <td>802</td>\n",
       "    </tr>\n",
       "    <tr>\n",
       "      <th>250</th>\n",
       "      <td>inf</td>\n",
       "      <td>800</td>\n",
       "    </tr>\n",
       "  </tbody>\n",
       "</table>\n",
       "<p>251 rows × 2 columns</p>\n",
       "</div>"
      ],
      "text/plain": [
       "     VIF Factor features\n",
       "0           inf     1300\n",
       "1           inf     1298\n",
       "2           inf     1296\n",
       "3           inf     1294\n",
       "4           inf     1292\n",
       "..          ...      ...\n",
       "246         inf      808\n",
       "247         inf      806\n",
       "248         inf      804\n",
       "249         inf      802\n",
       "250         inf      800\n",
       "\n",
       "[251 rows x 2 columns]"
      ]
     },
     "execution_count": 646,
     "metadata": {},
     "output_type": "execute_result"
    }
   ],
   "source": [
    "# For each X, calculate VIF and save in dataframe\n",
    "vif = pd.DataFrame()\n",
    "vif[\"VIF Factor\"] = [variance_inflation_factor(X.values, i) for i in range(X.shape[1])]\n",
    "vif[\"features\"] = X.columns\n",
    "vif"
   ]
  },
  {
   "cell_type": "markdown",
   "metadata": {},
   "source": [
    "Here we check for multicolinearity using the Variance Inflation Factor (VIF) score for each variable. The Variance Inflation Factor (VIF) is a measure of colinearity among predictor variables within a multiple regression."
   ]
  },
  {
   "cell_type": "markdown",
   "metadata": {},
   "source": [
    "#### Conclusion\n",
    "\n",
    "To conclude MLR might not be the perfect fit for this dataset since it creates a perfect model which I find highly unlikely. Using this model allows us to predict if a subject is covid positive or negative based on their Ct value. Perhaps with a bigger dataset a different fit would have been achieved."
   ]
  },
  {
   "cell_type": "markdown",
   "metadata": {},
   "source": [
    "#### MDS"
   ]
  },
  {
   "cell_type": "markdown",
   "metadata": {},
   "source": [
    "Lastly I have chosen to use MDS, it's a technique that creates a map displaying the relative positions of a number of\n",
    "objects, given only a table of the distances between them. This can help us identify which factors contribute the most to a subject having covid or not and value of the Ct score."
   ]
  },
  {
   "cell_type": "code",
   "execution_count": 647,
   "metadata": {},
   "outputs": [],
   "source": [
    "X_sample = X.copy()\n",
    "\n",
    "stress = []\n",
    "for i in range(1, 10):\n",
    "    model = MDS(n_components=i)\n",
    "    \n",
    "    pts = model.fit_transform(X_sample)\n",
    "    \n",
    "    stress.append(model.stress_)"
   ]
  },
  {
   "cell_type": "markdown",
   "metadata": {},
   "source": [
    "Create the model and fit different numbers of components. With MDS we will use the stress level and see which stress level is the best."
   ]
  },
  {
   "cell_type": "code",
   "execution_count": 648,
   "metadata": {},
   "outputs": [
    {
     "data": {
      "image/png": "[encoded data removed]",
      "text/plain": [
       "<Figure size 432x288 with 1 Axes>"
      ]
     },
     "metadata": {
      "needs_background": "light"
     },
     "output_type": "display_data"
    }
   ],
   "source": [
    "plt.plot(range(1, 10), stress)\n",
    "plt.xticks(range(1, 10))\n",
    "plt.title('stress level per number of components (MDS)')\n",
    "plt.ylabel('stress level')\n",
    "plt.xlabel('number of components')\n",
    "plt.show()"
   ]
  },
  {
   "cell_type": "markdown",
   "metadata": {},
   "source": [
    "Here we can see that with only 2 components most of the stress has been covered."
   ]
  },
  {
   "cell_type": "code",
   "execution_count": 649,
   "metadata": {},
   "outputs": [],
   "source": [
    "mds = MDS(n_components=2, random_state=777, dissimilarity='euclidean')"
   ]
  },
  {
   "cell_type": "markdown",
   "metadata": {},
   "source": [
    "Recreating the model with our found optimal number of components."
   ]
  },
  {
   "cell_type": "code",
   "execution_count": 650,
   "metadata": {},
   "outputs": [],
   "source": [
    "embedding = MDS(n_components=2)\n",
    "X_transformed = embedding.fit_transform(X[:100])"
   ]
  },
  {
   "cell_type": "markdown",
   "metadata": {},
   "source": [
    "fitting the model with a sample size out of the dataset"
   ]
  },
  {
   "cell_type": "code",
   "execution_count": 651,
   "metadata": {},
   "outputs": [
    {
     "data": {
      "image/png": "[encoded data removed]",
      "text/plain": [
       "<Figure size 1152x720 with 1 Axes>"
      ]
     },
     "metadata": {
      "needs_background": "light"
     },
     "output_type": "display_data"
    }
   ],
   "source": [
    "fig = plt.figure(figsize=(16, 10))\n",
    "ax = fig.add_subplot(1, 2, 1)\n",
    "ax = sn.scatterplot(x=X_transformed[:, 0], y=X_transformed[:, 1], hue=y, palette=sn.color_palette(\"hls\", len(set(y))))\n",
    "\n",
    "plt.show()"
   ]
  },
  {
   "cell_type": "markdown",
   "metadata": {},
   "source": [
    "#### Conclusion"
   ]
  },
  {
   "cell_type": "markdown",
   "metadata": {},
   "source": [
    "Here we can see some small clusters being formed however they do not appear to be meaningful. A bigger dataset might show bigger clusters allowing futher research into how the CT scores influence if a person is covid negative or positive. Due to time constraints I won't be comparing against the dataset's ID's which indcate if a person is covid positive or negative. This could be done in future research."
   ]
  }
 ],
 "metadata": {
  "kernelspec": {
   "display_name": "Python 3 (ipykernel)",
   "language": "python",
   "name": "python3"
  },
  "language_info": {
   "codemirror_mode": {
    "name": "ipython",
    "version": 3
   },
   "file_extension": ".py",
   "mimetype": "text/x-python",
   "name": "python",
   "nbconvert_exporter": "python",
   "pygments_lexer": "ipython3",
   "version": "3.10.4"
  },
  "vscode": {
   "interpreter": {
    "hash": "cce1145a662b5ffebb446f0f50f9d431ccf3ffac4c561e33ee59fe97dce5ae87"
   }
  }
 },
 "nbformat": 4,
 "nbformat_minor": 2
}
