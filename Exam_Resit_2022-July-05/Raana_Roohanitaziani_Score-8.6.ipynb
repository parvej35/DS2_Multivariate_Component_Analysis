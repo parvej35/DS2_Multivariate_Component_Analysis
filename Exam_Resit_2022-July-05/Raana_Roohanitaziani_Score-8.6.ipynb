{
 "cells": [
  {
   "cell_type": "markdown",
   "id": "ccb27d72",
   "metadata": {},
   "source": [
    "## 1-Dataset: metabolom_data.csv : measurements of monoterpenes in certain plant leaves. "
   ]
  },
  {
   "cell_type": "markdown",
   "id": "960c798d",
   "metadata": {},
   "source": [
    "#### The aim of this research (Hudon et al.2021) is how to apply MCA across multiple scales to inform conservation of herbivores.\n",
    "\n",
    "They focused on the sagebrush steppe ecosystem that once covered a large region in the western United States. Sagebrush (Artemisia spp.) are the dominant plant species in these ecosystems and are critical for two sagebrush obligate species: the pygmy rabbit Brachylagus idahoensis and the greater sage-grouse (Centrocercus urophasianus). Both herbivores are considered species of conservation concern across the Intermountain West. they investigated several characteristics of the Sagebrush plants(including leaf metabolites) that might have effect on biodiversity of pygmy rabbit and sage-grouse in that region. \n",
    "\n",
    "In regard to leaf metabolites they were interested to see which community of metabolites are presents in these two species of sagbosh. They used two case studies from the sagebrush steppe ecosystem to find community mixtures of metabolites from leaf material of individual sagebrush plants. they assumed that the unique mixtures of metabolites in plants may better explain intake by herbivores than looking for the effect of an individual monoterpenes.\n",
    "\n"
   ]
  },
  {
   "cell_type": "markdown",
   "id": "38879f22",
   "metadata": {},
   "source": [
    "## The best method of component analysis for this dataset is Factor analysis\n",
    "\n",
    "Since foraging herbivores consume mixtures of metabolites, not individual metabolites, aproaches that focus on the presence or concentration of a specific metabolite likely miss differences in the relative ratios of compounds that better determine diet selection by herbivores and predict interactions with the microbial features in herbivore guts. \n",
    "\n",
    "for this dataset I would like to look for the co-occurance of communities of metabolites(volatile monoterpens) in the dataset. Communities are latent because they are not directly observed in relative abundance data; instead, communities represent a hidden structure that can be uncovered with statistical modeling. Because we are looking for a hidden layer of data across this dataset, FA is the best method to perform. \n",
    "By use of FA we factorize relative abundance data into two matrices, one representing membership of communities in sampling units and the other representing feature membership in communities. \n"
   ]
  },
  {
   "cell_type": "code",
   "execution_count": 1,
   "id": "e71844c4",
   "metadata": {},
   "outputs": [],
   "source": [
    "#Loading the dataset\n",
    "import pandas as pd\n",
    "import numpy as np\n",
    "import matplotlib.pyplot as plt"
   ]
  },
  {
   "cell_type": "code",
   "execution_count": 14,
   "id": "8764009a",
   "metadata": {},
   "outputs": [
    {
     "data": {
      "text/plain": [
       "(94, 19)"
      ]
     },
     "execution_count": 14,
     "metadata": {},
     "output_type": "execute_result"
    }
   ],
   "source": [
    "\n",
    "df = pd.read_csv(\"DATASET/metabolom_data.csv\")\n",
    "df.shape"
   ]
  },
  {
   "cell_type": "code",
   "execution_count": 4,
   "id": "0591a647",
   "metadata": {},
   "outputs": [
    {
     "data": {
      "text/html": [
       "<div>\n",
       "<style scoped>\n",
       "    .dataframe tbody tr th:only-of-type {\n",
       "        vertical-align: middle;\n",
       "    }\n",
       "\n",
       "    .dataframe tbody tr th {\n",
       "        vertical-align: top;\n",
       "    }\n",
       "\n",
       "    .dataframe thead th {\n",
       "        text-align: right;\n",
       "    }\n",
       "</style>\n",
       "<table border=\"1\" class=\"dataframe\">\n",
       "  <thead>\n",
       "    <tr style=\"text-align: right;\">\n",
       "      <th></th>\n",
       "      <th>SampleID</th>\n",
       "      <th>Species</th>\n",
       "      <th>Unk3.2</th>\n",
       "      <th>Unk3.6</th>\n",
       "      <th>Unk11.9</th>\n",
       "      <th>Unk12.4</th>\n",
       "      <th>aPinene</th>\n",
       "      <th>Camphene</th>\n",
       "      <th>bPinene</th>\n",
       "      <th>aPhellendrine</th>\n",
       "      <th>pcymene</th>\n",
       "      <th>Cineole</th>\n",
       "      <th>Unk18.2</th>\n",
       "      <th>Unk18.6</th>\n",
       "      <th>Unk20.5</th>\n",
       "      <th>Camphor</th>\n",
       "      <th>Unk21</th>\n",
       "      <th>Unk21.5</th>\n",
       "      <th>Unk23.5</th>\n",
       "    </tr>\n",
       "  </thead>\n",
       "  <tbody>\n",
       "    <tr>\n",
       "      <th>0</th>\n",
       "      <td>MF032</td>\n",
       "      <td>wyoming</td>\n",
       "      <td>17.447216</td>\n",
       "      <td>78.480388</td>\n",
       "      <td>2.575015</td>\n",
       "      <td>0.480588</td>\n",
       "      <td>6.873549</td>\n",
       "      <td>14.667799</td>\n",
       "      <td>10.505447</td>\n",
       "      <td>64.308777</td>\n",
       "      <td>5.311575</td>\n",
       "      <td>6.917810</td>\n",
       "      <td>10.258485</td>\n",
       "      <td>29.725402</td>\n",
       "      <td>5.320274</td>\n",
       "      <td>92.868922</td>\n",
       "      <td>32.733879</td>\n",
       "      <td>245.373027</td>\n",
       "      <td>9.190845</td>\n",
       "    </tr>\n",
       "    <tr>\n",
       "      <th>1</th>\n",
       "      <td>MF034</td>\n",
       "      <td>wyoming</td>\n",
       "      <td>0.000000</td>\n",
       "      <td>0.000000</td>\n",
       "      <td>0.566885</td>\n",
       "      <td>9.274434</td>\n",
       "      <td>29.331204</td>\n",
       "      <td>189.922801</td>\n",
       "      <td>20.664100</td>\n",
       "      <td>0.368826</td>\n",
       "      <td>8.201353</td>\n",
       "      <td>140.641077</td>\n",
       "      <td>0.000000</td>\n",
       "      <td>1.275490</td>\n",
       "      <td>0.000000</td>\n",
       "      <td>0.000000</td>\n",
       "      <td>675.617594</td>\n",
       "      <td>13.323675</td>\n",
       "      <td>0.646352</td>\n",
       "    </tr>\n",
       "    <tr>\n",
       "      <th>2</th>\n",
       "      <td>MF036</td>\n",
       "      <td>wyoming</td>\n",
       "      <td>13.247976</td>\n",
       "      <td>52.978520</td>\n",
       "      <td>3.838784</td>\n",
       "      <td>0.000000</td>\n",
       "      <td>5.958195</td>\n",
       "      <td>6.564323</td>\n",
       "      <td>23.170531</td>\n",
       "      <td>61.671574</td>\n",
       "      <td>2.010833</td>\n",
       "      <td>4.594991</td>\n",
       "      <td>9.309720</td>\n",
       "      <td>27.877841</td>\n",
       "      <td>10.200175</td>\n",
       "      <td>54.894681</td>\n",
       "      <td>25.178064</td>\n",
       "      <td>232.263740</td>\n",
       "      <td>8.166170</td>\n",
       "    </tr>\n",
       "    <tr>\n",
       "      <th>3</th>\n",
       "      <td>MF038</td>\n",
       "      <td>wyoming</td>\n",
       "      <td>0.000000</td>\n",
       "      <td>71.897745</td>\n",
       "      <td>5.582314</td>\n",
       "      <td>7.300492</td>\n",
       "      <td>8.662203</td>\n",
       "      <td>3.662696</td>\n",
       "      <td>9.404492</td>\n",
       "      <td>0.165965</td>\n",
       "      <td>1.854227</td>\n",
       "      <td>6.792163</td>\n",
       "      <td>9.031663</td>\n",
       "      <td>32.740878</td>\n",
       "      <td>7.444111</td>\n",
       "      <td>67.025993</td>\n",
       "      <td>24.894070</td>\n",
       "      <td>392.559512</td>\n",
       "      <td>10.195839</td>\n",
       "    </tr>\n",
       "    <tr>\n",
       "      <th>4</th>\n",
       "      <td>MF049</td>\n",
       "      <td>wyoming</td>\n",
       "      <td>15.501606</td>\n",
       "      <td>56.658287</td>\n",
       "      <td>7.009434</td>\n",
       "      <td>0.397118</td>\n",
       "      <td>0.000000</td>\n",
       "      <td>9.505731</td>\n",
       "      <td>11.259664</td>\n",
       "      <td>18.164837</td>\n",
       "      <td>3.222653</td>\n",
       "      <td>17.167722</td>\n",
       "      <td>9.857530</td>\n",
       "      <td>6.071136</td>\n",
       "      <td>10.047028</td>\n",
       "      <td>87.913989</td>\n",
       "      <td>33.114384</td>\n",
       "      <td>0.341623</td>\n",
       "      <td>11.994086</td>\n",
       "    </tr>\n",
       "    <tr>\n",
       "      <th>5</th>\n",
       "      <td>MF050</td>\n",
       "      <td>wyoming</td>\n",
       "      <td>19.456389</td>\n",
       "      <td>68.649995</td>\n",
       "      <td>7.221566</td>\n",
       "      <td>1.082906</td>\n",
       "      <td>0.000000</td>\n",
       "      <td>6.966625</td>\n",
       "      <td>23.360095</td>\n",
       "      <td>19.666428</td>\n",
       "      <td>4.094604</td>\n",
       "      <td>33.861303</td>\n",
       "      <td>5.764112</td>\n",
       "      <td>5.351256</td>\n",
       "      <td>15.158635</td>\n",
       "      <td>54.930451</td>\n",
       "      <td>23.420237</td>\n",
       "      <td>2.298289</td>\n",
       "      <td>8.395611</td>\n",
       "    </tr>\n",
       "    <tr>\n",
       "      <th>6</th>\n",
       "      <td>MF051</td>\n",
       "      <td>wyoming</td>\n",
       "      <td>21.042811</td>\n",
       "      <td>76.400769</td>\n",
       "      <td>2.820267</td>\n",
       "      <td>2.115513</td>\n",
       "      <td>3.385743</td>\n",
       "      <td>6.474307</td>\n",
       "      <td>25.991551</td>\n",
       "      <td>37.589268</td>\n",
       "      <td>3.533810</td>\n",
       "      <td>40.697364</td>\n",
       "      <td>5.741429</td>\n",
       "      <td>22.873859</td>\n",
       "      <td>9.629240</td>\n",
       "      <td>26.529507</td>\n",
       "      <td>21.629717</td>\n",
       "      <td>122.469462</td>\n",
       "      <td>4.751689</td>\n",
       "    </tr>\n",
       "    <tr>\n",
       "      <th>7</th>\n",
       "      <td>MF052</td>\n",
       "      <td>wyoming</td>\n",
       "      <td>16.775551</td>\n",
       "      <td>42.222259</td>\n",
       "      <td>3.890756</td>\n",
       "      <td>3.458757</td>\n",
       "      <td>5.172362</td>\n",
       "      <td>3.461300</td>\n",
       "      <td>33.177921</td>\n",
       "      <td>39.990070</td>\n",
       "      <td>0.898483</td>\n",
       "      <td>6.781768</td>\n",
       "      <td>6.877980</td>\n",
       "      <td>19.688320</td>\n",
       "      <td>19.591162</td>\n",
       "      <td>22.252457</td>\n",
       "      <td>21.624343</td>\n",
       "      <td>226.940040</td>\n",
       "      <td>6.772960</td>\n",
       "    </tr>\n",
       "    <tr>\n",
       "      <th>8</th>\n",
       "      <td>MF053</td>\n",
       "      <td>wyoming</td>\n",
       "      <td>11.328051</td>\n",
       "      <td>18.110563</td>\n",
       "      <td>4.617156</td>\n",
       "      <td>1.813888</td>\n",
       "      <td>9.222701</td>\n",
       "      <td>48.718686</td>\n",
       "      <td>90.098227</td>\n",
       "      <td>3.409925</td>\n",
       "      <td>6.462651</td>\n",
       "      <td>101.781428</td>\n",
       "      <td>3.551753</td>\n",
       "      <td>2.802533</td>\n",
       "      <td>0.471096</td>\n",
       "      <td>39.084773</td>\n",
       "      <td>6.037963</td>\n",
       "      <td>4.059835</td>\n",
       "      <td>4.062073</td>\n",
       "    </tr>\n",
       "    <tr>\n",
       "      <th>9</th>\n",
       "      <td>MF054</td>\n",
       "      <td>wyoming</td>\n",
       "      <td>13.958225</td>\n",
       "      <td>8.983435</td>\n",
       "      <td>1.642927</td>\n",
       "      <td>1.055490</td>\n",
       "      <td>2.894899</td>\n",
       "      <td>24.519416</td>\n",
       "      <td>32.775682</td>\n",
       "      <td>6.619945</td>\n",
       "      <td>5.389725</td>\n",
       "      <td>78.255016</td>\n",
       "      <td>5.721445</td>\n",
       "      <td>2.388319</td>\n",
       "      <td>7.618671</td>\n",
       "      <td>124.486722</td>\n",
       "      <td>2.313027</td>\n",
       "      <td>1.407201</td>\n",
       "      <td>2.453051</td>\n",
       "    </tr>\n",
       "  </tbody>\n",
       "</table>\n",
       "</div>"
      ],
      "text/plain": [
       "  SampleID  Species     Unk3.2     Unk3.6   Unk11.9   Unk12.4    aPinene  \\\n",
       "0    MF032  wyoming  17.447216  78.480388  2.575015  0.480588   6.873549   \n",
       "1    MF034  wyoming   0.000000   0.000000  0.566885  9.274434  29.331204   \n",
       "2    MF036  wyoming  13.247976  52.978520  3.838784  0.000000   5.958195   \n",
       "3    MF038  wyoming   0.000000  71.897745  5.582314  7.300492   8.662203   \n",
       "4    MF049  wyoming  15.501606  56.658287  7.009434  0.397118   0.000000   \n",
       "5    MF050  wyoming  19.456389  68.649995  7.221566  1.082906   0.000000   \n",
       "6    MF051  wyoming  21.042811  76.400769  2.820267  2.115513   3.385743   \n",
       "7    MF052  wyoming  16.775551  42.222259  3.890756  3.458757   5.172362   \n",
       "8    MF053  wyoming  11.328051  18.110563  4.617156  1.813888   9.222701   \n",
       "9    MF054  wyoming  13.958225   8.983435  1.642927  1.055490   2.894899   \n",
       "\n",
       "     Camphene    bPinene  aPhellendrine   pcymene     Cineole    Unk18.2  \\\n",
       "0   14.667799  10.505447      64.308777  5.311575    6.917810  10.258485   \n",
       "1  189.922801  20.664100       0.368826  8.201353  140.641077   0.000000   \n",
       "2    6.564323  23.170531      61.671574  2.010833    4.594991   9.309720   \n",
       "3    3.662696   9.404492       0.165965  1.854227    6.792163   9.031663   \n",
       "4    9.505731  11.259664      18.164837  3.222653   17.167722   9.857530   \n",
       "5    6.966625  23.360095      19.666428  4.094604   33.861303   5.764112   \n",
       "6    6.474307  25.991551      37.589268  3.533810   40.697364   5.741429   \n",
       "7    3.461300  33.177921      39.990070  0.898483    6.781768   6.877980   \n",
       "8   48.718686  90.098227       3.409925  6.462651  101.781428   3.551753   \n",
       "9   24.519416  32.775682       6.619945  5.389725   78.255016   5.721445   \n",
       "\n",
       "     Unk18.6    Unk20.5     Camphor       Unk21     Unk21.5    Unk23.5  \n",
       "0  29.725402   5.320274   92.868922   32.733879  245.373027   9.190845  \n",
       "1   1.275490   0.000000    0.000000  675.617594   13.323675   0.646352  \n",
       "2  27.877841  10.200175   54.894681   25.178064  232.263740   8.166170  \n",
       "3  32.740878   7.444111   67.025993   24.894070  392.559512  10.195839  \n",
       "4   6.071136  10.047028   87.913989   33.114384    0.341623  11.994086  \n",
       "5   5.351256  15.158635   54.930451   23.420237    2.298289   8.395611  \n",
       "6  22.873859   9.629240   26.529507   21.629717  122.469462   4.751689  \n",
       "7  19.688320  19.591162   22.252457   21.624343  226.940040   6.772960  \n",
       "8   2.802533   0.471096   39.084773    6.037963    4.059835   4.062073  \n",
       "9   2.388319   7.618671  124.486722    2.313027    1.407201   2.453051  "
      ]
     },
     "execution_count": 4,
     "metadata": {},
     "output_type": "execute_result"
    }
   ],
   "source": [
    "df.head(10)"
   ]
  },
  {
   "cell_type": "markdown",
   "id": "3dd160a0",
   "metadata": {},
   "source": [
    "### Describing the dataset: \n",
    "#### column Species : two species of  sagebrush \n",
    "#### columns 2 to 19 : metabolites measured from leaf of individual sagebrush plants (17 metabolites). "
   ]
  },
  {
   "cell_type": "code",
   "execution_count": 5,
   "id": "17ae57d2",
   "metadata": {},
   "outputs": [
    {
     "name": "stdout",
     "output_type": "stream",
     "text": [
      "<class 'pandas.core.frame.DataFrame'>\n",
      "RangeIndex: 94 entries, 0 to 93\n",
      "Data columns (total 19 columns):\n",
      " #   Column         Non-Null Count  Dtype  \n",
      "---  ------         --------------  -----  \n",
      " 0   SampleID       94 non-null     object \n",
      " 1   Species        94 non-null     object \n",
      " 2   Unk3.2         94 non-null     float64\n",
      " 3   Unk3.6         94 non-null     float64\n",
      " 4   Unk11.9        94 non-null     float64\n",
      " 5   Unk12.4        94 non-null     float64\n",
      " 6   aPinene        94 non-null     float64\n",
      " 7   Camphene       94 non-null     float64\n",
      " 8   bPinene        94 non-null     float64\n",
      " 9   aPhellendrine  94 non-null     float64\n",
      " 10  pcymene        94 non-null     float64\n",
      " 11  Cineole        94 non-null     float64\n",
      " 12  Unk18.2        94 non-null     float64\n",
      " 13  Unk18.6        94 non-null     float64\n",
      " 14  Unk20.5        94 non-null     float64\n",
      " 15  Camphor        94 non-null     float64\n",
      " 16  Unk21          94 non-null     float64\n",
      " 17  Unk21.5        94 non-null     float64\n",
      " 18  Unk23.5        94 non-null     float64\n",
      "dtypes: float64(17), object(2)\n",
      "memory usage: 14.1+ KB\n"
     ]
    }
   ],
   "source": [
    "df.info()"
   ]
  },
  {
   "cell_type": "code",
   "execution_count": 6,
   "id": "02313db6",
   "metadata": {},
   "outputs": [
    {
     "data": {
      "text/plain": [
       "wyoming    66\n",
       "3-tip      26\n",
       "hybrid      2\n",
       "Name: Species, dtype: int64"
      ]
     },
     "execution_count": 6,
     "metadata": {},
     "output_type": "execute_result"
    }
   ],
   "source": [
    "df['Species'].value_counts()"
   ]
  },
  {
   "cell_type": "code",
   "execution_count": 7,
   "id": "e5c0f2e0",
   "metadata": {},
   "outputs": [
    {
     "data": {
      "text/plain": [
       "SampleID         0\n",
       "Species          0\n",
       "Unk3.2           0\n",
       "Unk3.6           0\n",
       "Unk11.9          0\n",
       "Unk12.4          0\n",
       "aPinene          0\n",
       "Camphene         0\n",
       "bPinene          0\n",
       "aPhellendrine    0\n",
       "pcymene          0\n",
       "Cineole          0\n",
       "Unk18.2          0\n",
       "Unk18.6          0\n",
       "Unk20.5          0\n",
       "Camphor          0\n",
       "Unk21            0\n",
       "Unk21.5          0\n",
       "Unk23.5          0\n",
       "dtype: int64"
      ]
     },
     "execution_count": 7,
     "metadata": {},
     "output_type": "execute_result"
    }
   ],
   "source": [
    "df.isnull().sum()"
   ]
  },
  {
   "cell_type": "markdown",
   "id": "f7656144",
   "metadata": {},
   "source": [
    "#### all the metabolites values  are as float, and there are no missing values. "
   ]
  },
  {
   "cell_type": "markdown",
   "id": "f1a6c26b",
   "metadata": {},
   "source": [
    "### Codes to perform factor analysis:"
   ]
  },
  {
   "cell_type": "markdown",
   "id": "2b407058",
   "metadata": {},
   "source": [
    "FA starts with performing PCA, followed by selection of a number of components that is assumed to span the latent variable space. \n",
    "These components are then rotated in the variable space, such that each component has a structure that is as simple as possible. A popular method for this is the varimax rotation that maximizes the sum of variances over the rows of the selected components. "
   ]
  },
  {
   "cell_type": "markdown",
   "id": "460fcca7",
   "metadata": {},
   "source": [
    "First we check whether the data needs to be normalized. "
   ]
  },
  {
   "cell_type": "code",
   "execution_count": 18,
   "id": "2b33505c",
   "metadata": {},
   "outputs": [
    {
     "data": {
      "text/plain": [
       "array([ 17.44721575,  78.48038755,   2.57501542,   0.48058841,\n",
       "         6.8735486 ,  14.66779878,  10.50544745,  64.30877726,\n",
       "         5.31157514,   6.91781008,  10.25848494,  29.72540172,\n",
       "         5.32027403,  92.86892199,  32.73387895, 245.3730273 ,\n",
       "         9.19084487])"
      ]
     },
     "execution_count": 18,
     "metadata": {},
     "output_type": "execute_result"
    }
   ],
   "source": [
    "\n",
    "data = df.iloc[:, 2:].values\n",
    "\n",
    "(data[0])"
   ]
  },
  {
   "cell_type": "code",
   "execution_count": 10,
   "id": "e8fa3987",
   "metadata": {},
   "outputs": [
    {
     "name": "stdout",
     "output_type": "stream",
     "text": [
      "12.749655988274966 72224.28569994732\n"
     ]
    }
   ],
   "source": [
    "vars = data.var(axis=0)\n",
    "print(min(vars), max(vars))"
   ]
  },
  {
   "cell_type": "markdown",
   "id": "c19aa1f6",
   "metadata": {},
   "source": [
    "The data needs to be normalized. since the variance is large. "
   ]
  },
  {
   "cell_type": "code",
   "execution_count": 19,
   "id": "f81a9339",
   "metadata": {},
   "outputs": [],
   "source": [
    "# Determining the **correlation** matrix\n",
    "centered = data - data.mean(axis=0)\n",
    "zscores = centered / centered.std(axis=0)\n",
    "correlation_matrix = np.dot(zscores.T, zscores) / (zscores.shape[0] - 1)"
   ]
  },
  {
   "cell_type": "code",
   "execution_count": 23,
   "id": "166b789b",
   "metadata": {},
   "outputs": [],
   "source": [
    "# Determining principal components\n",
    "\n",
    "eigenvalues, eigenvectors = np.linalg.eig(correlation_matrix)\n",
    "# print(eigenvectors)\n",
    "order = eigenvalues.argsort()[::-1]\n",
    "eigenvalues = eigenvalues[order]\n",
    "eigenvectors = eigenvectors[:, order]\n"
   ]
  },
  {
   "cell_type": "markdown",
   "id": "7914b4bb",
   "metadata": {},
   "source": [
    "The Eigenvalues are the variances of the projections on the eigenvectors, so they summarize the part of the information associated with each principal component. the sum of the eigenvaluses is equal to the sum of the original individual variances. \n",
    "\n",
    "two plots of the eigenvalues are of importance. the scree plot or elbow plot, and the cumulative percentage of the total variance. the scree plot is important to determine which eigenvectors are significant, while the plot of comulative percentage can be used to asses how many eigenvectors are needed to retain a certain amount of information. "
   ]
  },
  {
   "cell_type": "code",
   "execution_count": 24,
   "id": "47e181ce",
   "metadata": {},
   "outputs": [
    {
     "data": {
      "image/png": "[encoded data removed]",
      "text/plain": [
       "<Figure size 640x480 with 1 Axes>"
      ]
     },
     "metadata": {},
     "output_type": "display_data"
    },
    {
     "data": {
      "image/png": "[encoded data removed]",
      "text/plain": [
       "<Figure size 640x480 with 1 Axes>"
      ]
     },
     "metadata": {},
     "output_type": "display_data"
    }
   ],
   "source": [
    "# 'Scree' plot of eigenvalues\n",
    "plt.plot(np.arange(len(eigenvalues)) + 1, 100 * eigenvalues / eigenvalues.sum())\n",
    "plt.show()\n",
    "\n",
    "# Cumulative percentage of eigenvalues\n",
    "plt.plot(100 * eigenvalues.cumsum() / sum(eigenvalues))\n",
    "plt.ylim((0, 110))\n",
    "plt.show()"
   ]
  },
  {
   "cell_type": "markdown",
   "id": "ebc2f573",
   "metadata": {},
   "source": [
    "the scree plot(the first plot) shows that there are two eigenvectors that captures the greater percentage of variation. The firs break point correspond the number two. the second break correspond the third eigen vector.\n",
    "\n",
    "the second plot shows that, the first two eigenvectors acount for around 70 percent of variation in the dataset.  "
   ]
  },
  {
   "cell_type": "markdown",
   "id": "d4e9ebb7",
   "metadata": {},
   "source": [
    "next we project the original data on to these two eigenvectors, which coresponds to rotating the data, such that the first two eigenvectors get aligned with cartesian X and Y axis, and can be plotted accordingly. The projections are typically called the scores of the data on the principal components. "
   ]
  },
  {
   "cell_type": "code",
   "execution_count": 25,
   "id": "39290d35",
   "metadata": {},
   "outputs": [
    {
     "data": {
      "image/png": "[encoded data removed]",
      "text/plain": [
       "<Figure size 640x480 with 1 Axes>"
      ]
     },
     "metadata": {},
     "output_type": "display_data"
    }
   ],
   "source": [
    "# Projection of data onto components (rotation of data)\n",
    "\n",
    "projections = np.dot(zscores, eigenvectors)\n",
    "\n",
    "plt.scatter(projections[:,0], projections[:,1], c=projections[:, 2], s=1)\n",
    "plt.show()"
   ]
  },
  {
   "cell_type": "markdown",
   "id": "e356364c",
   "metadata": {},
   "source": [
    "### Here we perform the Factor analysis\n",
    "#### factor analysis is a rotation on a selected number of components. it is rotation on loadings. is not the rotaion in inner data space, but it is the rotation in the variable space."
   ]
  },
  {
   "cell_type": "code",
   "execution_count": 26,
   "id": "23c3382f",
   "metadata": {},
   "outputs": [],
   "source": [
    "def varimax(components, gamma=1, maxiter=20, tol=1e-8):\n",
    "    \"\"\"Perform VariMax (gamma=1) or OrthoMax (gamma=0) rotation on components\"\"\"\n",
    "    p,k = components.shape\n",
    "    R   = np.eye(k)\n",
    "    f   = float(gamma)/p\n",
    "    d   = 0\n",
    "    for i in range(maxiter):\n",
    "        d_old = d\n",
    "        L = np.dot(components, R)\n",
    "        A = L**3 - f * (L*(L**2).sum(axis=0))**2\n",
    "        U,s,V = np.linalg.svd(np.dot(components.T,A))\n",
    "        R = np.dot(U,V)\n",
    "        d = sum(s)\n",
    "        if (d - d_old)**2 < tol: \n",
    "            break\n",
    "    return np.dot(components, R)"
   ]
  },
  {
   "cell_type": "code",
   "execution_count": 27,
   "id": "26dc984a",
   "metadata": {},
   "outputs": [
    {
     "ename": "NameError",
     "evalue": "name 'variables' is not defined",
     "output_type": "error",
     "traceback": [
      "\u001b[1;31m---------------------------------------------------------------------------\u001b[0m",
      "\u001b[1;31mNameError\u001b[0m                                 Traceback (most recent call last)",
      "Input \u001b[1;32mIn [27]\u001b[0m, in \u001b[0;36m<cell line: 7>\u001b[1;34m()\u001b[0m\n\u001b[0;32m      5\u001b[0m ax\u001b[38;5;241m.\u001b[39mset_aspect(\u001b[38;5;124m'\u001b[39m\u001b[38;5;124mequal\u001b[39m\u001b[38;5;124m'\u001b[39m)\n\u001b[0;32m      6\u001b[0m plt\u001b[38;5;241m.\u001b[39mscatter(fa_projections[:,\u001b[38;5;241m0\u001b[39m], fa_projections[:,\u001b[38;5;241m1\u001b[39m], c\u001b[38;5;241m=\u001b[39mdf\u001b[38;5;241m.\u001b[39mSpecies\u001b[38;5;241m==\u001b[39m\u001b[38;5;124m'\u001b[39m\u001b[38;5;124mW\u001b[39m\u001b[38;5;124m'\u001b[39m, s\u001b[38;5;241m=\u001b[39m\u001b[38;5;241m1\u001b[39m)\n\u001b[1;32m----> 7\u001b[0m \u001b[38;5;28;01mfor\u001b[39;00m var, (x,y) \u001b[38;5;129;01min\u001b[39;00m \u001b[38;5;28mzip\u001b[39m(\u001b[43mvariables\u001b[49m, \u001b[38;5;241m10\u001b[39m\u001b[38;5;241m*\u001b[39mV[:, :\u001b[38;5;241m2\u001b[39m]):\n\u001b[0;32m      8\u001b[0m     plt\u001b[38;5;241m.\u001b[39marrow(\u001b[38;5;241m0\u001b[39m, \u001b[38;5;241m0\u001b[39m, x, y, head_width\u001b[38;5;241m=\u001b[39m\u001b[38;5;241m0.1\u001b[39m)\n\u001b[0;32m      9\u001b[0m     plt\u001b[38;5;241m.\u001b[39mtext(\u001b[38;5;241m1.1\u001b[39m\u001b[38;5;241m*\u001b[39mx, \u001b[38;5;241m1.1\u001b[39m\u001b[38;5;241m*\u001b[39my, var)\n",
      "\u001b[1;31mNameError\u001b[0m: name 'variables' is not defined"
     ]
    },
    {
     "data": {
      "image/png": "[encoded data removed]",
      "text/plain": [
       "<Figure size 1000x800 with 1 Axes>"
      ]
     },
     "metadata": {},
     "output_type": "display_data"
    }
   ],
   "source": [
    "V = varimax(eigenvectors[:, :2])\n",
    "\n",
    "fa_projections = np.dot(zscores, V)\n",
    "fig, ax = plt.subplots(figsize=(10,8))\n",
    "ax.set_aspect('equal')\n",
    "plt.scatter(fa_projections[:,0], fa_projections[:,1], c=df.Species=='W', s=1)\n",
    "for var, (x,y) in zip(variables, 10*V[:, :2]):\n",
    "    plt.arrow(0, 0, x, y, head_width=0.1)\n",
    "    plt.text(1.1*x, 1.1*y, var)\n",
    "    for Species, (x,y) in zip(df.Species, fa_projections[:, :2]):\n",
    "        plt.text(x, y, Species, c='red')\n",
    "        \n",
    "plt.title(\"projections on first two factors\")\n",
    "plt.xlabel('Factor1')\n",
    "plt.ylabel('Factor2')   \n",
    "plt.show()"
   ]
  },
  {
   "cell_type": "markdown",
   "id": "5f8b32b8",
   "metadata": {},
   "source": [
    "The varimax rotation resulted in the first component (factor)to be associated with the two species taxa, 3-tip and wyoming, and the second component to reflect the monoterpens."
   ]
  },
  {
   "cell_type": "markdown",
   "id": "845f0901",
   "metadata": {},
   "source": [
    "Based on the result of factor analysis we observe 4 comunities of monoterpens that were relevant to herbivor diet selection in two different sagebrush taxa. the community one: apinene, cymene, UNK12.4, UNK21, PCymene. the comunity 2: bphinene, Cineole, Unk20.5, Camphor, UNK3.2, Unk11.9. the comunity 3: Unk18.2. the comunity 4: Unk21.5, Unk18.6, aphellendrine. At the individual sampling unit (plant) level, 3-tip sagebrush Artemisia tripartita had a high probability of Community 1, whereas Wyoming sagebrush was dominated by Communities 1, 2 and 4.  "
   ]
  },
  {
   "cell_type": "markdown",
   "id": "f0f5b7dd",
   "metadata": {},
   "source": [
    "## 2- Linear regression on Metabolom data\n",
    "\n",
    "I am intersetd to see whether we can predict the amount of a particular monoterpen in a particular community of monoterpens (which identified form the Factor analysis in the previous step), from the level of another monoterpens in this community. and to understand that whether there is any linear relationship between the level of the monoterpens in a particular community of monoterpens. \n",
    "\n",
    "I choose the community one which include aPinen, pcymene, UNK12.4, Unk21, PCymene monoterpens. \n",
    "I choose apinene as a dependent variable (y), and  pcymene as an independent variable(X). and I will perform simple linear regression."
   ]
  },
  {
   "cell_type": "markdown",
   "id": "90d4d6b3",
   "metadata": {},
   "source": [
    "𝑦𝑖=𝑎+𝑏𝑥𝑖+𝜖𝑖\n",
    "\n",
    "our prediction (y^=yi) is based on three parameters: 𝑎 is intercept ,  𝑏  is the slope and the, and  𝜖𝑖  is residual(error) that captures the deviation of the response from the model. \n",
    "\n",
    "To fit the model, first we definr our y and x.  then we calculate the correlation between our observed y and our predicted y which named here as r2 and called also the square root of coefficient of dittermination. r2  indicate the proportion of explained variance. \n"
   ]
  },
  {
   "cell_type": "code",
   "execution_count": 147,
   "id": "d23c08ad",
   "metadata": {},
   "outputs": [
    {
     "name": "stdout",
     "output_type": "stream",
     "text": [
      "\n",
      "Intercept: -2.167\n",
      "Slope:     1.863\n",
      "r^2:         0.849\n"
     ]
    },
    {
     "data": {
      "image/png": "[encoded data removed]",
      "text/plain": [
       "<Figure size 432x288 with 2 Axes>"
      ]
     },
     "metadata": {
      "needs_background": "light"
     },
     "output_type": "display_data"
    }
   ],
   "source": [
    "import pandas as pd\n",
    "import numpy as np\n",
    "import matplotlib.pyplot as plt\n",
    "import matplotlib.collections as mc\n",
    "\n",
    "# Hardcore\n",
    "x = df.pcymene\n",
    "X = np.stack((np.ones(df.shape[0]), x), axis=1)\n",
    "y = df.aPinene\n",
    "a, b = np.linalg.inv(X.T @ X) @ X.T @ y\n",
    "\n",
    "# Fit:\n",
    "r2 = b**2 * x.var() / y.var()\n",
    "print(\"\\nIntercept: {:.3f}\\nSlope:     {:.3f}\\nr^2:         {:.3f}\".format(a, b, r2))\n",
    "\n",
    "# The regression line\n",
    "newx = np.linspace(x.min(), x.max())\n",
    "plt.plot(newx, a + b * newx, linewidth=3, c=\"orange\")\n",
    "\n",
    "# The residuals\n",
    "segs = np.array(((x, x), (y, a + b * x))).T\n",
    "axes = plt.axes()\n",
    "axes.add_collection(mc.LineCollection(segs, color=\"red\", linewidths=0.75))\n",
    "\n",
    "# The data\n",
    "plt.scatter(x, y)\n",
    "plt.xlabel(\"pcymene level\")\n",
    "plt.ylabel(\"aPinene level\")\n",
    "\n",
    "# The individual means\n",
    "plt.axvline(x.mean(), ls='--', lw=0.75)\n",
    "plt.axhline(y.mean(), ls='--', lw=0.75)\n",
    "\n",
    "plt.show()\n"
   ]
  },
  {
   "cell_type": "markdown",
   "id": "74f81c5c",
   "metadata": {},
   "source": [
    "The intercept is -2.167, and the slope coeficient for the explanotory variable is 1.863. the r2 is 0.85 which is very high, and shows that 85 percent of the varaition in dependent variable is explained by the independent variable(regressors). it means that there is linear relationship between the level of pcymene and aPinene. \n",
    "\n",
    "The r square value is used as a measure of goodness of fit. in this model the r2 is higher than 0.8 therefore our model is accurate. \n"
   ]
  },
  {
   "cell_type": "markdown",
   "id": "5008f32e",
   "metadata": {},
   "source": [
    "## 2- Dateset: SourceData2.xlsx \n",
    "\n",
    "This dataset contains infrared spectra from saliva from people that tested negative and people that tested positive for SARS nCoV2019. For each subject, three spectra were determined.\n",
    "\n",
    "Based on what has been described in the article, Infrared light interacting with the intrinsic vibrational modes of molecules generates a spectrum that represents a unique chemical fingerprint of the sample. These chemical fingerprints can be utilized to seprate these two groups of people(covid posive and negative). \n",
    "I would like to look for the component in this dataset that maximizes the separation of these two groups. Therefore, I will perform Linear discriminant Analysis. \n"
   ]
  },
  {
   "cell_type": "code",
   "execution_count": 207,
   "id": "aeff9901",
   "metadata": {},
   "outputs": [],
   "source": [
    "data = pd.read_excel('C:\\\\Users\\\\Gebruiker\\\\OneDrive\\\\Documents\\\\DSLS\\\\data science 2\\\\multivariate analysis\\\\MCA_5july\\\\SourceData2.xlsx')"
   ]
  },
  {
   "cell_type": "code",
   "execution_count": 208,
   "id": "06268e5e",
   "metadata": {},
   "outputs": [
    {
     "data": {
      "text/html": [
       "<div>\n",
       "<style scoped>\n",
       "    .dataframe tbody tr th:only-of-type {\n",
       "        vertical-align: middle;\n",
       "    }\n",
       "\n",
       "    .dataframe tbody tr th {\n",
       "        vertical-align: top;\n",
       "    }\n",
       "\n",
       "    .dataframe thead th {\n",
       "        text-align: right;\n",
       "    }\n",
       "</style>\n",
       "<table border=\"1\" class=\"dataframe\">\n",
       "  <thead>\n",
       "    <tr style=\"text-align: right;\">\n",
       "      <th></th>\n",
       "      <th>ID</th>\n",
       "      <th>Ct</th>\n",
       "      <th>1300</th>\n",
       "      <th>1298</th>\n",
       "      <th>1296</th>\n",
       "      <th>1294</th>\n",
       "      <th>1292</th>\n",
       "      <th>1290</th>\n",
       "      <th>1288</th>\n",
       "      <th>1286</th>\n",
       "      <th>...</th>\n",
       "      <th>818</th>\n",
       "      <th>816</th>\n",
       "      <th>814</th>\n",
       "      <th>812</th>\n",
       "      <th>810</th>\n",
       "      <th>808</th>\n",
       "      <th>806</th>\n",
       "      <th>804</th>\n",
       "      <th>802</th>\n",
       "      <th>800</th>\n",
       "    </tr>\n",
       "  </thead>\n",
       "  <tbody>\n",
       "    <tr>\n",
       "      <th>0</th>\n",
       "      <td>N1</td>\n",
       "      <td>NaN</td>\n",
       "      <td>0.277705</td>\n",
       "      <td>0.277532</td>\n",
       "      <td>0.277387</td>\n",
       "      <td>0.277217</td>\n",
       "      <td>0.277042</td>\n",
       "      <td>0.276930</td>\n",
       "      <td>0.276856</td>\n",
       "      <td>0.276737</td>\n",
       "      <td>...</td>\n",
       "      <td>0.242726</td>\n",
       "      <td>0.241897</td>\n",
       "      <td>0.241107</td>\n",
       "      <td>0.240374</td>\n",
       "      <td>0.239742</td>\n",
       "      <td>0.239234</td>\n",
       "      <td>0.238833</td>\n",
       "      <td>0.238523</td>\n",
       "      <td>0.238314</td>\n",
       "      <td>0.238197</td>\n",
       "    </tr>\n",
       "    <tr>\n",
       "      <th>1</th>\n",
       "      <td>N1</td>\n",
       "      <td>NaN</td>\n",
       "      <td>0.251624</td>\n",
       "      <td>0.251438</td>\n",
       "      <td>0.251268</td>\n",
       "      <td>0.251067</td>\n",
       "      <td>0.250843</td>\n",
       "      <td>0.250645</td>\n",
       "      <td>0.250467</td>\n",
       "      <td>0.250280</td>\n",
       "      <td>...</td>\n",
       "      <td>0.213427</td>\n",
       "      <td>0.212628</td>\n",
       "      <td>0.211891</td>\n",
       "      <td>0.211234</td>\n",
       "      <td>0.210662</td>\n",
       "      <td>0.210173</td>\n",
       "      <td>0.209763</td>\n",
       "      <td>0.209450</td>\n",
       "      <td>0.209267</td>\n",
       "      <td>0.209202</td>\n",
       "    </tr>\n",
       "    <tr>\n",
       "      <th>2</th>\n",
       "      <td>N1</td>\n",
       "      <td>NaN</td>\n",
       "      <td>0.083310</td>\n",
       "      <td>0.083293</td>\n",
       "      <td>0.083307</td>\n",
       "      <td>0.083338</td>\n",
       "      <td>0.083391</td>\n",
       "      <td>0.083478</td>\n",
       "      <td>0.083585</td>\n",
       "      <td>0.083674</td>\n",
       "      <td>...</td>\n",
       "      <td>0.085724</td>\n",
       "      <td>0.085260</td>\n",
       "      <td>0.084823</td>\n",
       "      <td>0.084445</td>\n",
       "      <td>0.084137</td>\n",
       "      <td>0.083894</td>\n",
       "      <td>0.083715</td>\n",
       "      <td>0.083602</td>\n",
       "      <td>0.083543</td>\n",
       "      <td>0.083495</td>\n",
       "    </tr>\n",
       "    <tr>\n",
       "      <th>3</th>\n",
       "      <td>N2</td>\n",
       "      <td>NaN</td>\n",
       "      <td>0.067509</td>\n",
       "      <td>0.067070</td>\n",
       "      <td>0.066684</td>\n",
       "      <td>0.066359</td>\n",
       "      <td>0.066106</td>\n",
       "      <td>0.065938</td>\n",
       "      <td>0.065852</td>\n",
       "      <td>0.065828</td>\n",
       "      <td>...</td>\n",
       "      <td>0.055012</td>\n",
       "      <td>0.054969</td>\n",
       "      <td>0.054902</td>\n",
       "      <td>0.054832</td>\n",
       "      <td>0.054781</td>\n",
       "      <td>0.054767</td>\n",
       "      <td>0.054787</td>\n",
       "      <td>0.054823</td>\n",
       "      <td>0.054857</td>\n",
       "      <td>0.054893</td>\n",
       "    </tr>\n",
       "    <tr>\n",
       "      <th>4</th>\n",
       "      <td>N2</td>\n",
       "      <td>NaN</td>\n",
       "      <td>0.129576</td>\n",
       "      <td>0.128690</td>\n",
       "      <td>0.127912</td>\n",
       "      <td>0.127232</td>\n",
       "      <td>0.126676</td>\n",
       "      <td>0.126306</td>\n",
       "      <td>0.126138</td>\n",
       "      <td>0.126113</td>\n",
       "      <td>...</td>\n",
       "      <td>0.099128</td>\n",
       "      <td>0.098794</td>\n",
       "      <td>0.098337</td>\n",
       "      <td>0.097886</td>\n",
       "      <td>0.097527</td>\n",
       "      <td>0.097272</td>\n",
       "      <td>0.097091</td>\n",
       "      <td>0.096970</td>\n",
       "      <td>0.096906</td>\n",
       "      <td>0.096881</td>\n",
       "    </tr>\n",
       "    <tr>\n",
       "      <th>...</th>\n",
       "      <td>...</td>\n",
       "      <td>...</td>\n",
       "      <td>...</td>\n",
       "      <td>...</td>\n",
       "      <td>...</td>\n",
       "      <td>...</td>\n",
       "      <td>...</td>\n",
       "      <td>...</td>\n",
       "      <td>...</td>\n",
       "      <td>...</td>\n",
       "      <td>...</td>\n",
       "      <td>...</td>\n",
       "      <td>...</td>\n",
       "      <td>...</td>\n",
       "      <td>...</td>\n",
       "      <td>...</td>\n",
       "      <td>...</td>\n",
       "      <td>...</td>\n",
       "      <td>...</td>\n",
       "      <td>...</td>\n",
       "      <td>...</td>\n",
       "    </tr>\n",
       "    <tr>\n",
       "      <th>178</th>\n",
       "      <td>P30</td>\n",
       "      <td>16.95</td>\n",
       "      <td>0.169349</td>\n",
       "      <td>0.169277</td>\n",
       "      <td>0.169212</td>\n",
       "      <td>0.169121</td>\n",
       "      <td>0.169057</td>\n",
       "      <td>0.169072</td>\n",
       "      <td>0.169133</td>\n",
       "      <td>0.169197</td>\n",
       "      <td>...</td>\n",
       "      <td>0.103987</td>\n",
       "      <td>0.103974</td>\n",
       "      <td>0.103963</td>\n",
       "      <td>0.103903</td>\n",
       "      <td>0.103825</td>\n",
       "      <td>0.103762</td>\n",
       "      <td>0.103700</td>\n",
       "      <td>0.103615</td>\n",
       "      <td>0.103513</td>\n",
       "      <td>0.103393</td>\n",
       "    </tr>\n",
       "    <tr>\n",
       "      <th>179</th>\n",
       "      <td>P30</td>\n",
       "      <td>16.95</td>\n",
       "      <td>0.277632</td>\n",
       "      <td>0.277423</td>\n",
       "      <td>0.277119</td>\n",
       "      <td>0.276688</td>\n",
       "      <td>0.276211</td>\n",
       "      <td>0.275814</td>\n",
       "      <td>0.275529</td>\n",
       "      <td>0.275318</td>\n",
       "      <td>...</td>\n",
       "      <td>0.177726</td>\n",
       "      <td>0.178111</td>\n",
       "      <td>0.178484</td>\n",
       "      <td>0.178827</td>\n",
       "      <td>0.179161</td>\n",
       "      <td>0.179454</td>\n",
       "      <td>0.179650</td>\n",
       "      <td>0.179756</td>\n",
       "      <td>0.179837</td>\n",
       "      <td>0.179928</td>\n",
       "    </tr>\n",
       "    <tr>\n",
       "      <th>180</th>\n",
       "      <td>P31</td>\n",
       "      <td>32.10</td>\n",
       "      <td>0.175842</td>\n",
       "      <td>0.174590</td>\n",
       "      <td>0.173493</td>\n",
       "      <td>0.172534</td>\n",
       "      <td>0.171712</td>\n",
       "      <td>0.171067</td>\n",
       "      <td>0.170605</td>\n",
       "      <td>0.170303</td>\n",
       "      <td>...</td>\n",
       "      <td>0.097160</td>\n",
       "      <td>0.097295</td>\n",
       "      <td>0.097339</td>\n",
       "      <td>0.097355</td>\n",
       "      <td>0.097408</td>\n",
       "      <td>0.097484</td>\n",
       "      <td>0.097523</td>\n",
       "      <td>0.097521</td>\n",
       "      <td>0.097521</td>\n",
       "      <td>0.097536</td>\n",
       "    </tr>\n",
       "    <tr>\n",
       "      <th>181</th>\n",
       "      <td>P31</td>\n",
       "      <td>32.10</td>\n",
       "      <td>0.305833</td>\n",
       "      <td>0.304135</td>\n",
       "      <td>0.302663</td>\n",
       "      <td>0.301395</td>\n",
       "      <td>0.300495</td>\n",
       "      <td>0.300195</td>\n",
       "      <td>0.300463</td>\n",
       "      <td>0.301050</td>\n",
       "      <td>...</td>\n",
       "      <td>0.221463</td>\n",
       "      <td>0.222138</td>\n",
       "      <td>0.222542</td>\n",
       "      <td>0.222775</td>\n",
       "      <td>0.222966</td>\n",
       "      <td>0.223190</td>\n",
       "      <td>0.223473</td>\n",
       "      <td>0.223837</td>\n",
       "      <td>0.224288</td>\n",
       "      <td>0.224766</td>\n",
       "    </tr>\n",
       "    <tr>\n",
       "      <th>182</th>\n",
       "      <td>P31</td>\n",
       "      <td>32.10</td>\n",
       "      <td>0.271944</td>\n",
       "      <td>0.270299</td>\n",
       "      <td>0.268843</td>\n",
       "      <td>0.267598</td>\n",
       "      <td>0.266660</td>\n",
       "      <td>0.266113</td>\n",
       "      <td>0.265897</td>\n",
       "      <td>0.265881</td>\n",
       "      <td>...</td>\n",
       "      <td>0.173923</td>\n",
       "      <td>0.174306</td>\n",
       "      <td>0.174538</td>\n",
       "      <td>0.174685</td>\n",
       "      <td>0.174833</td>\n",
       "      <td>0.175021</td>\n",
       "      <td>0.175224</td>\n",
       "      <td>0.175406</td>\n",
       "      <td>0.175568</td>\n",
       "      <td>0.175727</td>\n",
       "    </tr>\n",
       "  </tbody>\n",
       "</table>\n",
       "<p>183 rows × 253 columns</p>\n",
       "</div>"
      ],
      "text/plain": [
       "      ID     Ct      1300      1298      1296      1294      1292      1290  \\\n",
       "0     N1    NaN  0.277705  0.277532  0.277387  0.277217  0.277042  0.276930   \n",
       "1     N1    NaN  0.251624  0.251438  0.251268  0.251067  0.250843  0.250645   \n",
       "2     N1    NaN  0.083310  0.083293  0.083307  0.083338  0.083391  0.083478   \n",
       "3     N2    NaN  0.067509  0.067070  0.066684  0.066359  0.066106  0.065938   \n",
       "4     N2    NaN  0.129576  0.128690  0.127912  0.127232  0.126676  0.126306   \n",
       "..   ...    ...       ...       ...       ...       ...       ...       ...   \n",
       "178  P30  16.95  0.169349  0.169277  0.169212  0.169121  0.169057  0.169072   \n",
       "179  P30  16.95  0.277632  0.277423  0.277119  0.276688  0.276211  0.275814   \n",
       "180  P31  32.10  0.175842  0.174590  0.173493  0.172534  0.171712  0.171067   \n",
       "181  P31  32.10  0.305833  0.304135  0.302663  0.301395  0.300495  0.300195   \n",
       "182  P31  32.10  0.271944  0.270299  0.268843  0.267598  0.266660  0.266113   \n",
       "\n",
       "         1288      1286  ...       818       816       814       812  \\\n",
       "0    0.276856  0.276737  ...  0.242726  0.241897  0.241107  0.240374   \n",
       "1    0.250467  0.250280  ...  0.213427  0.212628  0.211891  0.211234   \n",
       "2    0.083585  0.083674  ...  0.085724  0.085260  0.084823  0.084445   \n",
       "3    0.065852  0.065828  ...  0.055012  0.054969  0.054902  0.054832   \n",
       "4    0.126138  0.126113  ...  0.099128  0.098794  0.098337  0.097886   \n",
       "..        ...       ...  ...       ...       ...       ...       ...   \n",
       "178  0.169133  0.169197  ...  0.103987  0.103974  0.103963  0.103903   \n",
       "179  0.275529  0.275318  ...  0.177726  0.178111  0.178484  0.178827   \n",
       "180  0.170605  0.170303  ...  0.097160  0.097295  0.097339  0.097355   \n",
       "181  0.300463  0.301050  ...  0.221463  0.222138  0.222542  0.222775   \n",
       "182  0.265897  0.265881  ...  0.173923  0.174306  0.174538  0.174685   \n",
       "\n",
       "          810       808       806       804       802       800  \n",
       "0    0.239742  0.239234  0.238833  0.238523  0.238314  0.238197  \n",
       "1    0.210662  0.210173  0.209763  0.209450  0.209267  0.209202  \n",
       "2    0.084137  0.083894  0.083715  0.083602  0.083543  0.083495  \n",
       "3    0.054781  0.054767  0.054787  0.054823  0.054857  0.054893  \n",
       "4    0.097527  0.097272  0.097091  0.096970  0.096906  0.096881  \n",
       "..        ...       ...       ...       ...       ...       ...  \n",
       "178  0.103825  0.103762  0.103700  0.103615  0.103513  0.103393  \n",
       "179  0.179161  0.179454  0.179650  0.179756  0.179837  0.179928  \n",
       "180  0.097408  0.097484  0.097523  0.097521  0.097521  0.097536  \n",
       "181  0.222966  0.223190  0.223473  0.223837  0.224288  0.224766  \n",
       "182  0.174833  0.175021  0.175224  0.175406  0.175568  0.175727  \n",
       "\n",
       "[183 rows x 253 columns]"
      ]
     },
     "execution_count": 208,
     "metadata": {},
     "output_type": "execute_result"
    }
   ],
   "source": [
    "data"
   ]
  },
  {
   "cell_type": "markdown",
   "id": "e1e50cbd",
   "metadata": {},
   "source": [
    "#### First I will add a new column to data frame which define all the negative cases with 'N', and all the positive cases to 'p'"
   ]
  },
  {
   "cell_type": "code",
   "execution_count": 209,
   "id": "602ef17e",
   "metadata": {},
   "outputs": [],
   "source": [
    "#form 0 to 89 is N, form 90 to 182 is p. "
   ]
  },
  {
   "cell_type": "code",
   "execution_count": 210,
   "id": "9cc098ad",
   "metadata": {},
   "outputs": [
    {
     "data": {
      "text/plain": [
       "array(['N1', 'N2', 'N3', 'N4', 'N5', 'N6', 'N7', 'N8', 'N9', 'N10', 'N11',\n",
       "       'N12', 'N13', 'N14', 'N15', 'N16', 'N17', 'N18', 'N19', 'N20',\n",
       "       'N21', 'N22', 'N23', 'N24', 'N25', 'N26', 'N27', 'N28', 'N29',\n",
       "       'N30', 'P1', 'P2', 'P3', 'P4', 'P5', 'P6', 'P7', 'P8', 'P9', 'P10',\n",
       "       'P11', 'P12', 'P13', 'P14', 'P15', 'P16', 'P17', 'P18', 'P19',\n",
       "       'P20', 'P21', 'P22', 'P23', 'P24', 'P25', 'P26', 'P27', 'P28',\n",
       "       'P29', 'P30', 'P31'], dtype=object)"
      ]
     },
     "execution_count": 210,
     "metadata": {},
     "output_type": "execute_result"
    }
   ],
   "source": [
    "# checking whether there is strange data in the 'ID' column\n",
    "data['ID'].unique()"
   ]
  },
  {
   "cell_type": "code",
   "execution_count": 211,
   "id": "5223584e",
   "metadata": {},
   "outputs": [
    {
     "data": {
      "text/plain": [
       "N1     3\n",
       "P2     3\n",
       "P4     3\n",
       "P5     3\n",
       "P6     3\n",
       "      ..\n",
       "N26    3\n",
       "N27    3\n",
       "N28    3\n",
       "N29    3\n",
       "P31    3\n",
       "Name: ID, Length: 61, dtype: int64"
      ]
     },
     "execution_count": 211,
     "metadata": {},
     "output_type": "execute_result"
    }
   ],
   "source": [
    "data['ID'].value_counts()"
   ]
  },
  {
   "cell_type": "code",
   "execution_count": 212,
   "id": "2e31b1b1",
   "metadata": {},
   "outputs": [
    {
     "data": {
      "text/plain": [
       "array(['N', 'N', 'N', 'N', 'N', 'N', 'N', 'N', 'N', 'N', 'N', 'N', 'N',\n",
       "       'N', 'N', 'N', 'N', 'N', 'N', 'N', 'N', 'N', 'N', 'N', 'N', 'N',\n",
       "       'N', 'N', 'N', 'N', 'N', 'N', 'N', 'N', 'N', 'N', 'N', 'N', 'N',\n",
       "       'N', 'N', 'N', 'N', 'N', 'N', 'N', 'N', 'N', 'N', 'N', 'N', 'N',\n",
       "       'N', 'N', 'N', 'N', 'N', 'N', 'N', 'N', 'N', 'N', 'N', 'N', 'N',\n",
       "       'N', 'N', 'N', 'N', 'N', 'N', 'N', 'N', 'N', 'N', 'N', 'N', 'N',\n",
       "       'N', 'N', 'N', 'N', 'N', 'N', 'N', 'N', 'N', 'N', 'N', 'N', 'P',\n",
       "       'P', 'P', 'P', 'P', 'P', 'P', 'P', 'P', 'P', 'P', 'P', 'P', 'P',\n",
       "       'P', 'P', 'P', 'P', 'P', 'P', 'P', 'P', 'P', 'P', 'P', 'P', 'P',\n",
       "       'P', 'P', 'P', 'P', 'P', 'P', 'P', 'P', 'P', 'P', 'P', 'P', 'P',\n",
       "       'P', 'P', 'P', 'P', 'P', 'P', 'P', 'P', 'P', 'P', 'P', 'P', 'P',\n",
       "       'P', 'P', 'P', 'P', 'P', 'P', 'P', 'P', 'P', 'P', 'P', 'P', 'P',\n",
       "       'P', 'P', 'P', 'P', 'P', 'P', 'P', 'P', 'P', 'P', 'P', 'P', 'P',\n",
       "       'P', 'P', 'P', 'P', 'P', 'P', 'P', 'P', 'P', 'P', 'P', 'P', 'P',\n",
       "       'P'], dtype='<U1')"
      ]
     },
     "execution_count": 212,
     "metadata": {},
     "output_type": "execute_result"
    }
   ],
   "source": [
    "n_array = np.repeat('N', 90)\n",
    "p_array = np.repeat('P', 93)\n",
    "test = np.concatenate((n_array, p_array))\n",
    "test"
   ]
  },
  {
   "cell_type": "code",
   "execution_count": 213,
   "id": "a3e94706",
   "metadata": {},
   "outputs": [],
   "source": [
    "data['Diagnostic'] = test"
   ]
  },
  {
   "cell_type": "code",
   "execution_count": 214,
   "id": "9662d2b7",
   "metadata": {},
   "outputs": [
    {
     "data": {
      "text/html": [
       "<div>\n",
       "<style scoped>\n",
       "    .dataframe tbody tr th:only-of-type {\n",
       "        vertical-align: middle;\n",
       "    }\n",
       "\n",
       "    .dataframe tbody tr th {\n",
       "        vertical-align: top;\n",
       "    }\n",
       "\n",
       "    .dataframe thead th {\n",
       "        text-align: right;\n",
       "    }\n",
       "</style>\n",
       "<table border=\"1\" class=\"dataframe\">\n",
       "  <thead>\n",
       "    <tr style=\"text-align: right;\">\n",
       "      <th></th>\n",
       "      <th>ID</th>\n",
       "      <th>Ct</th>\n",
       "      <th>1300</th>\n",
       "      <th>1298</th>\n",
       "      <th>1296</th>\n",
       "      <th>1294</th>\n",
       "      <th>1292</th>\n",
       "      <th>1290</th>\n",
       "      <th>1288</th>\n",
       "      <th>1286</th>\n",
       "      <th>...</th>\n",
       "      <th>816</th>\n",
       "      <th>814</th>\n",
       "      <th>812</th>\n",
       "      <th>810</th>\n",
       "      <th>808</th>\n",
       "      <th>806</th>\n",
       "      <th>804</th>\n",
       "      <th>802</th>\n",
       "      <th>800</th>\n",
       "      <th>Diagnostic</th>\n",
       "    </tr>\n",
       "  </thead>\n",
       "  <tbody>\n",
       "    <tr>\n",
       "      <th>0</th>\n",
       "      <td>N1</td>\n",
       "      <td>NaN</td>\n",
       "      <td>0.277705</td>\n",
       "      <td>0.277532</td>\n",
       "      <td>0.277387</td>\n",
       "      <td>0.277217</td>\n",
       "      <td>0.277042</td>\n",
       "      <td>0.276930</td>\n",
       "      <td>0.276856</td>\n",
       "      <td>0.276737</td>\n",
       "      <td>...</td>\n",
       "      <td>0.241897</td>\n",
       "      <td>0.241107</td>\n",
       "      <td>0.240374</td>\n",
       "      <td>0.239742</td>\n",
       "      <td>0.239234</td>\n",
       "      <td>0.238833</td>\n",
       "      <td>0.238523</td>\n",
       "      <td>0.238314</td>\n",
       "      <td>0.238197</td>\n",
       "      <td>N</td>\n",
       "    </tr>\n",
       "    <tr>\n",
       "      <th>1</th>\n",
       "      <td>N1</td>\n",
       "      <td>NaN</td>\n",
       "      <td>0.251624</td>\n",
       "      <td>0.251438</td>\n",
       "      <td>0.251268</td>\n",
       "      <td>0.251067</td>\n",
       "      <td>0.250843</td>\n",
       "      <td>0.250645</td>\n",
       "      <td>0.250467</td>\n",
       "      <td>0.250280</td>\n",
       "      <td>...</td>\n",
       "      <td>0.212628</td>\n",
       "      <td>0.211891</td>\n",
       "      <td>0.211234</td>\n",
       "      <td>0.210662</td>\n",
       "      <td>0.210173</td>\n",
       "      <td>0.209763</td>\n",
       "      <td>0.209450</td>\n",
       "      <td>0.209267</td>\n",
       "      <td>0.209202</td>\n",
       "      <td>N</td>\n",
       "    </tr>\n",
       "    <tr>\n",
       "      <th>2</th>\n",
       "      <td>N1</td>\n",
       "      <td>NaN</td>\n",
       "      <td>0.083310</td>\n",
       "      <td>0.083293</td>\n",
       "      <td>0.083307</td>\n",
       "      <td>0.083338</td>\n",
       "      <td>0.083391</td>\n",
       "      <td>0.083478</td>\n",
       "      <td>0.083585</td>\n",
       "      <td>0.083674</td>\n",
       "      <td>...</td>\n",
       "      <td>0.085260</td>\n",
       "      <td>0.084823</td>\n",
       "      <td>0.084445</td>\n",
       "      <td>0.084137</td>\n",
       "      <td>0.083894</td>\n",
       "      <td>0.083715</td>\n",
       "      <td>0.083602</td>\n",
       "      <td>0.083543</td>\n",
       "      <td>0.083495</td>\n",
       "      <td>N</td>\n",
       "    </tr>\n",
       "    <tr>\n",
       "      <th>3</th>\n",
       "      <td>N2</td>\n",
       "      <td>NaN</td>\n",
       "      <td>0.067509</td>\n",
       "      <td>0.067070</td>\n",
       "      <td>0.066684</td>\n",
       "      <td>0.066359</td>\n",
       "      <td>0.066106</td>\n",
       "      <td>0.065938</td>\n",
       "      <td>0.065852</td>\n",
       "      <td>0.065828</td>\n",
       "      <td>...</td>\n",
       "      <td>0.054969</td>\n",
       "      <td>0.054902</td>\n",
       "      <td>0.054832</td>\n",
       "      <td>0.054781</td>\n",
       "      <td>0.054767</td>\n",
       "      <td>0.054787</td>\n",
       "      <td>0.054823</td>\n",
       "      <td>0.054857</td>\n",
       "      <td>0.054893</td>\n",
       "      <td>N</td>\n",
       "    </tr>\n",
       "    <tr>\n",
       "      <th>4</th>\n",
       "      <td>N2</td>\n",
       "      <td>NaN</td>\n",
       "      <td>0.129576</td>\n",
       "      <td>0.128690</td>\n",
       "      <td>0.127912</td>\n",
       "      <td>0.127232</td>\n",
       "      <td>0.126676</td>\n",
       "      <td>0.126306</td>\n",
       "      <td>0.126138</td>\n",
       "      <td>0.126113</td>\n",
       "      <td>...</td>\n",
       "      <td>0.098794</td>\n",
       "      <td>0.098337</td>\n",
       "      <td>0.097886</td>\n",
       "      <td>0.097527</td>\n",
       "      <td>0.097272</td>\n",
       "      <td>0.097091</td>\n",
       "      <td>0.096970</td>\n",
       "      <td>0.096906</td>\n",
       "      <td>0.096881</td>\n",
       "      <td>N</td>\n",
       "    </tr>\n",
       "    <tr>\n",
       "      <th>...</th>\n",
       "      <td>...</td>\n",
       "      <td>...</td>\n",
       "      <td>...</td>\n",
       "      <td>...</td>\n",
       "      <td>...</td>\n",
       "      <td>...</td>\n",
       "      <td>...</td>\n",
       "      <td>...</td>\n",
       "      <td>...</td>\n",
       "      <td>...</td>\n",
       "      <td>...</td>\n",
       "      <td>...</td>\n",
       "      <td>...</td>\n",
       "      <td>...</td>\n",
       "      <td>...</td>\n",
       "      <td>...</td>\n",
       "      <td>...</td>\n",
       "      <td>...</td>\n",
       "      <td>...</td>\n",
       "      <td>...</td>\n",
       "      <td>...</td>\n",
       "    </tr>\n",
       "    <tr>\n",
       "      <th>178</th>\n",
       "      <td>P30</td>\n",
       "      <td>16.95</td>\n",
       "      <td>0.169349</td>\n",
       "      <td>0.169277</td>\n",
       "      <td>0.169212</td>\n",
       "      <td>0.169121</td>\n",
       "      <td>0.169057</td>\n",
       "      <td>0.169072</td>\n",
       "      <td>0.169133</td>\n",
       "      <td>0.169197</td>\n",
       "      <td>...</td>\n",
       "      <td>0.103974</td>\n",
       "      <td>0.103963</td>\n",
       "      <td>0.103903</td>\n",
       "      <td>0.103825</td>\n",
       "      <td>0.103762</td>\n",
       "      <td>0.103700</td>\n",
       "      <td>0.103615</td>\n",
       "      <td>0.103513</td>\n",
       "      <td>0.103393</td>\n",
       "      <td>P</td>\n",
       "    </tr>\n",
       "    <tr>\n",
       "      <th>179</th>\n",
       "      <td>P30</td>\n",
       "      <td>16.95</td>\n",
       "      <td>0.277632</td>\n",
       "      <td>0.277423</td>\n",
       "      <td>0.277119</td>\n",
       "      <td>0.276688</td>\n",
       "      <td>0.276211</td>\n",
       "      <td>0.275814</td>\n",
       "      <td>0.275529</td>\n",
       "      <td>0.275318</td>\n",
       "      <td>...</td>\n",
       "      <td>0.178111</td>\n",
       "      <td>0.178484</td>\n",
       "      <td>0.178827</td>\n",
       "      <td>0.179161</td>\n",
       "      <td>0.179454</td>\n",
       "      <td>0.179650</td>\n",
       "      <td>0.179756</td>\n",
       "      <td>0.179837</td>\n",
       "      <td>0.179928</td>\n",
       "      <td>P</td>\n",
       "    </tr>\n",
       "    <tr>\n",
       "      <th>180</th>\n",
       "      <td>P31</td>\n",
       "      <td>32.10</td>\n",
       "      <td>0.175842</td>\n",
       "      <td>0.174590</td>\n",
       "      <td>0.173493</td>\n",
       "      <td>0.172534</td>\n",
       "      <td>0.171712</td>\n",
       "      <td>0.171067</td>\n",
       "      <td>0.170605</td>\n",
       "      <td>0.170303</td>\n",
       "      <td>...</td>\n",
       "      <td>0.097295</td>\n",
       "      <td>0.097339</td>\n",
       "      <td>0.097355</td>\n",
       "      <td>0.097408</td>\n",
       "      <td>0.097484</td>\n",
       "      <td>0.097523</td>\n",
       "      <td>0.097521</td>\n",
       "      <td>0.097521</td>\n",
       "      <td>0.097536</td>\n",
       "      <td>P</td>\n",
       "    </tr>\n",
       "    <tr>\n",
       "      <th>181</th>\n",
       "      <td>P31</td>\n",
       "      <td>32.10</td>\n",
       "      <td>0.305833</td>\n",
       "      <td>0.304135</td>\n",
       "      <td>0.302663</td>\n",
       "      <td>0.301395</td>\n",
       "      <td>0.300495</td>\n",
       "      <td>0.300195</td>\n",
       "      <td>0.300463</td>\n",
       "      <td>0.301050</td>\n",
       "      <td>...</td>\n",
       "      <td>0.222138</td>\n",
       "      <td>0.222542</td>\n",
       "      <td>0.222775</td>\n",
       "      <td>0.222966</td>\n",
       "      <td>0.223190</td>\n",
       "      <td>0.223473</td>\n",
       "      <td>0.223837</td>\n",
       "      <td>0.224288</td>\n",
       "      <td>0.224766</td>\n",
       "      <td>P</td>\n",
       "    </tr>\n",
       "    <tr>\n",
       "      <th>182</th>\n",
       "      <td>P31</td>\n",
       "      <td>32.10</td>\n",
       "      <td>0.271944</td>\n",
       "      <td>0.270299</td>\n",
       "      <td>0.268843</td>\n",
       "      <td>0.267598</td>\n",
       "      <td>0.266660</td>\n",
       "      <td>0.266113</td>\n",
       "      <td>0.265897</td>\n",
       "      <td>0.265881</td>\n",
       "      <td>...</td>\n",
       "      <td>0.174306</td>\n",
       "      <td>0.174538</td>\n",
       "      <td>0.174685</td>\n",
       "      <td>0.174833</td>\n",
       "      <td>0.175021</td>\n",
       "      <td>0.175224</td>\n",
       "      <td>0.175406</td>\n",
       "      <td>0.175568</td>\n",
       "      <td>0.175727</td>\n",
       "      <td>P</td>\n",
       "    </tr>\n",
       "  </tbody>\n",
       "</table>\n",
       "<p>183 rows × 254 columns</p>\n",
       "</div>"
      ],
      "text/plain": [
       "      ID     Ct      1300      1298      1296      1294      1292      1290  \\\n",
       "0     N1    NaN  0.277705  0.277532  0.277387  0.277217  0.277042  0.276930   \n",
       "1     N1    NaN  0.251624  0.251438  0.251268  0.251067  0.250843  0.250645   \n",
       "2     N1    NaN  0.083310  0.083293  0.083307  0.083338  0.083391  0.083478   \n",
       "3     N2    NaN  0.067509  0.067070  0.066684  0.066359  0.066106  0.065938   \n",
       "4     N2    NaN  0.129576  0.128690  0.127912  0.127232  0.126676  0.126306   \n",
       "..   ...    ...       ...       ...       ...       ...       ...       ...   \n",
       "178  P30  16.95  0.169349  0.169277  0.169212  0.169121  0.169057  0.169072   \n",
       "179  P30  16.95  0.277632  0.277423  0.277119  0.276688  0.276211  0.275814   \n",
       "180  P31  32.10  0.175842  0.174590  0.173493  0.172534  0.171712  0.171067   \n",
       "181  P31  32.10  0.305833  0.304135  0.302663  0.301395  0.300495  0.300195   \n",
       "182  P31  32.10  0.271944  0.270299  0.268843  0.267598  0.266660  0.266113   \n",
       "\n",
       "         1288      1286  ...       816       814       812       810  \\\n",
       "0    0.276856  0.276737  ...  0.241897  0.241107  0.240374  0.239742   \n",
       "1    0.250467  0.250280  ...  0.212628  0.211891  0.211234  0.210662   \n",
       "2    0.083585  0.083674  ...  0.085260  0.084823  0.084445  0.084137   \n",
       "3    0.065852  0.065828  ...  0.054969  0.054902  0.054832  0.054781   \n",
       "4    0.126138  0.126113  ...  0.098794  0.098337  0.097886  0.097527   \n",
       "..        ...       ...  ...       ...       ...       ...       ...   \n",
       "178  0.169133  0.169197  ...  0.103974  0.103963  0.103903  0.103825   \n",
       "179  0.275529  0.275318  ...  0.178111  0.178484  0.178827  0.179161   \n",
       "180  0.170605  0.170303  ...  0.097295  0.097339  0.097355  0.097408   \n",
       "181  0.300463  0.301050  ...  0.222138  0.222542  0.222775  0.222966   \n",
       "182  0.265897  0.265881  ...  0.174306  0.174538  0.174685  0.174833   \n",
       "\n",
       "          808       806       804       802       800  Diagnostic  \n",
       "0    0.239234  0.238833  0.238523  0.238314  0.238197           N  \n",
       "1    0.210173  0.209763  0.209450  0.209267  0.209202           N  \n",
       "2    0.083894  0.083715  0.083602  0.083543  0.083495           N  \n",
       "3    0.054767  0.054787  0.054823  0.054857  0.054893           N  \n",
       "4    0.097272  0.097091  0.096970  0.096906  0.096881           N  \n",
       "..        ...       ...       ...       ...       ...         ...  \n",
       "178  0.103762  0.103700  0.103615  0.103513  0.103393           P  \n",
       "179  0.179454  0.179650  0.179756  0.179837  0.179928           P  \n",
       "180  0.097484  0.097523  0.097521  0.097521  0.097536           P  \n",
       "181  0.223190  0.223473  0.223837  0.224288  0.224766           P  \n",
       "182  0.175021  0.175224  0.175406  0.175568  0.175727           P  \n",
       "\n",
       "[183 rows x 254 columns]"
      ]
     },
     "execution_count": 214,
     "metadata": {},
     "output_type": "execute_result"
    }
   ],
   "source": [
    "data"
   ]
  },
  {
   "cell_type": "code",
   "execution_count": 215,
   "id": "e17c23d9",
   "metadata": {},
   "outputs": [
    {
     "name": "stdout",
     "output_type": "stream",
     "text": [
      "<class 'pandas.core.frame.DataFrame'>\n",
      "RangeIndex: 183 entries, 0 to 182\n",
      "Columns: 254 entries, ID to Diagnostic\n",
      "dtypes: float64(252), object(2)\n",
      "memory usage: 363.3+ KB\n"
     ]
    }
   ],
   "source": [
    "data.info()"
   ]
  },
  {
   "cell_type": "code",
   "execution_count": 216,
   "id": "4a4099c1",
   "metadata": {},
   "outputs": [
    {
     "data": {
      "text/plain": [
       "(183, 254)"
      ]
     },
     "execution_count": 216,
     "metadata": {},
     "output_type": "execute_result"
    }
   ],
   "source": [
    "# getting an idea of the size of the data\n",
    "data.shape"
   ]
  },
  {
   "cell_type": "code",
   "execution_count": 217,
   "id": "00fb6416",
   "metadata": {},
   "outputs": [
    {
     "data": {
      "text/plain": [
       "ID              0\n",
       "Ct            132\n",
       "1300            0\n",
       "1298            0\n",
       "1296            0\n",
       "             ... \n",
       "806             0\n",
       "804             0\n",
       "802             0\n",
       "800             0\n",
       "Diagnostic      0\n",
       "Length: 254, dtype: int64"
      ]
     },
     "execution_count": 217,
     "metadata": {},
     "output_type": "execute_result"
    }
   ],
   "source": [
    "# Checking for null values\n",
    "data.isnull().sum()"
   ]
  },
  {
   "cell_type": "markdown",
   "id": "dd43ee84",
   "metadata": {},
   "source": [
    "only 'ct' column contains missing values. since I do not use this column for the analysis, no need to drop these rows. "
   ]
  },
  {
   "cell_type": "markdown",
   "id": "bd73b08a",
   "metadata": {},
   "source": [
    "## Code to perform the LDA"
   ]
  },
  {
   "cell_type": "markdown",
   "id": "72aa6791",
   "metadata": {},
   "source": [
    "first we select our two groups(positive and negative). then, we make the means of the two groups. in LDA, the Distance to the class mean is used. In the next step we make the pooled covariance matrix(S). then LDA gives a single component 'a' which represents the maximum sepration of the two groups. then we project the data on the discriminant axis. We deflate the data to remove the projection onto the LDA component. A subsequent PCA on the deflated data gives the principal directions of variance that are orthogonal to the direction of maximum discrimination. then we Plot the projection on the discriminating axis and on the first pc of the deflated data. \n",
    "\n",
    "\n",
    "For LDA we do not need to consider the  normality assumption. \n"
   ]
  },
  {
   "cell_type": "code",
   "execution_count": 218,
   "id": "29a51899",
   "metadata": {},
   "outputs": [],
   "source": [
    "# I select the columns that contain  spectra values  (from 2 to 253)\n",
    "\n",
    "negative = np.array(data[data.Diagnostic == 'N'].values[:, 2:253], dtype=float)\n",
    "positive = np.array(data[data.Diagnostic == 'P'].values[:, 2:253], dtype=float)"
   ]
  },
  {
   "cell_type": "code",
   "execution_count": 219,
   "id": "091d022a",
   "metadata": {},
   "outputs": [],
   "source": [
    "# making the means of the two groups\n",
    "mn = negative.mean(axis=0)\n",
    "mp = positive.mean(axis=0)"
   ]
  },
  {
   "cell_type": "code",
   "execution_count": 220,
   "id": "782217af",
   "metadata": {},
   "outputs": [],
   "source": [
    "# define  the shape of each group\n",
    "shn = negative.shape[0]\n",
    "shp = positive.shape[0]"
   ]
  },
  {
   "cell_type": "code",
   "execution_count": 221,
   "id": "71016d4d",
   "metadata": {},
   "outputs": [],
   "source": [
    "# making the covariance matrix of each group\n",
    "Sn = np.cov(negative.T)\n",
    "Sp = np.cov(positive.T)"
   ]
  },
  {
   "cell_type": "code",
   "execution_count": 222,
   "id": "7d047cbe",
   "metadata": {},
   "outputs": [],
   "source": [
    "# making the pooled covariance matrix\n",
    "Sp = ((shn - 1) * Sn + (shp - 1) * Sp) / (shn + shp - 2)"
   ]
  },
  {
   "cell_type": "code",
   "execution_count": 223,
   "id": "722f0ceb",
   "metadata": {},
   "outputs": [],
   "source": [
    "# The discriminant axis\n",
    "a = np.linalg.inv(Sp) @ (mn - mp)\n",
    "a /= np.sqrt((a ** 2).sum())"
   ]
  },
  {
   "cell_type": "code",
   "execution_count": 224,
   "id": "b5beaf4c",
   "metadata": {},
   "outputs": [],
   "source": [
    "# Projecting the data onto the discriminant axis\n",
    "tn = negative @ a\n",
    "tp = positive @ a"
   ]
  },
  {
   "cell_type": "code",
   "execution_count": 225,
   "id": "186330b6",
   "metadata": {},
   "outputs": [],
   "source": [
    "# Deflate both groups\n",
    "En = negative - tn[:, None] * a[None, :]\n",
    "Ep = positive - tp[:, None] * a[None, :]"
   ]
  },
  {
   "cell_type": "code",
   "execution_count": 226,
   "id": "57172322",
   "metadata": {},
   "outputs": [],
   "source": [
    "# Combine\n",
    "X = np.concatenate((En, Ep), axis=0)\n",
    "S = np.cov(X.T)\n",
    "vals, vecs = np.linalg.eig(S)\n",
    "order = vals.argsort()[::-1]\n",
    "vecs = vecs[:, order]\n",
    "vals = vals[order]\n",
    "Tn = negative @ vecs\n",
    "Tp = positive @ vecs"
   ]
  },
  {
   "cell_type": "code",
   "execution_count": 227,
   "id": "08b7f166",
   "metadata": {},
   "outputs": [
    {
     "name": "stderr",
     "output_type": "stream",
     "text": [
      "C:\\ProgramData\\Anaconda3\\lib\\site-packages\\matplotlib\\collections.py:200: ComplexWarning: Casting complex values to real discards the imaginary part\n",
      "  offsets = np.asanyarray(offsets, float)\n"
     ]
    },
    {
     "data": {
      "image/png": "[encoded data removed]",
      "text/plain": [
       "<Figure size 432x288 with 1 Axes>"
      ]
     },
     "metadata": {
      "needs_background": "light"
     },
     "output_type": "display_data"
    }
   ],
   "source": [
    "# Plot\n",
    "plt.scatter(tn, Tn[:, 0], s=1, c=\"red\")\n",
    "plt.scatter(tp, Tp[:, 0], s=1, c=\"orange\")\n",
    "plt.xlabel(\"Discriminant axis\")\n",
    "plt.ylabel(\"Non-discriminant PC 1\")    \n",
    "plt.show()"
   ]
  },
  {
   "cell_type": "markdown",
   "id": "ff937ce9",
   "metadata": {},
   "source": [
    "The two groups are very well separated.  this means that there are some chemical finger prints which are completely different between these two group of people. we found the component that maximised the difference between covid positive and covid negative subjects. this information can be used to find out which chemical fingerprint(which spectras) make the most difference between these two groups and are more useful for testing covid patients. "
   ]
  },
  {
   "cell_type": "markdown",
   "id": "46a604d6",
   "metadata": {},
   "source": [
    "### Prediction of Diagnostic using  Regression models"
   ]
  },
  {
   "cell_type": "markdown",
   "id": "067c07ae",
   "metadata": {},
   "source": [
    "Linear regression models can  be applied to predict diagnostic outcomes of covid subjects based on the chemical differences between infected and uninfected samples. Here I will perform multilinear regression.  the dependent variable is 'Diagnostic' column (categorical), and I choose several independet(explanatory) variables to predic the dependent variable."
   ]
  },
  {
   "cell_type": "code",
   "execution_count": 228,
   "id": "6484c510",
   "metadata": {},
   "outputs": [],
   "source": [
    "\n",
    "from matplotlib import pyplot as plt\n",
    "import seaborn as sns\n",
    "\n",
    "from sklearn.linear_model import LogisticRegression\n",
    "from sklearn.linear_model import LinearRegression\n",
    "from sklearn.model_selection import train_test_split\n",
    "from sklearn.preprocessing import StandardScaler\n",
    "from sklearn.metrics import classification_report"
   ]
  },
  {
   "cell_type": "code",
   "execution_count": 229,
   "id": "b0f27b4f",
   "metadata": {},
   "outputs": [],
   "source": [
    "#we need to make diagnostic column numerical\n",
    "data2 = data.copy()\n",
    "data2['Diagnostic'] = data2['Diagnostic'].map({'N': '1', 'P': '0'})"
   ]
  },
  {
   "cell_type": "code",
   "execution_count": 230,
   "id": "6c1a00b5",
   "metadata": {},
   "outputs": [
    {
     "data": {
      "text/html": [
       "<div>\n",
       "<style scoped>\n",
       "    .dataframe tbody tr th:only-of-type {\n",
       "        vertical-align: middle;\n",
       "    }\n",
       "\n",
       "    .dataframe tbody tr th {\n",
       "        vertical-align: top;\n",
       "    }\n",
       "\n",
       "    .dataframe thead th {\n",
       "        text-align: right;\n",
       "    }\n",
       "</style>\n",
       "<table border=\"1\" class=\"dataframe\">\n",
       "  <thead>\n",
       "    <tr style=\"text-align: right;\">\n",
       "      <th></th>\n",
       "      <th>ID</th>\n",
       "      <th>Ct</th>\n",
       "      <th>1300</th>\n",
       "      <th>1298</th>\n",
       "      <th>1296</th>\n",
       "      <th>1294</th>\n",
       "      <th>1292</th>\n",
       "      <th>1290</th>\n",
       "      <th>1288</th>\n",
       "      <th>1286</th>\n",
       "      <th>...</th>\n",
       "      <th>816</th>\n",
       "      <th>814</th>\n",
       "      <th>812</th>\n",
       "      <th>810</th>\n",
       "      <th>808</th>\n",
       "      <th>806</th>\n",
       "      <th>804</th>\n",
       "      <th>802</th>\n",
       "      <th>800</th>\n",
       "      <th>Diagnostic</th>\n",
       "    </tr>\n",
       "  </thead>\n",
       "  <tbody>\n",
       "    <tr>\n",
       "      <th>0</th>\n",
       "      <td>N1</td>\n",
       "      <td>NaN</td>\n",
       "      <td>0.277705</td>\n",
       "      <td>0.277532</td>\n",
       "      <td>0.277387</td>\n",
       "      <td>0.277217</td>\n",
       "      <td>0.277042</td>\n",
       "      <td>0.276930</td>\n",
       "      <td>0.276856</td>\n",
       "      <td>0.276737</td>\n",
       "      <td>...</td>\n",
       "      <td>0.241897</td>\n",
       "      <td>0.241107</td>\n",
       "      <td>0.240374</td>\n",
       "      <td>0.239742</td>\n",
       "      <td>0.239234</td>\n",
       "      <td>0.238833</td>\n",
       "      <td>0.238523</td>\n",
       "      <td>0.238314</td>\n",
       "      <td>0.238197</td>\n",
       "      <td>1</td>\n",
       "    </tr>\n",
       "    <tr>\n",
       "      <th>1</th>\n",
       "      <td>N1</td>\n",
       "      <td>NaN</td>\n",
       "      <td>0.251624</td>\n",
       "      <td>0.251438</td>\n",
       "      <td>0.251268</td>\n",
       "      <td>0.251067</td>\n",
       "      <td>0.250843</td>\n",
       "      <td>0.250645</td>\n",
       "      <td>0.250467</td>\n",
       "      <td>0.250280</td>\n",
       "      <td>...</td>\n",
       "      <td>0.212628</td>\n",
       "      <td>0.211891</td>\n",
       "      <td>0.211234</td>\n",
       "      <td>0.210662</td>\n",
       "      <td>0.210173</td>\n",
       "      <td>0.209763</td>\n",
       "      <td>0.209450</td>\n",
       "      <td>0.209267</td>\n",
       "      <td>0.209202</td>\n",
       "      <td>1</td>\n",
       "    </tr>\n",
       "    <tr>\n",
       "      <th>2</th>\n",
       "      <td>N1</td>\n",
       "      <td>NaN</td>\n",
       "      <td>0.083310</td>\n",
       "      <td>0.083293</td>\n",
       "      <td>0.083307</td>\n",
       "      <td>0.083338</td>\n",
       "      <td>0.083391</td>\n",
       "      <td>0.083478</td>\n",
       "      <td>0.083585</td>\n",
       "      <td>0.083674</td>\n",
       "      <td>...</td>\n",
       "      <td>0.085260</td>\n",
       "      <td>0.084823</td>\n",
       "      <td>0.084445</td>\n",
       "      <td>0.084137</td>\n",
       "      <td>0.083894</td>\n",
       "      <td>0.083715</td>\n",
       "      <td>0.083602</td>\n",
       "      <td>0.083543</td>\n",
       "      <td>0.083495</td>\n",
       "      <td>1</td>\n",
       "    </tr>\n",
       "    <tr>\n",
       "      <th>3</th>\n",
       "      <td>N2</td>\n",
       "      <td>NaN</td>\n",
       "      <td>0.067509</td>\n",
       "      <td>0.067070</td>\n",
       "      <td>0.066684</td>\n",
       "      <td>0.066359</td>\n",
       "      <td>0.066106</td>\n",
       "      <td>0.065938</td>\n",
       "      <td>0.065852</td>\n",
       "      <td>0.065828</td>\n",
       "      <td>...</td>\n",
       "      <td>0.054969</td>\n",
       "      <td>0.054902</td>\n",
       "      <td>0.054832</td>\n",
       "      <td>0.054781</td>\n",
       "      <td>0.054767</td>\n",
       "      <td>0.054787</td>\n",
       "      <td>0.054823</td>\n",
       "      <td>0.054857</td>\n",
       "      <td>0.054893</td>\n",
       "      <td>1</td>\n",
       "    </tr>\n",
       "    <tr>\n",
       "      <th>4</th>\n",
       "      <td>N2</td>\n",
       "      <td>NaN</td>\n",
       "      <td>0.129576</td>\n",
       "      <td>0.128690</td>\n",
       "      <td>0.127912</td>\n",
       "      <td>0.127232</td>\n",
       "      <td>0.126676</td>\n",
       "      <td>0.126306</td>\n",
       "      <td>0.126138</td>\n",
       "      <td>0.126113</td>\n",
       "      <td>...</td>\n",
       "      <td>0.098794</td>\n",
       "      <td>0.098337</td>\n",
       "      <td>0.097886</td>\n",
       "      <td>0.097527</td>\n",
       "      <td>0.097272</td>\n",
       "      <td>0.097091</td>\n",
       "      <td>0.096970</td>\n",
       "      <td>0.096906</td>\n",
       "      <td>0.096881</td>\n",
       "      <td>1</td>\n",
       "    </tr>\n",
       "    <tr>\n",
       "      <th>...</th>\n",
       "      <td>...</td>\n",
       "      <td>...</td>\n",
       "      <td>...</td>\n",
       "      <td>...</td>\n",
       "      <td>...</td>\n",
       "      <td>...</td>\n",
       "      <td>...</td>\n",
       "      <td>...</td>\n",
       "      <td>...</td>\n",
       "      <td>...</td>\n",
       "      <td>...</td>\n",
       "      <td>...</td>\n",
       "      <td>...</td>\n",
       "      <td>...</td>\n",
       "      <td>...</td>\n",
       "      <td>...</td>\n",
       "      <td>...</td>\n",
       "      <td>...</td>\n",
       "      <td>...</td>\n",
       "      <td>...</td>\n",
       "      <td>...</td>\n",
       "    </tr>\n",
       "    <tr>\n",
       "      <th>178</th>\n",
       "      <td>P30</td>\n",
       "      <td>16.95</td>\n",
       "      <td>0.169349</td>\n",
       "      <td>0.169277</td>\n",
       "      <td>0.169212</td>\n",
       "      <td>0.169121</td>\n",
       "      <td>0.169057</td>\n",
       "      <td>0.169072</td>\n",
       "      <td>0.169133</td>\n",
       "      <td>0.169197</td>\n",
       "      <td>...</td>\n",
       "      <td>0.103974</td>\n",
       "      <td>0.103963</td>\n",
       "      <td>0.103903</td>\n",
       "      <td>0.103825</td>\n",
       "      <td>0.103762</td>\n",
       "      <td>0.103700</td>\n",
       "      <td>0.103615</td>\n",
       "      <td>0.103513</td>\n",
       "      <td>0.103393</td>\n",
       "      <td>0</td>\n",
       "    </tr>\n",
       "    <tr>\n",
       "      <th>179</th>\n",
       "      <td>P30</td>\n",
       "      <td>16.95</td>\n",
       "      <td>0.277632</td>\n",
       "      <td>0.277423</td>\n",
       "      <td>0.277119</td>\n",
       "      <td>0.276688</td>\n",
       "      <td>0.276211</td>\n",
       "      <td>0.275814</td>\n",
       "      <td>0.275529</td>\n",
       "      <td>0.275318</td>\n",
       "      <td>...</td>\n",
       "      <td>0.178111</td>\n",
       "      <td>0.178484</td>\n",
       "      <td>0.178827</td>\n",
       "      <td>0.179161</td>\n",
       "      <td>0.179454</td>\n",
       "      <td>0.179650</td>\n",
       "      <td>0.179756</td>\n",
       "      <td>0.179837</td>\n",
       "      <td>0.179928</td>\n",
       "      <td>0</td>\n",
       "    </tr>\n",
       "    <tr>\n",
       "      <th>180</th>\n",
       "      <td>P31</td>\n",
       "      <td>32.10</td>\n",
       "      <td>0.175842</td>\n",
       "      <td>0.174590</td>\n",
       "      <td>0.173493</td>\n",
       "      <td>0.172534</td>\n",
       "      <td>0.171712</td>\n",
       "      <td>0.171067</td>\n",
       "      <td>0.170605</td>\n",
       "      <td>0.170303</td>\n",
       "      <td>...</td>\n",
       "      <td>0.097295</td>\n",
       "      <td>0.097339</td>\n",
       "      <td>0.097355</td>\n",
       "      <td>0.097408</td>\n",
       "      <td>0.097484</td>\n",
       "      <td>0.097523</td>\n",
       "      <td>0.097521</td>\n",
       "      <td>0.097521</td>\n",
       "      <td>0.097536</td>\n",
       "      <td>0</td>\n",
       "    </tr>\n",
       "    <tr>\n",
       "      <th>181</th>\n",
       "      <td>P31</td>\n",
       "      <td>32.10</td>\n",
       "      <td>0.305833</td>\n",
       "      <td>0.304135</td>\n",
       "      <td>0.302663</td>\n",
       "      <td>0.301395</td>\n",
       "      <td>0.300495</td>\n",
       "      <td>0.300195</td>\n",
       "      <td>0.300463</td>\n",
       "      <td>0.301050</td>\n",
       "      <td>...</td>\n",
       "      <td>0.222138</td>\n",
       "      <td>0.222542</td>\n",
       "      <td>0.222775</td>\n",
       "      <td>0.222966</td>\n",
       "      <td>0.223190</td>\n",
       "      <td>0.223473</td>\n",
       "      <td>0.223837</td>\n",
       "      <td>0.224288</td>\n",
       "      <td>0.224766</td>\n",
       "      <td>0</td>\n",
       "    </tr>\n",
       "    <tr>\n",
       "      <th>182</th>\n",
       "      <td>P31</td>\n",
       "      <td>32.10</td>\n",
       "      <td>0.271944</td>\n",
       "      <td>0.270299</td>\n",
       "      <td>0.268843</td>\n",
       "      <td>0.267598</td>\n",
       "      <td>0.266660</td>\n",
       "      <td>0.266113</td>\n",
       "      <td>0.265897</td>\n",
       "      <td>0.265881</td>\n",
       "      <td>...</td>\n",
       "      <td>0.174306</td>\n",
       "      <td>0.174538</td>\n",
       "      <td>0.174685</td>\n",
       "      <td>0.174833</td>\n",
       "      <td>0.175021</td>\n",
       "      <td>0.175224</td>\n",
       "      <td>0.175406</td>\n",
       "      <td>0.175568</td>\n",
       "      <td>0.175727</td>\n",
       "      <td>0</td>\n",
       "    </tr>\n",
       "  </tbody>\n",
       "</table>\n",
       "<p>183 rows × 254 columns</p>\n",
       "</div>"
      ],
      "text/plain": [
       "      ID     Ct      1300      1298      1296      1294      1292      1290  \\\n",
       "0     N1    NaN  0.277705  0.277532  0.277387  0.277217  0.277042  0.276930   \n",
       "1     N1    NaN  0.251624  0.251438  0.251268  0.251067  0.250843  0.250645   \n",
       "2     N1    NaN  0.083310  0.083293  0.083307  0.083338  0.083391  0.083478   \n",
       "3     N2    NaN  0.067509  0.067070  0.066684  0.066359  0.066106  0.065938   \n",
       "4     N2    NaN  0.129576  0.128690  0.127912  0.127232  0.126676  0.126306   \n",
       "..   ...    ...       ...       ...       ...       ...       ...       ...   \n",
       "178  P30  16.95  0.169349  0.169277  0.169212  0.169121  0.169057  0.169072   \n",
       "179  P30  16.95  0.277632  0.277423  0.277119  0.276688  0.276211  0.275814   \n",
       "180  P31  32.10  0.175842  0.174590  0.173493  0.172534  0.171712  0.171067   \n",
       "181  P31  32.10  0.305833  0.304135  0.302663  0.301395  0.300495  0.300195   \n",
       "182  P31  32.10  0.271944  0.270299  0.268843  0.267598  0.266660  0.266113   \n",
       "\n",
       "         1288      1286  ...       816       814       812       810  \\\n",
       "0    0.276856  0.276737  ...  0.241897  0.241107  0.240374  0.239742   \n",
       "1    0.250467  0.250280  ...  0.212628  0.211891  0.211234  0.210662   \n",
       "2    0.083585  0.083674  ...  0.085260  0.084823  0.084445  0.084137   \n",
       "3    0.065852  0.065828  ...  0.054969  0.054902  0.054832  0.054781   \n",
       "4    0.126138  0.126113  ...  0.098794  0.098337  0.097886  0.097527   \n",
       "..        ...       ...  ...       ...       ...       ...       ...   \n",
       "178  0.169133  0.169197  ...  0.103974  0.103963  0.103903  0.103825   \n",
       "179  0.275529  0.275318  ...  0.178111  0.178484  0.178827  0.179161   \n",
       "180  0.170605  0.170303  ...  0.097295  0.097339  0.097355  0.097408   \n",
       "181  0.300463  0.301050  ...  0.222138  0.222542  0.222775  0.222966   \n",
       "182  0.265897  0.265881  ...  0.174306  0.174538  0.174685  0.174833   \n",
       "\n",
       "          808       806       804       802       800  Diagnostic  \n",
       "0    0.239234  0.238833  0.238523  0.238314  0.238197           1  \n",
       "1    0.210173  0.209763  0.209450  0.209267  0.209202           1  \n",
       "2    0.083894  0.083715  0.083602  0.083543  0.083495           1  \n",
       "3    0.054767  0.054787  0.054823  0.054857  0.054893           1  \n",
       "4    0.097272  0.097091  0.096970  0.096906  0.096881           1  \n",
       "..        ...       ...       ...       ...       ...         ...  \n",
       "178  0.103762  0.103700  0.103615  0.103513  0.103393           0  \n",
       "179  0.179454  0.179650  0.179756  0.179837  0.179928           0  \n",
       "180  0.097484  0.097523  0.097521  0.097521  0.097536           0  \n",
       "181  0.223190  0.223473  0.223837  0.224288  0.224766           0  \n",
       "182  0.175021  0.175224  0.175406  0.175568  0.175727           0  \n",
       "\n",
       "[183 rows x 254 columns]"
      ]
     },
     "execution_count": 230,
     "metadata": {},
     "output_type": "execute_result"
    }
   ],
   "source": [
    "data2"
   ]
  },
  {
   "cell_type": "code",
   "execution_count": 254,
   "id": "cfd61ee5",
   "metadata": {},
   "outputs": [
    {
     "data": {
      "text/plain": [
       "(183, 251)"
      ]
     },
     "execution_count": 254,
     "metadata": {},
     "output_type": "execute_result"
    }
   ],
   "source": [
    "#get X and y. I select all spectras fingerprint columns as explanatory variables\n",
    "y = np.array(data2['Diagnostic']) \n",
    "x1 = np.array(data2.iloc[:,2:253]) \n",
    "x1.shape"
   ]
  },
  {
   "cell_type": "code",
   "execution_count": 255,
   "id": "05881cdc",
   "metadata": {},
   "outputs": [],
   "source": [
    "# Normalize the data\n",
    "def normalize(x1):\n",
    "    scaler = StandardScaler()\n",
    "    scaler = scaler.fit(x1)\n",
    "    x1 = scaler.transform(x1)\n",
    "    return x1\n",
    "\n",
    "x1 = normalize(x1)"
   ]
  },
  {
   "cell_type": "code",
   "execution_count": 256,
   "id": "10184e22",
   "metadata": {},
   "outputs": [
    {
     "data": {
      "text/plain": [
       "LinearRegression()"
      ]
     },
     "execution_count": 256,
     "metadata": {},
     "output_type": "execute_result"
    }
   ],
   "source": [
    "reg = LinearRegression()\n",
    "reg.fit(x1, y)"
   ]
  },
  {
   "cell_type": "code",
   "execution_count": 257,
   "id": "7c3a6cfe",
   "metadata": {},
   "outputs": [
    {
     "data": {
      "text/plain": [
       "1.0"
      ]
     },
     "execution_count": 257,
     "metadata": {},
     "output_type": "execute_result"
    }
   ],
   "source": [
    "reg.score(x1, y)"
   ]
  },
  {
   "cell_type": "code",
   "execution_count": 251,
   "id": "aba020f4",
   "metadata": {},
   "outputs": [],
   "source": [
    "pred = reg.predict(x1)"
   ]
  },
  {
   "cell_type": "code",
   "execution_count": 252,
   "id": "f504ea33",
   "metadata": {},
   "outputs": [
    {
     "data": {
      "image/png": "[encoded data removed]",
      "text/plain": [
       "<Figure size 432x288 with 1 Axes>"
      ]
     },
     "metadata": {
      "needs_background": "light"
     },
     "output_type": "display_data"
    }
   ],
   "source": [
    "plt.scatter(y, (pred))\n",
    "plt.xlabel('True labels')\n",
    "plt.ylabel('predicted labels')\n",
    "plt.show()"
   ]
  },
  {
   "cell_type": "code",
   "execution_count": 259,
   "id": "c95637b7",
   "metadata": {},
   "outputs": [
    {
     "name": "stdout",
     "output_type": "stream",
     "text": [
      " r2 score is 1.0\n"
     ]
    }
   ],
   "source": [
    "from sklearn.metrics import r2_score\n",
    "score = r2_score(y, pred)\n",
    "print(f' r2 score is {score}')"
   ]
  },
  {
   "cell_type": "markdown",
   "id": "94df38b5",
   "metadata": {},
   "source": [
    "R squred is 1. the variation in Diagnostic is totally explained by spectra fingerprints.  our model is perfectly fit. "
   ]
  },
  {
   "cell_type": "markdown",
   "id": "225bafa7",
   "metadata": {},
   "source": [
    "### Multilinear Regression using Machine learning models"
   ]
  },
  {
   "cell_type": "markdown",
   "id": "cc2af2ff",
   "metadata": {},
   "source": [
    "Here I use logistic regression since our y variabe is a categorical binary variable. I split the data in to train and test to increase the accuracy of prediction. "
   ]
  },
  {
   "cell_type": "code",
   "execution_count": 260,
   "id": "16bc40b8",
   "metadata": {},
   "outputs": [],
   "source": [
    "# split the data to train and test\n",
    "X_train, X_test, y_train, y_test = train_test_split(x1, y, test_size = .3, random_state=42)\n",
    "\n",
    "# train the model\n",
    "logreg = LogisticRegression()\n",
    "history = logreg.fit(X_train, y_train)\n",
    "y_pred = logreg.predict(X_test)"
   ]
  },
  {
   "cell_type": "code",
   "execution_count": 261,
   "id": "6be54436",
   "metadata": {},
   "outputs": [
    {
     "name": "stdout",
     "output_type": "stream",
     "text": [
      "[[20  6]\n",
      " [11 18]]\n",
      "              precision    recall  f1-score   support\n",
      "\n",
      "           0       0.65      0.77      0.70        26\n",
      "           1       0.75      0.62      0.68        29\n",
      "\n",
      "    accuracy                           0.69        55\n",
      "   macro avg       0.70      0.69      0.69        55\n",
      "weighted avg       0.70      0.69      0.69        55\n",
      "\n"
     ]
    }
   ],
   "source": [
    "# Evaluation of the model\n",
    "from sklearn.metrics import confusion_matrix\n",
    "confusion_matrix = confusion_matrix(y_test, y_pred)\n",
    "print(confusion_matrix)\n",
    "print(classification_report(y_test, y_pred))"
   ]
  },
  {
   "cell_type": "code",
   "execution_count": 263,
   "id": "b2130619",
   "metadata": {},
   "outputs": [
    {
     "name": "stdout",
     "output_type": "stream",
     "text": [
      "[[ 0.27494806  0.23319433  0.19493201  0.16018346  0.1278645   0.09780656\n",
      "   0.07133818  0.04940435  0.0310245   0.0147795   0.00086106 -0.01037449\n",
      "  -0.02069365 -0.03240976 -0.04515329 -0.05703162 -0.06841166 -0.08191007\n",
      "  -0.09884263 -0.11789513 -0.13706381 -0.1549568  -0.1704004  -0.18304711\n",
      "  -0.19454361 -0.20699862 -0.22004813 -0.23127572 -0.23899127 -0.243128\n",
      "  -0.24329357 -0.23766418 -0.22464763 -0.20431251 -0.17788513 -0.14745538\n",
      "  -0.11585585 -0.08476161 -0.05230819 -0.01437553  0.03095329  0.08106456\n",
      "   0.13127677  0.17770954  0.21818613  0.25269962  0.28374635  0.31409034\n",
      "   0.34216693  0.36121342  0.36454654  0.35147342  0.32708746  0.2971084\n",
      "   0.26394959  0.22646647  0.18215226  0.12986662  0.07113002  0.009123\n",
      "  -0.05264693 -0.11003666 -0.15777052 -0.19162928 -0.21133756 -0.22046256\n",
      "  -0.22359062 -0.2244042  -0.22527733 -0.22689264 -0.22794728 -0.22610192\n",
      "  -0.21953836 -0.20685546 -0.18624254 -0.15653368 -0.11870524 -0.0752849\n",
      "  -0.02831669  0.02104598  0.07106145  0.11874541  0.16091538  0.19526814\n",
      "   0.22048026  0.23649522  0.24454416  0.24638491  0.24339301  0.23731307\n",
      "   0.23095535  0.22695292  0.22564793  0.22516232  0.2240487   0.22216372\n",
      "   0.21966592  0.21661384  0.21368605  0.21198305  0.21165747  0.21141002\n",
      "   0.20958185  0.20407861  0.19277262  0.17507913  0.15323618  0.13084167\n",
      "   0.11001374  0.09098789  0.07354191  0.0572804   0.04082568  0.02252302\n",
      "   0.0019122  -0.02089817 -0.04711212 -0.07871532 -0.11599223 -0.15736693\n",
      "  -0.20166889 -0.24921996 -0.30060241 -0.35530567 -0.41083429 -0.46124802\n",
      "  -0.497466   -0.51168164 -0.50196836 -0.47180577 -0.42683756 -0.37307731\n",
      "  -0.31666796 -0.26307919 -0.21549887 -0.17490856 -0.14159711 -0.11566107\n",
      "  -0.09615862 -0.08087812 -0.06698903 -0.05085788 -0.02776051  0.00625645\n",
      "   0.05133187  0.10351417  0.15751357  0.20916816  0.25560723  0.29481312\n",
      "   0.32561049  0.34757295  0.36093357  0.36742382  0.37054462  0.37333873\n",
      "   0.37565394  0.37436272  0.36652349  0.35136245  0.32975798  0.30389526\n",
      "   0.27737312  0.25372315  0.23360761  0.21410944  0.19140104  0.16334944\n",
      "   0.13022177  0.0943137   0.05906173  0.02722129 -0.00059579 -0.02522933\n",
      "  -0.04751083 -0.06877344 -0.09170129 -0.1184179  -0.14762425 -0.17521182\n",
      "  -0.19749388 -0.21239804 -0.21775405 -0.21090625 -0.19075167 -0.15918123\n",
      "  -0.12069397 -0.08085432 -0.04360269 -0.00809672  0.03091589  0.0761342\n",
      "   0.12088912  0.15291092  0.16621687  0.16637465  0.16274271  0.15833194\n",
      "   0.1505324   0.13925019  0.12993096  0.12795563  0.13226734  0.13541009\n",
      "   0.12963159  0.11316617  0.09173542  0.07392346  0.06469126  0.06314855\n",
      "   0.06539866  0.06822119  0.06976562  0.06883072  0.06506782  0.05921451\n",
      "   0.05209871  0.04352205  0.03271581  0.0191825   0.00291642 -0.01591471\n",
      "  -0.03695303 -0.05983212 -0.08438616 -0.11010012 -0.13557606 -0.15907337\n",
      "  -0.17920212 -0.19397928 -0.19955605 -0.19236275 -0.17394722 -0.15250133\n",
      "  -0.13785745 -0.13510994 -0.1435214  -0.15999887 -0.18151553 -0.20477668\n",
      "  -0.22638813 -0.24458539 -0.25947286 -0.27113818 -0.2784845  -0.28026137\n",
      "  -0.27671243 -0.2697645  -0.26181952 -0.25471194 -0.24928156]]\n"
     ]
    }
   ],
   "source": [
    "print(logreg.coef_)"
   ]
  },
  {
   "cell_type": "markdown",
   "id": "b19b3c7d",
   "metadata": {},
   "source": [
    "Our prediction has around 70% accuracy. the accuracy can be increased by spliting the train and test in different way. but in general as we observed in the result of logistic regression the outcome of Diagnostic of covid subject is predictable by spectra fingerprints. and this method is accurate for testing the covid pationts."
   ]
  }
 ],
 "metadata": {
  "kernelspec": {
   "display_name": "Python 3 (ipykernel)",
   "language": "python",
   "name": "python3"
  },
  "language_info": {
   "codemirror_mode": {
    "name": "ipython",
    "version": 3
   },
   "file_extension": ".py",
   "mimetype": "text/x-python",
   "name": "python",
   "nbconvert_exporter": "python",
   "pygments_lexer": "ipython3",
   "version": "3.10.4"
  }
 },
 "nbformat": 4,
 "nbformat_minor": 5
}
