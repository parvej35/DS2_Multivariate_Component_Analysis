{
 "cells": [
  {
   "cell_type": "code",
   "execution_count": 2,
   "metadata": {},
   "outputs": [],
   "source": [
    "# Import of the necessary libraries\n",
    "import pandas as pd\n",
    "import numpy as np\n",
    "import warnings\n",
    "warnings.filterwarnings(\"ignore\")\n",
    "## Accuracy\n",
    "from sklearn.metrics import mean_squared_error\n",
    "## Building Model\n",
    "from sklearn import linear_model\n",
    "from sklearn.decomposition import PCA\n",
    "from sklearn.cross_decomposition import PLSRegression\n",
    "import statsmodels.api as sm\n",
    "from sklearn.discriminant_analysis import LinearDiscriminantAnalysis\n",
    "## Data Visualization\n",
    "import matplotlib.pyplot as plt\n",
    "## Multidimensional Scaling\n",
    "from sklearn.manifold import MDS\n",
    "from sklearn.metrics.pairwise import manhattan_distances, euclidean_distances\n",
    "from matplotlib.offsetbox import OffsetImage, AnnotationBbox\n",
    "from sklearn.preprocessing import StandardScaler\n",
    "from sklearn.preprocessing import MinMaxScaler"
   ]
  },
  {
   "cell_type": "markdown",
   "metadata": {},
   "source": [
    "# metabolom data\n",
    "## description: \n",
    "contains measurements of monoterpenes in certain plant leaves in AUC/mg. These data come from the 2021 paper 'Unifying community detection across scales from genomes to landscapes' from Hudon and coworkers.\n",
    "\n",
    "Columns:\n",
    "- SampleID\n",
    "- Species: there are wyoming, 3-tip, hybrid\n",
    "- Other: AUC/mg data\n",
    "    \n",
    "**Research question**: Can we classify different species by the AUC/mg that we have?\n",
    "\n",
    "**Method**: PCA\n",
    "\n",
    "**Rationale for using the method**: this analysis will make use of PCA. The data consists of 17 variables. The dimension is too high to analyze. With PCA we can reduce the dimension and visualize the data. \n",
    "\n",
    "**Expectations**: I expect that PCA is able to reduce the dimensions. In addition, I believe we can see clusters of species. Species with the same 'characteristics' will form groups. Once this behavior is observed, research can look further into the clusters to design experiments."
   ]
  },
  {
   "cell_type": "code",
   "execution_count": 2,
   "metadata": {},
   "outputs": [
    {
     "data": {
      "text/html": [
       "<div>\n",
       "<style scoped>\n",
       "    .dataframe tbody tr th:only-of-type {\n",
       "        vertical-align: middle;\n",
       "    }\n",
       "\n",
       "    .dataframe tbody tr th {\n",
       "        vertical-align: top;\n",
       "    }\n",
       "\n",
       "    .dataframe thead th {\n",
       "        text-align: right;\n",
       "    }\n",
       "</style>\n",
       "<table border=\"1\" class=\"dataframe\">\n",
       "  <thead>\n",
       "    <tr style=\"text-align: right;\">\n",
       "      <th></th>\n",
       "      <th>SampleID</th>\n",
       "      <th>Species</th>\n",
       "      <th>Unk3.2</th>\n",
       "      <th>Unk3.6</th>\n",
       "      <th>Unk11.9</th>\n",
       "      <th>Unk12.4</th>\n",
       "      <th>aPinene</th>\n",
       "      <th>Camphene</th>\n",
       "      <th>bPinene</th>\n",
       "      <th>aPhellendrine</th>\n",
       "      <th>pcymene</th>\n",
       "      <th>Cineole</th>\n",
       "      <th>Unk18.2</th>\n",
       "      <th>Unk18.6</th>\n",
       "      <th>Unk20.5</th>\n",
       "      <th>Camphor</th>\n",
       "      <th>Unk21</th>\n",
       "      <th>Unk21.5</th>\n",
       "      <th>Unk23.5</th>\n",
       "    </tr>\n",
       "  </thead>\n",
       "  <tbody>\n",
       "    <tr>\n",
       "      <th>0</th>\n",
       "      <td>MF032</td>\n",
       "      <td>wyoming</td>\n",
       "      <td>17.447216</td>\n",
       "      <td>78.480388</td>\n",
       "      <td>2.575015</td>\n",
       "      <td>0.480588</td>\n",
       "      <td>6.873549</td>\n",
       "      <td>14.667799</td>\n",
       "      <td>10.505447</td>\n",
       "      <td>64.308777</td>\n",
       "      <td>5.311575</td>\n",
       "      <td>6.917810</td>\n",
       "      <td>10.258485</td>\n",
       "      <td>29.725402</td>\n",
       "      <td>5.320274</td>\n",
       "      <td>92.868922</td>\n",
       "      <td>32.733879</td>\n",
       "      <td>245.373027</td>\n",
       "      <td>9.190845</td>\n",
       "    </tr>\n",
       "    <tr>\n",
       "      <th>1</th>\n",
       "      <td>MF034</td>\n",
       "      <td>wyoming</td>\n",
       "      <td>0.000000</td>\n",
       "      <td>0.000000</td>\n",
       "      <td>0.566885</td>\n",
       "      <td>9.274434</td>\n",
       "      <td>29.331204</td>\n",
       "      <td>189.922801</td>\n",
       "      <td>20.664100</td>\n",
       "      <td>0.368826</td>\n",
       "      <td>8.201353</td>\n",
       "      <td>140.641077</td>\n",
       "      <td>0.000000</td>\n",
       "      <td>1.275490</td>\n",
       "      <td>0.000000</td>\n",
       "      <td>0.000000</td>\n",
       "      <td>675.617594</td>\n",
       "      <td>13.323675</td>\n",
       "      <td>0.646352</td>\n",
       "    </tr>\n",
       "    <tr>\n",
       "      <th>2</th>\n",
       "      <td>MF036</td>\n",
       "      <td>wyoming</td>\n",
       "      <td>13.247976</td>\n",
       "      <td>52.978520</td>\n",
       "      <td>3.838784</td>\n",
       "      <td>0.000000</td>\n",
       "      <td>5.958195</td>\n",
       "      <td>6.564323</td>\n",
       "      <td>23.170531</td>\n",
       "      <td>61.671574</td>\n",
       "      <td>2.010833</td>\n",
       "      <td>4.594991</td>\n",
       "      <td>9.309720</td>\n",
       "      <td>27.877841</td>\n",
       "      <td>10.200175</td>\n",
       "      <td>54.894681</td>\n",
       "      <td>25.178064</td>\n",
       "      <td>232.263740</td>\n",
       "      <td>8.166170</td>\n",
       "    </tr>\n",
       "    <tr>\n",
       "      <th>3</th>\n",
       "      <td>MF038</td>\n",
       "      <td>wyoming</td>\n",
       "      <td>0.000000</td>\n",
       "      <td>71.897745</td>\n",
       "      <td>5.582314</td>\n",
       "      <td>7.300492</td>\n",
       "      <td>8.662203</td>\n",
       "      <td>3.662696</td>\n",
       "      <td>9.404492</td>\n",
       "      <td>0.165965</td>\n",
       "      <td>1.854227</td>\n",
       "      <td>6.792163</td>\n",
       "      <td>9.031663</td>\n",
       "      <td>32.740878</td>\n",
       "      <td>7.444111</td>\n",
       "      <td>67.025993</td>\n",
       "      <td>24.894070</td>\n",
       "      <td>392.559512</td>\n",
       "      <td>10.195839</td>\n",
       "    </tr>\n",
       "    <tr>\n",
       "      <th>4</th>\n",
       "      <td>MF049</td>\n",
       "      <td>wyoming</td>\n",
       "      <td>15.501606</td>\n",
       "      <td>56.658287</td>\n",
       "      <td>7.009434</td>\n",
       "      <td>0.397118</td>\n",
       "      <td>0.000000</td>\n",
       "      <td>9.505731</td>\n",
       "      <td>11.259664</td>\n",
       "      <td>18.164837</td>\n",
       "      <td>3.222653</td>\n",
       "      <td>17.167722</td>\n",
       "      <td>9.857530</td>\n",
       "      <td>6.071136</td>\n",
       "      <td>10.047028</td>\n",
       "      <td>87.913989</td>\n",
       "      <td>33.114384</td>\n",
       "      <td>0.341623</td>\n",
       "      <td>11.994086</td>\n",
       "    </tr>\n",
       "  </tbody>\n",
       "</table>\n",
       "</div>"
      ],
      "text/plain": [
       "  SampleID  Species     Unk3.2     Unk3.6   Unk11.9   Unk12.4    aPinene  \\\n",
       "0    MF032  wyoming  17.447216  78.480388  2.575015  0.480588   6.873549   \n",
       "1    MF034  wyoming   0.000000   0.000000  0.566885  9.274434  29.331204   \n",
       "2    MF036  wyoming  13.247976  52.978520  3.838784  0.000000   5.958195   \n",
       "3    MF038  wyoming   0.000000  71.897745  5.582314  7.300492   8.662203   \n",
       "4    MF049  wyoming  15.501606  56.658287  7.009434  0.397118   0.000000   \n",
       "\n",
       "     Camphene    bPinene  aPhellendrine   pcymene     Cineole    Unk18.2  \\\n",
       "0   14.667799  10.505447      64.308777  5.311575    6.917810  10.258485   \n",
       "1  189.922801  20.664100       0.368826  8.201353  140.641077   0.000000   \n",
       "2    6.564323  23.170531      61.671574  2.010833    4.594991   9.309720   \n",
       "3    3.662696   9.404492       0.165965  1.854227    6.792163   9.031663   \n",
       "4    9.505731  11.259664      18.164837  3.222653   17.167722   9.857530   \n",
       "\n",
       "     Unk18.6    Unk20.5    Camphor       Unk21     Unk21.5    Unk23.5  \n",
       "0  29.725402   5.320274  92.868922   32.733879  245.373027   9.190845  \n",
       "1   1.275490   0.000000   0.000000  675.617594   13.323675   0.646352  \n",
       "2  27.877841  10.200175  54.894681   25.178064  232.263740   8.166170  \n",
       "3  32.740878   7.444111  67.025993   24.894070  392.559512  10.195839  \n",
       "4   6.071136  10.047028  87.913989   33.114384    0.341623  11.994086  "
      ]
     },
     "execution_count": 2,
     "metadata": {},
     "output_type": "execute_result"
    }
   ],
   "source": [
    "df = pd.read_csv(\"metabolom_data.csv\")\n",
    "df.head()"
   ]
  },
  {
   "cell_type": "code",
   "execution_count": 3,
   "metadata": {},
   "outputs": [
    {
     "data": {
      "text/html": [
       "<div>\n",
       "<style scoped>\n",
       "    .dataframe tbody tr th:only-of-type {\n",
       "        vertical-align: middle;\n",
       "    }\n",
       "\n",
       "    .dataframe tbody tr th {\n",
       "        vertical-align: top;\n",
       "    }\n",
       "\n",
       "    .dataframe thead th {\n",
       "        text-align: right;\n",
       "    }\n",
       "</style>\n",
       "<table border=\"1\" class=\"dataframe\">\n",
       "  <thead>\n",
       "    <tr style=\"text-align: right;\">\n",
       "      <th></th>\n",
       "      <th>SampleID</th>\n",
       "      <th>Species</th>\n",
       "      <th>Unk3.2</th>\n",
       "      <th>Unk3.6</th>\n",
       "      <th>Unk11.9</th>\n",
       "      <th>Unk12.4</th>\n",
       "      <th>aPinene</th>\n",
       "      <th>Camphene</th>\n",
       "      <th>bPinene</th>\n",
       "      <th>aPhellendrine</th>\n",
       "      <th>pcymene</th>\n",
       "      <th>Cineole</th>\n",
       "      <th>Unk18.2</th>\n",
       "      <th>Unk18.6</th>\n",
       "      <th>Unk20.5</th>\n",
       "      <th>Camphor</th>\n",
       "      <th>Unk21</th>\n",
       "      <th>Unk21.5</th>\n",
       "      <th>Unk23.5</th>\n",
       "    </tr>\n",
       "  </thead>\n",
       "  <tbody>\n",
       "    <tr>\n",
       "      <th>89</th>\n",
       "      <td>MF307</td>\n",
       "      <td>wyoming</td>\n",
       "      <td>34.999561</td>\n",
       "      <td>110.826808</td>\n",
       "      <td>3.713417</td>\n",
       "      <td>1.092522</td>\n",
       "      <td>3.635173</td>\n",
       "      <td>25.416764</td>\n",
       "      <td>11.319855</td>\n",
       "      <td>57.996107</td>\n",
       "      <td>9.337529</td>\n",
       "      <td>31.488208</td>\n",
       "      <td>8.461742</td>\n",
       "      <td>18.543212</td>\n",
       "      <td>3.612682</td>\n",
       "      <td>91.353085</td>\n",
       "      <td>19.635540</td>\n",
       "      <td>193.448965</td>\n",
       "      <td>7.282802</td>\n",
       "    </tr>\n",
       "    <tr>\n",
       "      <th>90</th>\n",
       "      <td>MF308</td>\n",
       "      <td>3-tip</td>\n",
       "      <td>13.748601</td>\n",
       "      <td>0.000000</td>\n",
       "      <td>0.000000</td>\n",
       "      <td>8.024367</td>\n",
       "      <td>47.490551</td>\n",
       "      <td>125.726955</td>\n",
       "      <td>20.436416</td>\n",
       "      <td>0.000000</td>\n",
       "      <td>30.094909</td>\n",
       "      <td>4.942429</td>\n",
       "      <td>0.000000</td>\n",
       "      <td>0.759998</td>\n",
       "      <td>0.000000</td>\n",
       "      <td>0.000000</td>\n",
       "      <td>421.669616</td>\n",
       "      <td>12.199856</td>\n",
       "      <td>0.544602</td>\n",
       "    </tr>\n",
       "    <tr>\n",
       "      <th>91</th>\n",
       "      <td>MF309</td>\n",
       "      <td>3-tip</td>\n",
       "      <td>13.946355</td>\n",
       "      <td>0.000000</td>\n",
       "      <td>0.000000</td>\n",
       "      <td>8.285327</td>\n",
       "      <td>81.580728</td>\n",
       "      <td>142.999149</td>\n",
       "      <td>0.670380</td>\n",
       "      <td>0.000000</td>\n",
       "      <td>38.130357</td>\n",
       "      <td>4.841986</td>\n",
       "      <td>0.000000</td>\n",
       "      <td>0.000000</td>\n",
       "      <td>0.000000</td>\n",
       "      <td>0.000000</td>\n",
       "      <td>497.831436</td>\n",
       "      <td>13.430400</td>\n",
       "      <td>0.000000</td>\n",
       "    </tr>\n",
       "    <tr>\n",
       "      <th>92</th>\n",
       "      <td>MF310</td>\n",
       "      <td>wyoming</td>\n",
       "      <td>43.199183</td>\n",
       "      <td>67.388458</td>\n",
       "      <td>17.454482</td>\n",
       "      <td>0.788624</td>\n",
       "      <td>2.435465</td>\n",
       "      <td>17.218276</td>\n",
       "      <td>74.732220</td>\n",
       "      <td>18.961495</td>\n",
       "      <td>3.335756</td>\n",
       "      <td>47.823441</td>\n",
       "      <td>6.603522</td>\n",
       "      <td>10.623682</td>\n",
       "      <td>41.042015</td>\n",
       "      <td>49.214527</td>\n",
       "      <td>31.067011</td>\n",
       "      <td>75.488476</td>\n",
       "      <td>0.203115</td>\n",
       "    </tr>\n",
       "    <tr>\n",
       "      <th>93</th>\n",
       "      <td>MF311</td>\n",
       "      <td>wyoming</td>\n",
       "      <td>29.156576</td>\n",
       "      <td>21.561263</td>\n",
       "      <td>1.397200</td>\n",
       "      <td>0.840508</td>\n",
       "      <td>1.580013</td>\n",
       "      <td>8.091641</td>\n",
       "      <td>26.992020</td>\n",
       "      <td>20.915596</td>\n",
       "      <td>2.582817</td>\n",
       "      <td>30.153951</td>\n",
       "      <td>2.312392</td>\n",
       "      <td>17.001017</td>\n",
       "      <td>7.083195</td>\n",
       "      <td>14.525973</td>\n",
       "      <td>8.187077</td>\n",
       "      <td>45.853621</td>\n",
       "      <td>2.287864</td>\n",
       "    </tr>\n",
       "  </tbody>\n",
       "</table>\n",
       "</div>"
      ],
      "text/plain": [
       "   SampleID  Species     Unk3.2      Unk3.6    Unk11.9   Unk12.4    aPinene  \\\n",
       "89    MF307  wyoming  34.999561  110.826808   3.713417  1.092522   3.635173   \n",
       "90    MF308    3-tip  13.748601    0.000000   0.000000  8.024367  47.490551   \n",
       "91    MF309    3-tip  13.946355    0.000000   0.000000  8.285327  81.580728   \n",
       "92    MF310  wyoming  43.199183   67.388458  17.454482  0.788624   2.435465   \n",
       "93    MF311  wyoming  29.156576   21.561263   1.397200  0.840508   1.580013   \n",
       "\n",
       "      Camphene    bPinene  aPhellendrine    pcymene    Cineole   Unk18.2  \\\n",
       "89   25.416764  11.319855      57.996107   9.337529  31.488208  8.461742   \n",
       "90  125.726955  20.436416       0.000000  30.094909   4.942429  0.000000   \n",
       "91  142.999149   0.670380       0.000000  38.130357   4.841986  0.000000   \n",
       "92   17.218276  74.732220      18.961495   3.335756  47.823441  6.603522   \n",
       "93    8.091641  26.992020      20.915596   2.582817  30.153951  2.312392   \n",
       "\n",
       "      Unk18.6    Unk20.5    Camphor       Unk21     Unk21.5   Unk23.5  \n",
       "89  18.543212   3.612682  91.353085   19.635540  193.448965  7.282802  \n",
       "90   0.759998   0.000000   0.000000  421.669616   12.199856  0.544602  \n",
       "91   0.000000   0.000000   0.000000  497.831436   13.430400  0.000000  \n",
       "92  10.623682  41.042015  49.214527   31.067011   75.488476  0.203115  \n",
       "93  17.001017   7.083195  14.525973    8.187077   45.853621  2.287864  "
      ]
     },
     "execution_count": 3,
     "metadata": {},
     "output_type": "execute_result"
    }
   ],
   "source": [
    "df.tail()"
   ]
  },
  {
   "cell_type": "markdown",
   "metadata": {},
   "source": [
    "After loading the data, we see a column 'SampleID'. It does not represent anything in this dataset, so I'll remove it."
   ]
  },
  {
   "cell_type": "code",
   "execution_count": 4,
   "metadata": {},
   "outputs": [],
   "source": [
    "df = df.drop(\"SampleID\",axis=1)"
   ]
  },
  {
   "cell_type": "markdown",
   "metadata": {},
   "source": [
    "Check the missing value before going deeper into the df."
   ]
  },
  {
   "cell_type": "code",
   "execution_count": 5,
   "metadata": {},
   "outputs": [
    {
     "data": {
      "text/plain": [
       "Species          0\n",
       "Unk3.2           0\n",
       "Unk3.6           0\n",
       "Unk11.9          0\n",
       "Unk12.4          0\n",
       "aPinene          0\n",
       "Camphene         0\n",
       "bPinene          0\n",
       "aPhellendrine    0\n",
       "pcymene          0\n",
       "Cineole          0\n",
       "Unk18.2          0\n",
       "Unk18.6          0\n",
       "Unk20.5          0\n",
       "Camphor          0\n",
       "Unk21            0\n",
       "Unk21.5          0\n",
       "Unk23.5          0\n",
       "dtype: int64"
      ]
     },
     "execution_count": 5,
     "metadata": {},
     "output_type": "execute_result"
    }
   ],
   "source": [
    "df.isna().sum()"
   ]
  },
  {
   "cell_type": "code",
   "execution_count": 6,
   "metadata": {},
   "outputs": [
    {
     "data": {
      "text/plain": [
       "array(['wyoming', '3-tip', 'hybrid'], dtype=object)"
      ]
     },
     "execution_count": 6,
     "metadata": {},
     "output_type": "execute_result"
    }
   ],
   "source": [
    "df.Species.unique()"
   ]
  },
  {
   "cell_type": "code",
   "execution_count": 7,
   "metadata": {},
   "outputs": [],
   "source": [
    "df.loc[(df.Species == 'wyoming'),'Species'] = 1\n",
    "df.loc[(df.Species == '3-tip'),'Species'] = 2\n",
    "df.loc[(df.Species == 'hybrid'),'Species'] = 3\n",
    "Y = df.Species"
   ]
  },
  {
   "cell_type": "markdown",
   "metadata": {},
   "source": [
    "We check the dependent value. After that, we change it to a number to make it easier for further steps."
   ]
  },
  {
   "cell_type": "code",
   "execution_count": 8,
   "metadata": {},
   "outputs": [
    {
     "data": {
      "text/plain": [
       "(12.886749063417717, 73000.89092252743)"
      ]
     },
     "execution_count": 8,
     "metadata": {},
     "output_type": "execute_result"
    }
   ],
   "source": [
    "X = df.iloc[:,1:]\n",
    "X.var(axis = 0).min(), X.var(axis=0).max()"
   ]
  },
  {
   "cell_type": "markdown",
   "metadata": {},
   "source": [
    "We set the other variable as independent values."
   ]
  },
  {
   "cell_type": "markdown",
   "metadata": {},
   "source": [
    "**Treatment of data**:\n",
    "\n",
    "PCA requires the data to be centered. If the data does not have consistent variance across columns, we need to divide by the standard deviation. \n",
    "\n",
    "For this, we can code it by ourselves. However, there is a package from sklearn. Using the StandardScaler from sklearn will make our code tidy."
   ]
  },
  {
   "cell_type": "code",
   "execution_count": 9,
   "metadata": {},
   "outputs": [],
   "source": [
    "X = StandardScaler().fit_transform(X)"
   ]
  },
  {
   "cell_type": "markdown",
   "metadata": {},
   "source": [
    "The data is standardized now. We want to use PCA, find the eigenvalues and plot them in a scree plot.\n",
    "\n",
    "The scree plot can help us to find the component that we should use. We will initialize the PCA with 10 components. We can put every value for the components. After that, we will check when will we get a value higher than 80%."
   ]
  },
  {
   "cell_type": "code",
   "execution_count": 10,
   "metadata": {},
   "outputs": [
    {
     "data": {
      "text/plain": [
       "PCA(n_components=10)"
      ]
     },
     "execution_count": 10,
     "metadata": {},
     "output_type": "execute_result"
    }
   ],
   "source": [
    "n = 10\n",
    "pca = PCA(n_components=n)\n",
    "pca.fit(X)"
   ]
  },
  {
   "cell_type": "markdown",
   "metadata": {},
   "source": [
    "Let's plot the explained variance ratio. This ratio shows how much variation each component explains. \n",
    "\n",
    "As we can see, the first, second, and third components explain most variance. The fourth and later components do not contribute that much."
   ]
  },
  {
   "cell_type": "code",
   "execution_count": 11,
   "metadata": {},
   "outputs": [
    {
     "data": {
      "image/png": "[encoded data removed]",
      "text/plain": [
       "<Figure size 432x288 with 1 Axes>"
      ]
     },
     "metadata": {
      "needs_background": "light"
     },
     "output_type": "display_data"
    },
    {
     "name": "stdout",
     "output_type": "stream",
     "text": [
      "(array([5, 6, 7, 8, 9]),)\n"
     ]
    }
   ],
   "source": [
    "plt.plot(pca.explained_variance_ratio_,\"ob--\",label=\"Each component\")\n",
    "plt.plot(np.cumsum(pca.explained_variance_ratio_),\"or--\",label=\"cumsum of the ratio\")\n",
    "plt.xticks([*range(0, n, 1)])\n",
    "plt.ylabel(\"Ratio\")\n",
    "plt.xlabel(\"Component (s)\")\n",
    "plt.legend()\n",
    "plt.show()\n",
    "print(np.where(np.cumsum(pca.explained_variance_ratio_)>0.8))"
   ]
  },
  {
   "cell_type": "markdown",
   "metadata": {},
   "source": [
    "The scree plot also confirms that there is a drop in contribution after the third component. I would like to pick **3** components.\n",
    "\n",
    "However, it cannot explain more than 80% of the variance. So, I pick 6 components because it is higher than 80%."
   ]
  },
  {
   "cell_type": "code",
   "execution_count": 12,
   "metadata": {},
   "outputs": [
    {
     "data": {
      "text/html": [
       "<div>\n",
       "<style scoped>\n",
       "    .dataframe tbody tr th:only-of-type {\n",
       "        vertical-align: middle;\n",
       "    }\n",
       "\n",
       "    .dataframe tbody tr th {\n",
       "        vertical-align: top;\n",
       "    }\n",
       "\n",
       "    .dataframe thead th {\n",
       "        text-align: right;\n",
       "    }\n",
       "</style>\n",
       "<table border=\"1\" class=\"dataframe\">\n",
       "  <thead>\n",
       "    <tr style=\"text-align: right;\">\n",
       "      <th></th>\n",
       "      <th>Component 1</th>\n",
       "      <th>Component 2</th>\n",
       "      <th>Component 3</th>\n",
       "      <th>Component 4</th>\n",
       "      <th>Component 5</th>\n",
       "      <th>Component 6</th>\n",
       "    </tr>\n",
       "  </thead>\n",
       "  <tbody>\n",
       "    <tr>\n",
       "      <th>0</th>\n",
       "      <td>-3.019580</td>\n",
       "      <td>-2.823399</td>\n",
       "      <td>0.670234</td>\n",
       "      <td>-0.069715</td>\n",
       "      <td>0.865268</td>\n",
       "      <td>-0.904632</td>\n",
       "    </tr>\n",
       "    <tr>\n",
       "      <th>1</th>\n",
       "      <td>3.499776</td>\n",
       "      <td>0.690652</td>\n",
       "      <td>-0.779688</td>\n",
       "      <td>-2.011836</td>\n",
       "      <td>1.802956</td>\n",
       "      <td>-0.025706</td>\n",
       "    </tr>\n",
       "    <tr>\n",
       "      <th>2</th>\n",
       "      <td>-2.667033</td>\n",
       "      <td>-2.683478</td>\n",
       "      <td>-0.027861</td>\n",
       "      <td>0.091728</td>\n",
       "      <td>1.058165</td>\n",
       "      <td>-0.800270</td>\n",
       "    </tr>\n",
       "    <tr>\n",
       "      <th>3</th>\n",
       "      <td>-1.647201</td>\n",
       "      <td>-2.941417</td>\n",
       "      <td>0.438928</td>\n",
       "      <td>-0.410229</td>\n",
       "      <td>2.450521</td>\n",
       "      <td>-1.070381</td>\n",
       "    </tr>\n",
       "    <tr>\n",
       "      <th>4</th>\n",
       "      <td>-1.517476</td>\n",
       "      <td>-0.067614</td>\n",
       "      <td>0.625473</td>\n",
       "      <td>-0.815752</td>\n",
       "      <td>0.043904</td>\n",
       "      <td>1.799867</td>\n",
       "    </tr>\n",
       "  </tbody>\n",
       "</table>\n",
       "</div>"
      ],
      "text/plain": [
       "   Component 1  Component 2  Component 3  Component 4  Component 5  \\\n",
       "0    -3.019580    -2.823399     0.670234    -0.069715     0.865268   \n",
       "1     3.499776     0.690652    -0.779688    -2.011836     1.802956   \n",
       "2    -2.667033    -2.683478    -0.027861     0.091728     1.058165   \n",
       "3    -1.647201    -2.941417     0.438928    -0.410229     2.450521   \n",
       "4    -1.517476    -0.067614     0.625473    -0.815752     0.043904   \n",
       "\n",
       "   Component 6  \n",
       "0    -0.904632  \n",
       "1    -0.025706  \n",
       "2    -0.800270  \n",
       "3    -1.070381  \n",
       "4     1.799867  "
      ]
     },
     "execution_count": 12,
     "metadata": {},
     "output_type": "execute_result"
    }
   ],
   "source": [
    "n = 6\n",
    "pca = PCA(n_components=n)\n",
    "components = pca.fit_transform(X)\n",
    "labels = [f'Component {i}' for i in range(1, n+1)]\n",
    "component_df = pd.DataFrame(data=components, columns=labels)\n",
    "component_df.head()"
   ]
  },
  {
   "cell_type": "code",
   "execution_count": 13,
   "metadata": {},
   "outputs": [
    {
     "data": {
      "text/plain": [
       "<matplotlib.legend.Legend at 0x7f9e5886a880>"
      ]
     },
     "execution_count": 13,
     "metadata": {},
     "output_type": "execute_result"
    },
    {
     "data": {
      "image/png": "[encoded data removed]",
      "text/plain": [
       "<Figure size 864x576 with 1 Axes>"
      ]
     },
     "metadata": {
      "needs_background": "light"
     },
     "output_type": "display_data"
    }
   ],
   "source": [
    "fig = plt.figure(figsize=(12, 8))\n",
    "ax = fig.add_subplot(1, 1, 1)\n",
    "ax.set_xlabel('Principal Component 1')\n",
    "ax.set_ylabel('Principal Component 2')\n",
    "ax.set_title('2-D plot')\n",
    "for c, i, target_name in zip(\"rgb\", [1, 2, 3], [\"wyoming\",\"3-tip\",\"hybrid\"]):\n",
    "    plt.scatter(components[Y == i, 0], components[Y == i, 1], c=c, label=target_name,cmap=\"rainbow\")\n",
    "ax.legend()"
   ]
  },
  {
   "cell_type": "markdown",
   "metadata": {},
   "source": [
    "I want to make a biplot, but it needs too much code. So, I try another package and also add a label for the species.\n",
    "\n",
    "**Try another package to plot it better**"
   ]
  },
  {
   "cell_type": "code",
   "execution_count": 14,
   "metadata": {},
   "outputs": [
    {
     "name": "stdout",
     "output_type": "stream",
     "text": [
      "[pca] >Processing dataframe..\n",
      "[pca] >Normalizing input data per feature (zero mean and unit variance)..\n",
      "[pca] >The PCA reduction is performed on the [17] columns of the input dataframe.\n",
      "[pca] >Fitting using PCA..\n",
      "[pca] >Computing loadings and PCs..\n",
      "[pca] >Computing explained variance..\n",
      "[pca] >Outlier detection using Hotelling T2 test with alpha=[0.05] and n_components=[6]\n",
      "[pca] >Outlier detection using SPE/DmodX with n_std=[2]\n"
     ]
    },
    {
     "data": {
      "image/png": "[encoded data removed]",
      "text/plain": [
       "<Figure size 720x576 with 1 Axes>"
      ]
     },
     "metadata": {
      "needs_background": "light"
     },
     "output_type": "display_data"
    },
    {
     "data": {
      "text/plain": [
       "(<Figure size 720x576 with 1 Axes>,\n",
       " <AxesSubplot:title={'center':'Cumulative explained variance\\n 6 Principal Components explain [82.84%] of the variance.'}, xlabel='Principle Component', ylabel='Percentage explained variance'>)"
      ]
     },
     "execution_count": 14,
     "metadata": {},
     "output_type": "execute_result"
    },
    {
     "data": {
      "text/plain": [
       "<Figure size 432x288 with 0 Axes>"
      ]
     },
     "metadata": {},
     "output_type": "display_data"
    }
   ],
   "source": [
    "from pca import pca\n",
    "df = pd.read_csv(\"metabolom_data.csv\")\n",
    "X=df.drop([\"SampleID\",\"Species\"],axis=1)\n",
    "Y=df.Species\n",
    "model = pca(n_components=6,normalize=True)\n",
    "results = model.fit_transform(X)\n",
    "model.plot(figsize=(10,8))"
   ]
  },
  {
   "cell_type": "markdown",
   "metadata": {},
   "source": [
    "According to the above visualization, 6 components seem to be able to explain about 83% of the dataset. Whereas the 1st principal component explains almost 45%. \n",
    "\n",
    "To get a little bit more insight, a biplot will be generated next step to view the features that most influence the dataset."
   ]
  },
  {
   "cell_type": "code",
   "execution_count": 15,
   "metadata": {},
   "outputs": [
    {
     "name": "stdout",
     "output_type": "stream",
     "text": [
      "[pca] >Plot PC1 vs PC2 with loadings.\n"
     ]
    },
    {
     "data": {
      "image/png": "[encoded data removed]",
      "text/plain": [
       "<Figure size 576x432 with 1 Axes>"
      ]
     },
     "metadata": {
      "needs_background": "light"
     },
     "output_type": "display_data"
    },
    {
     "data": {
      "text/plain": [
       "(<Figure size 576x432 with 1 Axes>,\n",
       " <AxesSubplot:title={'center':'6 Principal Components explain [82.84%] of the variance'}, xlabel='PC1 (47.0% expl.var)', ylabel='PC2 (14.1% expl.var)'>)"
      ]
     },
     "execution_count": 15,
     "metadata": {},
     "output_type": "execute_result"
    }
   ],
   "source": [
    "model.biplot(n_feat=5, legend=True, figsize=(8,6), y=df.Species, label=True)"
   ]
  },
  {
   "cell_type": "markdown",
   "metadata": {},
   "source": [
    "**Interpretation and reflection**\n",
    "\n",
    "The first PC explains 47.0% and the second PC 14.1%. There seems to be a very clear distinction of species according to the colored markings as the 'Species' feature which denotes whether the species are 3-tip, hybrid, or wyoming.\n",
    "\n",
    "aPinene\tseems less correlated to other features. Other features have the same direction suggesting at least some correlation.\n",
    "\n",
    "### Conclusion\n",
    "From the available results, it is most likely that aPinene is less correlated with other features in 5 features. Other features correlate with each other. \n",
    "\n",
    "I think PCA groups 3-tips and wyoming quite well. However, we do not have much data for hybrid. So, we cannot make sure the method is not suitable for this species. Maybe we can try a different method.\n",
    "\n",
    "Let's try LDA to check the performance.\n"
   ]
  },
  {
   "cell_type": "markdown",
   "metadata": {},
   "source": [
    "**Try another method to cluster it**\n",
    " \n",
    "**Method**: LDA\n",
    "\n",
    "https://www.knowledgehut.com/blog/data-science/linear-discriminant-analysis-for-machine-learning\n",
    "\n",
    "\n",
    "\n",
    "**Rationale for using the method**: this analysis will make use of LDA. The data consists of 17 variables.\n",
    "\n",
    "The dimension is too high to analyze. With LDA we can reduce the dimension and visualize the data.\n",
    "\n",
    "As the website mentioned, we want to classify the specific, we can give it a try.\n",
    "\n",
    "\n",
    "\n",
    "**Expectations**: I expect that LDA can reduce the dimensions. In addition, I believe we can see clusters of species. \n",
    "\n",
    "Species with the same 'characteristics' will form groups. Once this behavior is observed, research can look further into the clusters to design experiments."
   ]
  },
  {
   "cell_type": "code",
   "execution_count": 16,
   "metadata": {},
   "outputs": [],
   "source": [
    "df = pd.read_csv(\"metabolom_data.csv\")\n",
    "y = df.Species\n",
    "X = df.drop([\"SampleID\",\"Species\"],axis=1)"
   ]
  },
  {
   "cell_type": "code",
   "execution_count": 17,
   "metadata": {},
   "outputs": [
    {
     "data": {
      "image/png": "[encoded data removed]",
      "text/plain": [
       "<Figure size 432x288 with 1 Axes>"
      ]
     },
     "metadata": {
      "needs_background": "light"
     },
     "output_type": "display_data"
    }
   ],
   "source": [
    "model = LinearDiscriminantAnalysis(n_components=2).fit(X, y)\n",
    "plt.plot(model.explained_variance_ratio_,\"ob--\",label=\"Each component\")\n",
    "plt.plot(np.cumsum(model.explained_variance_ratio_),\"or--\",label=\"cumsum of the ratio\")\n",
    "plt.ylabel(\"Ratio\")\n",
    "plt.xlabel(\"Component (s)\")\n",
    "plt.legend()\n",
    "plt.show()"
   ]
  },
  {
   "cell_type": "markdown",
   "metadata": {},
   "source": [
    "As the plot show, we can get more than 90 % by the first component. I think it is nice. Let's keep working on it to classify the species."
   ]
  },
  {
   "cell_type": "code",
   "execution_count": 18,
   "metadata": {},
   "outputs": [
    {
     "data": {
      "text/plain": [
       "Text(0.5, 1.0, 'LDA for classification species')"
      ]
     },
     "execution_count": 18,
     "metadata": {},
     "output_type": "execute_result"
    },
    {
     "data": {
      "image/png": "[encoded data removed]",
      "text/plain": [
       "<Figure size 432x288 with 1 Axes>"
      ]
     },
     "metadata": {
      "needs_background": "light"
     },
     "output_type": "display_data"
    }
   ],
   "source": [
    "X_LDA = model.transform(X)\n",
    "df.loc[(df.Species == 'wyoming'),'Species'] = 1\n",
    "df.loc[(df.Species == '3-tip'),'Species'] = 2\n",
    "df.loc[(df.Species == 'hybrid'),'Species'] = 3\n",
    "for c, i, target_name in zip(\"rgb\", [1, 2, 3], [\"wyoming\",\"3-tip\",\"hybrid\"]):\n",
    "    plt.scatter(X_LDA[y == i, 0], X_LDA[y == i, 1], c=c, label=target_name,cmap=\"rainbow\")\n",
    "plt.xlabel('LDA1')\n",
    "plt.ylabel('LDA2')\n",
    "plt.legend()\n",
    "plt.title(\"LDA for classification species\")"
   ]
  },
  {
   "cell_type": "markdown",
   "metadata": {},
   "source": [
    "**Interpretation and reflection**\n",
    "\n",
    "The first LDA explains 93.5% and the second LDA 6.5%. I think it performs better than PCA.\n",
    "\n",
    "### Conclusion\n",
    "PCA focuses on principal components and maximizes the variance in the given data. \n",
    "\n",
    "However, LDA maximizes the separation between different classes.\n",
    "\n",
    "\n",
    "I would say LDA performs better on multi-class classification tasks than PCA. In this dataset, we must use LDA instead of PCA to get a better result."
   ]
  },
  {
   "cell_type": "markdown",
   "metadata": {},
   "source": [
    "# SourceData2\n",
    "## description\n",
    "contains infrared spectra from saliva from people that tested negative and people that tested positive for SARS nCoV2019. For each subject, three spectra were determined. The data accompany the study 'Infrared based saliva screening test for COVID-19' from Wood et al. \n",
    "\n",
    "Columns:\n",
    "- ID\n",
    "- Ct: the Ct value for each patient.\n",
    "- other: infrared spectra data\n",
    "\n",
    "As the Ct value represents the cycle number at which the signal breaches the threshold for positivity, a lower Ct value is indicative of a higher viral load.\n",
    "\n",
    "Reference:\n",
    "Rupert Waudby-West, Benjamin J. Parcell, Colin N.A. Palmer, Samira Bell, James D. Chalmers, Moneeza K. Siddiqui\n",
    "The association between SARS-CoV-2 RT-PCR cycle threshold and mortality in a community cohort.\n",
    "European Respiratory Journal 2021 58: 2100360; DOI: 10.1183/13993003.00360-2021\n",
    "https://erj.ersjournals.com/content/58/1/2100360\n",
    "\n",
    "**Research question**: Can we use the infrared spectra from saliva to predict the Ct-value?\n",
    "\n",
    "**Method**: Linear Regression\n",
    "\n",
    "**Rationale for using the method**: the reason for using the method is being able to predict the Ct value of a patient, given the saliva infrared spectra data. I want to estimate the relationship between the dependent variable (Ct value) and the independent variables (saliva infrared spectra data). The method also gives insight into what variables are more important, although, the problem of multicollinearity should also take into account.\n",
    "\n",
    "**Expectations**: I expect there to be a relationship between the Ct value, and saliva data. This is because the viral load will affect the Ct value. I believe if patients with more viral in their bodies, it will also impact the saliva data.\n",
    "\n",
    "**Assumption**:\n",
    "- there are no measurement errors."
   ]
  },
  {
   "cell_type": "code",
   "execution_count": 19,
   "metadata": {},
   "outputs": [
    {
     "data": {
      "text/html": [
       "<div>\n",
       "<style scoped>\n",
       "    .dataframe tbody tr th:only-of-type {\n",
       "        vertical-align: middle;\n",
       "    }\n",
       "\n",
       "    .dataframe tbody tr th {\n",
       "        vertical-align: top;\n",
       "    }\n",
       "\n",
       "    .dataframe thead th {\n",
       "        text-align: right;\n",
       "    }\n",
       "</style>\n",
       "<table border=\"1\" class=\"dataframe\">\n",
       "  <thead>\n",
       "    <tr style=\"text-align: right;\">\n",
       "      <th></th>\n",
       "      <th>ID</th>\n",
       "      <th>Ct</th>\n",
       "      <th>1300</th>\n",
       "      <th>1298</th>\n",
       "      <th>1296</th>\n",
       "      <th>1294</th>\n",
       "      <th>1292</th>\n",
       "      <th>1290</th>\n",
       "      <th>1288</th>\n",
       "      <th>1286</th>\n",
       "      <th>...</th>\n",
       "      <th>818</th>\n",
       "      <th>816</th>\n",
       "      <th>814</th>\n",
       "      <th>812</th>\n",
       "      <th>810</th>\n",
       "      <th>808</th>\n",
       "      <th>806</th>\n",
       "      <th>804</th>\n",
       "      <th>802</th>\n",
       "      <th>800</th>\n",
       "    </tr>\n",
       "  </thead>\n",
       "  <tbody>\n",
       "    <tr>\n",
       "      <th>0</th>\n",
       "      <td>N1</td>\n",
       "      <td>NaN</td>\n",
       "      <td>0.277705</td>\n",
       "      <td>0.277532</td>\n",
       "      <td>0.277387</td>\n",
       "      <td>0.277217</td>\n",
       "      <td>0.277042</td>\n",
       "      <td>0.276930</td>\n",
       "      <td>0.276856</td>\n",
       "      <td>0.276737</td>\n",
       "      <td>...</td>\n",
       "      <td>0.242726</td>\n",
       "      <td>0.241897</td>\n",
       "      <td>0.241107</td>\n",
       "      <td>0.240374</td>\n",
       "      <td>0.239742</td>\n",
       "      <td>0.239234</td>\n",
       "      <td>0.238833</td>\n",
       "      <td>0.238523</td>\n",
       "      <td>0.238314</td>\n",
       "      <td>0.238197</td>\n",
       "    </tr>\n",
       "    <tr>\n",
       "      <th>1</th>\n",
       "      <td>N1</td>\n",
       "      <td>NaN</td>\n",
       "      <td>0.251624</td>\n",
       "      <td>0.251438</td>\n",
       "      <td>0.251268</td>\n",
       "      <td>0.251067</td>\n",
       "      <td>0.250843</td>\n",
       "      <td>0.250645</td>\n",
       "      <td>0.250467</td>\n",
       "      <td>0.250280</td>\n",
       "      <td>...</td>\n",
       "      <td>0.213427</td>\n",
       "      <td>0.212628</td>\n",
       "      <td>0.211891</td>\n",
       "      <td>0.211234</td>\n",
       "      <td>0.210662</td>\n",
       "      <td>0.210173</td>\n",
       "      <td>0.209763</td>\n",
       "      <td>0.209450</td>\n",
       "      <td>0.209267</td>\n",
       "      <td>0.209202</td>\n",
       "    </tr>\n",
       "    <tr>\n",
       "      <th>2</th>\n",
       "      <td>N1</td>\n",
       "      <td>NaN</td>\n",
       "      <td>0.083310</td>\n",
       "      <td>0.083293</td>\n",
       "      <td>0.083307</td>\n",
       "      <td>0.083338</td>\n",
       "      <td>0.083391</td>\n",
       "      <td>0.083478</td>\n",
       "      <td>0.083585</td>\n",
       "      <td>0.083674</td>\n",
       "      <td>...</td>\n",
       "      <td>0.085724</td>\n",
       "      <td>0.085260</td>\n",
       "      <td>0.084823</td>\n",
       "      <td>0.084445</td>\n",
       "      <td>0.084137</td>\n",
       "      <td>0.083894</td>\n",
       "      <td>0.083715</td>\n",
       "      <td>0.083602</td>\n",
       "      <td>0.083543</td>\n",
       "      <td>0.083495</td>\n",
       "    </tr>\n",
       "    <tr>\n",
       "      <th>3</th>\n",
       "      <td>N2</td>\n",
       "      <td>NaN</td>\n",
       "      <td>0.067509</td>\n",
       "      <td>0.067070</td>\n",
       "      <td>0.066684</td>\n",
       "      <td>0.066359</td>\n",
       "      <td>0.066106</td>\n",
       "      <td>0.065938</td>\n",
       "      <td>0.065852</td>\n",
       "      <td>0.065828</td>\n",
       "      <td>...</td>\n",
       "      <td>0.055012</td>\n",
       "      <td>0.054969</td>\n",
       "      <td>0.054902</td>\n",
       "      <td>0.054832</td>\n",
       "      <td>0.054781</td>\n",
       "      <td>0.054767</td>\n",
       "      <td>0.054787</td>\n",
       "      <td>0.054823</td>\n",
       "      <td>0.054857</td>\n",
       "      <td>0.054893</td>\n",
       "    </tr>\n",
       "    <tr>\n",
       "      <th>4</th>\n",
       "      <td>N2</td>\n",
       "      <td>NaN</td>\n",
       "      <td>0.129576</td>\n",
       "      <td>0.128690</td>\n",
       "      <td>0.127912</td>\n",
       "      <td>0.127232</td>\n",
       "      <td>0.126676</td>\n",
       "      <td>0.126306</td>\n",
       "      <td>0.126138</td>\n",
       "      <td>0.126113</td>\n",
       "      <td>...</td>\n",
       "      <td>0.099128</td>\n",
       "      <td>0.098794</td>\n",
       "      <td>0.098337</td>\n",
       "      <td>0.097886</td>\n",
       "      <td>0.097527</td>\n",
       "      <td>0.097272</td>\n",
       "      <td>0.097091</td>\n",
       "      <td>0.096970</td>\n",
       "      <td>0.096906</td>\n",
       "      <td>0.096881</td>\n",
       "    </tr>\n",
       "  </tbody>\n",
       "</table>\n",
       "<p>5 rows × 253 columns</p>\n",
       "</div>"
      ],
      "text/plain": [
       "   ID  Ct      1300      1298      1296      1294      1292      1290  \\\n",
       "0  N1 NaN  0.277705  0.277532  0.277387  0.277217  0.277042  0.276930   \n",
       "1  N1 NaN  0.251624  0.251438  0.251268  0.251067  0.250843  0.250645   \n",
       "2  N1 NaN  0.083310  0.083293  0.083307  0.083338  0.083391  0.083478   \n",
       "3  N2 NaN  0.067509  0.067070  0.066684  0.066359  0.066106  0.065938   \n",
       "4  N2 NaN  0.129576  0.128690  0.127912  0.127232  0.126676  0.126306   \n",
       "\n",
       "       1288      1286  ...       818       816       814       812       810  \\\n",
       "0  0.276856  0.276737  ...  0.242726  0.241897  0.241107  0.240374  0.239742   \n",
       "1  0.250467  0.250280  ...  0.213427  0.212628  0.211891  0.211234  0.210662   \n",
       "2  0.083585  0.083674  ...  0.085724  0.085260  0.084823  0.084445  0.084137   \n",
       "3  0.065852  0.065828  ...  0.055012  0.054969  0.054902  0.054832  0.054781   \n",
       "4  0.126138  0.126113  ...  0.099128  0.098794  0.098337  0.097886  0.097527   \n",
       "\n",
       "        808       806       804       802       800  \n",
       "0  0.239234  0.238833  0.238523  0.238314  0.238197  \n",
       "1  0.210173  0.209763  0.209450  0.209267  0.209202  \n",
       "2  0.083894  0.083715  0.083602  0.083543  0.083495  \n",
       "3  0.054767  0.054787  0.054823  0.054857  0.054893  \n",
       "4  0.097272  0.097091  0.096970  0.096906  0.096881  \n",
       "\n",
       "[5 rows x 253 columns]"
      ]
     },
     "execution_count": 19,
     "metadata": {},
     "output_type": "execute_result"
    }
   ],
   "source": [
    "df = pd.read_excel(\"SourceData2.xlsx\")\n",
    "df.head()"
   ]
  },
  {
   "cell_type": "code",
   "execution_count": 20,
   "metadata": {},
   "outputs": [
    {
     "data": {
      "text/html": [
       "<div>\n",
       "<style scoped>\n",
       "    .dataframe tbody tr th:only-of-type {\n",
       "        vertical-align: middle;\n",
       "    }\n",
       "\n",
       "    .dataframe tbody tr th {\n",
       "        vertical-align: top;\n",
       "    }\n",
       "\n",
       "    .dataframe thead th {\n",
       "        text-align: right;\n",
       "    }\n",
       "</style>\n",
       "<table border=\"1\" class=\"dataframe\">\n",
       "  <thead>\n",
       "    <tr style=\"text-align: right;\">\n",
       "      <th></th>\n",
       "      <th>ID</th>\n",
       "      <th>Ct</th>\n",
       "      <th>1300</th>\n",
       "      <th>1298</th>\n",
       "      <th>1296</th>\n",
       "      <th>1294</th>\n",
       "      <th>1292</th>\n",
       "      <th>1290</th>\n",
       "      <th>1288</th>\n",
       "      <th>1286</th>\n",
       "      <th>...</th>\n",
       "      <th>818</th>\n",
       "      <th>816</th>\n",
       "      <th>814</th>\n",
       "      <th>812</th>\n",
       "      <th>810</th>\n",
       "      <th>808</th>\n",
       "      <th>806</th>\n",
       "      <th>804</th>\n",
       "      <th>802</th>\n",
       "      <th>800</th>\n",
       "    </tr>\n",
       "  </thead>\n",
       "  <tbody>\n",
       "    <tr>\n",
       "      <th>178</th>\n",
       "      <td>P30</td>\n",
       "      <td>16.95</td>\n",
       "      <td>0.169349</td>\n",
       "      <td>0.169277</td>\n",
       "      <td>0.169212</td>\n",
       "      <td>0.169121</td>\n",
       "      <td>0.169057</td>\n",
       "      <td>0.169072</td>\n",
       "      <td>0.169133</td>\n",
       "      <td>0.169197</td>\n",
       "      <td>...</td>\n",
       "      <td>0.103987</td>\n",
       "      <td>0.103974</td>\n",
       "      <td>0.103963</td>\n",
       "      <td>0.103903</td>\n",
       "      <td>0.103825</td>\n",
       "      <td>0.103762</td>\n",
       "      <td>0.103700</td>\n",
       "      <td>0.103615</td>\n",
       "      <td>0.103513</td>\n",
       "      <td>0.103393</td>\n",
       "    </tr>\n",
       "    <tr>\n",
       "      <th>179</th>\n",
       "      <td>P30</td>\n",
       "      <td>16.95</td>\n",
       "      <td>0.277632</td>\n",
       "      <td>0.277423</td>\n",
       "      <td>0.277119</td>\n",
       "      <td>0.276688</td>\n",
       "      <td>0.276211</td>\n",
       "      <td>0.275814</td>\n",
       "      <td>0.275529</td>\n",
       "      <td>0.275318</td>\n",
       "      <td>...</td>\n",
       "      <td>0.177726</td>\n",
       "      <td>0.178111</td>\n",
       "      <td>0.178484</td>\n",
       "      <td>0.178827</td>\n",
       "      <td>0.179161</td>\n",
       "      <td>0.179454</td>\n",
       "      <td>0.179650</td>\n",
       "      <td>0.179756</td>\n",
       "      <td>0.179837</td>\n",
       "      <td>0.179928</td>\n",
       "    </tr>\n",
       "    <tr>\n",
       "      <th>180</th>\n",
       "      <td>P31</td>\n",
       "      <td>32.10</td>\n",
       "      <td>0.175842</td>\n",
       "      <td>0.174590</td>\n",
       "      <td>0.173493</td>\n",
       "      <td>0.172534</td>\n",
       "      <td>0.171712</td>\n",
       "      <td>0.171067</td>\n",
       "      <td>0.170605</td>\n",
       "      <td>0.170303</td>\n",
       "      <td>...</td>\n",
       "      <td>0.097160</td>\n",
       "      <td>0.097295</td>\n",
       "      <td>0.097339</td>\n",
       "      <td>0.097355</td>\n",
       "      <td>0.097408</td>\n",
       "      <td>0.097484</td>\n",
       "      <td>0.097523</td>\n",
       "      <td>0.097521</td>\n",
       "      <td>0.097521</td>\n",
       "      <td>0.097536</td>\n",
       "    </tr>\n",
       "    <tr>\n",
       "      <th>181</th>\n",
       "      <td>P31</td>\n",
       "      <td>32.10</td>\n",
       "      <td>0.305833</td>\n",
       "      <td>0.304135</td>\n",
       "      <td>0.302663</td>\n",
       "      <td>0.301395</td>\n",
       "      <td>0.300495</td>\n",
       "      <td>0.300195</td>\n",
       "      <td>0.300463</td>\n",
       "      <td>0.301050</td>\n",
       "      <td>...</td>\n",
       "      <td>0.221463</td>\n",
       "      <td>0.222138</td>\n",
       "      <td>0.222542</td>\n",
       "      <td>0.222775</td>\n",
       "      <td>0.222966</td>\n",
       "      <td>0.223190</td>\n",
       "      <td>0.223473</td>\n",
       "      <td>0.223837</td>\n",
       "      <td>0.224288</td>\n",
       "      <td>0.224766</td>\n",
       "    </tr>\n",
       "    <tr>\n",
       "      <th>182</th>\n",
       "      <td>P31</td>\n",
       "      <td>32.10</td>\n",
       "      <td>0.271944</td>\n",
       "      <td>0.270299</td>\n",
       "      <td>0.268843</td>\n",
       "      <td>0.267598</td>\n",
       "      <td>0.266660</td>\n",
       "      <td>0.266113</td>\n",
       "      <td>0.265897</td>\n",
       "      <td>0.265881</td>\n",
       "      <td>...</td>\n",
       "      <td>0.173923</td>\n",
       "      <td>0.174306</td>\n",
       "      <td>0.174538</td>\n",
       "      <td>0.174685</td>\n",
       "      <td>0.174833</td>\n",
       "      <td>0.175021</td>\n",
       "      <td>0.175224</td>\n",
       "      <td>0.175406</td>\n",
       "      <td>0.175568</td>\n",
       "      <td>0.175727</td>\n",
       "    </tr>\n",
       "  </tbody>\n",
       "</table>\n",
       "<p>5 rows × 253 columns</p>\n",
       "</div>"
      ],
      "text/plain": [
       "      ID     Ct      1300      1298      1296      1294      1292      1290  \\\n",
       "178  P30  16.95  0.169349  0.169277  0.169212  0.169121  0.169057  0.169072   \n",
       "179  P30  16.95  0.277632  0.277423  0.277119  0.276688  0.276211  0.275814   \n",
       "180  P31  32.10  0.175842  0.174590  0.173493  0.172534  0.171712  0.171067   \n",
       "181  P31  32.10  0.305833  0.304135  0.302663  0.301395  0.300495  0.300195   \n",
       "182  P31  32.10  0.271944  0.270299  0.268843  0.267598  0.266660  0.266113   \n",
       "\n",
       "         1288      1286  ...       818       816       814       812  \\\n",
       "178  0.169133  0.169197  ...  0.103987  0.103974  0.103963  0.103903   \n",
       "179  0.275529  0.275318  ...  0.177726  0.178111  0.178484  0.178827   \n",
       "180  0.170605  0.170303  ...  0.097160  0.097295  0.097339  0.097355   \n",
       "181  0.300463  0.301050  ...  0.221463  0.222138  0.222542  0.222775   \n",
       "182  0.265897  0.265881  ...  0.173923  0.174306  0.174538  0.174685   \n",
       "\n",
       "          810       808       806       804       802       800  \n",
       "178  0.103825  0.103762  0.103700  0.103615  0.103513  0.103393  \n",
       "179  0.179161  0.179454  0.179650  0.179756  0.179837  0.179928  \n",
       "180  0.097408  0.097484  0.097523  0.097521  0.097521  0.097536  \n",
       "181  0.222966  0.223190  0.223473  0.223837  0.224288  0.224766  \n",
       "182  0.174833  0.175021  0.175224  0.175406  0.175568  0.175727  \n",
       "\n",
       "[5 rows x 253 columns]"
      ]
     },
     "execution_count": 20,
     "metadata": {},
     "output_type": "execute_result"
    }
   ],
   "source": [
    "df.tail()"
   ]
  },
  {
   "cell_type": "markdown",
   "metadata": {},
   "source": [
    "After loading the data, we see a column 'ID'. It does not represent anything in this dataset, so I'll remove it."
   ]
  },
  {
   "cell_type": "code",
   "execution_count": 21,
   "metadata": {},
   "outputs": [],
   "source": [
    "df = df.drop([\"ID\"],axis=1)"
   ]
  },
  {
   "cell_type": "markdown",
   "metadata": {},
   "source": [
    "Check the missing value before going deeper into the df."
   ]
  },
  {
   "cell_type": "code",
   "execution_count": 22,
   "metadata": {},
   "outputs": [
    {
     "name": "stdout",
     "output_type": "stream",
     "text": [
      "Ct      132\n",
      "1300      0\n",
      "1298      0\n",
      "1296      0\n",
      "1294      0\n",
      "       ... \n",
      "808       0\n",
      "806       0\n",
      "804       0\n",
      "802       0\n",
      "800       0\n",
      "Length: 252, dtype: int64\n",
      "132\n"
     ]
    }
   ],
   "source": [
    "print(df.isna().sum())\n",
    "print(df.isna().sum().sum())"
   ]
  },
  {
   "cell_type": "markdown",
   "metadata": {},
   "source": [
    "We can see there is some missing value. Moreover, it only appears in Ct. Normally how handling the missing value is a common problem for data scientists. \n",
    "\n",
    "If I drop out of the missing value, I will lose more than half of the data. However, we do not know why it is missing. Is it detecting values too low? \n",
    "\n",
    "If this is the case, what is the threshold for it? We do not know it. So, I will drop it out to prevent bias.\n",
    "\n",
    "Although I can interpolate it, I do not think interpolating is a nice approach. \n",
    "\n",
    "We want to know the relationship between saliva and Ct. If we interpolate saliva data that will affect our result because the missing is more than half of the dataset."
   ]
  },
  {
   "cell_type": "code",
   "execution_count": 23,
   "metadata": {},
   "outputs": [],
   "source": [
    "df = df.dropna()"
   ]
  },
  {
   "cell_type": "markdown",
   "metadata": {},
   "source": [
    "We want to predict the Ct values by saliva data. So, Ct values will be the dependent variable. Saliva data will be independent variables."
   ]
  },
  {
   "cell_type": "code",
   "execution_count": 24,
   "metadata": {},
   "outputs": [],
   "source": [
    "X = df.iloc[:, 1:]\n",
    "Y = df.iloc[:, 0]"
   ]
  },
  {
   "cell_type": "code",
   "execution_count": 25,
   "metadata": {},
   "outputs": [
    {
     "data": {
      "text/plain": [
       "(0.02055185104793071, 0.06359047528429683)"
      ]
     },
     "execution_count": 25,
     "metadata": {},
     "output_type": "execute_result"
    }
   ],
   "source": [
    "X.var(axis = 0).min(), X.var(axis=0).max()"
   ]
  },
  {
   "cell_type": "markdown",
   "metadata": {},
   "source": [
    "I think the max and min of the variance are pretty close. So, I do not need to normalize it.\n",
    "\n",
    "Multilinear regression is a technique used to estimate the relationship between two or more independent variables (in this case saliva data) and one dependent variable (Ct value)"
   ]
  },
  {
   "cell_type": "code",
   "execution_count": 26,
   "metadata": {},
   "outputs": [],
   "source": [
    "model = linear_model.LinearRegression()\n",
    "model.fit(X, Y)\n",
    "pred = model.predict(X)"
   ]
  },
  {
   "cell_type": "code",
   "execution_count": 27,
   "metadata": {},
   "outputs": [
    {
     "data": {
      "text/plain": [
       "Text(0.5, 1.0, 'CT value predict by saliva infrared spectra data (MLR)')"
      ]
     },
     "execution_count": 27,
     "metadata": {},
     "output_type": "execute_result"
    },
    {
     "data": {
      "image/png": "[encoded data removed]",
      "text/plain": [
       "<Figure size 720x360 with 1 Axes>"
      ]
     },
     "metadata": {
      "needs_background": "light"
     },
     "output_type": "display_data"
    }
   ],
   "source": [
    "plt.figure(figsize=(10, 5))\n",
    "plt.scatter(Y,pred)\n",
    "plt.ylabel('predicted CT value')\n",
    "plt.xlabel('CT value')\n",
    "plt.title(\"CT value predict by saliva infrared spectra data (MLR)\")"
   ]
  },
  {
   "cell_type": "code",
   "execution_count": 28,
   "metadata": {},
   "outputs": [
    {
     "name": "stdout",
     "output_type": "stream",
     "text": [
      "1.0732830402566162e-23\n",
      "1.0\n"
     ]
    }
   ],
   "source": [
    "print(mean_squared_error(Y, pred))\n",
    "print(model.score(X, Y))"
   ]
  },
  {
   "cell_type": "markdown",
   "metadata": {},
   "source": [
    "The score is 1. I think it will be better to check by other method."
   ]
  },
  {
   "cell_type": "code",
   "execution_count": 29,
   "metadata": {},
   "outputs": [
    {
     "name": "stdout",
     "output_type": "stream",
     "text": [
      "                            OLS Regression Results                            \n",
      "==============================================================================\n",
      "Dep. Variable:                     Ct   R-squared:                       1.000\n",
      "Model:                            OLS   Adj. R-squared:                    nan\n",
      "Method:                 Least Squares   F-statistic:                       nan\n",
      "Date:                Thu, 07 Jul 2022   Prob (F-statistic):                nan\n",
      "Time:                        15:31:17   Log-Likelihood:                 1248.3\n",
      "No. Observations:                  51   AIC:                            -2395.\n",
      "Df Residuals:                       0   BIC:                            -2296.\n",
      "Df Model:                          50                                         \n",
      "Covariance Type:            nonrobust                                         \n",
      "==============================================================================\n",
      "                 coef    std err          t      P>|t|      [0.025      0.975]\n",
      "------------------------------------------------------------------------------\n",
      "const         31.5604        inf          0        nan         nan         nan\n",
      "1300         497.4227        inf          0        nan         nan         nan\n",
      "1298         -17.1543        inf         -0        nan         nan         nan\n",
      "1296        -310.9244        inf         -0        nan         nan         nan\n",
      "1294        -590.4003        inf         -0        nan         nan         nan\n",
      "1292        -637.1393        inf         -0        nan         nan         nan\n",
      "1290        -199.0507        inf         -0        nan         nan         nan\n",
      "1288         504.1717        inf          0        nan         nan         nan\n",
      "1286         817.2874        inf          0        nan         nan         nan\n",
      "1284         483.2509        inf          0        nan         nan         nan\n",
      "1282          33.4148        inf          0        nan         nan         nan\n",
      "1280         144.8264        inf          0        nan         nan         nan\n",
      "1278         662.4248        inf          0        nan         nan         nan\n",
      "1276         948.5925        inf          0        nan         nan         nan\n",
      "1274         834.9942        inf          0        nan         nan         nan\n",
      "1272         798.9790        inf          0        nan         nan         nan\n",
      "1270         936.5382        inf          0        nan         nan         nan\n",
      "1268         694.6333        inf          0        nan         nan         nan\n",
      "1266        -217.8058        inf         -0        nan         nan         nan\n",
      "1264       -1212.0867        inf         -0        nan         nan         nan\n",
      "1262       -1456.3841        inf         -0        nan         nan         nan\n",
      "1260        -980.2690        inf         -0        nan         nan         nan\n",
      "1258        -530.8595        inf         -0        nan         nan         nan\n",
      "1256        -642.6776        inf         -0        nan         nan         nan\n",
      "1254       -1176.0337        inf         -0        nan         nan         nan\n",
      "1252       -1564.5415        inf         -0        nan         nan         nan\n",
      "1250       -1344.0234        inf         -0        nan         nan         nan\n",
      "1248        -583.9232        inf         -0        nan         nan         nan\n",
      "1246         143.1032        inf          0        nan         nan         nan\n",
      "1244         398.7872        inf          0        nan         nan         nan\n",
      "1242         417.9749        inf          0        nan         nan         nan\n",
      "1240         773.8342        inf          0        nan         nan         nan\n",
      "1238        1469.5104        inf          0        nan         nan         nan\n",
      "1236        1817.1398        inf          0        nan         nan         nan\n",
      "1234        1402.8548        inf          0        nan         nan         nan\n",
      "1232         626.4179        inf          0        nan         nan         nan\n",
      "1230          59.6138        inf          0        nan         nan         nan\n",
      "1228        -295.6209        inf         -0        nan         nan         nan\n",
      "1226        -705.7905        inf         -0        nan         nan         nan\n",
      "1224       -1062.7265        inf         -0        nan         nan         nan\n",
      "1222       -1018.7132        inf         -0        nan         nan         nan\n",
      "1220        -608.9828        inf         -0        nan         nan         nan\n",
      "1218        -266.9087        inf         -0        nan         nan         nan\n",
      "1216        -326.5223        inf         -0        nan         nan         nan\n",
      "1214        -584.4571        inf         -0        nan         nan         nan\n",
      "1212        -576.7260        inf         -0        nan         nan         nan\n",
      "1210          -0.9597        inf         -0        nan         nan         nan\n",
      "1208         895.8648        inf          0        nan         nan         nan\n",
      "1206        1509.3164        inf          0        nan         nan         nan\n",
      "1204        1262.5957        inf          0        nan         nan         nan\n",
      "1202         381.0852        inf          0        nan         nan         nan\n",
      "1200        -429.0767        inf         -0        nan         nan         nan\n",
      "1198        -756.2474        inf         -0        nan         nan         nan\n",
      "1196        -783.5939        inf         -0        nan         nan         nan\n",
      "1194        -725.4102        inf         -0        nan         nan         nan\n",
      "1192        -324.0578        inf         -0        nan         nan         nan\n",
      "1190         605.5700        inf          0        nan         nan         nan\n",
      "1188        1505.0335        inf          0        nan         nan         nan\n",
      "1186        1427.8057        inf          0        nan         nan         nan\n",
      "1184          58.5525        inf          0        nan         nan         nan\n",
      "1182       -1899.6798        inf         -0        nan         nan         nan\n",
      "1180       -3175.7084        inf         -0        nan         nan         nan\n",
      "1178       -2839.7951        inf         -0        nan         nan         nan\n",
      "1176        -957.6924        inf         -0        nan         nan         nan\n",
      "1174        1466.8838        inf          0        nan         nan         nan\n",
      "1172        3166.6791        inf          0        nan         nan         nan\n",
      "1170        3352.5271        inf          0        nan         nan         nan\n",
      "1168        2055.2647        inf          0        nan         nan         nan\n",
      "1166           8.4028        inf          0        nan         nan         nan\n",
      "1164       -1684.1389        inf         -0        nan         nan         nan\n",
      "1162       -1998.4585        inf         -0        nan         nan         nan\n",
      "1160        -811.5955        inf         -0        nan         nan         nan\n",
      "1158         793.1034        inf          0        nan         nan         nan\n",
      "1156        1516.2624        inf          0        nan         nan         nan\n",
      "1154         973.2248        inf          0        nan         nan         nan\n",
      "1152        -104.6166        inf         -0        nan         nan         nan\n",
      "1150        -865.3278        inf         -0        nan         nan         nan\n",
      "1148       -1111.0836        inf         -0        nan         nan         nan\n",
      "1146       -1047.1859        inf         -0        nan         nan         nan\n",
      "1144        -791.2501        inf         -0        nan         nan         nan\n",
      "1142        -320.0280        inf         -0        nan         nan         nan\n",
      "1140         296.7898        inf          0        nan         nan         nan\n",
      "1138         839.2733        inf          0        nan         nan         nan\n",
      "1136         951.8225        inf          0        nan         nan         nan\n",
      "1134         459.9629        inf          0        nan         nan         nan\n",
      "1132        -388.2027        inf         -0        nan         nan         nan\n",
      "1130        -914.6564        inf         -0        nan         nan         nan\n",
      "1128        -725.6130        inf         -0        nan         nan         nan\n",
      "1126        -231.7544        inf         -0        nan         nan         nan\n",
      "1124        -111.1810        inf         -0        nan         nan         nan\n",
      "1122        -359.6647        inf         -0        nan         nan         nan\n",
      "1120        -384.6367        inf         -0        nan         nan         nan\n",
      "1118          65.1511        inf          0        nan         nan         nan\n",
      "1116         733.3651        inf          0        nan         nan         nan\n",
      "1114        1268.2453        inf          0        nan         nan         nan\n",
      "1112        1626.8854        inf          0        nan         nan         nan\n",
      "1110        1713.1245        inf          0        nan         nan         nan\n",
      "1108        1340.7405        inf          0        nan         nan         nan\n",
      "1106         498.5035        inf          0        nan         nan         nan\n",
      "1104        -377.1259        inf         -0        nan         nan         nan\n",
      "1102        -858.4065        inf         -0        nan         nan         nan\n",
      "1100        -728.6522        inf         -0        nan         nan         nan\n",
      "1098        -249.3389        inf         -0        nan         nan         nan\n",
      "1096         100.3578        inf          0        nan         nan         nan\n",
      "1094         -52.5962        inf         -0        nan         nan         nan\n",
      "1092        -642.9220        inf         -0        nan         nan         nan\n",
      "1090       -1118.5018        inf         -0        nan         nan         nan\n",
      "1088       -1126.9381        inf         -0        nan         nan         nan\n",
      "1086       -1040.5811        inf         -0        nan         nan         nan\n",
      "1084       -1174.6109        inf         -0        nan         nan         nan\n",
      "1082       -1061.9122        inf         -0        nan         nan         nan\n",
      "1080        -112.7087        inf         -0        nan         nan         nan\n",
      "1078        1397.7394        inf          0        nan         nan         nan\n",
      "1076        2342.8589        inf          0        nan         nan         nan\n",
      "1074        2051.7427        inf          0        nan         nan         nan\n",
      "1072         968.3861        inf          0        nan         nan         nan\n",
      "1070        -105.3834        inf         -0        nan         nan         nan\n",
      "1068        -838.8432        inf         -0        nan         nan         nan\n",
      "1066       -1365.9417        inf         -0        nan         nan         nan\n",
      "1064       -1664.8626        inf         -0        nan         nan         nan\n",
      "1062       -1383.0346        inf         -0        nan         nan         nan\n",
      "1060        -525.7498        inf         -0        nan         nan         nan\n",
      "1058         421.6098        inf          0        nan         nan         nan\n",
      "1056         755.9382        inf          0        nan         nan         nan\n",
      "1054         365.6585        inf          0        nan         nan         nan\n",
      "1052         -16.2055        inf         -0        nan         nan         nan\n",
      "1050         340.7600        inf          0        nan         nan         nan\n",
      "1048        1183.6723        inf          0        nan         nan         nan\n",
      "1046        1464.4304        inf          0        nan         nan         nan\n",
      "1044         726.5726        inf          0        nan         nan         nan\n",
      "1042        -368.8785        inf         -0        nan         nan         nan\n",
      "1040       -1072.0694        inf         -0        nan         nan         nan\n",
      "1038       -1471.4718        inf         -0        nan         nan         nan\n",
      "1036       -1938.3064        inf         -0        nan         nan         nan\n",
      "1034       -2214.8348        inf         -0        nan         nan         nan\n",
      "1032       -1568.4508        inf         -0        nan         nan         nan\n",
      "1030          70.2911        inf          0        nan         nan         nan\n",
      "1028        1778.9749        inf          0        nan         nan         nan\n",
      "1026        2616.5184        inf          0        nan         nan         nan\n",
      "1024        2495.4477        inf          0        nan         nan         nan\n",
      "1022        1919.8761        inf          0        nan         nan         nan\n",
      "1020        1256.3565        inf          0        nan         nan         nan\n",
      "1018         554.0579        inf          0        nan         nan         nan\n",
      "1016        -292.6096        inf         -0        nan         nan         nan\n",
      "1014       -1341.5383        inf         -0        nan         nan         nan\n",
      "1012       -2284.6931        inf         -0        nan         nan         nan\n",
      "1010       -2537.8938        inf         -0        nan         nan         nan\n",
      "1008       -1769.3131        inf         -0        nan         nan         nan\n",
      "1006        -489.9988        inf         -0        nan         nan         nan\n",
      "1004         416.4806        inf          0        nan         nan         nan\n",
      "1002         632.6369        inf          0        nan         nan         nan\n",
      "1000         553.4085        inf          0        nan         nan         nan\n",
      "998          505.2484        inf          0        nan         nan         nan\n",
      "996          402.8343        inf          0        nan         nan         nan\n",
      "994          159.8555        inf          0        nan         nan         nan\n",
      "992           33.1262        inf          0        nan         nan         nan\n",
      "990          107.2061        inf          0        nan         nan         nan\n",
      "988          269.0750        inf          0        nan         nan         nan\n",
      "986          359.7604        inf          0        nan         nan         nan\n",
      "984          271.7474        inf          0        nan         nan         nan\n",
      "982         -260.9684        inf         -0        nan         nan         nan\n",
      "980        -1250.5732        inf         -0        nan         nan         nan\n",
      "978        -1906.0415        inf         -0        nan         nan         nan\n",
      "976        -1163.8914        inf         -0        nan         nan         nan\n",
      "974          782.5967        inf          0        nan         nan         nan\n",
      "972         2340.5124        inf          0        nan         nan         nan\n",
      "970         2214.9137        inf          0        nan         nan         nan\n",
      "968          868.0583        inf          0        nan         nan         nan\n",
      "966         -126.8527        inf         -0        nan         nan         nan\n",
      "964           84.6211        inf          0        nan         nan         nan\n",
      "962         1002.4897        inf          0        nan         nan         nan\n",
      "960         1584.8044        inf          0        nan         nan         nan\n",
      "958         1307.8146        inf          0        nan         nan         nan\n",
      "956          355.8305        inf          0        nan         nan         nan\n",
      "954         -604.5476        inf         -0        nan         nan         nan\n",
      "952        -1033.9431        inf         -0        nan         nan         nan\n",
      "950        -1001.5703        inf         -0        nan         nan         nan\n",
      "948        -1041.7755        inf         -0        nan         nan         nan\n",
      "946        -1346.5459        inf         -0        nan         nan         nan\n",
      "944        -1512.0595        inf         -0        nan         nan         nan\n",
      "942        -1194.9460        inf         -0        nan         nan         nan\n",
      "940         -668.0724        inf         -0        nan         nan         nan\n",
      "938         -242.3751        inf         -0        nan         nan         nan\n",
      "936          138.2604        inf          0        nan         nan         nan\n",
      "934          715.0438        inf          0        nan         nan         nan\n",
      "932         1322.9951        inf          0        nan         nan         nan\n",
      "930         1589.3119        inf          0        nan         nan         nan\n",
      "928         1330.1780        inf          0        nan         nan         nan\n",
      "926          794.9502        inf          0        nan         nan         nan\n",
      "924          312.0563        inf          0        nan         nan         nan\n",
      "922          131.5155        inf          0        nan         nan         nan\n",
      "920          322.7888        inf          0        nan         nan         nan\n",
      "918          407.4382        inf          0        nan         nan         nan\n",
      "916         -147.2682        inf         -0        nan         nan         nan\n",
      "914        -1201.8858        inf         -0        nan         nan         nan\n",
      "912        -1905.7777        inf         -0        nan         nan         nan\n",
      "910        -1730.5604        inf         -0        nan         nan         nan\n",
      "908         -968.1187        inf         -0        nan         nan         nan\n",
      "906         -282.0601        inf         -0        nan         nan         nan\n",
      "904          240.3819        inf          0        nan         nan         nan\n",
      "902          692.3310        inf          0        nan         nan         nan\n",
      "900          847.6743        inf          0        nan         nan         nan\n",
      "898          537.2837        inf          0        nan         nan         nan\n",
      "896          170.5307        inf          0        nan         nan         nan\n",
      "894          261.0067        inf          0        nan         nan         nan\n",
      "892          742.8207        inf          0        nan         nan         nan\n",
      "890         1124.5002        inf          0        nan         nan         nan\n",
      "888         1277.9207        inf          0        nan         nan         nan\n",
      "886         1311.2712        inf          0        nan         nan         nan\n",
      "884         1065.4317        inf          0        nan         nan         nan\n",
      "882          298.0456        inf          0        nan         nan         nan\n",
      "880         -723.4612        inf         -0        nan         nan         nan\n",
      "878        -1295.2903        inf         -0        nan         nan         nan\n",
      "876        -1154.5163        inf         -0        nan         nan         nan\n",
      "874         -716.8816        inf         -0        nan         nan         nan\n",
      "872         -442.8502        inf         -0        nan         nan         nan\n",
      "870         -370.7089        inf         -0        nan         nan         nan\n",
      "868         -341.7083        inf         -0        nan         nan         nan\n",
      "866         -246.5892        inf         -0        nan         nan         nan\n",
      "864           16.9839        inf          0        nan         nan         nan\n",
      "862          475.9201        inf          0        nan         nan         nan\n",
      "860          919.6416        inf          0        nan         nan         nan\n",
      "858         1070.4109        inf          0        nan         nan         nan\n",
      "856          800.3318        inf          0        nan         nan         nan\n",
      "854          106.7894        inf          0        nan         nan         nan\n",
      "852         -957.6998        inf         -0        nan         nan         nan\n",
      "850        -1983.9884        inf         -0        nan         nan         nan\n",
      "848        -2146.9779        inf         -0        nan         nan         nan\n",
      "846         -933.3466        inf         -0        nan         nan         nan\n",
      "844          898.6690        inf          0        nan         nan         nan\n",
      "842         1801.4431        inf          0        nan         nan         nan\n",
      "840          990.1722        inf          0        nan         nan         nan\n",
      "838         -688.3543        inf         -0        nan         nan         nan\n",
      "836        -1612.9541        inf         -0        nan         nan         nan\n",
      "834        -1190.9049        inf         -0        nan         nan         nan\n",
      "832         -111.0364        inf         -0        nan         nan         nan\n",
      "830          640.3266        inf          0        nan         nan         nan\n",
      "828          891.3715        inf          0        nan         nan         nan\n",
      "826         1000.7326        inf          0        nan         nan         nan\n",
      "824         1072.9913        inf          0        nan         nan         nan\n",
      "822          741.5049        inf          0        nan         nan         nan\n",
      "820         -227.5016        inf         -0        nan         nan         nan\n",
      "818        -1456.8719        inf         -0        nan         nan         nan\n",
      "816        -2430.2845        inf         -0        nan         nan         nan\n",
      "814        -2879.1798        inf         -0        nan         nan         nan\n",
      "812        -2646.6081        inf         -0        nan         nan         nan\n",
      "810        -1618.4397        inf         -0        nan         nan         nan\n",
      "808          -19.2823        inf         -0        nan         nan         nan\n",
      "806         1432.9306        inf          0        nan         nan         nan\n",
      "804         2128.0781        inf          0        nan         nan         nan\n",
      "802         2336.5882        inf          0        nan         nan         nan\n",
      "800         2923.2570        inf          0        nan         nan         nan\n",
      "==============================================================================\n",
      "Omnibus:                        7.553   Durbin-Watson:                   0.515\n",
      "Prob(Omnibus):                  0.023   Jarque-Bera (JB):                7.014\n",
      "Skew:                           0.897   Prob(JB):                       0.0300\n",
      "Kurtosis:                       3.281   Cond. No.                     1.27e+05\n",
      "==============================================================================\n",
      "\n",
      "Notes:\n",
      "[1] Standard Errors assume that the covariance matrix of the errors is correctly specified.\n",
      "[2] The input rank is higher than the number of observations.\n",
      "[3] The condition number is large, 1.27e+05. This might indicate that there are\n",
      "strong multicollinearity or other numerical problems.\n"
     ]
    }
   ],
   "source": [
    "# Gets additional information about the model\n",
    "X = sm.add_constant(X) # adding a constant\n",
    "olsmod = sm.OLS(Y, X).fit()\n",
    "print(olsmod.summary())"
   ]
  },
  {
   "cell_type": "markdown",
   "metadata": {},
   "source": [
    "The model mention about strong multicollinearity. That's try PLSR to fix this problem."
   ]
  },
  {
   "cell_type": "markdown",
   "metadata": {},
   "source": [
    "**Try another method to predict it**\n",
    "\n",
    "I think MLR can fit it very nicely. However, there is a problem with multicollinearity. Let's try another method to fix it. I think PCR or PLSR will be better for this dataset.\n",
    " \n",
    "**Method**: PLSR\n",
    "\n",
    "https://scikit-learn.org/stable/auto_examples/cross_decomposition/plot_pcr_vs_pls.html\n",
    "\n",
    "**Rationale for using the method**: I can use PCR or PLSR for this regression model. However, I think we already know the Ct value(label). So, it is supervised learning. I think PLSR is better than PCR for supervised learning.\n",
    "\n",
    "**Expectations**: I expect that PLSR can reduce the dimensions. In addition, I believe we can see predict the Ct value. Once this model is observed, we can use saliva to detect the Ct value."
   ]
  },
  {
   "cell_type": "code",
   "execution_count": 30,
   "metadata": {},
   "outputs": [
    {
     "data": {
      "text/plain": [
       "[<matplotlib.lines.Line2D at 0x7f9e688340d0>]"
      ]
     },
     "execution_count": 30,
     "metadata": {},
     "output_type": "execute_result"
    },
    {
     "data": {
      "image/png": "[encoded data removed]",
      "text/plain": [
       "<Figure size 432x288 with 1 Axes>"
      ]
     },
     "metadata": {
      "needs_background": "light"
     },
     "output_type": "display_data"
    }
   ],
   "source": [
    "component = []\n",
    "for i in range(1,50):\n",
    "    pls = PLSRegression(n_components=i)\n",
    "    pls.fit(X, Y)\n",
    "    pred = pls.predict(X)\n",
    "    component.append(mean_squared_error(Y, pred))\n",
    "plt.xlabel(\"Component (s)\")\n",
    "plt.ylabel(\"MSE\")\n",
    "plt.title(\"The MSE for different components in PLSR\")\n",
    "plt.locator_params('x', nbins=20)\n",
    "plt.plot(component/component[0])"
   ]
  },
  {
   "cell_type": "markdown",
   "metadata": {},
   "source": [
    "I rescale it to get the MSE on a percentage scale. I think 25 is pretty well. It has less MSE. Let's choose 25 as the components and do further steps."
   ]
  },
  {
   "cell_type": "code",
   "execution_count": 31,
   "metadata": {},
   "outputs": [],
   "source": [
    "pls = PLSRegression(n_components=25)\n",
    "pls.fit(X, Y)\n",
    "pred = pls.predict(X)"
   ]
  },
  {
   "cell_type": "code",
   "execution_count": 32,
   "metadata": {},
   "outputs": [
    {
     "data": {
      "text/plain": [
       "Text(0.5, 1.0, 'CT value predict by saliva infrared spectra data (PSLR)')"
      ]
     },
     "execution_count": 32,
     "metadata": {},
     "output_type": "execute_result"
    },
    {
     "data": {
      "image/png": "[encoded data removed]",
      "text/plain": [
       "<Figure size 576x360 with 1 Axes>"
      ]
     },
     "metadata": {
      "needs_background": "light"
     },
     "output_type": "display_data"
    }
   ],
   "source": [
    "plt.figure(figsize=(8, 5))\n",
    "plt.scatter(Y,pred)\n",
    "plt.ylabel('predicted CT value')\n",
    "plt.xlabel('CT value')\n",
    "plt.title(\"CT value predict by saliva infrared spectra data (PSLR)\")"
   ]
  },
  {
   "cell_type": "code",
   "execution_count": 33,
   "metadata": {},
   "outputs": [
    {
     "name": "stdout",
     "output_type": "stream",
     "text": [
      "0.8596310733867691\n",
      "0.9781296226582604\n"
     ]
    }
   ],
   "source": [
    "print(mean_squared_error(Y, pred))\n",
    "print(pls.score(X,Y))"
   ]
  },
  {
   "cell_type": "markdown",
   "metadata": {},
   "source": [
    "**Interpretation and reflection**\n",
    "\n",
    "I perform MLR and PSLR. For MLR I get R-square 1 and PLSR is not good as MLR. I only get 0.98 for PSLR.\n",
    "\n",
    "Although MLR can have a better prediction, PLSR can use less to get a similar result. No matter which method I use, it shows a very nice R-square.\n",
    "\n",
    "### Conclusion\n",
    "I use different to check the result. No matter which method I choose, it performs very well. \n",
    "\n",
    "So, I would say there is a strong relationship between Ct value and saliva data. \n",
    "\n",
    "I believe we can use saliva data to predict Ct value in the future. That means we can detect the viral loading not only by detecting from the nose but also from saliva."
   ]
  },
  {
   "cell_type": "markdown",
   "metadata": {},
   "source": [
    "# randompoisson\n",
    "## description\n",
    "contains 1000 by 10000 Poisson distributed random numbers with means per column taken from an exponential distribution. This can be considered simplified fictive/dummy count data, e.g., from genomics/transcriptomics, with 1000 observations in 10000 variables.\n",
    "    \n",
    "**Research question**: Is PCA a nice model when we have to handle the random number?\n",
    "\n",
    "**Method**: PCA\n",
    "\n",
    "**Rationale for using the method**: \n",
    "For unsupervised learning, normally we will try PCA to get the result. Moreover, in high dimensions, we have to reduce the dimension.\n",
    "\n",
    "**Expectations**: \n",
    "I expect PCA can help us find some clusters from the dataset."
   ]
  },
  {
   "cell_type": "code",
   "execution_count": 34,
   "metadata": {},
   "outputs": [
    {
     "data": {
      "text/html": [
       "<div>\n",
       "<style scoped>\n",
       "    .dataframe tbody tr th:only-of-type {\n",
       "        vertical-align: middle;\n",
       "    }\n",
       "\n",
       "    .dataframe tbody tr th {\n",
       "        vertical-align: top;\n",
       "    }\n",
       "\n",
       "    .dataframe thead th {\n",
       "        text-align: right;\n",
       "    }\n",
       "</style>\n",
       "<table border=\"1\" class=\"dataframe\">\n",
       "  <thead>\n",
       "    <tr style=\"text-align: right;\">\n",
       "      <th></th>\n",
       "      <th>0</th>\n",
       "      <th>1</th>\n",
       "      <th>2</th>\n",
       "      <th>3</th>\n",
       "      <th>4</th>\n",
       "      <th>5</th>\n",
       "      <th>6</th>\n",
       "      <th>7</th>\n",
       "      <th>8</th>\n",
       "      <th>9</th>\n",
       "      <th>...</th>\n",
       "      <th>9990</th>\n",
       "      <th>9991</th>\n",
       "      <th>9992</th>\n",
       "      <th>9993</th>\n",
       "      <th>9994</th>\n",
       "      <th>9995</th>\n",
       "      <th>9996</th>\n",
       "      <th>9997</th>\n",
       "      <th>9998</th>\n",
       "      <th>9999</th>\n",
       "    </tr>\n",
       "  </thead>\n",
       "  <tbody>\n",
       "    <tr>\n",
       "      <th>0</th>\n",
       "      <td>572</td>\n",
       "      <td>752</td>\n",
       "      <td>666</td>\n",
       "      <td>140</td>\n",
       "      <td>2211</td>\n",
       "      <td>398</td>\n",
       "      <td>23</td>\n",
       "      <td>2071</td>\n",
       "      <td>1653</td>\n",
       "      <td>708</td>\n",
       "      <td>...</td>\n",
       "      <td>2865</td>\n",
       "      <td>410</td>\n",
       "      <td>293</td>\n",
       "      <td>86</td>\n",
       "      <td>999</td>\n",
       "      <td>199</td>\n",
       "      <td>80</td>\n",
       "      <td>359</td>\n",
       "      <td>483</td>\n",
       "      <td>367</td>\n",
       "    </tr>\n",
       "    <tr>\n",
       "      <th>1</th>\n",
       "      <td>588</td>\n",
       "      <td>750</td>\n",
       "      <td>620</td>\n",
       "      <td>166</td>\n",
       "      <td>2265</td>\n",
       "      <td>402</td>\n",
       "      <td>23</td>\n",
       "      <td>2152</td>\n",
       "      <td>1580</td>\n",
       "      <td>744</td>\n",
       "      <td>...</td>\n",
       "      <td>2792</td>\n",
       "      <td>467</td>\n",
       "      <td>316</td>\n",
       "      <td>97</td>\n",
       "      <td>994</td>\n",
       "      <td>179</td>\n",
       "      <td>96</td>\n",
       "      <td>370</td>\n",
       "      <td>472</td>\n",
       "      <td>388</td>\n",
       "    </tr>\n",
       "    <tr>\n",
       "      <th>2</th>\n",
       "      <td>580</td>\n",
       "      <td>694</td>\n",
       "      <td>666</td>\n",
       "      <td>166</td>\n",
       "      <td>2148</td>\n",
       "      <td>348</td>\n",
       "      <td>31</td>\n",
       "      <td>2141</td>\n",
       "      <td>1509</td>\n",
       "      <td>699</td>\n",
       "      <td>...</td>\n",
       "      <td>2763</td>\n",
       "      <td>459</td>\n",
       "      <td>272</td>\n",
       "      <td>121</td>\n",
       "      <td>914</td>\n",
       "      <td>199</td>\n",
       "      <td>88</td>\n",
       "      <td>400</td>\n",
       "      <td>476</td>\n",
       "      <td>420</td>\n",
       "    </tr>\n",
       "    <tr>\n",
       "      <th>3</th>\n",
       "      <td>600</td>\n",
       "      <td>773</td>\n",
       "      <td>681</td>\n",
       "      <td>132</td>\n",
       "      <td>2264</td>\n",
       "      <td>351</td>\n",
       "      <td>22</td>\n",
       "      <td>2146</td>\n",
       "      <td>1685</td>\n",
       "      <td>713</td>\n",
       "      <td>...</td>\n",
       "      <td>2813</td>\n",
       "      <td>415</td>\n",
       "      <td>321</td>\n",
       "      <td>98</td>\n",
       "      <td>985</td>\n",
       "      <td>184</td>\n",
       "      <td>105</td>\n",
       "      <td>376</td>\n",
       "      <td>488</td>\n",
       "      <td>387</td>\n",
       "    </tr>\n",
       "    <tr>\n",
       "      <th>4</th>\n",
       "      <td>576</td>\n",
       "      <td>751</td>\n",
       "      <td>645</td>\n",
       "      <td>121</td>\n",
       "      <td>2292</td>\n",
       "      <td>368</td>\n",
       "      <td>23</td>\n",
       "      <td>2050</td>\n",
       "      <td>1577</td>\n",
       "      <td>689</td>\n",
       "      <td>...</td>\n",
       "      <td>2734</td>\n",
       "      <td>426</td>\n",
       "      <td>325</td>\n",
       "      <td>100</td>\n",
       "      <td>1015</td>\n",
       "      <td>166</td>\n",
       "      <td>102</td>\n",
       "      <td>398</td>\n",
       "      <td>437</td>\n",
       "      <td>414</td>\n",
       "    </tr>\n",
       "    <tr>\n",
       "      <th>...</th>\n",
       "      <td>...</td>\n",
       "      <td>...</td>\n",
       "      <td>...</td>\n",
       "      <td>...</td>\n",
       "      <td>...</td>\n",
       "      <td>...</td>\n",
       "      <td>...</td>\n",
       "      <td>...</td>\n",
       "      <td>...</td>\n",
       "      <td>...</td>\n",
       "      <td>...</td>\n",
       "      <td>...</td>\n",
       "      <td>...</td>\n",
       "      <td>...</td>\n",
       "      <td>...</td>\n",
       "      <td>...</td>\n",
       "      <td>...</td>\n",
       "      <td>...</td>\n",
       "      <td>...</td>\n",
       "      <td>...</td>\n",
       "      <td>...</td>\n",
       "    </tr>\n",
       "    <tr>\n",
       "      <th>995</th>\n",
       "      <td>598</td>\n",
       "      <td>750</td>\n",
       "      <td>652</td>\n",
       "      <td>130</td>\n",
       "      <td>2243</td>\n",
       "      <td>373</td>\n",
       "      <td>22</td>\n",
       "      <td>2137</td>\n",
       "      <td>1651</td>\n",
       "      <td>743</td>\n",
       "      <td>...</td>\n",
       "      <td>2885</td>\n",
       "      <td>419</td>\n",
       "      <td>298</td>\n",
       "      <td>79</td>\n",
       "      <td>979</td>\n",
       "      <td>183</td>\n",
       "      <td>104</td>\n",
       "      <td>403</td>\n",
       "      <td>475</td>\n",
       "      <td>400</td>\n",
       "    </tr>\n",
       "    <tr>\n",
       "      <th>996</th>\n",
       "      <td>599</td>\n",
       "      <td>786</td>\n",
       "      <td>642</td>\n",
       "      <td>163</td>\n",
       "      <td>2251</td>\n",
       "      <td>398</td>\n",
       "      <td>23</td>\n",
       "      <td>2166</td>\n",
       "      <td>1631</td>\n",
       "      <td>663</td>\n",
       "      <td>...</td>\n",
       "      <td>2828</td>\n",
       "      <td>422</td>\n",
       "      <td>323</td>\n",
       "      <td>94</td>\n",
       "      <td>992</td>\n",
       "      <td>176</td>\n",
       "      <td>107</td>\n",
       "      <td>378</td>\n",
       "      <td>495</td>\n",
       "      <td>405</td>\n",
       "    </tr>\n",
       "    <tr>\n",
       "      <th>997</th>\n",
       "      <td>585</td>\n",
       "      <td>752</td>\n",
       "      <td>663</td>\n",
       "      <td>155</td>\n",
       "      <td>2178</td>\n",
       "      <td>372</td>\n",
       "      <td>27</td>\n",
       "      <td>2118</td>\n",
       "      <td>1610</td>\n",
       "      <td>732</td>\n",
       "      <td>...</td>\n",
       "      <td>2769</td>\n",
       "      <td>435</td>\n",
       "      <td>322</td>\n",
       "      <td>87</td>\n",
       "      <td>916</td>\n",
       "      <td>169</td>\n",
       "      <td>104</td>\n",
       "      <td>398</td>\n",
       "      <td>444</td>\n",
       "      <td>382</td>\n",
       "    </tr>\n",
       "    <tr>\n",
       "      <th>998</th>\n",
       "      <td>565</td>\n",
       "      <td>798</td>\n",
       "      <td>667</td>\n",
       "      <td>129</td>\n",
       "      <td>2253</td>\n",
       "      <td>374</td>\n",
       "      <td>18</td>\n",
       "      <td>2131</td>\n",
       "      <td>1568</td>\n",
       "      <td>736</td>\n",
       "      <td>...</td>\n",
       "      <td>2910</td>\n",
       "      <td>446</td>\n",
       "      <td>308</td>\n",
       "      <td>118</td>\n",
       "      <td>926</td>\n",
       "      <td>187</td>\n",
       "      <td>101</td>\n",
       "      <td>404</td>\n",
       "      <td>493</td>\n",
       "      <td>389</td>\n",
       "    </tr>\n",
       "    <tr>\n",
       "      <th>999</th>\n",
       "      <td>555</td>\n",
       "      <td>716</td>\n",
       "      <td>637</td>\n",
       "      <td>152</td>\n",
       "      <td>2292</td>\n",
       "      <td>357</td>\n",
       "      <td>20</td>\n",
       "      <td>2139</td>\n",
       "      <td>1521</td>\n",
       "      <td>706</td>\n",
       "      <td>...</td>\n",
       "      <td>2832</td>\n",
       "      <td>438</td>\n",
       "      <td>352</td>\n",
       "      <td>102</td>\n",
       "      <td>1007</td>\n",
       "      <td>192</td>\n",
       "      <td>84</td>\n",
       "      <td>402</td>\n",
       "      <td>461</td>\n",
       "      <td>371</td>\n",
       "    </tr>\n",
       "  </tbody>\n",
       "</table>\n",
       "<p>1000 rows × 10000 columns</p>\n",
       "</div>"
      ],
      "text/plain": [
       "     0     1     2     3     4     5     6     7     8     9     ...  9990  \\\n",
       "0     572   752   666   140  2211   398    23  2071  1653   708  ...  2865   \n",
       "1     588   750   620   166  2265   402    23  2152  1580   744  ...  2792   \n",
       "2     580   694   666   166  2148   348    31  2141  1509   699  ...  2763   \n",
       "3     600   773   681   132  2264   351    22  2146  1685   713  ...  2813   \n",
       "4     576   751   645   121  2292   368    23  2050  1577   689  ...  2734   \n",
       "..    ...   ...   ...   ...   ...   ...   ...   ...   ...   ...  ...   ...   \n",
       "995   598   750   652   130  2243   373    22  2137  1651   743  ...  2885   \n",
       "996   599   786   642   163  2251   398    23  2166  1631   663  ...  2828   \n",
       "997   585   752   663   155  2178   372    27  2118  1610   732  ...  2769   \n",
       "998   565   798   667   129  2253   374    18  2131  1568   736  ...  2910   \n",
       "999   555   716   637   152  2292   357    20  2139  1521   706  ...  2832   \n",
       "\n",
       "     9991  9992  9993  9994  9995  9996  9997  9998  9999  \n",
       "0     410   293    86   999   199    80   359   483   367  \n",
       "1     467   316    97   994   179    96   370   472   388  \n",
       "2     459   272   121   914   199    88   400   476   420  \n",
       "3     415   321    98   985   184   105   376   488   387  \n",
       "4     426   325   100  1015   166   102   398   437   414  \n",
       "..    ...   ...   ...   ...   ...   ...   ...   ...   ...  \n",
       "995   419   298    79   979   183   104   403   475   400  \n",
       "996   422   323    94   992   176   107   378   495   405  \n",
       "997   435   322    87   916   169   104   398   444   382  \n",
       "998   446   308   118   926   187   101   404   493   389  \n",
       "999   438   352   102  1007   192    84   402   461   371  \n",
       "\n",
       "[1000 rows x 10000 columns]"
      ]
     },
     "execution_count": 34,
     "metadata": {},
     "output_type": "execute_result"
    }
   ],
   "source": [
    "df = pd.read_table('randompoisson.dat.gz',compression=\"gzip\",sep=\" \",header=None)\n",
    "df"
   ]
  },
  {
   "cell_type": "code",
   "execution_count": 35,
   "metadata": {},
   "outputs": [
    {
     "data": {
      "text/html": [
       "<div>\n",
       "<style scoped>\n",
       "    .dataframe tbody tr th:only-of-type {\n",
       "        vertical-align: middle;\n",
       "    }\n",
       "\n",
       "    .dataframe tbody tr th {\n",
       "        vertical-align: top;\n",
       "    }\n",
       "\n",
       "    .dataframe thead th {\n",
       "        text-align: right;\n",
       "    }\n",
       "</style>\n",
       "<table border=\"1\" class=\"dataframe\">\n",
       "  <thead>\n",
       "    <tr style=\"text-align: right;\">\n",
       "      <th></th>\n",
       "      <th>0</th>\n",
       "      <th>1</th>\n",
       "      <th>2</th>\n",
       "      <th>3</th>\n",
       "      <th>4</th>\n",
       "      <th>5</th>\n",
       "      <th>6</th>\n",
       "      <th>7</th>\n",
       "      <th>8</th>\n",
       "      <th>9</th>\n",
       "      <th>...</th>\n",
       "      <th>9990</th>\n",
       "      <th>9991</th>\n",
       "      <th>9992</th>\n",
       "      <th>9993</th>\n",
       "      <th>9994</th>\n",
       "      <th>9995</th>\n",
       "      <th>9996</th>\n",
       "      <th>9997</th>\n",
       "      <th>9998</th>\n",
       "      <th>9999</th>\n",
       "    </tr>\n",
       "  </thead>\n",
       "  <tbody>\n",
       "    <tr>\n",
       "      <th>0</th>\n",
       "      <td>572</td>\n",
       "      <td>752</td>\n",
       "      <td>666</td>\n",
       "      <td>140</td>\n",
       "      <td>2211</td>\n",
       "      <td>398</td>\n",
       "      <td>23</td>\n",
       "      <td>2071</td>\n",
       "      <td>1653</td>\n",
       "      <td>708</td>\n",
       "      <td>...</td>\n",
       "      <td>2865</td>\n",
       "      <td>410</td>\n",
       "      <td>293</td>\n",
       "      <td>86</td>\n",
       "      <td>999</td>\n",
       "      <td>199</td>\n",
       "      <td>80</td>\n",
       "      <td>359</td>\n",
       "      <td>483</td>\n",
       "      <td>367</td>\n",
       "    </tr>\n",
       "    <tr>\n",
       "      <th>1</th>\n",
       "      <td>588</td>\n",
       "      <td>750</td>\n",
       "      <td>620</td>\n",
       "      <td>166</td>\n",
       "      <td>2265</td>\n",
       "      <td>402</td>\n",
       "      <td>23</td>\n",
       "      <td>2152</td>\n",
       "      <td>1580</td>\n",
       "      <td>744</td>\n",
       "      <td>...</td>\n",
       "      <td>2792</td>\n",
       "      <td>467</td>\n",
       "      <td>316</td>\n",
       "      <td>97</td>\n",
       "      <td>994</td>\n",
       "      <td>179</td>\n",
       "      <td>96</td>\n",
       "      <td>370</td>\n",
       "      <td>472</td>\n",
       "      <td>388</td>\n",
       "    </tr>\n",
       "    <tr>\n",
       "      <th>2</th>\n",
       "      <td>580</td>\n",
       "      <td>694</td>\n",
       "      <td>666</td>\n",
       "      <td>166</td>\n",
       "      <td>2148</td>\n",
       "      <td>348</td>\n",
       "      <td>31</td>\n",
       "      <td>2141</td>\n",
       "      <td>1509</td>\n",
       "      <td>699</td>\n",
       "      <td>...</td>\n",
       "      <td>2763</td>\n",
       "      <td>459</td>\n",
       "      <td>272</td>\n",
       "      <td>121</td>\n",
       "      <td>914</td>\n",
       "      <td>199</td>\n",
       "      <td>88</td>\n",
       "      <td>400</td>\n",
       "      <td>476</td>\n",
       "      <td>420</td>\n",
       "    </tr>\n",
       "    <tr>\n",
       "      <th>3</th>\n",
       "      <td>600</td>\n",
       "      <td>773</td>\n",
       "      <td>681</td>\n",
       "      <td>132</td>\n",
       "      <td>2264</td>\n",
       "      <td>351</td>\n",
       "      <td>22</td>\n",
       "      <td>2146</td>\n",
       "      <td>1685</td>\n",
       "      <td>713</td>\n",
       "      <td>...</td>\n",
       "      <td>2813</td>\n",
       "      <td>415</td>\n",
       "      <td>321</td>\n",
       "      <td>98</td>\n",
       "      <td>985</td>\n",
       "      <td>184</td>\n",
       "      <td>105</td>\n",
       "      <td>376</td>\n",
       "      <td>488</td>\n",
       "      <td>387</td>\n",
       "    </tr>\n",
       "    <tr>\n",
       "      <th>4</th>\n",
       "      <td>576</td>\n",
       "      <td>751</td>\n",
       "      <td>645</td>\n",
       "      <td>121</td>\n",
       "      <td>2292</td>\n",
       "      <td>368</td>\n",
       "      <td>23</td>\n",
       "      <td>2050</td>\n",
       "      <td>1577</td>\n",
       "      <td>689</td>\n",
       "      <td>...</td>\n",
       "      <td>2734</td>\n",
       "      <td>426</td>\n",
       "      <td>325</td>\n",
       "      <td>100</td>\n",
       "      <td>1015</td>\n",
       "      <td>166</td>\n",
       "      <td>102</td>\n",
       "      <td>398</td>\n",
       "      <td>437</td>\n",
       "      <td>414</td>\n",
       "    </tr>\n",
       "  </tbody>\n",
       "</table>\n",
       "<p>5 rows × 10000 columns</p>\n",
       "</div>"
      ],
      "text/plain": [
       "   0     1     2     3     4     5     6     7     8     9     ...  9990  \\\n",
       "0   572   752   666   140  2211   398    23  2071  1653   708  ...  2865   \n",
       "1   588   750   620   166  2265   402    23  2152  1580   744  ...  2792   \n",
       "2   580   694   666   166  2148   348    31  2141  1509   699  ...  2763   \n",
       "3   600   773   681   132  2264   351    22  2146  1685   713  ...  2813   \n",
       "4   576   751   645   121  2292   368    23  2050  1577   689  ...  2734   \n",
       "\n",
       "   9991  9992  9993  9994  9995  9996  9997  9998  9999  \n",
       "0   410   293    86   999   199    80   359   483   367  \n",
       "1   467   316    97   994   179    96   370   472   388  \n",
       "2   459   272   121   914   199    88   400   476   420  \n",
       "3   415   321    98   985   184   105   376   488   387  \n",
       "4   426   325   100  1015   166   102   398   437   414  \n",
       "\n",
       "[5 rows x 10000 columns]"
      ]
     },
     "execution_count": 35,
     "metadata": {},
     "output_type": "execute_result"
    }
   ],
   "source": [
    "df.head()"
   ]
  },
  {
   "cell_type": "code",
   "execution_count": 36,
   "metadata": {},
   "outputs": [
    {
     "data": {
      "text/html": [
       "<div>\n",
       "<style scoped>\n",
       "    .dataframe tbody tr th:only-of-type {\n",
       "        vertical-align: middle;\n",
       "    }\n",
       "\n",
       "    .dataframe tbody tr th {\n",
       "        vertical-align: top;\n",
       "    }\n",
       "\n",
       "    .dataframe thead th {\n",
       "        text-align: right;\n",
       "    }\n",
       "</style>\n",
       "<table border=\"1\" class=\"dataframe\">\n",
       "  <thead>\n",
       "    <tr style=\"text-align: right;\">\n",
       "      <th></th>\n",
       "      <th>0</th>\n",
       "      <th>1</th>\n",
       "      <th>2</th>\n",
       "      <th>3</th>\n",
       "      <th>4</th>\n",
       "      <th>5</th>\n",
       "      <th>6</th>\n",
       "      <th>7</th>\n",
       "      <th>8</th>\n",
       "      <th>9</th>\n",
       "      <th>...</th>\n",
       "      <th>9990</th>\n",
       "      <th>9991</th>\n",
       "      <th>9992</th>\n",
       "      <th>9993</th>\n",
       "      <th>9994</th>\n",
       "      <th>9995</th>\n",
       "      <th>9996</th>\n",
       "      <th>9997</th>\n",
       "      <th>9998</th>\n",
       "      <th>9999</th>\n",
       "    </tr>\n",
       "  </thead>\n",
       "  <tbody>\n",
       "    <tr>\n",
       "      <th>995</th>\n",
       "      <td>598</td>\n",
       "      <td>750</td>\n",
       "      <td>652</td>\n",
       "      <td>130</td>\n",
       "      <td>2243</td>\n",
       "      <td>373</td>\n",
       "      <td>22</td>\n",
       "      <td>2137</td>\n",
       "      <td>1651</td>\n",
       "      <td>743</td>\n",
       "      <td>...</td>\n",
       "      <td>2885</td>\n",
       "      <td>419</td>\n",
       "      <td>298</td>\n",
       "      <td>79</td>\n",
       "      <td>979</td>\n",
       "      <td>183</td>\n",
       "      <td>104</td>\n",
       "      <td>403</td>\n",
       "      <td>475</td>\n",
       "      <td>400</td>\n",
       "    </tr>\n",
       "    <tr>\n",
       "      <th>996</th>\n",
       "      <td>599</td>\n",
       "      <td>786</td>\n",
       "      <td>642</td>\n",
       "      <td>163</td>\n",
       "      <td>2251</td>\n",
       "      <td>398</td>\n",
       "      <td>23</td>\n",
       "      <td>2166</td>\n",
       "      <td>1631</td>\n",
       "      <td>663</td>\n",
       "      <td>...</td>\n",
       "      <td>2828</td>\n",
       "      <td>422</td>\n",
       "      <td>323</td>\n",
       "      <td>94</td>\n",
       "      <td>992</td>\n",
       "      <td>176</td>\n",
       "      <td>107</td>\n",
       "      <td>378</td>\n",
       "      <td>495</td>\n",
       "      <td>405</td>\n",
       "    </tr>\n",
       "    <tr>\n",
       "      <th>997</th>\n",
       "      <td>585</td>\n",
       "      <td>752</td>\n",
       "      <td>663</td>\n",
       "      <td>155</td>\n",
       "      <td>2178</td>\n",
       "      <td>372</td>\n",
       "      <td>27</td>\n",
       "      <td>2118</td>\n",
       "      <td>1610</td>\n",
       "      <td>732</td>\n",
       "      <td>...</td>\n",
       "      <td>2769</td>\n",
       "      <td>435</td>\n",
       "      <td>322</td>\n",
       "      <td>87</td>\n",
       "      <td>916</td>\n",
       "      <td>169</td>\n",
       "      <td>104</td>\n",
       "      <td>398</td>\n",
       "      <td>444</td>\n",
       "      <td>382</td>\n",
       "    </tr>\n",
       "    <tr>\n",
       "      <th>998</th>\n",
       "      <td>565</td>\n",
       "      <td>798</td>\n",
       "      <td>667</td>\n",
       "      <td>129</td>\n",
       "      <td>2253</td>\n",
       "      <td>374</td>\n",
       "      <td>18</td>\n",
       "      <td>2131</td>\n",
       "      <td>1568</td>\n",
       "      <td>736</td>\n",
       "      <td>...</td>\n",
       "      <td>2910</td>\n",
       "      <td>446</td>\n",
       "      <td>308</td>\n",
       "      <td>118</td>\n",
       "      <td>926</td>\n",
       "      <td>187</td>\n",
       "      <td>101</td>\n",
       "      <td>404</td>\n",
       "      <td>493</td>\n",
       "      <td>389</td>\n",
       "    </tr>\n",
       "    <tr>\n",
       "      <th>999</th>\n",
       "      <td>555</td>\n",
       "      <td>716</td>\n",
       "      <td>637</td>\n",
       "      <td>152</td>\n",
       "      <td>2292</td>\n",
       "      <td>357</td>\n",
       "      <td>20</td>\n",
       "      <td>2139</td>\n",
       "      <td>1521</td>\n",
       "      <td>706</td>\n",
       "      <td>...</td>\n",
       "      <td>2832</td>\n",
       "      <td>438</td>\n",
       "      <td>352</td>\n",
       "      <td>102</td>\n",
       "      <td>1007</td>\n",
       "      <td>192</td>\n",
       "      <td>84</td>\n",
       "      <td>402</td>\n",
       "      <td>461</td>\n",
       "      <td>371</td>\n",
       "    </tr>\n",
       "  </tbody>\n",
       "</table>\n",
       "<p>5 rows × 10000 columns</p>\n",
       "</div>"
      ],
      "text/plain": [
       "     0     1     2     3     4     5     6     7     8     9     ...  9990  \\\n",
       "995   598   750   652   130  2243   373    22  2137  1651   743  ...  2885   \n",
       "996   599   786   642   163  2251   398    23  2166  1631   663  ...  2828   \n",
       "997   585   752   663   155  2178   372    27  2118  1610   732  ...  2769   \n",
       "998   565   798   667   129  2253   374    18  2131  1568   736  ...  2910   \n",
       "999   555   716   637   152  2292   357    20  2139  1521   706  ...  2832   \n",
       "\n",
       "     9991  9992  9993  9994  9995  9996  9997  9998  9999  \n",
       "995   419   298    79   979   183   104   403   475   400  \n",
       "996   422   323    94   992   176   107   378   495   405  \n",
       "997   435   322    87   916   169   104   398   444   382  \n",
       "998   446   308   118   926   187   101   404   493   389  \n",
       "999   438   352   102  1007   192    84   402   461   371  \n",
       "\n",
       "[5 rows x 10000 columns]"
      ]
     },
     "execution_count": 36,
     "metadata": {},
     "output_type": "execute_result"
    }
   ],
   "source": [
    "df.tail()"
   ]
  },
  {
   "cell_type": "code",
   "execution_count": 37,
   "metadata": {},
   "outputs": [
    {
     "data": {
      "text/plain": [
       "0"
      ]
     },
     "execution_count": 37,
     "metadata": {},
     "output_type": "execute_result"
    }
   ],
   "source": [
    "df.isna().sum().sum()"
   ]
  },
  {
   "cell_type": "markdown",
   "metadata": {},
   "source": [
    "Loading the dataset and also check the missing values."
   ]
  },
  {
   "cell_type": "code",
   "execution_count": 38,
   "metadata": {},
   "outputs": [],
   "source": [
    "X = StandardScaler().fit_transform(df)"
   ]
  },
  {
   "cell_type": "markdown",
   "metadata": {},
   "source": [
    "To centralize and normalize befor performing PCA, Standardscaler is a nice choice before further steps."
   ]
  },
  {
   "cell_type": "code",
   "execution_count": 39,
   "metadata": {},
   "outputs": [
    {
     "data": {
      "image/png": "[encoded data removed]",
      "text/plain": [
       "<Figure size 432x288 with 1 Axes>"
      ]
     },
     "metadata": {
      "needs_background": "light"
     },
     "output_type": "display_data"
    }
   ],
   "source": [
    "n = 1000\n",
    "pca = PCA(n_components=n)\n",
    "pca.fit(X)\n",
    "plt.plot(pca.explained_variance_ratio_,\"ob--\",label=\"Each component\")\n",
    "plt.plot(np.cumsum(pca.explained_variance_ratio_),\"or--\",label=\"cumsum of the ratio\")\n",
    "plt.ylabel(\"Ratio\")\n",
    "plt.xlabel(\"Component (s)\")\n",
    "plt.legend()\n",
    "plt.show()"
   ]
  },
  {
   "cell_type": "markdown",
   "metadata": {},
   "source": [
    "We can get an 80% ratio at around 700 components. Let's try different packages for the further steps.\n",
    "\n",
    "**Try another package before working further**"
   ]
  },
  {
   "cell_type": "code",
   "execution_count": 40,
   "metadata": {},
   "outputs": [
    {
     "name": "stdout",
     "output_type": "stream",
     "text": [
      "[pca] >Column labels are auto-completed.\n",
      "[pca] >Row labels are auto-completed.\n",
      "[pca] >The PCA reduction is performed on the [10000] columns of the input dataframe.\n",
      "[pca] >Fitting using PCA..\n",
      "[pca] >Computing loadings and PCs..\n",
      "[pca] >Computing explained variance..\n",
      "[pca] >Outlier detection using Hotelling T2 test with alpha=[0.05] and n_components=[700]\n",
      "[pca] >Outlier detection using SPE/DmodX with n_std=[2]\n"
     ]
    },
    {
     "data": {
      "image/png": "[encoded data removed]",
      "text/plain": [
       "<Figure size 720x576 with 1 Axes>"
      ]
     },
     "metadata": {
      "needs_background": "light"
     },
     "output_type": "display_data"
    },
    {
     "data": {
      "text/plain": [
       "(<Figure size 720x576 with 1 Axes>,\n",
       " <AxesSubplot:title={'center':'Cumulative explained variance\\n 700 Principal Components explain [79.69%] of the variance.'}, xlabel='Principle Component', ylabel='Percentage explained variance'>)"
      ]
     },
     "execution_count": 40,
     "metadata": {},
     "output_type": "execute_result"
    },
    {
     "data": {
      "text/plain": [
       "<Figure size 432x288 with 0 Axes>"
      ]
     },
     "metadata": {},
     "output_type": "display_data"
    }
   ],
   "source": [
    "from pca import pca\n",
    "model = pca(n_components=700,normalize=False)\n",
    "results = model.fit_transform(X)\n",
    "model.plot(figsize=(10,8))"
   ]
  },
  {
   "cell_type": "code",
   "execution_count": 41,
   "metadata": {},
   "outputs": [
    {
     "name": "stdout",
     "output_type": "stream",
     "text": [
      "[pca] >Plot PC1 vs PC2 with loadings.\n"
     ]
    },
    {
     "data": {
      "image/png": "[encoded data removed]",
      "text/plain": [
       "<Figure size 576x432 with 1 Axes>"
      ]
     },
     "metadata": {
      "needs_background": "light"
     },
     "output_type": "display_data"
    },
    {
     "data": {
      "text/plain": [
       "(<Figure size 576x432 with 1 Axes>,\n",
       " <AxesSubplot:title={'center':'700 Principal Components explain [79.69%] of the variance'}, xlabel='PC1 (0.17% expl.var)', ylabel='PC2 (0.17% expl.var)'>)"
      ]
     },
     "execution_count": 41,
     "metadata": {},
     "output_type": "execute_result"
    }
   ],
   "source": [
    "model.biplot(n_feat=18, legend=False, figsize=(8,6), label=True)"
   ]
  },
  {
   "cell_type": "code",
   "execution_count": 42,
   "metadata": {},
   "outputs": [
    {
     "data": {
      "text/html": [
       "<div>\n",
       "<style scoped>\n",
       "    .dataframe tbody tr th:only-of-type {\n",
       "        vertical-align: middle;\n",
       "    }\n",
       "\n",
       "    .dataframe tbody tr th {\n",
       "        vertical-align: top;\n",
       "    }\n",
       "\n",
       "    .dataframe thead th {\n",
       "        text-align: right;\n",
       "    }\n",
       "</style>\n",
       "<table border=\"1\" class=\"dataframe\">\n",
       "  <thead>\n",
       "    <tr style=\"text-align: right;\">\n",
       "      <th></th>\n",
       "      <th>0</th>\n",
       "      <th>1</th>\n",
       "      <th>2</th>\n",
       "      <th>3</th>\n",
       "      <th>4</th>\n",
       "      <th>5</th>\n",
       "      <th>6</th>\n",
       "      <th>7</th>\n",
       "      <th>8</th>\n",
       "      <th>9</th>\n",
       "      <th>...</th>\n",
       "      <th>9990</th>\n",
       "      <th>9991</th>\n",
       "      <th>9992</th>\n",
       "      <th>9993</th>\n",
       "      <th>9994</th>\n",
       "      <th>9995</th>\n",
       "      <th>9996</th>\n",
       "      <th>9997</th>\n",
       "      <th>9998</th>\n",
       "      <th>9999</th>\n",
       "    </tr>\n",
       "  </thead>\n",
       "  <tbody>\n",
       "    <tr>\n",
       "      <th>count</th>\n",
       "      <td>1000.000000</td>\n",
       "      <td>1000.000000</td>\n",
       "      <td>1000.000000</td>\n",
       "      <td>1000.000000</td>\n",
       "      <td>1000.000000</td>\n",
       "      <td>1000.000000</td>\n",
       "      <td>1000.000000</td>\n",
       "      <td>1000.000000</td>\n",
       "      <td>1000.000000</td>\n",
       "      <td>1000.000000</td>\n",
       "      <td>...</td>\n",
       "      <td>1000.000000</td>\n",
       "      <td>1000.000000</td>\n",
       "      <td>1000.000000</td>\n",
       "      <td>1000.000000</td>\n",
       "      <td>1000.000000</td>\n",
       "      <td>1000.00000</td>\n",
       "      <td>1000.000000</td>\n",
       "      <td>1000.000000</td>\n",
       "      <td>1000.000000</td>\n",
       "      <td>1000.000000</td>\n",
       "    </tr>\n",
       "    <tr>\n",
       "      <th>mean</th>\n",
       "      <td>598.690000</td>\n",
       "      <td>758.301000</td>\n",
       "      <td>661.557000</td>\n",
       "      <td>144.737000</td>\n",
       "      <td>2235.213000</td>\n",
       "      <td>368.953000</td>\n",
       "      <td>24.327000</td>\n",
       "      <td>2115.199000</td>\n",
       "      <td>1603.550000</td>\n",
       "      <td>712.842000</td>\n",
       "      <td>...</td>\n",
       "      <td>2835.339000</td>\n",
       "      <td>423.142000</td>\n",
       "      <td>319.591000</td>\n",
       "      <td>97.148000</td>\n",
       "      <td>981.502000</td>\n",
       "      <td>180.15500</td>\n",
       "      <td>102.616000</td>\n",
       "      <td>385.592000</td>\n",
       "      <td>482.154000</td>\n",
       "      <td>391.565000</td>\n",
       "    </tr>\n",
       "    <tr>\n",
       "      <th>std</th>\n",
       "      <td>24.267402</td>\n",
       "      <td>27.628024</td>\n",
       "      <td>24.357505</td>\n",
       "      <td>12.434728</td>\n",
       "      <td>50.076694</td>\n",
       "      <td>18.614599</td>\n",
       "      <td>4.807617</td>\n",
       "      <td>46.222223</td>\n",
       "      <td>39.424812</td>\n",
       "      <td>26.297311</td>\n",
       "      <td>...</td>\n",
       "      <td>54.234947</td>\n",
       "      <td>21.013172</td>\n",
       "      <td>18.499512</td>\n",
       "      <td>9.863234</td>\n",
       "      <td>30.983253</td>\n",
       "      <td>13.30007</td>\n",
       "      <td>9.598994</td>\n",
       "      <td>19.798725</td>\n",
       "      <td>22.079397</td>\n",
       "      <td>19.544149</td>\n",
       "    </tr>\n",
       "    <tr>\n",
       "      <th>min</th>\n",
       "      <td>526.000000</td>\n",
       "      <td>667.000000</td>\n",
       "      <td>592.000000</td>\n",
       "      <td>106.000000</td>\n",
       "      <td>2062.000000</td>\n",
       "      <td>306.000000</td>\n",
       "      <td>11.000000</td>\n",
       "      <td>1957.000000</td>\n",
       "      <td>1472.000000</td>\n",
       "      <td>625.000000</td>\n",
       "      <td>...</td>\n",
       "      <td>2662.000000</td>\n",
       "      <td>342.000000</td>\n",
       "      <td>259.000000</td>\n",
       "      <td>70.000000</td>\n",
       "      <td>867.000000</td>\n",
       "      <td>139.00000</td>\n",
       "      <td>77.000000</td>\n",
       "      <td>321.000000</td>\n",
       "      <td>401.000000</td>\n",
       "      <td>331.000000</td>\n",
       "    </tr>\n",
       "    <tr>\n",
       "      <th>25%</th>\n",
       "      <td>582.750000</td>\n",
       "      <td>739.000000</td>\n",
       "      <td>644.000000</td>\n",
       "      <td>136.000000</td>\n",
       "      <td>2202.000000</td>\n",
       "      <td>357.000000</td>\n",
       "      <td>21.000000</td>\n",
       "      <td>2085.000000</td>\n",
       "      <td>1576.750000</td>\n",
       "      <td>694.000000</td>\n",
       "      <td>...</td>\n",
       "      <td>2797.000000</td>\n",
       "      <td>408.750000</td>\n",
       "      <td>307.000000</td>\n",
       "      <td>91.000000</td>\n",
       "      <td>960.000000</td>\n",
       "      <td>172.00000</td>\n",
       "      <td>96.000000</td>\n",
       "      <td>372.000000</td>\n",
       "      <td>468.000000</td>\n",
       "      <td>378.000000</td>\n",
       "    </tr>\n",
       "    <tr>\n",
       "      <th>50%</th>\n",
       "      <td>599.000000</td>\n",
       "      <td>758.000000</td>\n",
       "      <td>661.500000</td>\n",
       "      <td>145.000000</td>\n",
       "      <td>2235.000000</td>\n",
       "      <td>370.000000</td>\n",
       "      <td>24.000000</td>\n",
       "      <td>2118.000000</td>\n",
       "      <td>1604.000000</td>\n",
       "      <td>712.000000</td>\n",
       "      <td>...</td>\n",
       "      <td>2835.000000</td>\n",
       "      <td>423.000000</td>\n",
       "      <td>321.000000</td>\n",
       "      <td>97.000000</td>\n",
       "      <td>982.000000</td>\n",
       "      <td>180.00000</td>\n",
       "      <td>103.000000</td>\n",
       "      <td>385.000000</td>\n",
       "      <td>482.000000</td>\n",
       "      <td>391.000000</td>\n",
       "    </tr>\n",
       "    <tr>\n",
       "      <th>75%</th>\n",
       "      <td>616.000000</td>\n",
       "      <td>776.000000</td>\n",
       "      <td>678.000000</td>\n",
       "      <td>153.000000</td>\n",
       "      <td>2269.000000</td>\n",
       "      <td>380.000000</td>\n",
       "      <td>28.000000</td>\n",
       "      <td>2144.000000</td>\n",
       "      <td>1629.000000</td>\n",
       "      <td>731.000000</td>\n",
       "      <td>...</td>\n",
       "      <td>2870.000000</td>\n",
       "      <td>436.000000</td>\n",
       "      <td>331.000000</td>\n",
       "      <td>104.000000</td>\n",
       "      <td>1001.000000</td>\n",
       "      <td>189.00000</td>\n",
       "      <td>109.000000</td>\n",
       "      <td>400.000000</td>\n",
       "      <td>497.000000</td>\n",
       "      <td>405.000000</td>\n",
       "    </tr>\n",
       "    <tr>\n",
       "      <th>max</th>\n",
       "      <td>667.000000</td>\n",
       "      <td>836.000000</td>\n",
       "      <td>734.000000</td>\n",
       "      <td>179.000000</td>\n",
       "      <td>2394.000000</td>\n",
       "      <td>435.000000</td>\n",
       "      <td>41.000000</td>\n",
       "      <td>2240.000000</td>\n",
       "      <td>1736.000000</td>\n",
       "      <td>798.000000</td>\n",
       "      <td>...</td>\n",
       "      <td>3004.000000</td>\n",
       "      <td>494.000000</td>\n",
       "      <td>388.000000</td>\n",
       "      <td>129.000000</td>\n",
       "      <td>1086.000000</td>\n",
       "      <td>219.00000</td>\n",
       "      <td>135.000000</td>\n",
       "      <td>445.000000</td>\n",
       "      <td>556.000000</td>\n",
       "      <td>452.000000</td>\n",
       "    </tr>\n",
       "  </tbody>\n",
       "</table>\n",
       "<p>8 rows × 10000 columns</p>\n",
       "</div>"
      ],
      "text/plain": [
       "              0            1            2            3            4     \\\n",
       "count  1000.000000  1000.000000  1000.000000  1000.000000  1000.000000   \n",
       "mean    598.690000   758.301000   661.557000   144.737000  2235.213000   \n",
       "std      24.267402    27.628024    24.357505    12.434728    50.076694   \n",
       "min     526.000000   667.000000   592.000000   106.000000  2062.000000   \n",
       "25%     582.750000   739.000000   644.000000   136.000000  2202.000000   \n",
       "50%     599.000000   758.000000   661.500000   145.000000  2235.000000   \n",
       "75%     616.000000   776.000000   678.000000   153.000000  2269.000000   \n",
       "max     667.000000   836.000000   734.000000   179.000000  2394.000000   \n",
       "\n",
       "              5            6            7            8            9     ...  \\\n",
       "count  1000.000000  1000.000000  1000.000000  1000.000000  1000.000000  ...   \n",
       "mean    368.953000    24.327000  2115.199000  1603.550000   712.842000  ...   \n",
       "std      18.614599     4.807617    46.222223    39.424812    26.297311  ...   \n",
       "min     306.000000    11.000000  1957.000000  1472.000000   625.000000  ...   \n",
       "25%     357.000000    21.000000  2085.000000  1576.750000   694.000000  ...   \n",
       "50%     370.000000    24.000000  2118.000000  1604.000000   712.000000  ...   \n",
       "75%     380.000000    28.000000  2144.000000  1629.000000   731.000000  ...   \n",
       "max     435.000000    41.000000  2240.000000  1736.000000   798.000000  ...   \n",
       "\n",
       "              9990         9991         9992         9993         9994  \\\n",
       "count  1000.000000  1000.000000  1000.000000  1000.000000  1000.000000   \n",
       "mean   2835.339000   423.142000   319.591000    97.148000   981.502000   \n",
       "std      54.234947    21.013172    18.499512     9.863234    30.983253   \n",
       "min    2662.000000   342.000000   259.000000    70.000000   867.000000   \n",
       "25%    2797.000000   408.750000   307.000000    91.000000   960.000000   \n",
       "50%    2835.000000   423.000000   321.000000    97.000000   982.000000   \n",
       "75%    2870.000000   436.000000   331.000000   104.000000  1001.000000   \n",
       "max    3004.000000   494.000000   388.000000   129.000000  1086.000000   \n",
       "\n",
       "             9995         9996         9997         9998         9999  \n",
       "count  1000.00000  1000.000000  1000.000000  1000.000000  1000.000000  \n",
       "mean    180.15500   102.616000   385.592000   482.154000   391.565000  \n",
       "std      13.30007     9.598994    19.798725    22.079397    19.544149  \n",
       "min     139.00000    77.000000   321.000000   401.000000   331.000000  \n",
       "25%     172.00000    96.000000   372.000000   468.000000   378.000000  \n",
       "50%     180.00000   103.000000   385.000000   482.000000   391.000000  \n",
       "75%     189.00000   109.000000   400.000000   497.000000   405.000000  \n",
       "max     219.00000   135.000000   445.000000   556.000000   452.000000  \n",
       "\n",
       "[8 rows x 10000 columns]"
      ]
     },
     "execution_count": 42,
     "metadata": {},
     "output_type": "execute_result"
    }
   ],
   "source": [
    "df.describe()"
   ]
  },
  {
   "cell_type": "markdown",
   "metadata": {},
   "source": [
    "**Interpretation and reflection**\n",
    "\n",
    "As we can see, PCA cannot separate it nicely. PCA is not the best one for this dataset. Each component can only explain a little. We can see the std is similar. That's the reason PCA cannot do it well.\n",
    "\n",
    "### Conclusion\n",
    "I perform PCA and find it is not a good method for this dataset. PCA might be useful for the random dataset. \n",
    "\n",
    "However, before using it, we must check the variance. If the variance is not big enough, it cannot separate the sample nicely."
   ]
  },
  {
   "cell_type": "markdown",
   "metadata": {},
   "source": [
    "# lysozyme_rmsds\n",
    "## description\n",
    "contains a distance matrix of a selection of lysozyme structures from the Protein DataBank (PDB). Lysozyme is one of the most used/studied proteins, with >5400 structures available in the database. Distances were determined as root-mean-square deviation (RMSD) after least-squares alignment using the CE align algorithm.\n",
    "\n",
    "\n",
    "Columns:\n",
    "- distance matrix between different lysozyme.\n",
    "\n",
    "**Research question**: \n",
    "\n",
    "Can we find the relationship between different lysozyme?\n",
    "\n",
    "**Method**: MDS\n",
    "\n",
    "https://www.statisticshowto.com/multidimensional-scaling/\n",
    "\n",
    "**Rationale for using the method**: \n",
    "Multidimensional scaling is an algorithm that transforms a dataset into another one with a lower dimension. Moreover, it keeps the same distances between points and reasonably preserves patterns and clusters.\n",
    "As we can see the dataset also show the relationship between each lysozyme. \n",
    "\n",
    "**Expectations**: \n",
    "I expect I can get a clear separation between each group of lysozyme."
   ]
  },
  {
   "cell_type": "code",
   "execution_count": 43,
   "metadata": {},
   "outputs": [
    {
     "data": {
      "text/html": [
       "<div>\n",
       "<style scoped>\n",
       "    .dataframe tbody tr th:only-of-type {\n",
       "        vertical-align: middle;\n",
       "    }\n",
       "\n",
       "    .dataframe tbody tr th {\n",
       "        vertical-align: top;\n",
       "    }\n",
       "\n",
       "    .dataframe thead th {\n",
       "        text-align: right;\n",
       "    }\n",
       "</style>\n",
       "<table border=\"1\" class=\"dataframe\">\n",
       "  <thead>\n",
       "    <tr style=\"text-align: right;\">\n",
       "      <th></th>\n",
       "      <th>1ta0</th>\n",
       "      <th>5m1y</th>\n",
       "      <th>1flq</th>\n",
       "      <th>4ru1</th>\n",
       "      <th>1uia</th>\n",
       "      <th>3ma8</th>\n",
       "      <th>2zc6</th>\n",
       "      <th>4m53</th>\n",
       "      <th>1cwv</th>\n",
       "      <th>6nup</th>\n",
       "      <th>...</th>\n",
       "      <th>5dla</th>\n",
       "      <th>4u2a</th>\n",
       "      <th>6fe3</th>\n",
       "      <th>4ws6</th>\n",
       "      <th>225l</th>\n",
       "      <th>1l17</th>\n",
       "      <th>4zee</th>\n",
       "      <th>5hmj</th>\n",
       "      <th>4qdn</th>\n",
       "      <th>4x6p</th>\n",
       "    </tr>\n",
       "  </thead>\n",
       "  <tbody>\n",
       "    <tr>\n",
       "      <th>1ta0</th>\n",
       "      <td>0.000000</td>\n",
       "      <td>9.944671</td>\n",
       "      <td>10.914137</td>\n",
       "      <td>5.368414</td>\n",
       "      <td>10.147917</td>\n",
       "      <td>6.330169</td>\n",
       "      <td>13.397298</td>\n",
       "      <td>4.796260</td>\n",
       "      <td>6.708178</td>\n",
       "      <td>5.249331</td>\n",
       "      <td>...</td>\n",
       "      <td>10.748649</td>\n",
       "      <td>4.697932</td>\n",
       "      <td>6.442754</td>\n",
       "      <td>5.967243</td>\n",
       "      <td>6.613105</td>\n",
       "      <td>6.550033</td>\n",
       "      <td>10.885024</td>\n",
       "      <td>10.758552</td>\n",
       "      <td>10.531178</td>\n",
       "      <td>7.134530</td>\n",
       "    </tr>\n",
       "    <tr>\n",
       "      <th>5m1y</th>\n",
       "      <td>9.944671</td>\n",
       "      <td>0.000000</td>\n",
       "      <td>0.351689</td>\n",
       "      <td>8.778090</td>\n",
       "      <td>0.360542</td>\n",
       "      <td>6.532751</td>\n",
       "      <td>6.447437</td>\n",
       "      <td>11.661980</td>\n",
       "      <td>10.892651</td>\n",
       "      <td>8.494948</td>\n",
       "      <td>...</td>\n",
       "      <td>0.450633</td>\n",
       "      <td>6.518186</td>\n",
       "      <td>10.142028</td>\n",
       "      <td>8.008221</td>\n",
       "      <td>5.411168</td>\n",
       "      <td>5.225135</td>\n",
       "      <td>0.423226</td>\n",
       "      <td>0.382607</td>\n",
       "      <td>4.660109</td>\n",
       "      <td>6.716681</td>\n",
       "    </tr>\n",
       "    <tr>\n",
       "      <th>1flq</th>\n",
       "      <td>10.914137</td>\n",
       "      <td>0.351689</td>\n",
       "      <td>0.000000</td>\n",
       "      <td>8.781974</td>\n",
       "      <td>0.201154</td>\n",
       "      <td>5.892352</td>\n",
       "      <td>6.476417</td>\n",
       "      <td>10.141856</td>\n",
       "      <td>8.676370</td>\n",
       "      <td>8.771998</td>\n",
       "      <td>...</td>\n",
       "      <td>0.300225</td>\n",
       "      <td>6.862653</td>\n",
       "      <td>8.398187</td>\n",
       "      <td>8.305965</td>\n",
       "      <td>5.385658</td>\n",
       "      <td>5.390587</td>\n",
       "      <td>0.312325</td>\n",
       "      <td>0.241490</td>\n",
       "      <td>4.646545</td>\n",
       "      <td>6.584307</td>\n",
       "    </tr>\n",
       "    <tr>\n",
       "      <th>4ru1</th>\n",
       "      <td>5.368414</td>\n",
       "      <td>8.778090</td>\n",
       "      <td>8.781974</td>\n",
       "      <td>0.000000</td>\n",
       "      <td>8.802099</td>\n",
       "      <td>6.510888</td>\n",
       "      <td>11.596014</td>\n",
       "      <td>6.613473</td>\n",
       "      <td>6.483236</td>\n",
       "      <td>7.988591</td>\n",
       "      <td>...</td>\n",
       "      <td>10.002309</td>\n",
       "      <td>9.219876</td>\n",
       "      <td>8.978669</td>\n",
       "      <td>5.131378</td>\n",
       "      <td>8.586637</td>\n",
       "      <td>9.308215</td>\n",
       "      <td>7.545538</td>\n",
       "      <td>9.995192</td>\n",
       "      <td>11.135262</td>\n",
       "      <td>10.210994</td>\n",
       "    </tr>\n",
       "    <tr>\n",
       "      <th>1uia</th>\n",
       "      <td>10.147917</td>\n",
       "      <td>0.360542</td>\n",
       "      <td>0.201154</td>\n",
       "      <td>8.802099</td>\n",
       "      <td>0.000000</td>\n",
       "      <td>8.169978</td>\n",
       "      <td>6.458828</td>\n",
       "      <td>11.358191</td>\n",
       "      <td>10.635841</td>\n",
       "      <td>8.761022</td>\n",
       "      <td>...</td>\n",
       "      <td>0.296834</td>\n",
       "      <td>7.002353</td>\n",
       "      <td>11.221244</td>\n",
       "      <td>10.178038</td>\n",
       "      <td>5.404494</td>\n",
       "      <td>5.409590</td>\n",
       "      <td>0.333920</td>\n",
       "      <td>0.247616</td>\n",
       "      <td>4.522474</td>\n",
       "      <td>6.734468</td>\n",
       "    </tr>\n",
       "  </tbody>\n",
       "</table>\n",
       "<p>5 rows × 172 columns</p>\n",
       "</div>"
      ],
      "text/plain": [
       "           1ta0      5m1y       1flq      4ru1       1uia      3ma8  \\\n",
       "1ta0   0.000000  9.944671  10.914137  5.368414  10.147917  6.330169   \n",
       "5m1y   9.944671  0.000000   0.351689  8.778090   0.360542  6.532751   \n",
       "1flq  10.914137  0.351689   0.000000  8.781974   0.201154  5.892352   \n",
       "4ru1   5.368414  8.778090   8.781974  0.000000   8.802099  6.510888   \n",
       "1uia  10.147917  0.360542   0.201154  8.802099   0.000000  8.169978   \n",
       "\n",
       "           2zc6       4m53       1cwv      6nup  ...       5dla      4u2a  \\\n",
       "1ta0  13.397298   4.796260   6.708178  5.249331  ...  10.748649  4.697932   \n",
       "5m1y   6.447437  11.661980  10.892651  8.494948  ...   0.450633  6.518186   \n",
       "1flq   6.476417  10.141856   8.676370  8.771998  ...   0.300225  6.862653   \n",
       "4ru1  11.596014   6.613473   6.483236  7.988591  ...  10.002309  9.219876   \n",
       "1uia   6.458828  11.358191  10.635841  8.761022  ...   0.296834  7.002353   \n",
       "\n",
       "           6fe3       4ws6      225l      1l17       4zee       5hmj  \\\n",
       "1ta0   6.442754   5.967243  6.613105  6.550033  10.885024  10.758552   \n",
       "5m1y  10.142028   8.008221  5.411168  5.225135   0.423226   0.382607   \n",
       "1flq   8.398187   8.305965  5.385658  5.390587   0.312325   0.241490   \n",
       "4ru1   8.978669   5.131378  8.586637  9.308215   7.545538   9.995192   \n",
       "1uia  11.221244  10.178038  5.404494  5.409590   0.333920   0.247616   \n",
       "\n",
       "           4qdn       4x6p  \n",
       "1ta0  10.531178   7.134530  \n",
       "5m1y   4.660109   6.716681  \n",
       "1flq   4.646545   6.584307  \n",
       "4ru1  11.135262  10.210994  \n",
       "1uia   4.522474   6.734468  \n",
       "\n",
       "[5 rows x 172 columns]"
      ]
     },
     "execution_count": 43,
     "metadata": {},
     "output_type": "execute_result"
    }
   ],
   "source": [
    "df = pd.read_csv(\"lysozyme_rmsds.csv\",header=0,index_col=0)\n",
    "df.head()"
   ]
  },
  {
   "cell_type": "code",
   "execution_count": 44,
   "metadata": {},
   "outputs": [
    {
     "data": {
      "text/html": [
       "<div>\n",
       "<style scoped>\n",
       "    .dataframe tbody tr th:only-of-type {\n",
       "        vertical-align: middle;\n",
       "    }\n",
       "\n",
       "    .dataframe tbody tr th {\n",
       "        vertical-align: top;\n",
       "    }\n",
       "\n",
       "    .dataframe thead th {\n",
       "        text-align: right;\n",
       "    }\n",
       "</style>\n",
       "<table border=\"1\" class=\"dataframe\">\n",
       "  <thead>\n",
       "    <tr style=\"text-align: right;\">\n",
       "      <th></th>\n",
       "      <th>1ta0</th>\n",
       "      <th>5m1y</th>\n",
       "      <th>1flq</th>\n",
       "      <th>4ru1</th>\n",
       "      <th>1uia</th>\n",
       "      <th>3ma8</th>\n",
       "      <th>2zc6</th>\n",
       "      <th>4m53</th>\n",
       "      <th>1cwv</th>\n",
       "      <th>6nup</th>\n",
       "      <th>...</th>\n",
       "      <th>5dla</th>\n",
       "      <th>4u2a</th>\n",
       "      <th>6fe3</th>\n",
       "      <th>4ws6</th>\n",
       "      <th>225l</th>\n",
       "      <th>1l17</th>\n",
       "      <th>4zee</th>\n",
       "      <th>5hmj</th>\n",
       "      <th>4qdn</th>\n",
       "      <th>4x6p</th>\n",
       "    </tr>\n",
       "  </thead>\n",
       "  <tbody>\n",
       "    <tr>\n",
       "      <th>1l17</th>\n",
       "      <td>6.550033</td>\n",
       "      <td>5.225135</td>\n",
       "      <td>5.390587</td>\n",
       "      <td>9.308215</td>\n",
       "      <td>5.409590</td>\n",
       "      <td>12.250709</td>\n",
       "      <td>6.513305</td>\n",
       "      <td>9.136604</td>\n",
       "      <td>9.281223</td>\n",
       "      <td>5.937270</td>\n",
       "      <td>...</td>\n",
       "      <td>5.382979</td>\n",
       "      <td>7.049519</td>\n",
       "      <td>9.732915</td>\n",
       "      <td>7.471374</td>\n",
       "      <td>0.162718</td>\n",
       "      <td>0.000000</td>\n",
       "      <td>5.373169</td>\n",
       "      <td>5.411511</td>\n",
       "      <td>5.635189</td>\n",
       "      <td>11.884937</td>\n",
       "    </tr>\n",
       "    <tr>\n",
       "      <th>4zee</th>\n",
       "      <td>10.885024</td>\n",
       "      <td>0.423226</td>\n",
       "      <td>0.312325</td>\n",
       "      <td>7.545538</td>\n",
       "      <td>0.333920</td>\n",
       "      <td>5.877982</td>\n",
       "      <td>6.964976</td>\n",
       "      <td>10.116202</td>\n",
       "      <td>8.698651</td>\n",
       "      <td>8.497236</td>\n",
       "      <td>...</td>\n",
       "      <td>0.286652</td>\n",
       "      <td>6.996474</td>\n",
       "      <td>7.530556</td>\n",
       "      <td>10.148434</td>\n",
       "      <td>5.368462</td>\n",
       "      <td>5.373169</td>\n",
       "      <td>0.000000</td>\n",
       "      <td>0.273322</td>\n",
       "      <td>4.552373</td>\n",
       "      <td>6.720388</td>\n",
       "    </tr>\n",
       "    <tr>\n",
       "      <th>5hmj</th>\n",
       "      <td>10.758552</td>\n",
       "      <td>0.382607</td>\n",
       "      <td>0.241490</td>\n",
       "      <td>9.995192</td>\n",
       "      <td>0.247616</td>\n",
       "      <td>5.882972</td>\n",
       "      <td>6.930295</td>\n",
       "      <td>10.138183</td>\n",
       "      <td>8.662763</td>\n",
       "      <td>8.145623</td>\n",
       "      <td>...</td>\n",
       "      <td>0.146255</td>\n",
       "      <td>6.440816</td>\n",
       "      <td>8.419391</td>\n",
       "      <td>10.177090</td>\n",
       "      <td>5.406244</td>\n",
       "      <td>5.411511</td>\n",
       "      <td>0.273322</td>\n",
       "      <td>0.000000</td>\n",
       "      <td>4.656623</td>\n",
       "      <td>6.772748</td>\n",
       "    </tr>\n",
       "    <tr>\n",
       "      <th>4qdn</th>\n",
       "      <td>10.531178</td>\n",
       "      <td>4.660109</td>\n",
       "      <td>4.646545</td>\n",
       "      <td>11.135262</td>\n",
       "      <td>4.522474</td>\n",
       "      <td>10.147237</td>\n",
       "      <td>5.835574</td>\n",
       "      <td>12.161131</td>\n",
       "      <td>9.798632</td>\n",
       "      <td>9.081107</td>\n",
       "      <td>...</td>\n",
       "      <td>4.654700</td>\n",
       "      <td>6.477708</td>\n",
       "      <td>5.306617</td>\n",
       "      <td>6.123214</td>\n",
       "      <td>5.641388</td>\n",
       "      <td>5.635189</td>\n",
       "      <td>4.552373</td>\n",
       "      <td>4.656623</td>\n",
       "      <td>0.000000</td>\n",
       "      <td>5.874020</td>\n",
       "    </tr>\n",
       "    <tr>\n",
       "      <th>4x6p</th>\n",
       "      <td>7.134530</td>\n",
       "      <td>6.716681</td>\n",
       "      <td>6.584307</td>\n",
       "      <td>10.210994</td>\n",
       "      <td>6.734468</td>\n",
       "      <td>9.490398</td>\n",
       "      <td>6.749283</td>\n",
       "      <td>5.397088</td>\n",
       "      <td>6.086818</td>\n",
       "      <td>8.703318</td>\n",
       "      <td>...</td>\n",
       "      <td>6.762921</td>\n",
       "      <td>6.667636</td>\n",
       "      <td>6.015851</td>\n",
       "      <td>7.194302</td>\n",
       "      <td>11.930525</td>\n",
       "      <td>11.884937</td>\n",
       "      <td>6.720388</td>\n",
       "      <td>6.772748</td>\n",
       "      <td>5.874020</td>\n",
       "      <td>0.000000</td>\n",
       "    </tr>\n",
       "  </tbody>\n",
       "</table>\n",
       "<p>5 rows × 172 columns</p>\n",
       "</div>"
      ],
      "text/plain": [
       "           1ta0      5m1y      1flq       4ru1      1uia       3ma8      2zc6  \\\n",
       "1l17   6.550033  5.225135  5.390587   9.308215  5.409590  12.250709  6.513305   \n",
       "4zee  10.885024  0.423226  0.312325   7.545538  0.333920   5.877982  6.964976   \n",
       "5hmj  10.758552  0.382607  0.241490   9.995192  0.247616   5.882972  6.930295   \n",
       "4qdn  10.531178  4.660109  4.646545  11.135262  4.522474  10.147237  5.835574   \n",
       "4x6p   7.134530  6.716681  6.584307  10.210994  6.734468   9.490398  6.749283   \n",
       "\n",
       "           4m53      1cwv      6nup  ...      5dla      4u2a      6fe3  \\\n",
       "1l17   9.136604  9.281223  5.937270  ...  5.382979  7.049519  9.732915   \n",
       "4zee  10.116202  8.698651  8.497236  ...  0.286652  6.996474  7.530556   \n",
       "5hmj  10.138183  8.662763  8.145623  ...  0.146255  6.440816  8.419391   \n",
       "4qdn  12.161131  9.798632  9.081107  ...  4.654700  6.477708  5.306617   \n",
       "4x6p   5.397088  6.086818  8.703318  ...  6.762921  6.667636  6.015851   \n",
       "\n",
       "           4ws6       225l       1l17      4zee      5hmj      4qdn       4x6p  \n",
       "1l17   7.471374   0.162718   0.000000  5.373169  5.411511  5.635189  11.884937  \n",
       "4zee  10.148434   5.368462   5.373169  0.000000  0.273322  4.552373   6.720388  \n",
       "5hmj  10.177090   5.406244   5.411511  0.273322  0.000000  4.656623   6.772748  \n",
       "4qdn   6.123214   5.641388   5.635189  4.552373  4.656623  0.000000   5.874020  \n",
       "4x6p   7.194302  11.930525  11.884937  6.720388  6.772748  5.874020   0.000000  \n",
       "\n",
       "[5 rows x 172 columns]"
      ]
     },
     "execution_count": 44,
     "metadata": {},
     "output_type": "execute_result"
    }
   ],
   "source": [
    "df.tail()"
   ]
  },
  {
   "cell_type": "code",
   "execution_count": 45,
   "metadata": {},
   "outputs": [
    {
     "data": {
      "text/plain": [
       "0"
      ]
     },
     "execution_count": 45,
     "metadata": {},
     "output_type": "execute_result"
    }
   ],
   "source": [
    "df.isna().sum().sum()"
   ]
  },
  {
   "cell_type": "markdown",
   "metadata": {},
   "source": [
    "There is no missing value in the dataset. \n",
    "For the next step, we don’t want to give more weight to some features only because their order of magnitude is higher than others’. A simple 0–1 normalization will solve this problem effectively."
   ]
  },
  {
   "cell_type": "code",
   "execution_count": 46,
   "metadata": {},
   "outputs": [],
   "source": [
    "scaler = MinMaxScaler()\n",
    "x_scaled = scaler.fit_transform(df)"
   ]
  },
  {
   "cell_type": "code",
   "execution_count": 47,
   "metadata": {},
   "outputs": [],
   "source": [
    "dist_manhattan = manhattan_distances(x_scaled)\n",
    "dist_euclid = euclidean_distances(x_scaled)"
   ]
  },
  {
   "cell_type": "markdown",
   "metadata": {},
   "source": [
    "Manhattan distance is usually preferred over the more common Euclidean distance when there is high dimensionality in the data. Hamming distance is used to measure the distance between categorical variables, and the Cosine distance metric is mainly used to find the amount of similarity between two data points.\n",
    "\n",
    "There are several distance methods. I think manhattan and euclidean are suitable for this dataset. \n",
    "Before putting components we must check how many components should we put. Let's check it in a different distance method!"
   ]
  },
  {
   "cell_type": "code",
   "execution_count": 48,
   "metadata": {},
   "outputs": [
    {
     "data": {
      "image/png": "[encoded data removed]",
      "text/plain": [
       "<Figure size 432x288 with 1 Axes>"
      ]
     },
     "metadata": {
      "needs_background": "light"
     },
     "output_type": "display_data"
    }
   ],
   "source": [
    "stress = []\n",
    "max_range = 20\n",
    "for dim in range(1, max_range):\n",
    "    mds = MDS(n_components=dim, dissimilarity='precomputed', random_state=0)\n",
    "    mds.fit_transform(dist_euclid)\n",
    "    stress.append(mds.stress_) \n",
    "plt.plot(range(1, max_range), stress)\n",
    "plt.xticks(range(1, max_range, 2))\n",
    "plt.xlabel('component (s)')\n",
    "plt.ylabel('stress')\n",
    "plt.title(\"euclid components check\")\n",
    "plt.show()\n"
   ]
  },
  {
   "cell_type": "code",
   "execution_count": 49,
   "metadata": {},
   "outputs": [],
   "source": [
    "stress = []\n",
    "max_range = 20\n",
    "for dim in range(1, max_range):\n",
    "    mds = MDS(n_components=dim, dissimilarity='precomputed', random_state=0)\n",
    "    mds.fit_transform(dist_manhattan)\n",
    "    stress.append(mds.stress_)\n",
    "plt.plot(range(1, max_range), stress)\n",
    "plt.xticks(range(1, max_range, 2))\n",
    "plt.xlabel('component (s)')\n",
    "plt.ylabel('stress')\n",
    "plt.title(\"manhattan components check\")\n",
    "plt.show()"
   ]
  },
  {
   "cell_type": "markdown",
   "metadata": {},
   "source": [
    "In the graph, we can see that 2 components can perform well. I will try 2 components for the further steps."
   ]
  },
  {
   "cell_type": "code",
   "execution_count": null,
   "metadata": {},
   "outputs": [
    {
     "data": {
      "image/png": "[encoded data removed]",
      "text/plain": [
       "<Figure size 720x432 with 1 Axes>"
      ]
     },
     "metadata": {
      "needs_background": "light"
     },
     "output_type": "display_data"
    }
   ],
   "source": [
    "mds_sklearn = MDS(n_components=2)\n",
    "x_sklearn = mds_sklearn.fit_transform(dist_manhattan)\n",
    "plt.figure(figsize=(10,6))\n",
    "plt.scatter(x_sklearn[:,0],x_sklearn[:,1])\n",
    "plt.title('MDS(manhattan distance matrix)')\n",
    "plt.show()"
   ]
  },
  {
   "cell_type": "markdown",
   "metadata": {},
   "source": [
    "As we can see from the result, middle-upper, middle right, and middle, there are some lysozyme structures close to each other. That means they have a similar structure. Maybe scientists can take the closely related lysozyme to do some research. In the future, they can do some research about the evolution of the lysozyme. The closer the lysozyme is, the function closer it will be."
   ]
  },
  {
   "cell_type": "code",
   "execution_count": null,
   "metadata": {},
   "outputs": [
    {
     "data": {
      "image/png": "[encoded data removed]",
      "text/plain": [
       "<Figure size 720x432 with 1 Axes>"
      ]
     },
     "metadata": {
      "needs_background": "light"
     },
     "output_type": "display_data"
    }
   ],
   "source": [
    "mds_sklearn = MDS(n_components=2)\n",
    "x_sklearn = mds_sklearn.fit_transform(dist_euclid)\n",
    "plt.figure(figsize=(10,6))\n",
    "plt.scatter(x_sklearn[:,0],x_sklearn[:,1])\n",
    "plt.title('MDS (euclid distance matrix)')\n",
    "plt.show()"
   ]
  },
  {
   "cell_type": "markdown",
   "metadata": {},
   "source": [
    "As we can see from the result, middle-bottom, bottom-right, and upper-left, there are some lysozyme structures close to each other. That means they have a similar structure. I think this one performs better. It groups them into three clusters. I think maybe we can try the unsupervised method - PCA for checking the performance."
   ]
  },
  {
   "cell_type": "markdown",
   "metadata": {},
   "source": [
    "**Try another Method**"
   ]
  },
  {
   "cell_type": "code",
   "execution_count": null,
   "metadata": {},
   "outputs": [
    {
     "name": "stdout",
     "output_type": "stream",
     "text": [
      "[pca] >Processing dataframe..\n",
      "[pca] >Normalizing input data per feature (zero mean and unit variance)..\n",
      "[pca] >The PCA reduction is performed on the [172] columns of the input dataframe.\n",
      "[pca] >Fitting using PCA..\n",
      "[pca] >Computing loadings and PCs..\n",
      "[pca] >Computing explained variance..\n",
      "[pca] >Outlier detection using Hotelling T2 test with alpha=[0.05] and n_components=[30]\n",
      "[pca] >Outlier detection using SPE/DmodX with n_std=[2]\n"
     ]
    },
    {
     "data": {
      "image/png": "[encoded data removed]",
      "text/plain": [
       "<Figure size 720x576 with 1 Axes>"
      ]
     },
     "metadata": {
      "needs_background": "light"
     },
     "output_type": "display_data"
    },
    {
     "data": {
      "text/plain": [
       "(<Figure size 720x576 with 1 Axes>,\n",
       " <AxesSubplot:title={'center':'Cumulative explained variance\\n 30 Principal Components explain [81.45%] of the variance.'}, xlabel='Principle Component', ylabel='Percentage explained variance'>)"
      ]
     },
     "execution_count": 53,
     "metadata": {},
     "output_type": "execute_result"
    },
    {
     "data": {
      "text/plain": [
       "<Figure size 432x288 with 0 Axes>"
      ]
     },
     "metadata": {},
     "output_type": "display_data"
    }
   ],
   "source": [
    "df = pd.read_csv(\"lysozyme_rmsds.csv\",header=0,index_col=0)\n",
    "model = pca(n_components=30,normalize=True)\n",
    "results = model.fit_transform(df)\n",
    "model.plot(figsize=(10,8))"
   ]
  },
  {
   "cell_type": "code",
   "execution_count": null,
   "metadata": {},
   "outputs": [
    {
     "name": "stdout",
     "output_type": "stream",
     "text": [
      "[pca] >Plot PC1 vs PC2 with loadings.\n"
     ]
    },
    {
     "data": {
      "image/png": "[encoded data removed]",
      "text/plain": [
       "<Figure size 1152x864 with 1 Axes>"
      ]
     },
     "metadata": {
      "needs_background": "light"
     },
     "output_type": "display_data"
    },
    {
     "data": {
      "text/plain": [
       "(<Figure size 1152x864 with 1 Axes>,\n",
       " <AxesSubplot:title={'center':'30 Principal Components explain [81.45%] of the variance'}, xlabel='PC1 (33.6% expl.var)', ylabel='PC2 (11.8% expl.var)'>)"
      ]
     },
     "execution_count": 54,
     "metadata": {},
     "output_type": "execute_result"
    }
   ],
   "source": [
    "model.biplot(n_feat=5, legend=False, figsize=(16,12), label=False)"
   ]
  },
  {
   "cell_type": "markdown",
   "metadata": {},
   "source": [
    "**Interpretation and reflection**\n",
    "\n",
    "The first PC explains 33.6% and the second PC 11.8%. There is no clear cluster of the lysozyme by using PCA. To perform by MDS get a better cluster result.\n",
    "\n",
    "### Conclusion\n",
    "\n",
    "From the output of PCA and MDS, we can find MDS performs better no matter in manhattan or in euclid. \n",
    "\n",
    "In the future, if scientists want to do some research about lysozome, they must choose the close one. \n",
    "\n",
    "The ungroup lysosome should add more samples to find the relationship between each other."
   ]
  }
 ],
 "metadata": {
  "interpreter": {
   "hash": "40d3a090f54c6569ab1632332b64b2c03c39dcf918b08424e98f38b5ae0af88f"
  },
  "kernelspec": {
   "display_name": "Python 3 (ipykernel)",
   "language": "python",
   "name": "python3"
  },
  "language_info": {
   "codemirror_mode": {
    "name": "ipython",
    "version": 3
   },
   "file_extension": ".py",
   "mimetype": "text/x-python",
   "name": "python",
   "nbconvert_exporter": "python",
   "pygments_lexer": "ipython3",
   "version": "3.10.4"
  }
 },
 "nbformat": 4,
 "nbformat_minor": 2
}
