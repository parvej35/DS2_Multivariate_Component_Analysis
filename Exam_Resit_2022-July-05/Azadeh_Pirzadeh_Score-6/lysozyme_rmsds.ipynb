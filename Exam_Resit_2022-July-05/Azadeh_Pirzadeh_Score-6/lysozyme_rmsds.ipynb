{
 "cells": [
  {
   "cell_type": "code",
   "execution_count": 1,
   "metadata": {},
   "outputs": [],
   "source": [
    "import pandas as pd\n",
    "import numpy as np\n",
    "import matplotlib.pyplot as plt\n",
    "from pca import pca"
   ]
  },
  {
   "cell_type": "markdown",
   "metadata": {},
   "source": [
    "This dataset contains a distance matrix of a selection of lysozyme structures from the Protein DataBank .\\\n",
    "It has 172 rows and 173 columns.\\\n",
    "The best way to analyzing of this dataset is Multisimentional scaling or MDS because it is a technic of dimensionality reduction which is based on a Distance matrix. Sometimes a dataset is so huge that we can not analyze it with PCA because of the huge correlation matrix so we need another method like MDS to be able to use a distance matrix but in this case, because the data set is a distance matrix, not the huge primary dataset so we can also use the PCA.\\\n",
    "The important thing is that I expected the result of PCA and MDS would be the same because minimizing the linear distance is the same as maximizing the linear correlation.\\\n",
    "there is no need to be standardized because these numbers are the differences between the two points.\\\n",
    "So I tried to first do the PCA and then MDS ."
   ]
  },
  {
   "cell_type": "code",
   "execution_count": 2,
   "metadata": {},
   "outputs": [
    {
     "data": {
      "text/html": [
       "<div>\n",
       "<style scoped>\n",
       "    .dataframe tbody tr th:only-of-type {\n",
       "        vertical-align: middle;\n",
       "    }\n",
       "\n",
       "    .dataframe tbody tr th {\n",
       "        vertical-align: top;\n",
       "    }\n",
       "\n",
       "    .dataframe thead th {\n",
       "        text-align: right;\n",
       "    }\n",
       "</style>\n",
       "<table border=\"1\" class=\"dataframe\">\n",
       "  <thead>\n",
       "    <tr style=\"text-align: right;\">\n",
       "      <th></th>\n",
       "      <th>Unnamed: 0</th>\n",
       "      <th>1ta0</th>\n",
       "      <th>5m1y</th>\n",
       "      <th>1flq</th>\n",
       "      <th>4ru1</th>\n",
       "      <th>1uia</th>\n",
       "      <th>3ma8</th>\n",
       "      <th>2zc6</th>\n",
       "      <th>4m53</th>\n",
       "      <th>1cwv</th>\n",
       "      <th>...</th>\n",
       "      <th>5dla</th>\n",
       "      <th>4u2a</th>\n",
       "      <th>6fe3</th>\n",
       "      <th>4ws6</th>\n",
       "      <th>225l</th>\n",
       "      <th>1l17</th>\n",
       "      <th>4zee</th>\n",
       "      <th>5hmj</th>\n",
       "      <th>4qdn</th>\n",
       "      <th>4x6p</th>\n",
       "    </tr>\n",
       "  </thead>\n",
       "  <tbody>\n",
       "    <tr>\n",
       "      <th>0</th>\n",
       "      <td>1ta0</td>\n",
       "      <td>0.000000</td>\n",
       "      <td>9.944671</td>\n",
       "      <td>10.914137</td>\n",
       "      <td>5.368414</td>\n",
       "      <td>10.147917</td>\n",
       "      <td>6.330169</td>\n",
       "      <td>13.397298</td>\n",
       "      <td>4.796260</td>\n",
       "      <td>6.708178</td>\n",
       "      <td>...</td>\n",
       "      <td>10.748649</td>\n",
       "      <td>4.697932</td>\n",
       "      <td>6.442754</td>\n",
       "      <td>5.967243</td>\n",
       "      <td>6.613105</td>\n",
       "      <td>6.550033</td>\n",
       "      <td>10.885024</td>\n",
       "      <td>10.758552</td>\n",
       "      <td>10.531178</td>\n",
       "      <td>7.134530</td>\n",
       "    </tr>\n",
       "    <tr>\n",
       "      <th>1</th>\n",
       "      <td>5m1y</td>\n",
       "      <td>9.944671</td>\n",
       "      <td>0.000000</td>\n",
       "      <td>0.351689</td>\n",
       "      <td>8.778090</td>\n",
       "      <td>0.360542</td>\n",
       "      <td>6.532751</td>\n",
       "      <td>6.447437</td>\n",
       "      <td>11.661980</td>\n",
       "      <td>10.892651</td>\n",
       "      <td>...</td>\n",
       "      <td>0.450633</td>\n",
       "      <td>6.518186</td>\n",
       "      <td>10.142028</td>\n",
       "      <td>8.008221</td>\n",
       "      <td>5.411168</td>\n",
       "      <td>5.225135</td>\n",
       "      <td>0.423226</td>\n",
       "      <td>0.382607</td>\n",
       "      <td>4.660109</td>\n",
       "      <td>6.716681</td>\n",
       "    </tr>\n",
       "    <tr>\n",
       "      <th>2</th>\n",
       "      <td>1flq</td>\n",
       "      <td>10.914137</td>\n",
       "      <td>0.351689</td>\n",
       "      <td>0.000000</td>\n",
       "      <td>8.781974</td>\n",
       "      <td>0.201154</td>\n",
       "      <td>5.892352</td>\n",
       "      <td>6.476417</td>\n",
       "      <td>10.141856</td>\n",
       "      <td>8.676370</td>\n",
       "      <td>...</td>\n",
       "      <td>0.300225</td>\n",
       "      <td>6.862653</td>\n",
       "      <td>8.398187</td>\n",
       "      <td>8.305965</td>\n",
       "      <td>5.385658</td>\n",
       "      <td>5.390587</td>\n",
       "      <td>0.312325</td>\n",
       "      <td>0.241490</td>\n",
       "      <td>4.646545</td>\n",
       "      <td>6.584307</td>\n",
       "    </tr>\n",
       "    <tr>\n",
       "      <th>3</th>\n",
       "      <td>4ru1</td>\n",
       "      <td>5.368414</td>\n",
       "      <td>8.778090</td>\n",
       "      <td>8.781974</td>\n",
       "      <td>0.000000</td>\n",
       "      <td>8.802099</td>\n",
       "      <td>6.510888</td>\n",
       "      <td>11.596014</td>\n",
       "      <td>6.613473</td>\n",
       "      <td>6.483236</td>\n",
       "      <td>...</td>\n",
       "      <td>10.002309</td>\n",
       "      <td>9.219876</td>\n",
       "      <td>8.978669</td>\n",
       "      <td>5.131378</td>\n",
       "      <td>8.586637</td>\n",
       "      <td>9.308215</td>\n",
       "      <td>7.545538</td>\n",
       "      <td>9.995192</td>\n",
       "      <td>11.135262</td>\n",
       "      <td>10.210994</td>\n",
       "    </tr>\n",
       "    <tr>\n",
       "      <th>4</th>\n",
       "      <td>1uia</td>\n",
       "      <td>10.147917</td>\n",
       "      <td>0.360542</td>\n",
       "      <td>0.201154</td>\n",
       "      <td>8.802099</td>\n",
       "      <td>0.000000</td>\n",
       "      <td>8.169978</td>\n",
       "      <td>6.458828</td>\n",
       "      <td>11.358191</td>\n",
       "      <td>10.635841</td>\n",
       "      <td>...</td>\n",
       "      <td>0.296834</td>\n",
       "      <td>7.002353</td>\n",
       "      <td>11.221244</td>\n",
       "      <td>10.178038</td>\n",
       "      <td>5.404494</td>\n",
       "      <td>5.409590</td>\n",
       "      <td>0.333920</td>\n",
       "      <td>0.247616</td>\n",
       "      <td>4.522474</td>\n",
       "      <td>6.734468</td>\n",
       "    </tr>\n",
       "    <tr>\n",
       "      <th>...</th>\n",
       "      <td>...</td>\n",
       "      <td>...</td>\n",
       "      <td>...</td>\n",
       "      <td>...</td>\n",
       "      <td>...</td>\n",
       "      <td>...</td>\n",
       "      <td>...</td>\n",
       "      <td>...</td>\n",
       "      <td>...</td>\n",
       "      <td>...</td>\n",
       "      <td>...</td>\n",
       "      <td>...</td>\n",
       "      <td>...</td>\n",
       "      <td>...</td>\n",
       "      <td>...</td>\n",
       "      <td>...</td>\n",
       "      <td>...</td>\n",
       "      <td>...</td>\n",
       "      <td>...</td>\n",
       "      <td>...</td>\n",
       "      <td>...</td>\n",
       "    </tr>\n",
       "    <tr>\n",
       "      <th>167</th>\n",
       "      <td>1l17</td>\n",
       "      <td>6.550033</td>\n",
       "      <td>5.225135</td>\n",
       "      <td>5.390587</td>\n",
       "      <td>9.308215</td>\n",
       "      <td>5.409590</td>\n",
       "      <td>12.250709</td>\n",
       "      <td>6.513305</td>\n",
       "      <td>9.136604</td>\n",
       "      <td>9.281223</td>\n",
       "      <td>...</td>\n",
       "      <td>5.382979</td>\n",
       "      <td>7.049519</td>\n",
       "      <td>9.732915</td>\n",
       "      <td>7.471374</td>\n",
       "      <td>0.162718</td>\n",
       "      <td>0.000000</td>\n",
       "      <td>5.373169</td>\n",
       "      <td>5.411511</td>\n",
       "      <td>5.635189</td>\n",
       "      <td>11.884937</td>\n",
       "    </tr>\n",
       "    <tr>\n",
       "      <th>168</th>\n",
       "      <td>4zee</td>\n",
       "      <td>10.885024</td>\n",
       "      <td>0.423226</td>\n",
       "      <td>0.312325</td>\n",
       "      <td>7.545538</td>\n",
       "      <td>0.333920</td>\n",
       "      <td>5.877982</td>\n",
       "      <td>6.964976</td>\n",
       "      <td>10.116202</td>\n",
       "      <td>8.698651</td>\n",
       "      <td>...</td>\n",
       "      <td>0.286652</td>\n",
       "      <td>6.996474</td>\n",
       "      <td>7.530556</td>\n",
       "      <td>10.148434</td>\n",
       "      <td>5.368462</td>\n",
       "      <td>5.373169</td>\n",
       "      <td>0.000000</td>\n",
       "      <td>0.273322</td>\n",
       "      <td>4.552373</td>\n",
       "      <td>6.720388</td>\n",
       "    </tr>\n",
       "    <tr>\n",
       "      <th>169</th>\n",
       "      <td>5hmj</td>\n",
       "      <td>10.758552</td>\n",
       "      <td>0.382607</td>\n",
       "      <td>0.241490</td>\n",
       "      <td>9.995192</td>\n",
       "      <td>0.247616</td>\n",
       "      <td>5.882972</td>\n",
       "      <td>6.930295</td>\n",
       "      <td>10.138183</td>\n",
       "      <td>8.662763</td>\n",
       "      <td>...</td>\n",
       "      <td>0.146255</td>\n",
       "      <td>6.440816</td>\n",
       "      <td>8.419391</td>\n",
       "      <td>10.177090</td>\n",
       "      <td>5.406244</td>\n",
       "      <td>5.411511</td>\n",
       "      <td>0.273322</td>\n",
       "      <td>0.000000</td>\n",
       "      <td>4.656623</td>\n",
       "      <td>6.772748</td>\n",
       "    </tr>\n",
       "    <tr>\n",
       "      <th>170</th>\n",
       "      <td>4qdn</td>\n",
       "      <td>10.531178</td>\n",
       "      <td>4.660109</td>\n",
       "      <td>4.646545</td>\n",
       "      <td>11.135262</td>\n",
       "      <td>4.522474</td>\n",
       "      <td>10.147237</td>\n",
       "      <td>5.835574</td>\n",
       "      <td>12.161131</td>\n",
       "      <td>9.798632</td>\n",
       "      <td>...</td>\n",
       "      <td>4.654700</td>\n",
       "      <td>6.477708</td>\n",
       "      <td>5.306617</td>\n",
       "      <td>6.123214</td>\n",
       "      <td>5.641388</td>\n",
       "      <td>5.635189</td>\n",
       "      <td>4.552373</td>\n",
       "      <td>4.656623</td>\n",
       "      <td>0.000000</td>\n",
       "      <td>5.874020</td>\n",
       "    </tr>\n",
       "    <tr>\n",
       "      <th>171</th>\n",
       "      <td>4x6p</td>\n",
       "      <td>7.134530</td>\n",
       "      <td>6.716681</td>\n",
       "      <td>6.584307</td>\n",
       "      <td>10.210994</td>\n",
       "      <td>6.734468</td>\n",
       "      <td>9.490398</td>\n",
       "      <td>6.749283</td>\n",
       "      <td>5.397088</td>\n",
       "      <td>6.086818</td>\n",
       "      <td>...</td>\n",
       "      <td>6.762921</td>\n",
       "      <td>6.667636</td>\n",
       "      <td>6.015851</td>\n",
       "      <td>7.194302</td>\n",
       "      <td>11.930525</td>\n",
       "      <td>11.884937</td>\n",
       "      <td>6.720388</td>\n",
       "      <td>6.772748</td>\n",
       "      <td>5.874020</td>\n",
       "      <td>0.000000</td>\n",
       "    </tr>\n",
       "  </tbody>\n",
       "</table>\n",
       "<p>172 rows × 173 columns</p>\n",
       "</div>"
      ],
      "text/plain": [
       "    Unnamed: 0       1ta0      5m1y       1flq       4ru1       1uia  \\\n",
       "0         1ta0   0.000000  9.944671  10.914137   5.368414  10.147917   \n",
       "1         5m1y   9.944671  0.000000   0.351689   8.778090   0.360542   \n",
       "2         1flq  10.914137  0.351689   0.000000   8.781974   0.201154   \n",
       "3         4ru1   5.368414  8.778090   8.781974   0.000000   8.802099   \n",
       "4         1uia  10.147917  0.360542   0.201154   8.802099   0.000000   \n",
       "..         ...        ...       ...        ...        ...        ...   \n",
       "167       1l17   6.550033  5.225135   5.390587   9.308215   5.409590   \n",
       "168       4zee  10.885024  0.423226   0.312325   7.545538   0.333920   \n",
       "169       5hmj  10.758552  0.382607   0.241490   9.995192   0.247616   \n",
       "170       4qdn  10.531178  4.660109   4.646545  11.135262   4.522474   \n",
       "171       4x6p   7.134530  6.716681   6.584307  10.210994   6.734468   \n",
       "\n",
       "          3ma8       2zc6       4m53       1cwv  ...       5dla      4u2a  \\\n",
       "0     6.330169  13.397298   4.796260   6.708178  ...  10.748649  4.697932   \n",
       "1     6.532751   6.447437  11.661980  10.892651  ...   0.450633  6.518186   \n",
       "2     5.892352   6.476417  10.141856   8.676370  ...   0.300225  6.862653   \n",
       "3     6.510888  11.596014   6.613473   6.483236  ...  10.002309  9.219876   \n",
       "4     8.169978   6.458828  11.358191  10.635841  ...   0.296834  7.002353   \n",
       "..         ...        ...        ...        ...  ...        ...       ...   \n",
       "167  12.250709   6.513305   9.136604   9.281223  ...   5.382979  7.049519   \n",
       "168   5.877982   6.964976  10.116202   8.698651  ...   0.286652  6.996474   \n",
       "169   5.882972   6.930295  10.138183   8.662763  ...   0.146255  6.440816   \n",
       "170  10.147237   5.835574  12.161131   9.798632  ...   4.654700  6.477708   \n",
       "171   9.490398   6.749283   5.397088   6.086818  ...   6.762921  6.667636   \n",
       "\n",
       "          6fe3       4ws6       225l       1l17       4zee       5hmj  \\\n",
       "0     6.442754   5.967243   6.613105   6.550033  10.885024  10.758552   \n",
       "1    10.142028   8.008221   5.411168   5.225135   0.423226   0.382607   \n",
       "2     8.398187   8.305965   5.385658   5.390587   0.312325   0.241490   \n",
       "3     8.978669   5.131378   8.586637   9.308215   7.545538   9.995192   \n",
       "4    11.221244  10.178038   5.404494   5.409590   0.333920   0.247616   \n",
       "..         ...        ...        ...        ...        ...        ...   \n",
       "167   9.732915   7.471374   0.162718   0.000000   5.373169   5.411511   \n",
       "168   7.530556  10.148434   5.368462   5.373169   0.000000   0.273322   \n",
       "169   8.419391  10.177090   5.406244   5.411511   0.273322   0.000000   \n",
       "170   5.306617   6.123214   5.641388   5.635189   4.552373   4.656623   \n",
       "171   6.015851   7.194302  11.930525  11.884937   6.720388   6.772748   \n",
       "\n",
       "          4qdn       4x6p  \n",
       "0    10.531178   7.134530  \n",
       "1     4.660109   6.716681  \n",
       "2     4.646545   6.584307  \n",
       "3    11.135262  10.210994  \n",
       "4     4.522474   6.734468  \n",
       "..         ...        ...  \n",
       "167   5.635189  11.884937  \n",
       "168   4.552373   6.720388  \n",
       "169   4.656623   6.772748  \n",
       "170   0.000000   5.874020  \n",
       "171   5.874020   0.000000  \n",
       "\n",
       "[172 rows x 173 columns]"
      ]
     },
     "execution_count": 2,
     "metadata": {},
     "output_type": "execute_result"
    }
   ],
   "source": [
    "df=pd.read_csv(\"lysozyme_rmsds.csv\")\n",
    "df"
   ]
  },
  {
   "cell_type": "markdown",
   "metadata": {},
   "source": [
    "shape of data"
   ]
  },
  {
   "cell_type": "code",
   "execution_count": 3,
   "metadata": {},
   "outputs": [
    {
     "data": {
      "text/plain": [
       "(172, 173)"
      ]
     },
     "execution_count": 3,
     "metadata": {},
     "output_type": "execute_result"
    }
   ],
   "source": [
    "df.shape"
   ]
  },
  {
   "cell_type": "markdown",
   "metadata": {},
   "source": [
    "check the null data"
   ]
  },
  {
   "cell_type": "code",
   "execution_count": 4,
   "metadata": {},
   "outputs": [
    {
     "data": {
      "text/plain": [
       "0"
      ]
     },
     "execution_count": 4,
     "metadata": {},
     "output_type": "execute_result"
    }
   ],
   "source": [
    "df.isnull().sum().sum()"
   ]
  },
  {
   "cell_type": "markdown",
   "metadata": {},
   "source": [
    "drop the first column that is unused"
   ]
  },
  {
   "cell_type": "code",
   "execution_count": 5,
   "metadata": {},
   "outputs": [
    {
     "data": {
      "text/html": [
       "<div>\n",
       "<style scoped>\n",
       "    .dataframe tbody tr th:only-of-type {\n",
       "        vertical-align: middle;\n",
       "    }\n",
       "\n",
       "    .dataframe tbody tr th {\n",
       "        vertical-align: top;\n",
       "    }\n",
       "\n",
       "    .dataframe thead th {\n",
       "        text-align: right;\n",
       "    }\n",
       "</style>\n",
       "<table border=\"1\" class=\"dataframe\">\n",
       "  <thead>\n",
       "    <tr style=\"text-align: right;\">\n",
       "      <th></th>\n",
       "      <th>1ta0</th>\n",
       "      <th>5m1y</th>\n",
       "      <th>1flq</th>\n",
       "      <th>4ru1</th>\n",
       "      <th>1uia</th>\n",
       "      <th>3ma8</th>\n",
       "      <th>2zc6</th>\n",
       "      <th>4m53</th>\n",
       "      <th>1cwv</th>\n",
       "      <th>6nup</th>\n",
       "      <th>...</th>\n",
       "      <th>5dla</th>\n",
       "      <th>4u2a</th>\n",
       "      <th>6fe3</th>\n",
       "      <th>4ws6</th>\n",
       "      <th>225l</th>\n",
       "      <th>1l17</th>\n",
       "      <th>4zee</th>\n",
       "      <th>5hmj</th>\n",
       "      <th>4qdn</th>\n",
       "      <th>4x6p</th>\n",
       "    </tr>\n",
       "  </thead>\n",
       "  <tbody>\n",
       "    <tr>\n",
       "      <th>0</th>\n",
       "      <td>0.000000</td>\n",
       "      <td>9.944671</td>\n",
       "      <td>10.914137</td>\n",
       "      <td>5.368414</td>\n",
       "      <td>10.147917</td>\n",
       "      <td>6.330169</td>\n",
       "      <td>13.397298</td>\n",
       "      <td>4.796260</td>\n",
       "      <td>6.708178</td>\n",
       "      <td>5.249331</td>\n",
       "      <td>...</td>\n",
       "      <td>10.748649</td>\n",
       "      <td>4.697932</td>\n",
       "      <td>6.442754</td>\n",
       "      <td>5.967243</td>\n",
       "      <td>6.613105</td>\n",
       "      <td>6.550033</td>\n",
       "      <td>10.885024</td>\n",
       "      <td>10.758552</td>\n",
       "      <td>10.531178</td>\n",
       "      <td>7.134530</td>\n",
       "    </tr>\n",
       "    <tr>\n",
       "      <th>1</th>\n",
       "      <td>9.944671</td>\n",
       "      <td>0.000000</td>\n",
       "      <td>0.351689</td>\n",
       "      <td>8.778090</td>\n",
       "      <td>0.360542</td>\n",
       "      <td>6.532751</td>\n",
       "      <td>6.447437</td>\n",
       "      <td>11.661980</td>\n",
       "      <td>10.892651</td>\n",
       "      <td>8.494948</td>\n",
       "      <td>...</td>\n",
       "      <td>0.450633</td>\n",
       "      <td>6.518186</td>\n",
       "      <td>10.142028</td>\n",
       "      <td>8.008221</td>\n",
       "      <td>5.411168</td>\n",
       "      <td>5.225135</td>\n",
       "      <td>0.423226</td>\n",
       "      <td>0.382607</td>\n",
       "      <td>4.660109</td>\n",
       "      <td>6.716681</td>\n",
       "    </tr>\n",
       "    <tr>\n",
       "      <th>2</th>\n",
       "      <td>10.914137</td>\n",
       "      <td>0.351689</td>\n",
       "      <td>0.000000</td>\n",
       "      <td>8.781974</td>\n",
       "      <td>0.201154</td>\n",
       "      <td>5.892352</td>\n",
       "      <td>6.476417</td>\n",
       "      <td>10.141856</td>\n",
       "      <td>8.676370</td>\n",
       "      <td>8.771998</td>\n",
       "      <td>...</td>\n",
       "      <td>0.300225</td>\n",
       "      <td>6.862653</td>\n",
       "      <td>8.398187</td>\n",
       "      <td>8.305965</td>\n",
       "      <td>5.385658</td>\n",
       "      <td>5.390587</td>\n",
       "      <td>0.312325</td>\n",
       "      <td>0.241490</td>\n",
       "      <td>4.646545</td>\n",
       "      <td>6.584307</td>\n",
       "    </tr>\n",
       "    <tr>\n",
       "      <th>3</th>\n",
       "      <td>5.368414</td>\n",
       "      <td>8.778090</td>\n",
       "      <td>8.781974</td>\n",
       "      <td>0.000000</td>\n",
       "      <td>8.802099</td>\n",
       "      <td>6.510888</td>\n",
       "      <td>11.596014</td>\n",
       "      <td>6.613473</td>\n",
       "      <td>6.483236</td>\n",
       "      <td>7.988591</td>\n",
       "      <td>...</td>\n",
       "      <td>10.002309</td>\n",
       "      <td>9.219876</td>\n",
       "      <td>8.978669</td>\n",
       "      <td>5.131378</td>\n",
       "      <td>8.586637</td>\n",
       "      <td>9.308215</td>\n",
       "      <td>7.545538</td>\n",
       "      <td>9.995192</td>\n",
       "      <td>11.135262</td>\n",
       "      <td>10.210994</td>\n",
       "    </tr>\n",
       "    <tr>\n",
       "      <th>4</th>\n",
       "      <td>10.147917</td>\n",
       "      <td>0.360542</td>\n",
       "      <td>0.201154</td>\n",
       "      <td>8.802099</td>\n",
       "      <td>0.000000</td>\n",
       "      <td>8.169978</td>\n",
       "      <td>6.458828</td>\n",
       "      <td>11.358191</td>\n",
       "      <td>10.635841</td>\n",
       "      <td>8.761022</td>\n",
       "      <td>...</td>\n",
       "      <td>0.296834</td>\n",
       "      <td>7.002353</td>\n",
       "      <td>11.221244</td>\n",
       "      <td>10.178038</td>\n",
       "      <td>5.404494</td>\n",
       "      <td>5.409590</td>\n",
       "      <td>0.333920</td>\n",
       "      <td>0.247616</td>\n",
       "      <td>4.522474</td>\n",
       "      <td>6.734468</td>\n",
       "    </tr>\n",
       "  </tbody>\n",
       "</table>\n",
       "<p>5 rows × 172 columns</p>\n",
       "</div>"
      ],
      "text/plain": [
       "        1ta0      5m1y       1flq      4ru1       1uia      3ma8       2zc6  \\\n",
       "0   0.000000  9.944671  10.914137  5.368414  10.147917  6.330169  13.397298   \n",
       "1   9.944671  0.000000   0.351689  8.778090   0.360542  6.532751   6.447437   \n",
       "2  10.914137  0.351689   0.000000  8.781974   0.201154  5.892352   6.476417   \n",
       "3   5.368414  8.778090   8.781974  0.000000   8.802099  6.510888  11.596014   \n",
       "4  10.147917  0.360542   0.201154  8.802099   0.000000  8.169978   6.458828   \n",
       "\n",
       "        4m53       1cwv      6nup  ...       5dla      4u2a       6fe3  \\\n",
       "0   4.796260   6.708178  5.249331  ...  10.748649  4.697932   6.442754   \n",
       "1  11.661980  10.892651  8.494948  ...   0.450633  6.518186  10.142028   \n",
       "2  10.141856   8.676370  8.771998  ...   0.300225  6.862653   8.398187   \n",
       "3   6.613473   6.483236  7.988591  ...  10.002309  9.219876   8.978669   \n",
       "4  11.358191  10.635841  8.761022  ...   0.296834  7.002353  11.221244   \n",
       "\n",
       "        4ws6      225l      1l17       4zee       5hmj       4qdn       4x6p  \n",
       "0   5.967243  6.613105  6.550033  10.885024  10.758552  10.531178   7.134530  \n",
       "1   8.008221  5.411168  5.225135   0.423226   0.382607   4.660109   6.716681  \n",
       "2   8.305965  5.385658  5.390587   0.312325   0.241490   4.646545   6.584307  \n",
       "3   5.131378  8.586637  9.308215   7.545538   9.995192  11.135262  10.210994  \n",
       "4  10.178038  5.404494  5.409590   0.333920   0.247616   4.522474   6.734468  \n",
       "\n",
       "[5 rows x 172 columns]"
      ]
     },
     "execution_count": 5,
     "metadata": {},
     "output_type": "execute_result"
    }
   ],
   "source": [
    "df=df.drop(\"Unnamed: 0\", axis=1)\n",
    "df.head()"
   ]
  },
  {
   "cell_type": "markdown",
   "metadata": {},
   "source": [
    "we can see we need 26 components to get an 85%  variance of data. starting the PCA model, I used a percentage instead of the number of components to find the number of components. we can see we need 26 components to get an 85%  variance of data. but I think the first and second one are so important as we can see in the Scree plot and with these 2 we can get more than 60% of the variance.\n"
   ]
  },
  {
   "cell_type": "code",
   "execution_count": 6,
   "metadata": {},
   "outputs": [
    {
     "name": "stdout",
     "output_type": "stream",
     "text": [
      "[pca] >Column labels are auto-completed.\n",
      "[pca] >Row labels are auto-completed.\n",
      "[pca] >The PCA reduction is performed on the [172] columns of the input dataframe.\n",
      "[pca] >Fitting using PCA..\n",
      "[pca] >Computing loadings and PCs..\n",
      "[pca] >Computing explained variance..\n",
      "[pca] >Outlier detection using Hotelling T2 test with alpha=[0.05] and n_components=[3]\n",
      "[pca] >Outlier detection using SPE/DmodX with n_std=[2]\n"
     ]
    }
   ],
   "source": [
    "X=df.values\n",
    "model=pca(n_components=0.85, normalize=False) \n",
    "model=pca(n_components=3, normalize=False) \n",
    "results = model.fit_transform(X)"
   ]
  },
  {
   "cell_type": "code",
   "execution_count": 7,
   "metadata": {},
   "outputs": [
    {
     "data": {
      "image/png": "[encoded data removed]",
      "text/plain": [
       "<Figure size 720x576 with 1 Axes>"
      ]
     },
     "metadata": {
      "needs_background": "light"
     },
     "output_type": "display_data"
    },
    {
     "data": {
      "text/plain": [
       "<Figure size 432x288 with 0 Axes>"
      ]
     },
     "metadata": {},
     "output_type": "display_data"
    }
   ],
   "source": [
    "\n",
    "model.plot(figsize=(10,8))\n",
    "plt.show()"
   ]
  },
  {
   "cell_type": "markdown",
   "metadata": {},
   "source": [
    "Here we can see the result of PCA 3 different groups are very clear."
   ]
  },
  {
   "cell_type": "code",
   "execution_count": 8,
   "metadata": {},
   "outputs": [
    {
     "data": {
      "image/png": "[encoded data removed]",
      "text/plain": [
       "<Figure size 576x576 with 1 Axes>"
      ]
     },
     "metadata": {
      "needs_background": "light"
     },
     "output_type": "display_data"
    }
   ],
   "source": [
    "model.scatter( legend=False, figsize=(8,8) , label=True)\n",
    "plt.show()"
   ]
  },
  {
   "cell_type": "markdown",
   "metadata": {},
   "source": [
    "*MDS*"
   ]
  },
  {
   "cell_type": "markdown",
   "metadata": {},
   "source": [
    "As I understand this dataset is the result of the distance matrix so there is no need to calculate the distance matrix by myself.\n"
   ]
  },
  {
   "cell_type": "code",
   "execution_count": 9,
   "metadata": {},
   "outputs": [],
   "source": [
    "D=df.values\n",
    "m = D.mean(axis=0)\n",
    "A = -0.5 * (D - m[None,:] - m[:,None] + m.mean())"
   ]
  },
  {
   "cell_type": "markdown",
   "metadata": {},
   "source": [
    "Based on plot first 3 point are the best."
   ]
  },
  {
   "cell_type": "code",
   "execution_count": 10,
   "metadata": {},
   "outputs": [
    {
     "data": {
      "image/png": "[encoded data removed]",
      "text/plain": [
       "<Figure size 432x288 with 1 Axes>"
      ]
     },
     "metadata": {
      "needs_background": "light"
     },
     "output_type": "display_data"
    }
   ],
   "source": [
    "\n",
    "vals, vecs = np.linalg.eigh(A)\n",
    "vals = vals[::-1]\n",
    "vecs = vecs[:, ::-1]\n",
    "plt.scatter(np.arange(25), vals[:25])\n",
    "plt.show()\n",
    "\n",
    "# New (principal) coordinates\n",
    "md = vecs[:, :3] * vals[:3]**0.5"
   ]
  },
  {
   "cell_type": "code",
   "execution_count": 11,
   "metadata": {},
   "outputs": [
    {
     "data": {
      "image/png": "[encoded data removed]",
      "text/plain": [
       "<Figure size 576x576 with 1 Axes>"
      ]
     },
     "metadata": {
      "needs_background": "light"
     },
     "output_type": "display_data"
    }
   ],
   "source": [
    "fig, ax = plt.subplots(figsize=(8,8))\n",
    "ax.set_aspect(1)\n",
    "plt.scatter(*md[:, [0,1]].T,s=5,c=md[:,2])\n",
    "plt.show()"
   ]
  },
  {
   "cell_type": "markdown",
   "metadata": {},
   "source": [
    "we can see the 3 important categories which mean those point in each category are more alike than those further apart.MDS arranges the points on the plot so that the distances among each pair of points correlate as best as possible to the dissimilarity between those two samples.\\\n",
    "because this distance is based on root-mean-square deviation(RMSD) so in each group, the RMSD very looks like each other\\\n",
    "Alse, as I predicted before the result of MDS and PCA, are the same."
   ]
  }
 ],
 "metadata": {
  "kernelspec": {
   "display_name": "Python 3.9.7 ('base')",
   "language": "python",
   "name": "python3"
  },
  "language_info": {
   "codemirror_mode": {
    "name": "ipython",
    "version": 3
   },
   "file_extension": ".py",
   "mimetype": "text/x-python",
   "name": "python",
   "nbconvert_exporter": "python",
   "pygments_lexer": "ipython3",
   "version": "3.9.7"
  },
  "orig_nbformat": 4,
  "vscode": {
   "interpreter": {
    "hash": "0a170ef4386f174fc9d0d266485e4c7f0d6ef64f25a0664e2a20876587fb8912"
   }
  }
 },
 "nbformat": 4,
 "nbformat_minor": 2
}
