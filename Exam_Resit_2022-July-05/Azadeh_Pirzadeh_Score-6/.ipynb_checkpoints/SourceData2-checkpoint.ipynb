{
 "cells": [
  {
   "cell_type": "code",
   "execution_count": 1,
   "metadata": {},
   "outputs": [],
   "source": [
    "import pandas as pd\n",
    "import numpy as np\n",
    "import seaborn as sns\n",
    "import matplotlib.pyplot as plt\n",
    "from sklearn.cross_decomposition import PLSRegression\n",
    "from sklearn.metrics import mean_squared_error\n"
   ]
  },
  {
   "cell_type": "markdown",
   "metadata": {},
   "source": [
    "This dataset contains infrared spectra from saliva from people that tested negative and people that tested positive for SARS nCoV2019.\\\n",
    "The first column is the ID that contains the number of participants in this test and also the positive and negative results of the covid test.\\\n",
    "The second column is the Cycle threshold (Ct) that is based to get a result for being positive or negative. If this value is less so the probability of having a positive result is more.\\\n",
    "And other columns are the result of infrared spectra.\\\n",
    "As I understand every 3 rows are related to one person so we can calculate the average for every 3 rows but because the number of datasets is not so big if I do it the rows would decline to 60 and less train size of the model would raise the error of the prediction so I ignore it.\n",
    "As there are many nulls in the Ct value my research is to create a model to predict the ct value.\\\n",
    "The best method for it would be the Linear Regression model but the important thing for using the linear regression model is having independent variables as X  matrix to can predict the dependent variable as y. so at first let's analyze the correlations\n",
    "This dataset has 183 rows and 253 columns."
   ]
  },
  {
   "cell_type": "code",
   "execution_count": 2,
   "metadata": {},
   "outputs": [
    {
     "data": {
      "text/html": [
       "<div>\n",
       "<style scoped>\n",
       "    .dataframe tbody tr th:only-of-type {\n",
       "        vertical-align: middle;\n",
       "    }\n",
       "\n",
       "    .dataframe tbody tr th {\n",
       "        vertical-align: top;\n",
       "    }\n",
       "\n",
       "    .dataframe thead th {\n",
       "        text-align: right;\n",
       "    }\n",
       "</style>\n",
       "<table border=\"1\" class=\"dataframe\">\n",
       "  <thead>\n",
       "    <tr style=\"text-align: right;\">\n",
       "      <th></th>\n",
       "      <th>ID</th>\n",
       "      <th>Ct</th>\n",
       "      <th>1300</th>\n",
       "      <th>1298</th>\n",
       "      <th>1296</th>\n",
       "      <th>1294</th>\n",
       "      <th>1292</th>\n",
       "      <th>1290</th>\n",
       "      <th>1288</th>\n",
       "      <th>1286</th>\n",
       "      <th>...</th>\n",
       "      <th>818</th>\n",
       "      <th>816</th>\n",
       "      <th>814</th>\n",
       "      <th>812</th>\n",
       "      <th>810</th>\n",
       "      <th>808</th>\n",
       "      <th>806</th>\n",
       "      <th>804</th>\n",
       "      <th>802</th>\n",
       "      <th>800</th>\n",
       "    </tr>\n",
       "  </thead>\n",
       "  <tbody>\n",
       "    <tr>\n",
       "      <th>0</th>\n",
       "      <td>N1</td>\n",
       "      <td>NaN</td>\n",
       "      <td>0.277705</td>\n",
       "      <td>0.277532</td>\n",
       "      <td>0.277387</td>\n",
       "      <td>0.277217</td>\n",
       "      <td>0.277042</td>\n",
       "      <td>0.276930</td>\n",
       "      <td>0.276856</td>\n",
       "      <td>0.276737</td>\n",
       "      <td>...</td>\n",
       "      <td>0.242726</td>\n",
       "      <td>0.241897</td>\n",
       "      <td>0.241107</td>\n",
       "      <td>0.240374</td>\n",
       "      <td>0.239742</td>\n",
       "      <td>0.239234</td>\n",
       "      <td>0.238833</td>\n",
       "      <td>0.238523</td>\n",
       "      <td>0.238314</td>\n",
       "      <td>0.238197</td>\n",
       "    </tr>\n",
       "    <tr>\n",
       "      <th>1</th>\n",
       "      <td>N1</td>\n",
       "      <td>NaN</td>\n",
       "      <td>0.251624</td>\n",
       "      <td>0.251438</td>\n",
       "      <td>0.251268</td>\n",
       "      <td>0.251067</td>\n",
       "      <td>0.250843</td>\n",
       "      <td>0.250645</td>\n",
       "      <td>0.250467</td>\n",
       "      <td>0.250280</td>\n",
       "      <td>...</td>\n",
       "      <td>0.213427</td>\n",
       "      <td>0.212628</td>\n",
       "      <td>0.211891</td>\n",
       "      <td>0.211234</td>\n",
       "      <td>0.210662</td>\n",
       "      <td>0.210173</td>\n",
       "      <td>0.209763</td>\n",
       "      <td>0.209450</td>\n",
       "      <td>0.209267</td>\n",
       "      <td>0.209202</td>\n",
       "    </tr>\n",
       "    <tr>\n",
       "      <th>2</th>\n",
       "      <td>N1</td>\n",
       "      <td>NaN</td>\n",
       "      <td>0.083310</td>\n",
       "      <td>0.083293</td>\n",
       "      <td>0.083307</td>\n",
       "      <td>0.083338</td>\n",
       "      <td>0.083391</td>\n",
       "      <td>0.083478</td>\n",
       "      <td>0.083585</td>\n",
       "      <td>0.083674</td>\n",
       "      <td>...</td>\n",
       "      <td>0.085724</td>\n",
       "      <td>0.085260</td>\n",
       "      <td>0.084823</td>\n",
       "      <td>0.084445</td>\n",
       "      <td>0.084137</td>\n",
       "      <td>0.083894</td>\n",
       "      <td>0.083715</td>\n",
       "      <td>0.083602</td>\n",
       "      <td>0.083543</td>\n",
       "      <td>0.083495</td>\n",
       "    </tr>\n",
       "    <tr>\n",
       "      <th>3</th>\n",
       "      <td>N2</td>\n",
       "      <td>NaN</td>\n",
       "      <td>0.067509</td>\n",
       "      <td>0.067070</td>\n",
       "      <td>0.066684</td>\n",
       "      <td>0.066359</td>\n",
       "      <td>0.066106</td>\n",
       "      <td>0.065938</td>\n",
       "      <td>0.065852</td>\n",
       "      <td>0.065828</td>\n",
       "      <td>...</td>\n",
       "      <td>0.055012</td>\n",
       "      <td>0.054969</td>\n",
       "      <td>0.054902</td>\n",
       "      <td>0.054832</td>\n",
       "      <td>0.054781</td>\n",
       "      <td>0.054767</td>\n",
       "      <td>0.054787</td>\n",
       "      <td>0.054823</td>\n",
       "      <td>0.054857</td>\n",
       "      <td>0.054893</td>\n",
       "    </tr>\n",
       "    <tr>\n",
       "      <th>4</th>\n",
       "      <td>N2</td>\n",
       "      <td>NaN</td>\n",
       "      <td>0.129576</td>\n",
       "      <td>0.128690</td>\n",
       "      <td>0.127912</td>\n",
       "      <td>0.127232</td>\n",
       "      <td>0.126676</td>\n",
       "      <td>0.126306</td>\n",
       "      <td>0.126138</td>\n",
       "      <td>0.126113</td>\n",
       "      <td>...</td>\n",
       "      <td>0.099128</td>\n",
       "      <td>0.098794</td>\n",
       "      <td>0.098337</td>\n",
       "      <td>0.097886</td>\n",
       "      <td>0.097527</td>\n",
       "      <td>0.097272</td>\n",
       "      <td>0.097091</td>\n",
       "      <td>0.096970</td>\n",
       "      <td>0.096906</td>\n",
       "      <td>0.096881</td>\n",
       "    </tr>\n",
       "  </tbody>\n",
       "</table>\n",
       "<p>5 rows × 253 columns</p>\n",
       "</div>"
      ],
      "text/plain": [
       "   ID  Ct      1300      1298      1296      1294      1292      1290  \\\n",
       "0  N1 NaN  0.277705  0.277532  0.277387  0.277217  0.277042  0.276930   \n",
       "1  N1 NaN  0.251624  0.251438  0.251268  0.251067  0.250843  0.250645   \n",
       "2  N1 NaN  0.083310  0.083293  0.083307  0.083338  0.083391  0.083478   \n",
       "3  N2 NaN  0.067509  0.067070  0.066684  0.066359  0.066106  0.065938   \n",
       "4  N2 NaN  0.129576  0.128690  0.127912  0.127232  0.126676  0.126306   \n",
       "\n",
       "       1288      1286  ...       818       816       814       812       810  \\\n",
       "0  0.276856  0.276737  ...  0.242726  0.241897  0.241107  0.240374  0.239742   \n",
       "1  0.250467  0.250280  ...  0.213427  0.212628  0.211891  0.211234  0.210662   \n",
       "2  0.083585  0.083674  ...  0.085724  0.085260  0.084823  0.084445  0.084137   \n",
       "3  0.065852  0.065828  ...  0.055012  0.054969  0.054902  0.054832  0.054781   \n",
       "4  0.126138  0.126113  ...  0.099128  0.098794  0.098337  0.097886  0.097527   \n",
       "\n",
       "        808       806       804       802       800  \n",
       "0  0.239234  0.238833  0.238523  0.238314  0.238197  \n",
       "1  0.210173  0.209763  0.209450  0.209267  0.209202  \n",
       "2  0.083894  0.083715  0.083602  0.083543  0.083495  \n",
       "3  0.054767  0.054787  0.054823  0.054857  0.054893  \n",
       "4  0.097272  0.097091  0.096970  0.096906  0.096881  \n",
       "\n",
       "[5 rows x 253 columns]"
      ]
     },
     "execution_count": 2,
     "metadata": {},
     "output_type": "execute_result"
    }
   ],
   "source": [
    "df=pd.read_excel(\"SourceData2.xlsx \")\n",
    "df.head()"
   ]
  },
  {
   "cell_type": "markdown",
   "metadata": {},
   "source": [
    "shape of data"
   ]
  },
  {
   "cell_type": "code",
   "execution_count": 3,
   "metadata": {},
   "outputs": [
    {
     "data": {
      "text/plain": [
       "(183, 253)"
      ]
     },
     "execution_count": 3,
     "metadata": {},
     "output_type": "execute_result"
    }
   ],
   "source": [
    "df.shape"
   ]
  },
  {
   "cell_type": "markdown",
   "metadata": {},
   "source": [
    "As we can see in the correlation heat map there are strong correlations between variables. so in these conditions, I believe the best method is Partial Least Squares regression (PLS) because it takes into account multicollinearity. we can use it for the datasets where there is a strong correlation between the regressor to predict the regressand."
   ]
  },
  {
   "cell_type": "code",
   "execution_count": 4,
   "metadata": {},
   "outputs": [
    {
     "data": {
      "text/plain": [
       "<AxesSubplot:>"
      ]
     },
     "execution_count": 4,
     "metadata": {},
     "output_type": "execute_result"
    },
    {
     "data": {
      "image/png": "[encoded data removed]",
      "text/plain": [
       "<Figure size 432x288 with 2 Axes>"
      ]
     },
     "metadata": {
      "needs_background": "light"
     },
     "output_type": "display_data"
    }
   ],
   "source": [
    "sns.heatmap(df.corr())"
   ]
  },
  {
   "cell_type": "markdown",
   "metadata": {},
   "source": [
    "we can see 132 ct value are null out of 183"
   ]
  },
  {
   "cell_type": "code",
   "execution_count": 5,
   "metadata": {},
   "outputs": [
    {
     "name": "stdout",
     "output_type": "stream",
     "text": [
      "ID        0\n",
      "Ct      132\n",
      "1300      0\n",
      "1298      0\n",
      "1296      0\n",
      "       ... \n",
      "808       0\n",
      "806       0\n",
      "804       0\n",
      "802       0\n",
      "800       0\n",
      "Length: 253, dtype: int64\n"
     ]
    }
   ],
   "source": [
    "print(df.isnull().sum())\n"
   ]
  },
  {
   "cell_type": "markdown",
   "metadata": {},
   "source": [
    "I dropped the null and keep the primary dataset to use after creating the model for predicting the null Ct values."
   ]
  },
  {
   "cell_type": "code",
   "execution_count": 6,
   "metadata": {},
   "outputs": [
    {
     "data": {
      "text/html": [
       "<div>\n",
       "<style scoped>\n",
       "    .dataframe tbody tr th:only-of-type {\n",
       "        vertical-align: middle;\n",
       "    }\n",
       "\n",
       "    .dataframe tbody tr th {\n",
       "        vertical-align: top;\n",
       "    }\n",
       "\n",
       "    .dataframe thead th {\n",
       "        text-align: right;\n",
       "    }\n",
       "</style>\n",
       "<table border=\"1\" class=\"dataframe\">\n",
       "  <thead>\n",
       "    <tr style=\"text-align: right;\">\n",
       "      <th></th>\n",
       "      <th>ID</th>\n",
       "      <th>Ct</th>\n",
       "      <th>1300</th>\n",
       "      <th>1298</th>\n",
       "      <th>1296</th>\n",
       "      <th>1294</th>\n",
       "      <th>1292</th>\n",
       "      <th>1290</th>\n",
       "      <th>1288</th>\n",
       "      <th>1286</th>\n",
       "      <th>...</th>\n",
       "      <th>818</th>\n",
       "      <th>816</th>\n",
       "      <th>814</th>\n",
       "      <th>812</th>\n",
       "      <th>810</th>\n",
       "      <th>808</th>\n",
       "      <th>806</th>\n",
       "      <th>804</th>\n",
       "      <th>802</th>\n",
       "      <th>800</th>\n",
       "    </tr>\n",
       "  </thead>\n",
       "  <tbody>\n",
       "    <tr>\n",
       "      <th>90</th>\n",
       "      <td>P1</td>\n",
       "      <td>39.5</td>\n",
       "      <td>0.060928</td>\n",
       "      <td>0.060843</td>\n",
       "      <td>0.060795</td>\n",
       "      <td>0.060788</td>\n",
       "      <td>0.060815</td>\n",
       "      <td>0.060864</td>\n",
       "      <td>0.060922</td>\n",
       "      <td>0.060978</td>\n",
       "      <td>...</td>\n",
       "      <td>0.061845</td>\n",
       "      <td>0.061769</td>\n",
       "      <td>0.061727</td>\n",
       "      <td>0.061745</td>\n",
       "      <td>0.061819</td>\n",
       "      <td>0.061908</td>\n",
       "      <td>0.061968</td>\n",
       "      <td>0.061993</td>\n",
       "      <td>0.062016</td>\n",
       "      <td>0.062058</td>\n",
       "    </tr>\n",
       "    <tr>\n",
       "      <th>91</th>\n",
       "      <td>P1</td>\n",
       "      <td>39.5</td>\n",
       "      <td>0.115645</td>\n",
       "      <td>0.115519</td>\n",
       "      <td>0.115460</td>\n",
       "      <td>0.115457</td>\n",
       "      <td>0.115491</td>\n",
       "      <td>0.115546</td>\n",
       "      <td>0.115618</td>\n",
       "      <td>0.115706</td>\n",
       "      <td>...</td>\n",
       "      <td>0.113936</td>\n",
       "      <td>0.113703</td>\n",
       "      <td>0.113515</td>\n",
       "      <td>0.113385</td>\n",
       "      <td>0.113280</td>\n",
       "      <td>0.113164</td>\n",
       "      <td>0.113053</td>\n",
       "      <td>0.112994</td>\n",
       "      <td>0.112999</td>\n",
       "      <td>0.113014</td>\n",
       "    </tr>\n",
       "    <tr>\n",
       "      <th>92</th>\n",
       "      <td>P1</td>\n",
       "      <td>39.5</td>\n",
       "      <td>0.138667</td>\n",
       "      <td>0.138489</td>\n",
       "      <td>0.138369</td>\n",
       "      <td>0.138314</td>\n",
       "      <td>0.138327</td>\n",
       "      <td>0.138404</td>\n",
       "      <td>0.138525</td>\n",
       "      <td>0.138674</td>\n",
       "      <td>...</td>\n",
       "      <td>0.135055</td>\n",
       "      <td>0.134695</td>\n",
       "      <td>0.134373</td>\n",
       "      <td>0.134032</td>\n",
       "      <td>0.133670</td>\n",
       "      <td>0.133365</td>\n",
       "      <td>0.133188</td>\n",
       "      <td>0.133120</td>\n",
       "      <td>0.133073</td>\n",
       "      <td>0.132981</td>\n",
       "    </tr>\n",
       "    <tr>\n",
       "      <th>93</th>\n",
       "      <td>P2</td>\n",
       "      <td>24.6</td>\n",
       "      <td>0.116097</td>\n",
       "      <td>0.115927</td>\n",
       "      <td>0.115762</td>\n",
       "      <td>0.115590</td>\n",
       "      <td>0.115403</td>\n",
       "      <td>0.115218</td>\n",
       "      <td>0.115055</td>\n",
       "      <td>0.114927</td>\n",
       "      <td>...</td>\n",
       "      <td>0.103662</td>\n",
       "      <td>0.103419</td>\n",
       "      <td>0.103181</td>\n",
       "      <td>0.102937</td>\n",
       "      <td>0.102669</td>\n",
       "      <td>0.102376</td>\n",
       "      <td>0.102082</td>\n",
       "      <td>0.101817</td>\n",
       "      <td>0.101597</td>\n",
       "      <td>0.101429</td>\n",
       "    </tr>\n",
       "    <tr>\n",
       "      <th>94</th>\n",
       "      <td>P2</td>\n",
       "      <td>24.6</td>\n",
       "      <td>0.157963</td>\n",
       "      <td>0.157743</td>\n",
       "      <td>0.157521</td>\n",
       "      <td>0.157292</td>\n",
       "      <td>0.157054</td>\n",
       "      <td>0.156823</td>\n",
       "      <td>0.156620</td>\n",
       "      <td>0.156446</td>\n",
       "      <td>...</td>\n",
       "      <td>0.142669</td>\n",
       "      <td>0.142337</td>\n",
       "      <td>0.142044</td>\n",
       "      <td>0.141792</td>\n",
       "      <td>0.141571</td>\n",
       "      <td>0.141358</td>\n",
       "      <td>0.141141</td>\n",
       "      <td>0.140930</td>\n",
       "      <td>0.140746</td>\n",
       "      <td>0.140600</td>\n",
       "    </tr>\n",
       "  </tbody>\n",
       "</table>\n",
       "<p>5 rows × 253 columns</p>\n",
       "</div>"
      ],
      "text/plain": [
       "    ID    Ct      1300      1298      1296      1294      1292      1290  \\\n",
       "90  P1  39.5  0.060928  0.060843  0.060795  0.060788  0.060815  0.060864   \n",
       "91  P1  39.5  0.115645  0.115519  0.115460  0.115457  0.115491  0.115546   \n",
       "92  P1  39.5  0.138667  0.138489  0.138369  0.138314  0.138327  0.138404   \n",
       "93  P2  24.6  0.116097  0.115927  0.115762  0.115590  0.115403  0.115218   \n",
       "94  P2  24.6  0.157963  0.157743  0.157521  0.157292  0.157054  0.156823   \n",
       "\n",
       "        1288      1286  ...       818       816       814       812       810  \\\n",
       "90  0.060922  0.060978  ...  0.061845  0.061769  0.061727  0.061745  0.061819   \n",
       "91  0.115618  0.115706  ...  0.113936  0.113703  0.113515  0.113385  0.113280   \n",
       "92  0.138525  0.138674  ...  0.135055  0.134695  0.134373  0.134032  0.133670   \n",
       "93  0.115055  0.114927  ...  0.103662  0.103419  0.103181  0.102937  0.102669   \n",
       "94  0.156620  0.156446  ...  0.142669  0.142337  0.142044  0.141792  0.141571   \n",
       "\n",
       "         808       806       804       802       800  \n",
       "90  0.061908  0.061968  0.061993  0.062016  0.062058  \n",
       "91  0.113164  0.113053  0.112994  0.112999  0.113014  \n",
       "92  0.133365  0.133188  0.133120  0.133073  0.132981  \n",
       "93  0.102376  0.102082  0.101817  0.101597  0.101429  \n",
       "94  0.141358  0.141141  0.140930  0.140746  0.140600  \n",
       "\n",
       "[5 rows x 253 columns]"
      ]
     },
     "execution_count": 6,
     "metadata": {},
     "output_type": "execute_result"
    }
   ],
   "source": [
    "df_t=df.dropna()\n",
    "df_t.head()"
   ]
  },
  {
   "cell_type": "markdown",
   "metadata": {},
   "source": [
    "check the type of columns"
   ]
  },
  {
   "cell_type": "code",
   "execution_count": 7,
   "metadata": {},
   "outputs": [
    {
     "data": {
      "text/plain": [
       "ID       object\n",
       "Ct      float64\n",
       "1300    float64\n",
       "1298    float64\n",
       "1296    float64\n",
       "         ...   \n",
       "808     float64\n",
       "806     float64\n",
       "804     float64\n",
       "802     float64\n",
       "800     float64\n",
       "Length: 253, dtype: object"
      ]
     },
     "execution_count": 7,
     "metadata": {},
     "output_type": "execute_result"
    }
   ],
   "source": [
    "df_t.dtypes"
   ]
  },
  {
   "cell_type": "markdown",
   "metadata": {},
   "source": [
    "we can see the variance of columns is in the same range so there is no need to standardize."
   ]
  },
  {
   "cell_type": "code",
   "execution_count": 8,
   "metadata": {},
   "outputs": [
    {
     "data": {
      "text/html": [
       "<div>\n",
       "<style scoped>\n",
       "    .dataframe tbody tr th:only-of-type {\n",
       "        vertical-align: middle;\n",
       "    }\n",
       "\n",
       "    .dataframe tbody tr th {\n",
       "        vertical-align: top;\n",
       "    }\n",
       "\n",
       "    .dataframe thead th {\n",
       "        text-align: right;\n",
       "    }\n",
       "</style>\n",
       "<table border=\"1\" class=\"dataframe\">\n",
       "  <thead>\n",
       "    <tr style=\"text-align: right;\">\n",
       "      <th></th>\n",
       "      <th>Ct</th>\n",
       "      <th>1300</th>\n",
       "      <th>1298</th>\n",
       "      <th>1296</th>\n",
       "      <th>1294</th>\n",
       "      <th>1292</th>\n",
       "      <th>1290</th>\n",
       "      <th>1288</th>\n",
       "      <th>1286</th>\n",
       "      <th>1284</th>\n",
       "      <th>...</th>\n",
       "      <th>818</th>\n",
       "      <th>816</th>\n",
       "      <th>814</th>\n",
       "      <th>812</th>\n",
       "      <th>810</th>\n",
       "      <th>808</th>\n",
       "      <th>806</th>\n",
       "      <th>804</th>\n",
       "      <th>802</th>\n",
       "      <th>800</th>\n",
       "    </tr>\n",
       "  </thead>\n",
       "  <tbody>\n",
       "    <tr>\n",
       "      <th>count</th>\n",
       "      <td>51.000000</td>\n",
       "      <td>51.000000</td>\n",
       "      <td>51.000000</td>\n",
       "      <td>51.000000</td>\n",
       "      <td>51.000000</td>\n",
       "      <td>51.000000</td>\n",
       "      <td>51.000000</td>\n",
       "      <td>51.000000</td>\n",
       "      <td>51.000000</td>\n",
       "      <td>51.000000</td>\n",
       "      <td>...</td>\n",
       "      <td>51.000000</td>\n",
       "      <td>51.000000</td>\n",
       "      <td>51.000000</td>\n",
       "      <td>51.000000</td>\n",
       "      <td>51.000000</td>\n",
       "      <td>51.000000</td>\n",
       "      <td>51.000000</td>\n",
       "      <td>51.000000</td>\n",
       "      <td>51.000000</td>\n",
       "      <td>51.000000</td>\n",
       "    </tr>\n",
       "    <tr>\n",
       "      <th>mean</th>\n",
       "      <td>29.997059</td>\n",
       "      <td>0.290714</td>\n",
       "      <td>0.290137</td>\n",
       "      <td>0.289621</td>\n",
       "      <td>0.289177</td>\n",
       "      <td>0.288844</td>\n",
       "      <td>0.288680</td>\n",
       "      <td>0.288686</td>\n",
       "      <td>0.288800</td>\n",
       "      <td>0.288968</td>\n",
       "      <td>...</td>\n",
       "      <td>0.215964</td>\n",
       "      <td>0.215743</td>\n",
       "      <td>0.215508</td>\n",
       "      <td>0.215262</td>\n",
       "      <td>0.215020</td>\n",
       "      <td>0.214788</td>\n",
       "      <td>0.214559</td>\n",
       "      <td>0.214340</td>\n",
       "      <td>0.214166</td>\n",
       "      <td>0.214062</td>\n",
       "    </tr>\n",
       "    <tr>\n",
       "      <th>std</th>\n",
       "      <td>6.331812</td>\n",
       "      <td>0.204720</td>\n",
       "      <td>0.204411</td>\n",
       "      <td>0.204134</td>\n",
       "      <td>0.203922</td>\n",
       "      <td>0.203811</td>\n",
       "      <td>0.203854</td>\n",
       "      <td>0.204074</td>\n",
       "      <td>0.204419</td>\n",
       "      <td>0.204796</td>\n",
       "      <td>...</td>\n",
       "      <td>0.143464</td>\n",
       "      <td>0.143555</td>\n",
       "      <td>0.143662</td>\n",
       "      <td>0.143764</td>\n",
       "      <td>0.143838</td>\n",
       "      <td>0.143870</td>\n",
       "      <td>0.143866</td>\n",
       "      <td>0.143850</td>\n",
       "      <td>0.143858</td>\n",
       "      <td>0.143934</td>\n",
       "    </tr>\n",
       "    <tr>\n",
       "      <th>min</th>\n",
       "      <td>16.950000</td>\n",
       "      <td>0.060928</td>\n",
       "      <td>0.060843</td>\n",
       "      <td>0.060795</td>\n",
       "      <td>0.060788</td>\n",
       "      <td>0.060815</td>\n",
       "      <td>0.060864</td>\n",
       "      <td>0.060922</td>\n",
       "      <td>0.060978</td>\n",
       "      <td>0.061034</td>\n",
       "      <td>...</td>\n",
       "      <td>0.040589</td>\n",
       "      <td>0.040850</td>\n",
       "      <td>0.040923</td>\n",
       "      <td>0.040839</td>\n",
       "      <td>0.040731</td>\n",
       "      <td>0.040705</td>\n",
       "      <td>0.040742</td>\n",
       "      <td>0.040737</td>\n",
       "      <td>0.040618</td>\n",
       "      <td>0.040387</td>\n",
       "    </tr>\n",
       "    <tr>\n",
       "      <th>25%</th>\n",
       "      <td>27.150000</td>\n",
       "      <td>0.138679</td>\n",
       "      <td>0.138573</td>\n",
       "      <td>0.138498</td>\n",
       "      <td>0.138446</td>\n",
       "      <td>0.138437</td>\n",
       "      <td>0.138486</td>\n",
       "      <td>0.138561</td>\n",
       "      <td>0.138643</td>\n",
       "      <td>0.138762</td>\n",
       "      <td>...</td>\n",
       "      <td>0.103825</td>\n",
       "      <td>0.103696</td>\n",
       "      <td>0.103572</td>\n",
       "      <td>0.103420</td>\n",
       "      <td>0.103247</td>\n",
       "      <td>0.103069</td>\n",
       "      <td>0.102891</td>\n",
       "      <td>0.102716</td>\n",
       "      <td>0.102555</td>\n",
       "      <td>0.102411</td>\n",
       "    </tr>\n",
       "    <tr>\n",
       "      <th>50%</th>\n",
       "      <td>30.000000</td>\n",
       "      <td>0.221922</td>\n",
       "      <td>0.221259</td>\n",
       "      <td>0.220595</td>\n",
       "      <td>0.220091</td>\n",
       "      <td>0.219777</td>\n",
       "      <td>0.219672</td>\n",
       "      <td>0.219679</td>\n",
       "      <td>0.219659</td>\n",
       "      <td>0.219606</td>\n",
       "      <td>...</td>\n",
       "      <td>0.170616</td>\n",
       "      <td>0.170046</td>\n",
       "      <td>0.169460</td>\n",
       "      <td>0.168897</td>\n",
       "      <td>0.168398</td>\n",
       "      <td>0.167950</td>\n",
       "      <td>0.167497</td>\n",
       "      <td>0.167039</td>\n",
       "      <td>0.166648</td>\n",
       "      <td>0.166357</td>\n",
       "    </tr>\n",
       "    <tr>\n",
       "      <th>75%</th>\n",
       "      <td>33.350000</td>\n",
       "      <td>0.367465</td>\n",
       "      <td>0.366739</td>\n",
       "      <td>0.366194</td>\n",
       "      <td>0.365803</td>\n",
       "      <td>0.365537</td>\n",
       "      <td>0.365417</td>\n",
       "      <td>0.365438</td>\n",
       "      <td>0.365547</td>\n",
       "      <td>0.365720</td>\n",
       "      <td>...</td>\n",
       "      <td>0.328995</td>\n",
       "      <td>0.329668</td>\n",
       "      <td>0.330264</td>\n",
       "      <td>0.330179</td>\n",
       "      <td>0.329707</td>\n",
       "      <td>0.329291</td>\n",
       "      <td>0.328952</td>\n",
       "      <td>0.328716</td>\n",
       "      <td>0.328634</td>\n",
       "      <td>0.328750</td>\n",
       "    </tr>\n",
       "    <tr>\n",
       "      <th>max</th>\n",
       "      <td>39.900000</td>\n",
       "      <td>0.818293</td>\n",
       "      <td>0.817143</td>\n",
       "      <td>0.815908</td>\n",
       "      <td>0.814782</td>\n",
       "      <td>0.813889</td>\n",
       "      <td>0.813383</td>\n",
       "      <td>0.813412</td>\n",
       "      <td>0.813906</td>\n",
       "      <td>0.814597</td>\n",
       "      <td>...</td>\n",
       "      <td>0.537173</td>\n",
       "      <td>0.539202</td>\n",
       "      <td>0.541285</td>\n",
       "      <td>0.543282</td>\n",
       "      <td>0.545053</td>\n",
       "      <td>0.546491</td>\n",
       "      <td>0.547551</td>\n",
       "      <td>0.548283</td>\n",
       "      <td>0.548874</td>\n",
       "      <td>0.549605</td>\n",
       "    </tr>\n",
       "  </tbody>\n",
       "</table>\n",
       "<p>8 rows × 252 columns</p>\n",
       "</div>"
      ],
      "text/plain": [
       "              Ct       1300       1298       1296       1294       1292  \\\n",
       "count  51.000000  51.000000  51.000000  51.000000  51.000000  51.000000   \n",
       "mean   29.997059   0.290714   0.290137   0.289621   0.289177   0.288844   \n",
       "std     6.331812   0.204720   0.204411   0.204134   0.203922   0.203811   \n",
       "min    16.950000   0.060928   0.060843   0.060795   0.060788   0.060815   \n",
       "25%    27.150000   0.138679   0.138573   0.138498   0.138446   0.138437   \n",
       "50%    30.000000   0.221922   0.221259   0.220595   0.220091   0.219777   \n",
       "75%    33.350000   0.367465   0.366739   0.366194   0.365803   0.365537   \n",
       "max    39.900000   0.818293   0.817143   0.815908   0.814782   0.813889   \n",
       "\n",
       "            1290       1288       1286       1284  ...        818        816  \\\n",
       "count  51.000000  51.000000  51.000000  51.000000  ...  51.000000  51.000000   \n",
       "mean    0.288680   0.288686   0.288800   0.288968  ...   0.215964   0.215743   \n",
       "std     0.203854   0.204074   0.204419   0.204796  ...   0.143464   0.143555   \n",
       "min     0.060864   0.060922   0.060978   0.061034  ...   0.040589   0.040850   \n",
       "25%     0.138486   0.138561   0.138643   0.138762  ...   0.103825   0.103696   \n",
       "50%     0.219672   0.219679   0.219659   0.219606  ...   0.170616   0.170046   \n",
       "75%     0.365417   0.365438   0.365547   0.365720  ...   0.328995   0.329668   \n",
       "max     0.813383   0.813412   0.813906   0.814597  ...   0.537173   0.539202   \n",
       "\n",
       "             814        812        810        808        806        804  \\\n",
       "count  51.000000  51.000000  51.000000  51.000000  51.000000  51.000000   \n",
       "mean    0.215508   0.215262   0.215020   0.214788   0.214559   0.214340   \n",
       "std     0.143662   0.143764   0.143838   0.143870   0.143866   0.143850   \n",
       "min     0.040923   0.040839   0.040731   0.040705   0.040742   0.040737   \n",
       "25%     0.103572   0.103420   0.103247   0.103069   0.102891   0.102716   \n",
       "50%     0.169460   0.168897   0.168398   0.167950   0.167497   0.167039   \n",
       "75%     0.330264   0.330179   0.329707   0.329291   0.328952   0.328716   \n",
       "max     0.541285   0.543282   0.545053   0.546491   0.547551   0.548283   \n",
       "\n",
       "             802        800  \n",
       "count  51.000000  51.000000  \n",
       "mean    0.214166   0.214062  \n",
       "std     0.143858   0.143934  \n",
       "min     0.040618   0.040387  \n",
       "25%     0.102555   0.102411  \n",
       "50%     0.166648   0.166357  \n",
       "75%     0.328634   0.328750  \n",
       "max     0.548874   0.549605  \n",
       "\n",
       "[8 rows x 252 columns]"
      ]
     },
     "execution_count": 8,
     "metadata": {},
     "output_type": "execute_result"
    }
   ],
   "source": [
    "df_t.describe()"
   ]
  },
  {
   "cell_type": "markdown",
   "metadata": {},
   "source": [
    "split the dataset to X and y"
   ]
  },
  {
   "cell_type": "code",
   "execution_count": 9,
   "metadata": {},
   "outputs": [],
   "source": [
    "X=df_t.iloc[:,2:]\n",
    "y=df_t.iloc[:,1]"
   ]
  },
  {
   "cell_type": "markdown",
   "metadata": {},
   "source": [
    "for the best component, it is better to use k_fold cross-validation to find the optimal number of PLS components to keep in the model but I do not have enough time so I tested with 5,6, and 7 and I think 6 is the best. I believe that the size of the dataset is so small so if we have more samples we can split the data to test and train to get a lower error and better prediction."
   ]
  },
  {
   "cell_type": "code",
   "execution_count": 10,
   "metadata": {},
   "outputs": [
    {
     "data": {
      "text/html": [
       "<style>#sk-container-id-1 {color: black;background-color: white;}#sk-container-id-1 pre{padding: 0;}#sk-container-id-1 div.sk-toggleable {background-color: white;}#sk-container-id-1 label.sk-toggleable__label {cursor: pointer;display: block;width: 100%;margin-bottom: 0;padding: 0.3em;box-sizing: border-box;text-align: center;}#sk-container-id-1 label.sk-toggleable__label-arrow:before {content: \"▸\";float: left;margin-right: 0.25em;color: #696969;}#sk-container-id-1 label.sk-toggleable__label-arrow:hover:before {color: black;}#sk-container-id-1 div.sk-estimator:hover label.sk-toggleable__label-arrow:before {color: black;}#sk-container-id-1 div.sk-toggleable__content {max-height: 0;max-width: 0;overflow: hidden;text-align: left;background-color: #f0f8ff;}#sk-container-id-1 div.sk-toggleable__content pre {margin: 0.2em;color: black;border-radius: 0.25em;background-color: #f0f8ff;}#sk-container-id-1 input.sk-toggleable__control:checked~div.sk-toggleable__content {max-height: 200px;max-width: 100%;overflow: auto;}#sk-container-id-1 input.sk-toggleable__control:checked~label.sk-toggleable__label-arrow:before {content: \"▾\";}#sk-container-id-1 div.sk-estimator input.sk-toggleable__control:checked~label.sk-toggleable__label {background-color: #d4ebff;}#sk-container-id-1 div.sk-label input.sk-toggleable__control:checked~label.sk-toggleable__label {background-color: #d4ebff;}#sk-container-id-1 input.sk-hidden--visually {border: 0;clip: rect(1px 1px 1px 1px);clip: rect(1px, 1px, 1px, 1px);height: 1px;margin: -1px;overflow: hidden;padding: 0;position: absolute;width: 1px;}#sk-container-id-1 div.sk-estimator {font-family: monospace;background-color: #f0f8ff;border: 1px dotted black;border-radius: 0.25em;box-sizing: border-box;margin-bottom: 0.5em;}#sk-container-id-1 div.sk-estimator:hover {background-color: #d4ebff;}#sk-container-id-1 div.sk-parallel-item::after {content: \"\";width: 100%;border-bottom: 1px solid gray;flex-grow: 1;}#sk-container-id-1 div.sk-label:hover label.sk-toggleable__label {background-color: #d4ebff;}#sk-container-id-1 div.sk-serial::before {content: \"\";position: absolute;border-left: 1px solid gray;box-sizing: border-box;top: 0;bottom: 0;left: 50%;z-index: 0;}#sk-container-id-1 div.sk-serial {display: flex;flex-direction: column;align-items: center;background-color: white;padding-right: 0.2em;padding-left: 0.2em;position: relative;}#sk-container-id-1 div.sk-item {position: relative;z-index: 1;}#sk-container-id-1 div.sk-parallel {display: flex;align-items: stretch;justify-content: center;background-color: white;position: relative;}#sk-container-id-1 div.sk-item::before, #sk-container-id-1 div.sk-parallel-item::before {content: \"\";position: absolute;border-left: 1px solid gray;box-sizing: border-box;top: 0;bottom: 0;left: 50%;z-index: -1;}#sk-container-id-1 div.sk-parallel-item {display: flex;flex-direction: column;z-index: 1;position: relative;background-color: white;}#sk-container-id-1 div.sk-parallel-item:first-child::after {align-self: flex-end;width: 50%;}#sk-container-id-1 div.sk-parallel-item:last-child::after {align-self: flex-start;width: 50%;}#sk-container-id-1 div.sk-parallel-item:only-child::after {width: 0;}#sk-container-id-1 div.sk-dashed-wrapped {border: 1px dashed gray;margin: 0 0.4em 0.5em 0.4em;box-sizing: border-box;padding-bottom: 0.4em;background-color: white;}#sk-container-id-1 div.sk-label label {font-family: monospace;font-weight: bold;display: inline-block;line-height: 1.2em;}#sk-container-id-1 div.sk-label-container {text-align: center;}#sk-container-id-1 div.sk-container {/* jupyter's `normalize.less` sets `[hidden] { display: none; }` but bootstrap.min.css set `[hidden] { display: none !important; }` so we also need the `!important` here to be able to override the default hidden behavior on the sphinx rendered scikit-learn.org. See: https://github.com/scikit-learn/scikit-learn/issues/21755 */display: inline-block !important;position: relative;}#sk-container-id-1 div.sk-text-repr-fallback {display: none;}</style><div id=\"sk-container-id-1\" class=\"sk-top-container\"><div class=\"sk-text-repr-fallback\"><pre>PLSRegression(n_components=6)</pre><b>In a Jupyter environment, please rerun this cell to show the HTML representation or trust the notebook. <br />On GitHub, the HTML representation is unable to render, please try loading this page with nbviewer.org.</b></div><div class=\"sk-container\" hidden><div class=\"sk-item\"><div class=\"sk-estimator sk-toggleable\"><input class=\"sk-toggleable__control sk-hidden--visually\" id=\"sk-estimator-id-1\" type=\"checkbox\" checked><label for=\"sk-estimator-id-1\" class=\"sk-toggleable__label sk-toggleable__label-arrow\">PLSRegression</label><div class=\"sk-toggleable__content\"><pre>PLSRegression(n_components=6)</pre></div></div></div></div></div>"
      ],
      "text/plain": [
       "PLSRegression(n_components=6)"
      ]
     },
     "execution_count": 10,
     "metadata": {},
     "output_type": "execute_result"
    }
   ],
   "source": [
    "model=PLSRegression(n_components=6)\n",
    "model.fit(X, y)"
   ]
  },
  {
   "cell_type": "markdown",
   "metadata": {},
   "source": [
    "predict the values"
   ]
  },
  {
   "cell_type": "markdown",
   "metadata": {},
   "source": [
    "predict the y and calculate the error. As we can see the error is not good, it shows that other factors also affect the Ct values, so for the next step is better to add other factors to predict the Ct value or increase the size of samples to train the model with more train samples."
   ]
  },
  {
   "cell_type": "code",
   "execution_count": 11,
   "metadata": {},
   "outputs": [
    {
     "data": {
      "text/plain": [
       "5.50549218531295"
      ]
     },
     "execution_count": 11,
     "metadata": {},
     "output_type": "execute_result"
    }
   ],
   "source": [
    "y_pred = model.predict(X)\n",
    "np.sqrt(mean_squared_error(y, y_pred))"
   ]
  },
  {
   "cell_type": "markdown",
   "metadata": {},
   "source": [
    "predict the Ct value for the primary dataset and add new columns in the dataset.we can see a very good plot, so I think if we increase the train size we will get a very low error."
   ]
  },
  {
   "cell_type": "code",
   "execution_count": 12,
   "metadata": {},
   "outputs": [
    {
     "data": {
      "image/png": "[encoded data removed]",
      "text/plain": [
       "<Figure size 432x288 with 1 Axes>"
      ]
     },
     "metadata": {
      "needs_background": "light"
     },
     "output_type": "display_data"
    }
   ],
   "source": [
    "df[\"predicted_Ct\"] = model.predict(df.iloc[:,2:])\n",
    "plt.plot(df[\"predicted_Ct\"],label=\"Predicted Ct\")\n",
    "plt.plot(y,'r--',label=\"Actual_Ct\")\n",
    "plt.legend()\n",
    "plt.show()"
   ]
  }
 ],
 "metadata": {
  "kernelspec": {
   "display_name": "Python 3 (ipykernel)",
   "language": "python",
   "name": "python3"
  },
  "language_info": {
   "codemirror_mode": {
    "name": "ipython",
    "version": 3
   },
   "file_extension": ".py",
   "mimetype": "text/x-python",
   "name": "python",
   "nbconvert_exporter": "python",
   "pygments_lexer": "ipython3",
   "version": "3.10.4"
  },
  "vscode": {
   "interpreter": {
    "hash": "0a170ef4386f174fc9d0d266485e4c7f0d6ef64f25a0664e2a20876587fb8912"
   }
  }
 },
 "nbformat": 4,
 "nbformat_minor": 2
}
