{
 "cells": [
  {
   "cell_type": "code",
   "execution_count": 1,
   "metadata": {},
   "outputs": [],
   "source": [
    "import pandas as pd\n",
    "import numpy as np\n",
    "import matplotlib.pyplot as plt\n",
    "from pca import pca\n",
    "from sklearn.discriminant_analysis import LinearDiscriminantAnalysis\n",
    "from sklearn.preprocessing import StandardScaler\n",
    "from sklearn.model_selection import cross_val_score, RepeatedStratifiedKFold"
   ]
  },
  {
   "cell_type": "markdown",
   "metadata": {},
   "source": [
    "This data set contains measurements of monoterpenes in certain plant leaves in AUC/mg.\\\n",
    "Monoterpenes are a class of terpenes that consist of two isoprene units and have the molecular formula C10H16. Monoterpenes may be linear (acyclic) or contain rings (monocyclic and bicyclic). Modified terpenes, such as those containing oxygen functionality or missing a methyl group, are called monoterpenoids. Monoterpenes and monoterpenoids are diverse. They have relevance to the pharmaceutical, cosmetic, agricultural, and food industries.[wikipedai].\n",
    "\n",
    "\n"
   ]
  },
  {
   "cell_type": "markdown",
   "metadata": {},
   "source": [
    "\n",
    "This dataset contains 94 rows and 19 columns. The first column is just the id, the second column is the Species and the others are the monoterpenes that are measured.\\\n",
    "The research question: Are there any categories to distinguish between different monoterpenes in a certain plant leaves?\\\n",
    "Is there any model to can predict the spacies with high accuracy based on features?\n"
   ]
  },
  {
   "cell_type": "markdown",
   "metadata": {},
   "source": [
    "The best methods are PCA and LDA because both are useful in dimensionality reduction to be able to categorize the samples.\\\n",
    "I believe also LDA is better because we have 3 different species in this dataset and although PCA is like LDA, LDA focuses on maximizing the separability among know categories.\\\n",
    "So at first, I try to see the result of PCA and then LDA."
   ]
  },
  {
   "cell_type": "code",
   "execution_count": 2,
   "metadata": {},
   "outputs": [
    {
     "data": {
      "text/html": [
       "<div>\n",
       "<style scoped>\n",
       "    .dataframe tbody tr th:only-of-type {\n",
       "        vertical-align: middle;\n",
       "    }\n",
       "\n",
       "    .dataframe tbody tr th {\n",
       "        vertical-align: top;\n",
       "    }\n",
       "\n",
       "    .dataframe thead th {\n",
       "        text-align: right;\n",
       "    }\n",
       "</style>\n",
       "<table border=\"1\" class=\"dataframe\">\n",
       "  <thead>\n",
       "    <tr style=\"text-align: right;\">\n",
       "      <th></th>\n",
       "      <th>SampleID</th>\n",
       "      <th>Species</th>\n",
       "      <th>Unk3.2</th>\n",
       "      <th>Unk3.6</th>\n",
       "      <th>Unk11.9</th>\n",
       "      <th>Unk12.4</th>\n",
       "      <th>aPinene</th>\n",
       "      <th>Camphene</th>\n",
       "      <th>bPinene</th>\n",
       "      <th>aPhellendrine</th>\n",
       "      <th>pcymene</th>\n",
       "      <th>Cineole</th>\n",
       "      <th>Unk18.2</th>\n",
       "      <th>Unk18.6</th>\n",
       "      <th>Unk20.5</th>\n",
       "      <th>Camphor</th>\n",
       "      <th>Unk21</th>\n",
       "      <th>Unk21.5</th>\n",
       "      <th>Unk23.5</th>\n",
       "    </tr>\n",
       "  </thead>\n",
       "  <tbody>\n",
       "    <tr>\n",
       "      <th>0</th>\n",
       "      <td>MF032</td>\n",
       "      <td>wyoming</td>\n",
       "      <td>17.447216</td>\n",
       "      <td>78.480388</td>\n",
       "      <td>2.575015</td>\n",
       "      <td>0.480588</td>\n",
       "      <td>6.873549</td>\n",
       "      <td>14.667799</td>\n",
       "      <td>10.505447</td>\n",
       "      <td>64.308777</td>\n",
       "      <td>5.311575</td>\n",
       "      <td>6.917810</td>\n",
       "      <td>10.258485</td>\n",
       "      <td>29.725402</td>\n",
       "      <td>5.320274</td>\n",
       "      <td>92.868922</td>\n",
       "      <td>32.733879</td>\n",
       "      <td>245.373027</td>\n",
       "      <td>9.190845</td>\n",
       "    </tr>\n",
       "    <tr>\n",
       "      <th>1</th>\n",
       "      <td>MF034</td>\n",
       "      <td>wyoming</td>\n",
       "      <td>0.000000</td>\n",
       "      <td>0.000000</td>\n",
       "      <td>0.566885</td>\n",
       "      <td>9.274434</td>\n",
       "      <td>29.331204</td>\n",
       "      <td>189.922801</td>\n",
       "      <td>20.664100</td>\n",
       "      <td>0.368826</td>\n",
       "      <td>8.201353</td>\n",
       "      <td>140.641077</td>\n",
       "      <td>0.000000</td>\n",
       "      <td>1.275490</td>\n",
       "      <td>0.000000</td>\n",
       "      <td>0.000000</td>\n",
       "      <td>675.617594</td>\n",
       "      <td>13.323675</td>\n",
       "      <td>0.646352</td>\n",
       "    </tr>\n",
       "    <tr>\n",
       "      <th>2</th>\n",
       "      <td>MF036</td>\n",
       "      <td>wyoming</td>\n",
       "      <td>13.247976</td>\n",
       "      <td>52.978520</td>\n",
       "      <td>3.838784</td>\n",
       "      <td>0.000000</td>\n",
       "      <td>5.958195</td>\n",
       "      <td>6.564323</td>\n",
       "      <td>23.170531</td>\n",
       "      <td>61.671574</td>\n",
       "      <td>2.010833</td>\n",
       "      <td>4.594991</td>\n",
       "      <td>9.309720</td>\n",
       "      <td>27.877841</td>\n",
       "      <td>10.200175</td>\n",
       "      <td>54.894681</td>\n",
       "      <td>25.178064</td>\n",
       "      <td>232.263740</td>\n",
       "      <td>8.166170</td>\n",
       "    </tr>\n",
       "    <tr>\n",
       "      <th>3</th>\n",
       "      <td>MF038</td>\n",
       "      <td>wyoming</td>\n",
       "      <td>0.000000</td>\n",
       "      <td>71.897745</td>\n",
       "      <td>5.582314</td>\n",
       "      <td>7.300492</td>\n",
       "      <td>8.662203</td>\n",
       "      <td>3.662696</td>\n",
       "      <td>9.404492</td>\n",
       "      <td>0.165965</td>\n",
       "      <td>1.854227</td>\n",
       "      <td>6.792163</td>\n",
       "      <td>9.031663</td>\n",
       "      <td>32.740878</td>\n",
       "      <td>7.444111</td>\n",
       "      <td>67.025993</td>\n",
       "      <td>24.894070</td>\n",
       "      <td>392.559512</td>\n",
       "      <td>10.195839</td>\n",
       "    </tr>\n",
       "    <tr>\n",
       "      <th>4</th>\n",
       "      <td>MF049</td>\n",
       "      <td>wyoming</td>\n",
       "      <td>15.501606</td>\n",
       "      <td>56.658287</td>\n",
       "      <td>7.009434</td>\n",
       "      <td>0.397118</td>\n",
       "      <td>0.000000</td>\n",
       "      <td>9.505731</td>\n",
       "      <td>11.259664</td>\n",
       "      <td>18.164837</td>\n",
       "      <td>3.222653</td>\n",
       "      <td>17.167722</td>\n",
       "      <td>9.857530</td>\n",
       "      <td>6.071136</td>\n",
       "      <td>10.047028</td>\n",
       "      <td>87.913989</td>\n",
       "      <td>33.114384</td>\n",
       "      <td>0.341623</td>\n",
       "      <td>11.994086</td>\n",
       "    </tr>\n",
       "  </tbody>\n",
       "</table>\n",
       "</div>"
      ],
      "text/plain": [
       "  SampleID  Species     Unk3.2     Unk3.6   Unk11.9   Unk12.4    aPinene  \\\n",
       "0    MF032  wyoming  17.447216  78.480388  2.575015  0.480588   6.873549   \n",
       "1    MF034  wyoming   0.000000   0.000000  0.566885  9.274434  29.331204   \n",
       "2    MF036  wyoming  13.247976  52.978520  3.838784  0.000000   5.958195   \n",
       "3    MF038  wyoming   0.000000  71.897745  5.582314  7.300492   8.662203   \n",
       "4    MF049  wyoming  15.501606  56.658287  7.009434  0.397118   0.000000   \n",
       "\n",
       "     Camphene    bPinene  aPhellendrine   pcymene     Cineole    Unk18.2  \\\n",
       "0   14.667799  10.505447      64.308777  5.311575    6.917810  10.258485   \n",
       "1  189.922801  20.664100       0.368826  8.201353  140.641077   0.000000   \n",
       "2    6.564323  23.170531      61.671574  2.010833    4.594991   9.309720   \n",
       "3    3.662696   9.404492       0.165965  1.854227    6.792163   9.031663   \n",
       "4    9.505731  11.259664      18.164837  3.222653   17.167722   9.857530   \n",
       "\n",
       "     Unk18.6    Unk20.5    Camphor       Unk21     Unk21.5    Unk23.5  \n",
       "0  29.725402   5.320274  92.868922   32.733879  245.373027   9.190845  \n",
       "1   1.275490   0.000000   0.000000  675.617594   13.323675   0.646352  \n",
       "2  27.877841  10.200175  54.894681   25.178064  232.263740   8.166170  \n",
       "3  32.740878   7.444111  67.025993   24.894070  392.559512  10.195839  \n",
       "4   6.071136  10.047028  87.913989   33.114384    0.341623  11.994086  "
      ]
     },
     "execution_count": 2,
     "metadata": {},
     "output_type": "execute_result"
    }
   ],
   "source": [
    "df=pd.read_csv(\"metabolom_data.csv \")\n",
    "df.head()"
   ]
  },
  {
   "cell_type": "markdown",
   "metadata": {},
   "source": [
    "check the different kinds of species"
   ]
  },
  {
   "cell_type": "code",
   "execution_count": 3,
   "metadata": {},
   "outputs": [
    {
     "data": {
      "text/plain": [
       "array(['wyoming', '3-tip', 'hybrid'], dtype=object)"
      ]
     },
     "execution_count": 3,
     "metadata": {},
     "output_type": "execute_result"
    }
   ],
   "source": [
    "df.Species.unique()"
   ]
  },
  {
   "cell_type": "markdown",
   "metadata": {},
   "source": [
    "shape of dataset"
   ]
  },
  {
   "cell_type": "code",
   "execution_count": 4,
   "metadata": {},
   "outputs": [
    {
     "data": {
      "text/plain": [
       "(94, 19)"
      ]
     },
     "execution_count": 4,
     "metadata": {},
     "output_type": "execute_result"
    }
   ],
   "source": [
    "df.shape"
   ]
  },
  {
   "cell_type": "markdown",
   "metadata": {},
   "source": [
    "checking for the null data"
   ]
  },
  {
   "cell_type": "code",
   "execution_count": 5,
   "metadata": {},
   "outputs": [
    {
     "data": {
      "text/plain": [
       "0"
      ]
     },
     "execution_count": 5,
     "metadata": {},
     "output_type": "execute_result"
    }
   ],
   "source": [
    "df.isnull().sum().sum()"
   ]
  },
  {
   "cell_type": "markdown",
   "metadata": {},
   "source": [
    "create X to use the values"
   ]
  },
  {
   "cell_type": "code",
   "execution_count": 6,
   "metadata": {},
   "outputs": [],
   "source": [
    "X=df.iloc[:,2:]\n",
    "y=df.iloc[:,1]"
   ]
  },
  {
   "cell_type": "markdown",
   "metadata": {},
   "source": [
    "check the minimum and maximum variance. we can see because of the big difference we need to standardize the values to get a better result."
   ]
  },
  {
   "cell_type": "code",
   "execution_count": 7,
   "metadata": {},
   "outputs": [
    {
     "name": "stdout",
     "output_type": "stream",
     "text": [
      "12.886749063417717 73000.89092252743\n"
     ]
    }
   ],
   "source": [
    "print(np.min(X.var(axis=0)),np.max(X.var(axis=0)))\n"
   ]
  },
  {
   "cell_type": "markdown",
   "metadata": {},
   "source": [
    "Now the data is ready to start PCA. I started with 5 components. "
   ]
  },
  {
   "cell_type": "code",
   "execution_count": 8,
   "metadata": {},
   "outputs": [],
   "source": [
    "P_model=pca(n_components=5, normalize=True)"
   ]
  },
  {
   "cell_type": "code",
   "execution_count": 9,
   "metadata": {},
   "outputs": [
    {
     "name": "stdout",
     "output_type": "stream",
     "text": [
      "[pca] >Processing dataframe..\n",
      "[pca] >Normalizing input data per feature (zero mean and unit variance)..\n",
      "[pca] >The PCA reduction is performed on the [17] columns of the input dataframe.\n",
      "[pca] >Fitting using PCA..\n",
      "[pca] >Computing loadings and PCs..\n",
      "[pca] >Computing explained variance..\n",
      "[pca] >Outlier detection using Hotelling T2 test with alpha=[0.05] and n_components=[5]\n",
      "[pca] >Outlier detection using SPE/DmodX with n_std=[2]\n"
     ]
    }
   ],
   "source": [
    "results = P_model.fit_transform(X)"
   ]
  },
  {
   "cell_type": "code",
   "execution_count": 10,
   "metadata": {},
   "outputs": [
    {
     "data": {
      "text/html": [
       "<div>\n",
       "<style scoped>\n",
       "    .dataframe tbody tr th:only-of-type {\n",
       "        vertical-align: middle;\n",
       "    }\n",
       "\n",
       "    .dataframe tbody tr th {\n",
       "        vertical-align: top;\n",
       "    }\n",
       "\n",
       "    .dataframe thead th {\n",
       "        text-align: right;\n",
       "    }\n",
       "</style>\n",
       "<table border=\"1\" class=\"dataframe\">\n",
       "  <thead>\n",
       "    <tr style=\"text-align: right;\">\n",
       "      <th></th>\n",
       "      <th>Unk3.2</th>\n",
       "      <th>Unk3.6</th>\n",
       "      <th>Unk11.9</th>\n",
       "      <th>Unk12.4</th>\n",
       "      <th>aPinene</th>\n",
       "      <th>Camphene</th>\n",
       "      <th>bPinene</th>\n",
       "      <th>aPhellendrine</th>\n",
       "      <th>pcymene</th>\n",
       "      <th>Cineole</th>\n",
       "      <th>Unk18.2</th>\n",
       "      <th>Unk18.6</th>\n",
       "      <th>Unk20.5</th>\n",
       "      <th>Camphor</th>\n",
       "      <th>Unk21</th>\n",
       "      <th>Unk21.5</th>\n",
       "      <th>Unk23.5</th>\n",
       "    </tr>\n",
       "  </thead>\n",
       "  <tbody>\n",
       "    <tr>\n",
       "      <th>PC1</th>\n",
       "      <td>-0.214315</td>\n",
       "      <td>-0.293946</td>\n",
       "      <td>-0.149952</td>\n",
       "      <td>0.316286</td>\n",
       "      <td>0.326551</td>\n",
       "      <td>0.317016</td>\n",
       "      <td>-0.077642</td>\n",
       "      <td>-0.266285</td>\n",
       "      <td>0.299234</td>\n",
       "      <td>-0.018047</td>\n",
       "      <td>-0.283969</td>\n",
       "      <td>-0.187168</td>\n",
       "      <td>-0.197053</td>\n",
       "      <td>-0.240587</td>\n",
       "      <td>0.322680</td>\n",
       "      <td>-0.181444</td>\n",
       "      <td>-0.147574</td>\n",
       "    </tr>\n",
       "    <tr>\n",
       "      <th>PC2</th>\n",
       "      <td>0.200580</td>\n",
       "      <td>-0.006912</td>\n",
       "      <td>0.289756</td>\n",
       "      <td>0.049422</td>\n",
       "      <td>0.007900</td>\n",
       "      <td>0.121445</td>\n",
       "      <td>0.464911</td>\n",
       "      <td>-0.259891</td>\n",
       "      <td>0.039542</td>\n",
       "      <td>0.362002</td>\n",
       "      <td>0.000514</td>\n",
       "      <td>-0.330626</td>\n",
       "      <td>0.350377</td>\n",
       "      <td>0.246665</td>\n",
       "      <td>0.017873</td>\n",
       "      <td>-0.368879</td>\n",
       "      <td>0.113578</td>\n",
       "    </tr>\n",
       "    <tr>\n",
       "      <th>PC3</th>\n",
       "      <td>0.192372</td>\n",
       "      <td>0.236287</td>\n",
       "      <td>0.409315</td>\n",
       "      <td>0.199328</td>\n",
       "      <td>0.165273</td>\n",
       "      <td>0.176035</td>\n",
       "      <td>-0.398861</td>\n",
       "      <td>0.052965</td>\n",
       "      <td>0.209887</td>\n",
       "      <td>-0.116727</td>\n",
       "      <td>0.371529</td>\n",
       "      <td>-0.210403</td>\n",
       "      <td>-0.215756</td>\n",
       "      <td>0.188385</td>\n",
       "      <td>0.172039</td>\n",
       "      <td>0.101929</td>\n",
       "      <td>0.343050</td>\n",
       "    </tr>\n",
       "    <tr>\n",
       "      <th>PC4</th>\n",
       "      <td>0.276295</td>\n",
       "      <td>0.103084</td>\n",
       "      <td>-0.210566</td>\n",
       "      <td>0.129652</td>\n",
       "      <td>0.127402</td>\n",
       "      <td>0.074091</td>\n",
       "      <td>0.266444</td>\n",
       "      <td>0.131207</td>\n",
       "      <td>0.092758</td>\n",
       "      <td>-0.547701</td>\n",
       "      <td>-0.116889</td>\n",
       "      <td>0.036440</td>\n",
       "      <td>0.444503</td>\n",
       "      <td>-0.245388</td>\n",
       "      <td>0.131262</td>\n",
       "      <td>0.088242</td>\n",
       "      <td>0.368201</td>\n",
       "    </tr>\n",
       "    <tr>\n",
       "      <th>PC5</th>\n",
       "      <td>-0.410863</td>\n",
       "      <td>-0.160087</td>\n",
       "      <td>0.007860</td>\n",
       "      <td>0.096274</td>\n",
       "      <td>0.001418</td>\n",
       "      <td>0.073308</td>\n",
       "      <td>0.156580</td>\n",
       "      <td>-0.029761</td>\n",
       "      <td>-0.123636</td>\n",
       "      <td>0.381852</td>\n",
       "      <td>0.013902</td>\n",
       "      <td>0.221302</td>\n",
       "      <td>-0.045613</td>\n",
       "      <td>-0.120531</td>\n",
       "      <td>0.059306</td>\n",
       "      <td>0.290002</td>\n",
       "      <td>0.671538</td>\n",
       "    </tr>\n",
       "  </tbody>\n",
       "</table>\n",
       "</div>"
      ],
      "text/plain": [
       "       Unk3.2    Unk3.6   Unk11.9   Unk12.4   aPinene  Camphene   bPinene  \\\n",
       "PC1 -0.214315 -0.293946 -0.149952  0.316286  0.326551  0.317016 -0.077642   \n",
       "PC2  0.200580 -0.006912  0.289756  0.049422  0.007900  0.121445  0.464911   \n",
       "PC3  0.192372  0.236287  0.409315  0.199328  0.165273  0.176035 -0.398861   \n",
       "PC4  0.276295  0.103084 -0.210566  0.129652  0.127402  0.074091  0.266444   \n",
       "PC5 -0.410863 -0.160087  0.007860  0.096274  0.001418  0.073308  0.156580   \n",
       "\n",
       "     aPhellendrine   pcymene   Cineole   Unk18.2   Unk18.6   Unk20.5  \\\n",
       "PC1      -0.266285  0.299234 -0.018047 -0.283969 -0.187168 -0.197053   \n",
       "PC2      -0.259891  0.039542  0.362002  0.000514 -0.330626  0.350377   \n",
       "PC3       0.052965  0.209887 -0.116727  0.371529 -0.210403 -0.215756   \n",
       "PC4       0.131207  0.092758 -0.547701 -0.116889  0.036440  0.444503   \n",
       "PC5      -0.029761 -0.123636  0.381852  0.013902  0.221302 -0.045613   \n",
       "\n",
       "      Camphor     Unk21   Unk21.5   Unk23.5  \n",
       "PC1 -0.240587  0.322680 -0.181444 -0.147574  \n",
       "PC2  0.246665  0.017873 -0.368879  0.113578  \n",
       "PC3  0.188385  0.172039  0.101929  0.343050  \n",
       "PC4 -0.245388  0.131262  0.088242  0.368201  \n",
       "PC5 -0.120531  0.059306  0.290002  0.671538  "
      ]
     },
     "execution_count": 10,
     "metadata": {},
     "output_type": "execute_result"
    }
   ],
   "source": [
    "loadings=results['loadings']\n",
    "loadings"
   ]
  },
  {
   "cell_type": "markdown",
   "metadata": {},
   "source": [
    "With explained variance , we can see that with 5 components we get around 80 percentage a data"
   ]
  },
  {
   "cell_type": "code",
   "execution_count": 11,
   "metadata": {},
   "outputs": [
    {
     "data": {
      "text/plain": [
       "[<matplotlib.lines.Line2D at 0x1ada9336fd0>]"
      ]
     },
     "execution_count": 11,
     "metadata": {},
     "output_type": "execute_result"
    },
    {
     "data": {
      "image/png": "[encoded data removed]",
      "text/plain": [
       "<Figure size 432x288 with 1 Axes>"
      ]
     },
     "metadata": {
      "needs_background": "light"
     },
     "output_type": "display_data"
    }
   ],
   "source": [
    "results[\"explained_var\"]\n",
    "plt.plot(results[\"explained_var\"], 'o-')"
   ]
  },
  {
   "cell_type": "code",
   "execution_count": 12,
   "metadata": {},
   "outputs": [
    {
     "data": {
      "text/html": [
       "<div>\n",
       "<style scoped>\n",
       "    .dataframe tbody tr th:only-of-type {\n",
       "        vertical-align: middle;\n",
       "    }\n",
       "\n",
       "    .dataframe tbody tr th {\n",
       "        vertical-align: top;\n",
       "    }\n",
       "\n",
       "    .dataframe thead th {\n",
       "        text-align: right;\n",
       "    }\n",
       "</style>\n",
       "<table border=\"1\" class=\"dataframe\">\n",
       "  <thead>\n",
       "    <tr style=\"text-align: right;\">\n",
       "      <th></th>\n",
       "      <th>PC1</th>\n",
       "      <th>PC2</th>\n",
       "      <th>PC3</th>\n",
       "      <th>PC4</th>\n",
       "      <th>PC5</th>\n",
       "      <th>lables</th>\n",
       "    </tr>\n",
       "  </thead>\n",
       "  <tbody>\n",
       "    <tr>\n",
       "      <th>0</th>\n",
       "      <td>-3.019580</td>\n",
       "      <td>-2.823399</td>\n",
       "      <td>0.670234</td>\n",
       "      <td>-0.069715</td>\n",
       "      <td>0.865268</td>\n",
       "      <td>wyoming</td>\n",
       "    </tr>\n",
       "    <tr>\n",
       "      <th>1</th>\n",
       "      <td>3.499776</td>\n",
       "      <td>0.690652</td>\n",
       "      <td>-0.779688</td>\n",
       "      <td>-2.011836</td>\n",
       "      <td>1.802956</td>\n",
       "      <td>wyoming</td>\n",
       "    </tr>\n",
       "    <tr>\n",
       "      <th>2</th>\n",
       "      <td>-2.667033</td>\n",
       "      <td>-2.683478</td>\n",
       "      <td>-0.027861</td>\n",
       "      <td>0.091728</td>\n",
       "      <td>1.058165</td>\n",
       "      <td>wyoming</td>\n",
       "    </tr>\n",
       "    <tr>\n",
       "      <th>3</th>\n",
       "      <td>-1.647201</td>\n",
       "      <td>-2.941417</td>\n",
       "      <td>0.438928</td>\n",
       "      <td>-0.410229</td>\n",
       "      <td>2.450521</td>\n",
       "      <td>wyoming</td>\n",
       "    </tr>\n",
       "    <tr>\n",
       "      <th>4</th>\n",
       "      <td>-1.517476</td>\n",
       "      <td>-0.067614</td>\n",
       "      <td>0.625473</td>\n",
       "      <td>-0.815752</td>\n",
       "      <td>0.043904</td>\n",
       "      <td>wyoming</td>\n",
       "    </tr>\n",
       "  </tbody>\n",
       "</table>\n",
       "</div>"
      ],
      "text/plain": [
       "        PC1       PC2       PC3       PC4       PC5   lables\n",
       "0 -3.019580 -2.823399  0.670234 -0.069715  0.865268  wyoming\n",
       "1  3.499776  0.690652 -0.779688 -2.011836  1.802956  wyoming\n",
       "2 -2.667033 -2.683478 -0.027861  0.091728  1.058165  wyoming\n",
       "3 -1.647201 -2.941417  0.438928 -0.410229  2.450521  wyoming\n",
       "4 -1.517476 -0.067614  0.625473 -0.815752  0.043904  wyoming"
      ]
     },
     "execution_count": 12,
     "metadata": {},
     "output_type": "execute_result"
    }
   ],
   "source": [
    "scores=results['PC']\n",
    "scores['lables']=df.Species\n",
    "scores.head()"
   ]
  },
  {
   "cell_type": "markdown",
   "metadata": {},
   "source": [
    "Also in scree plot we can see 5 components explained around 80% of variance"
   ]
  },
  {
   "cell_type": "code",
   "execution_count": 13,
   "metadata": {},
   "outputs": [
    {
     "data": {
      "image/png": "[encoded data removed]",
      "text/plain": [
       "<Figure size 576x576 with 1 Axes>"
      ]
     },
     "metadata": {
      "needs_background": "light"
     },
     "output_type": "display_data"
    },
    {
     "data": {
      "text/plain": [
       "<Figure size 432x288 with 0 Axes>"
      ]
     },
     "metadata": {},
     "output_type": "display_data"
    }
   ],
   "source": [
    "P_model.plot(figsize=(8,8))\n",
    "plt.show()"
   ]
  },
  {
   "cell_type": "markdown",
   "metadata": {},
   "source": [
    "we can see 2 different categories one on the right side and one on the left but these categories do not follow the species so I think PCA is not very fit. Let's try the LDA."
   ]
  },
  {
   "cell_type": "code",
   "execution_count": 14,
   "metadata": {},
   "outputs": [
    {
     "name": "stdout",
     "output_type": "stream",
     "text": [
      "[pca] >Plot PC1 vs PC2 with loadings.\n"
     ]
    },
    {
     "data": {
      "image/png": "[encoded data removed]",
      "text/plain": [
       "<Figure size 576x576 with 1 Axes>"
      ]
     },
     "metadata": {
      "needs_background": "light"
     },
     "output_type": "display_data"
    }
   ],
   "source": [
    "P_model.biplot( n_feat=10,legend=True, figsize=(8,8),y=y ,label=False)\n",
    "plt.show()"
   ]
  },
  {
   "cell_type": "code",
   "execution_count": 15,
   "metadata": {},
   "outputs": [
    {
     "data": {
      "text/plain": [
       "(<Figure size 576x576 with 1 Axes>,\n",
       " <AxesSubplot:title={'center':'5 Principal Components explain [78.40%] of the variance'}, xlabel='PC1 (47.0% expl.var)', ylabel='PC2 (14.1% expl.var)'>)"
      ]
     },
     "execution_count": 15,
     "metadata": {},
     "output_type": "execute_result"
    },
    {
     "data": {
      "image/png": "[encoded data removed]",
      "text/plain": [
       "<Figure size 576x576 with 1 Axes>"
      ]
     },
     "metadata": {
      "needs_background": "light"
     },
     "output_type": "display_data"
    }
   ],
   "source": [
    "\n",
    "P_model.scatter(legend=True, label=True,y=df.Species,figsize=(8,8))"
   ]
  },
  {
   "cell_type": "markdown",
   "metadata": {},
   "source": [
    "LDA"
   ]
  },
  {
   "cell_type": "code",
   "execution_count": 16,
   "metadata": {},
   "outputs": [],
   "source": [
    "X=df.iloc[:,2:]\n",
    "y=df.iloc[:,1]\n",
    "X=StandardScaler().fit_transform(X)\n"
   ]
  },
  {
   "cell_type": "code",
   "execution_count": 17,
   "metadata": {},
   "outputs": [
    {
     "data": {
      "text/html": [
       "<style>#sk-container-id-1 {color: black;background-color: white;}#sk-container-id-1 pre{padding: 0;}#sk-container-id-1 div.sk-toggleable {background-color: white;}#sk-container-id-1 label.sk-toggleable__label {cursor: pointer;display: block;width: 100%;margin-bottom: 0;padding: 0.3em;box-sizing: border-box;text-align: center;}#sk-container-id-1 label.sk-toggleable__label-arrow:before {content: \"▸\";float: left;margin-right: 0.25em;color: #696969;}#sk-container-id-1 label.sk-toggleable__label-arrow:hover:before {color: black;}#sk-container-id-1 div.sk-estimator:hover label.sk-toggleable__label-arrow:before {color: black;}#sk-container-id-1 div.sk-toggleable__content {max-height: 0;max-width: 0;overflow: hidden;text-align: left;background-color: #f0f8ff;}#sk-container-id-1 div.sk-toggleable__content pre {margin: 0.2em;color: black;border-radius: 0.25em;background-color: #f0f8ff;}#sk-container-id-1 input.sk-toggleable__control:checked~div.sk-toggleable__content {max-height: 200px;max-width: 100%;overflow: auto;}#sk-container-id-1 input.sk-toggleable__control:checked~label.sk-toggleable__label-arrow:before {content: \"▾\";}#sk-container-id-1 div.sk-estimator input.sk-toggleable__control:checked~label.sk-toggleable__label {background-color: #d4ebff;}#sk-container-id-1 div.sk-label input.sk-toggleable__control:checked~label.sk-toggleable__label {background-color: #d4ebff;}#sk-container-id-1 input.sk-hidden--visually {border: 0;clip: rect(1px 1px 1px 1px);clip: rect(1px, 1px, 1px, 1px);height: 1px;margin: -1px;overflow: hidden;padding: 0;position: absolute;width: 1px;}#sk-container-id-1 div.sk-estimator {font-family: monospace;background-color: #f0f8ff;border: 1px dotted black;border-radius: 0.25em;box-sizing: border-box;margin-bottom: 0.5em;}#sk-container-id-1 div.sk-estimator:hover {background-color: #d4ebff;}#sk-container-id-1 div.sk-parallel-item::after {content: \"\";width: 100%;border-bottom: 1px solid gray;flex-grow: 1;}#sk-container-id-1 div.sk-label:hover label.sk-toggleable__label {background-color: #d4ebff;}#sk-container-id-1 div.sk-serial::before {content: \"\";position: absolute;border-left: 1px solid gray;box-sizing: border-box;top: 0;bottom: 0;left: 50%;z-index: 0;}#sk-container-id-1 div.sk-serial {display: flex;flex-direction: column;align-items: center;background-color: white;padding-right: 0.2em;padding-left: 0.2em;position: relative;}#sk-container-id-1 div.sk-item {position: relative;z-index: 1;}#sk-container-id-1 div.sk-parallel {display: flex;align-items: stretch;justify-content: center;background-color: white;position: relative;}#sk-container-id-1 div.sk-item::before, #sk-container-id-1 div.sk-parallel-item::before {content: \"\";position: absolute;border-left: 1px solid gray;box-sizing: border-box;top: 0;bottom: 0;left: 50%;z-index: -1;}#sk-container-id-1 div.sk-parallel-item {display: flex;flex-direction: column;z-index: 1;position: relative;background-color: white;}#sk-container-id-1 div.sk-parallel-item:first-child::after {align-self: flex-end;width: 50%;}#sk-container-id-1 div.sk-parallel-item:last-child::after {align-self: flex-start;width: 50%;}#sk-container-id-1 div.sk-parallel-item:only-child::after {width: 0;}#sk-container-id-1 div.sk-dashed-wrapped {border: 1px dashed gray;margin: 0 0.4em 0.5em 0.4em;box-sizing: border-box;padding-bottom: 0.4em;background-color: white;}#sk-container-id-1 div.sk-label label {font-family: monospace;font-weight: bold;display: inline-block;line-height: 1.2em;}#sk-container-id-1 div.sk-label-container {text-align: center;}#sk-container-id-1 div.sk-container {/* jupyter's `normalize.less` sets `[hidden] { display: none; }` but bootstrap.min.css set `[hidden] { display: none !important; }` so we also need the `!important` here to be able to override the default hidden behavior on the sphinx rendered scikit-learn.org. See: https://github.com/scikit-learn/scikit-learn/issues/21755 */display: inline-block !important;position: relative;}#sk-container-id-1 div.sk-text-repr-fallback {display: none;}</style><div id=\"sk-container-id-1\" class=\"sk-top-container\"><div class=\"sk-text-repr-fallback\"><pre>LinearDiscriminantAnalysis()</pre><b>In a Jupyter environment, please rerun this cell to show the HTML representation or trust the notebook. <br />On GitHub, the HTML representation is unable to render, please try loading this page with nbviewer.org.</b></div><div class=\"sk-container\" hidden><div class=\"sk-item\"><div class=\"sk-estimator sk-toggleable\"><input class=\"sk-toggleable__control sk-hidden--visually\" id=\"sk-estimator-id-1\" type=\"checkbox\" checked><label for=\"sk-estimator-id-1\" class=\"sk-toggleable__label sk-toggleable__label-arrow\">LinearDiscriminantAnalysis</label><div class=\"sk-toggleable__content\"><pre>LinearDiscriminantAnalysis()</pre></div></div></div></div></div>"
      ],
      "text/plain": [
       "LinearDiscriminantAnalysis()"
      ]
     },
     "execution_count": 17,
     "metadata": {},
     "output_type": "execute_result"
    }
   ],
   "source": [
    "LDA_model = LinearDiscriminantAnalysis()\n",
    "LDA_model.fit(X,y)\n"
   ]
  },
  {
   "cell_type": "markdown",
   "metadata": {},
   "source": [
    "Perform KFOLD, as it introduces less bias and less optimistic estimate."
   ]
  },
  {
   "cell_type": "code",
   "execution_count": 18,
   "metadata": {},
   "outputs": [
    {
     "name": "stdout",
     "output_type": "stream",
     "text": [
      "Mean accuracy: 0.947 0.032\n"
     ]
    }
   ],
   "source": [
    "cv = RepeatedStratifiedKFold(n_splits=2, n_repeats=3, random_state=0)\n",
    "scores = cross_val_score(LDA_model, X, y, scoring='accuracy', cv=cv, n_jobs=-1)\n",
    "print('Mean accuracy: {:.3f} {:.3f}'.format(np.mean(scores), np.std(scores)))"
   ]
  },
  {
   "cell_type": "code",
   "execution_count": 19,
   "metadata": {},
   "outputs": [],
   "source": [
    "pred = LDA_model.predict(X)"
   ]
  },
  {
   "cell_type": "code",
   "execution_count": 20,
   "metadata": {},
   "outputs": [
    {
     "name": "stdout",
     "output_type": "stream",
     "text": [
      "Accuracy: 0.989\n"
     ]
    }
   ],
   "source": [
    "accuracy = (y == pred).sum() / y.size\n",
    "print('Accuracy: {:.3f}'.format(accuracy))"
   ]
  },
  {
   "cell_type": "markdown",
   "metadata": {},
   "source": [
    "the accuracy of LDA is very good so with this model we can predict the species of the samples, based on features. as we expected before LDA is the best model to find the best prediction."
   ]
  }
 ],
 "metadata": {
  "kernelspec": {
   "display_name": "Python 3.9.7 ('base')",
   "language": "python",
   "name": "python3"
  },
  "language_info": {
   "codemirror_mode": {
    "name": "ipython",
    "version": 3
   },
   "file_extension": ".py",
   "mimetype": "text/x-python",
   "name": "python",
   "nbconvert_exporter": "python",
   "pygments_lexer": "ipython3",
   "version": "3.9.7"
  },
  "orig_nbformat": 4,
  "vscode": {
   "interpreter": {
    "hash": "0a170ef4386f174fc9d0d266485e4c7f0d6ef64f25a0664e2a20876587fb8912"
   }
  }
 },
 "nbformat": 4,
 "nbformat_minor": 2
}
