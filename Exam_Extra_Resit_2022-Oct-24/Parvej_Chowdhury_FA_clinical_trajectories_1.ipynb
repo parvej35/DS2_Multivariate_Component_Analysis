{
 "cells": [
  {
   "cell_type": "code",
   "execution_count": 171,
   "metadata": {},
   "outputs": [],
   "source": [
    "# Import of the necessary libraries\n",
    "import pandas as pd\n",
    "import numpy as np\n",
    "import warnings\n",
    "warnings.filterwarnings(\"ignore\")\n",
    "\n",
    "\n",
    "from pca import pca\n",
    "\n",
    "## Accuracy\n",
    "from sklearn.metrics import mean_squared_error\n",
    "\n",
    "from factor_analyzer import FactorAnalyzer\n",
    "\n",
    "## Building Model\n",
    "from sklearn import linear_model\n",
    "from sklearn.decomposition import PCA\n",
    "from sklearn.cross_decomposition import PLSRegression\n",
    "# import statsmodels.api as sm\n",
    "from sklearn.discriminant_analysis import LinearDiscriminantAnalysis\n",
    "\n",
    "## Data Visualization\n",
    "import seaborn as sn\n",
    "import matplotlib.pyplot as plt\n",
    "\n",
    "## Multidimensional Scaling\n",
    "from sklearn.manifold import MDS\n",
    "from sklearn.metrics.pairwise import manhattan_distances, euclidean_distances\n",
    "from matplotlib.offsetbox import OffsetImage, AnnotationBbox\n",
    "from sklearn.preprocessing import StandardScaler\n",
    "from sklearn.preprocessing import MinMaxScaler"
   ]
  },
  {
   "cell_type": "code",
   "execution_count": null,
   "metadata": {},
   "outputs": [],
   "source": []
  },
  {
   "cell_type": "markdown",
   "metadata": {},
   "source": [
    "## 1) clinical_trajectories_df.xlsx : Predict clinical trajectories of neurological conditions"
   ]
  },
  {
   "cell_type": "markdown",
   "metadata": {},
   "source": [
    "#### Dataset exploration :\n",
    "The given dataset contains diagnostic data from patients with neurological disorders. For each patient, **records are given of 80 different symptoms. These symptopms are categoriesed into 13 main groups under 5 domains (General, Cognitive, Motor, Psychiatric and Sensory).** \n",
    "\n",
    "**13 main groups of the symptoms are:**\n",
    "\n",
    "<li> Specific_symptoms</li>\n",
    "<li> Autonomic_dysfunction</li>\n",
    "<li> Cerebellar_and_vestibular_system_dysfunction</li>\n",
    "<li> Changes_in_consciousness_awareness_orientation</li>\n",
    "<li> Cognitive_and_memory_impairment</li>\n",
    "<li> Disinhibition</li>\n",
    "<li> Disturbances_in_mood_and_behaviour</li>\n",
    "<li> General_decline</li>\n",
    "<li> Mobility_problems</li>\n",
    "<li> Motor_deficits</li>\n",
    "<li> Sensory_deficits</li>\n",
    "<li> Other_psychiatric_symptoms</li>\n",
    "<li> Other_symptoms_of_cortical_dysfunction</li>\n",
    "\n",
    "\n",
    "#### Expectations:\n",
    "The goal of analsys is to search influential underlying groups of symptoms to have neurological disorders from the given set of observed data.\n",
    "\n",
    "\n",
    "####  Factor Analysis (FA)\n",
    "Factor analysis is an machine learning algorithms which is used for dimensionality reduction. This algorithm creates factors from the observed variables to represent the common variance i.e. variance due to correlation among the observed variables.\n",
    "\n",
    "\n",
    "#### Rationale for using FA\n",
    "Since the goal of the analysis is to reduce the number of factors(symptom) and to find out the most significant groups of the symptoms, I think **Factor Analysis (FA)** is the best method for component analysis of this dataset. "
   ]
  },
  {
   "cell_type": "markdown",
   "metadata": {},
   "source": [
    "### Data Preparation"
   ]
  },
  {
   "cell_type": "code",
   "execution_count": 172,
   "metadata": {},
   "outputs": [],
   "source": [
    "# The dataset (excel file) contains several excel sheets where first sheet contains the data \n",
    "# and rest of the sheets contanins Metadata, Attribute and Diagnosis information.\n",
    "\n",
    "# Lets read the data from the excel file\n",
    "\n",
    "clinical_trajectories_df = pd.read_excel('clinical_trajectories_df.xlsx', sheet_name=0)\n",
    "# df.head(10)"
   ]
  },
  {
   "cell_type": "code",
   "execution_count": 173,
   "metadata": {},
   "outputs": [],
   "source": [
    "df = clinical_trajectories_df"
   ]
  },
  {
   "cell_type": "code",
   "execution_count": 174,
   "metadata": {},
   "outputs": [],
   "source": [
    "# The dataset contains information which are not relavent in our analysis such as DonorID, Gender, Age, Year etc.\n",
    "# Lets drop these columns\n",
    "\n",
    "drop_list = [\n",
    "    \"DonorID\", \"neuropathological_diagnosis\", \"Gender\", \"Year_donor_death\", \n",
    "    \"Year\", \"Age\", \"year_before_death\", \"chars_in_clin\", \"age_at_death\" \n",
    "]\n",
    "\n",
    "\n",
    "df = df.drop(drop_list, axis=1)"
   ]
  },
  {
   "cell_type": "code",
   "execution_count": 175,
   "metadata": {},
   "outputs": [
    {
     "data": {
      "text/html": [
       "<div>\n",
       "<style scoped>\n",
       "    .dataframe tbody tr th:only-of-type {\n",
       "        vertical-align: middle;\n",
       "    }\n",
       "\n",
       "    .dataframe tbody tr th {\n",
       "        vertical-align: top;\n",
       "    }\n",
       "\n",
       "    .dataframe thead th {\n",
       "        text-align: right;\n",
       "    }\n",
       "</style>\n",
       "<table border=\"1\" class=\"dataframe\">\n",
       "  <thead>\n",
       "    <tr style=\"text-align: right;\">\n",
       "      <th></th>\n",
       "      <th>Muscular_Weakness</th>\n",
       "      <th>Spasticity</th>\n",
       "      <th>Hyperreflexia_and_oth_reflexes</th>\n",
       "      <th>Fasciculations</th>\n",
       "      <th>Positive_sensory_symptoms</th>\n",
       "      <th>Negative_sensory_symptoms</th>\n",
       "      <th>Parkinsonism</th>\n",
       "      <th>Facial_masking</th>\n",
       "      <th>Tremor</th>\n",
       "      <th>Bradykinesia</th>\n",
       "      <th>...</th>\n",
       "      <th>Orthostatic_hypotension</th>\n",
       "      <th>Headache_migraine</th>\n",
       "      <th>Fatigue</th>\n",
       "      <th>Declined_deteriorated_health</th>\n",
       "      <th>Cachexia</th>\n",
       "      <th>Weight_loss</th>\n",
       "      <th>Reduces_oral_intake</th>\n",
       "      <th>Help_in_ADL</th>\n",
       "      <th>Day_care</th>\n",
       "      <th>Admission_to_nursing_home</th>\n",
       "    </tr>\n",
       "  </thead>\n",
       "  <tbody>\n",
       "    <tr>\n",
       "      <th>0</th>\n",
       "      <td>0</td>\n",
       "      <td>0</td>\n",
       "      <td>0</td>\n",
       "      <td>0</td>\n",
       "      <td>0</td>\n",
       "      <td>0</td>\n",
       "      <td>0</td>\n",
       "      <td>0</td>\n",
       "      <td>0</td>\n",
       "      <td>0</td>\n",
       "      <td>...</td>\n",
       "      <td>0</td>\n",
       "      <td>0</td>\n",
       "      <td>0</td>\n",
       "      <td>0</td>\n",
       "      <td>0</td>\n",
       "      <td>0</td>\n",
       "      <td>0</td>\n",
       "      <td>0</td>\n",
       "      <td>0</td>\n",
       "      <td>0</td>\n",
       "    </tr>\n",
       "    <tr>\n",
       "      <th>1</th>\n",
       "      <td>0</td>\n",
       "      <td>0</td>\n",
       "      <td>0</td>\n",
       "      <td>0</td>\n",
       "      <td>0</td>\n",
       "      <td>0</td>\n",
       "      <td>0</td>\n",
       "      <td>0</td>\n",
       "      <td>0</td>\n",
       "      <td>0</td>\n",
       "      <td>...</td>\n",
       "      <td>0</td>\n",
       "      <td>0</td>\n",
       "      <td>0</td>\n",
       "      <td>0</td>\n",
       "      <td>0</td>\n",
       "      <td>0</td>\n",
       "      <td>0</td>\n",
       "      <td>0</td>\n",
       "      <td>0</td>\n",
       "      <td>0</td>\n",
       "    </tr>\n",
       "    <tr>\n",
       "      <th>2</th>\n",
       "      <td>0</td>\n",
       "      <td>0</td>\n",
       "      <td>0</td>\n",
       "      <td>0</td>\n",
       "      <td>0</td>\n",
       "      <td>0</td>\n",
       "      <td>0</td>\n",
       "      <td>0</td>\n",
       "      <td>0</td>\n",
       "      <td>0</td>\n",
       "      <td>...</td>\n",
       "      <td>0</td>\n",
       "      <td>0</td>\n",
       "      <td>0</td>\n",
       "      <td>0</td>\n",
       "      <td>0</td>\n",
       "      <td>0</td>\n",
       "      <td>0</td>\n",
       "      <td>0</td>\n",
       "      <td>0</td>\n",
       "      <td>0</td>\n",
       "    </tr>\n",
       "    <tr>\n",
       "      <th>3</th>\n",
       "      <td>0</td>\n",
       "      <td>0</td>\n",
       "      <td>0</td>\n",
       "      <td>0</td>\n",
       "      <td>0</td>\n",
       "      <td>0</td>\n",
       "      <td>0</td>\n",
       "      <td>0</td>\n",
       "      <td>0</td>\n",
       "      <td>0</td>\n",
       "      <td>...</td>\n",
       "      <td>0</td>\n",
       "      <td>0</td>\n",
       "      <td>0</td>\n",
       "      <td>0</td>\n",
       "      <td>0</td>\n",
       "      <td>0</td>\n",
       "      <td>0</td>\n",
       "      <td>0</td>\n",
       "      <td>0</td>\n",
       "      <td>0</td>\n",
       "    </tr>\n",
       "    <tr>\n",
       "      <th>4</th>\n",
       "      <td>0</td>\n",
       "      <td>0</td>\n",
       "      <td>0</td>\n",
       "      <td>0</td>\n",
       "      <td>0</td>\n",
       "      <td>0</td>\n",
       "      <td>0</td>\n",
       "      <td>0</td>\n",
       "      <td>0</td>\n",
       "      <td>0</td>\n",
       "      <td>...</td>\n",
       "      <td>0</td>\n",
       "      <td>0</td>\n",
       "      <td>0</td>\n",
       "      <td>0</td>\n",
       "      <td>0</td>\n",
       "      <td>0</td>\n",
       "      <td>0</td>\n",
       "      <td>0</td>\n",
       "      <td>0</td>\n",
       "      <td>0</td>\n",
       "    </tr>\n",
       "  </tbody>\n",
       "</table>\n",
       "<p>5 rows × 80 columns</p>\n",
       "</div>"
      ],
      "text/plain": [
       "   Muscular_Weakness  Spasticity  Hyperreflexia_and_oth_reflexes  \\\n",
       "0                  0           0                               0   \n",
       "1                  0           0                               0   \n",
       "2                  0           0                               0   \n",
       "3                  0           0                               0   \n",
       "4                  0           0                               0   \n",
       "\n",
       "   Fasciculations  Positive_sensory_symptoms  Negative_sensory_symptoms  \\\n",
       "0               0                          0                          0   \n",
       "1               0                          0                          0   \n",
       "2               0                          0                          0   \n",
       "3               0                          0                          0   \n",
       "4               0                          0                          0   \n",
       "\n",
       "   Parkinsonism  Facial_masking  Tremor  Bradykinesia  ...  \\\n",
       "0             0               0       0             0  ...   \n",
       "1             0               0       0             0  ...   \n",
       "2             0               0       0             0  ...   \n",
       "3             0               0       0             0  ...   \n",
       "4             0               0       0             0  ...   \n",
       "\n",
       "   Orthostatic_hypotension  Headache_migraine  Fatigue  \\\n",
       "0                        0                  0        0   \n",
       "1                        0                  0        0   \n",
       "2                        0                  0        0   \n",
       "3                        0                  0        0   \n",
       "4                        0                  0        0   \n",
       "\n",
       "   Declined_deteriorated_health  Cachexia  Weight_loss  Reduces_oral_intake  \\\n",
       "0                             0         0            0                    0   \n",
       "1                             0         0            0                    0   \n",
       "2                             0         0            0                    0   \n",
       "3                             0         0            0                    0   \n",
       "4                             0         0            0                    0   \n",
       "\n",
       "   Help_in_ADL  Day_care  Admission_to_nursing_home  \n",
       "0            0         0                          0  \n",
       "1            0         0                          0  \n",
       "2            0         0                          0  \n",
       "3            0         0                          0  \n",
       "4            0         0                          0  \n",
       "\n",
       "[5 rows x 80 columns]"
      ]
     },
     "execution_count": 175,
     "metadata": {},
     "output_type": "execute_result"
    }
   ],
   "source": [
    "df.head()"
   ]
  },
  {
   "cell_type": "code",
   "execution_count": 176,
   "metadata": {},
   "outputs": [
    {
     "name": "stdout",
     "output_type": "stream",
     "text": [
      "Total missing values:  0\n"
     ]
    }
   ],
   "source": [
    "#Now check the missing values in the dataset\n",
    "print(\"Total missing values: \", df.isnull().sum().sum())"
   ]
  },
  {
   "cell_type": "markdown",
   "metadata": {},
   "source": [
    "It seems dataset is clean and there is no missing or NULL values in the dataset. \n",
    "\n",
    "There are **80** different columns(attributes). These attributes are categoriesed into **13 main groups** (Described in Attribute_information sheet). Lets make a list of 13 main groups."
   ]
  },
  {
   "cell_type": "code",
   "execution_count": 177,
   "metadata": {},
   "outputs": [],
   "source": [
    "list_specific_symptoms = [\"Communication_problems\", \"Concentration_problems\", \"Fatigue\", \"Headache_migraine\", \"Seizures\", \"Sleep_disturbances\", \"Stress\", \"Vivid_dreaming\", \"Weight_loss\"]\n",
    "list_autonomic_dysfunction = [\"Constipation\", \"Orthostatic_hypotension\", \"Urinary_incontinence\", \"Urinary_problems_other\"]\n",
    "list_cerebellar_and_vestibular_system_dysfunction = [\"Balance_problems\", \"Loss_of_coordination\", \"Nystagmus\", \"Vertigo\"]\n",
    "list_changes_in_consciousness_awareness_orientation = [\"Confusion\", \"Day_night_rhythm_disturbances\", \"Delirium\", \"Delusions\", \"Disorientation\", \"Hallucinations\", \"Lack_of_insight\", \"Paranoia_suspiciousness\", \"Psychosis\", \"Wandering\"]\n",
    "list_cognitive_and_memory_impairment = [\"Amnesia\",\"Confabulations\",\"Dementia\",\"Forgetfulness\",\"Impaired_recognition\",\"Imprinting_disturbances\",\"Memory_impairment\"]\n",
    "list_disinhibition = [\"Apathy_inertia\",\"Bradyphrenia\",\"Disinhibition\",\"Hyperorality\",\"Loss_of_decorum\"]\n",
    "list_disturbances_in_mood_and_behaviour = [\"Aggressive_behavior\",\"Agitation\",\"Anxiety\",\"Changed_moods_emotions\",\"Compulsive_behavior\",\"Depressed_mood\",\"Mania\",\"Restlessness\",\"Bradykinesia\",\"Facial_masking\",\"Parkinsonism\",\"Rigidity\",\"Tremor\"]\n",
    "list_general_decline = [\"Admission_to_nursing_home\",\"Cachexia\",\"Day_care\",\"Declined_deteriorated_health\",\"Help_in_ADL\",\"Reduces_oral_intake\"]\n",
    "list_mobility_problems = [\"Frequent_falls\",\"Mobility_problems\"]\n",
    "list_motor_deficits = [\"Decreased_motor_skills\",\"Dysarthria\",\"Fasciculations\",\"Hyperreflexia_and_oth_reflexes\",\"Muscular_Weakness\",\"Spasticity\",\"Swallowing_problems_Dysphagia\"]\n",
    "list_other_psychiatric_symptoms = [\"Psychiatric_admissions\",\"Suicidal_ideation\"]\n",
    "list_other_symptoms_of_cortical_dysfunction = [\"Aphasia\",\"Apraxia\",\"Executive_function_disorder\",\"Facade_behavior\",\"Language_impairment\",\"Word_finding_problems\"]\n",
    "list_sensory_deficits = [\"Hearing_problems\",\"Negative_sensory_symptoms\",\"Olfactory_gustatory_dysfunction\",\"Positive_sensory_symptoms\",\"Visual_problems\"]"
   ]
  },
  {
   "cell_type": "code",
   "execution_count": null,
   "metadata": {},
   "outputs": [],
   "source": []
  },
  {
   "cell_type": "code",
   "execution_count": 178,
   "metadata": {},
   "outputs": [],
   "source": [
    "df['specific_symptoms'] = df[list_specific_symptoms].values.sum(axis=1)\n",
    "df['autonomic_dysfunction'] = df[list_autonomic_dysfunction].sum(axis=1)\n",
    "df['cerebellar_and_vestibular_system_dysfunction'] = df[list_cerebellar_and_vestibular_system_dysfunction].sum(axis=1)\n",
    "df['changes_in_consciousness_awareness'] = df[list_changes_in_consciousness_awareness_orientation].sum(axis=1)\n",
    "df['cognitive_and_memory_impairment'] = df[list_cognitive_and_memory_impairment].sum(axis=1)\n",
    "df['disinhibition'] = df[list_disinhibition].sum(axis=1)\n",
    "df['disturbances_in_behaviour'] = df[list_disturbances_in_mood_and_behaviour].sum(axis=1)\n",
    "df['general_decline'] = df[list_general_decline].sum(axis=1)\n",
    "df['mobility_problems'] = df[list_mobility_problems].sum(axis=1)\n",
    "df['motor_deficits'] = df[list_motor_deficits].sum(axis=1)\n",
    "df['other_psychiatric_symptoms'] = df[list_other_psychiatric_symptoms].sum(axis=1)\n",
    "df['other_symptoms_of_cortical_dysfunction'] = df[list_other_symptoms_of_cortical_dysfunction].sum(axis=1)\n",
    "df['sensory_deficits'] = df[list_sensory_deficits].sum(axis=1)"
   ]
  },
  {
   "cell_type": "code",
   "execution_count": 179,
   "metadata": {},
   "outputs": [],
   "source": [
    "# Now drop the all attributes from the the dataset except the 13 main grops\n",
    "df.drop(df.iloc[:, 0:80], inplace=True, axis=1)"
   ]
  },
  {
   "cell_type": "code",
   "execution_count": 180,
   "metadata": {},
   "outputs": [
    {
     "data": {
      "text/html": [
       "<div>\n",
       "<style scoped>\n",
       "    .dataframe tbody tr th:only-of-type {\n",
       "        vertical-align: middle;\n",
       "    }\n",
       "\n",
       "    .dataframe tbody tr th {\n",
       "        vertical-align: top;\n",
       "    }\n",
       "\n",
       "    .dataframe thead th {\n",
       "        text-align: right;\n",
       "    }\n",
       "</style>\n",
       "<table border=\"1\" class=\"dataframe\">\n",
       "  <thead>\n",
       "    <tr style=\"text-align: right;\">\n",
       "      <th></th>\n",
       "      <th>specific_symptoms</th>\n",
       "      <th>autonomic_dysfunction</th>\n",
       "      <th>cerebellar_and_vestibular_system_dysfunction</th>\n",
       "      <th>changes_in_consciousness_awareness</th>\n",
       "      <th>cognitive_and_memory_impairment</th>\n",
       "      <th>disinhibition</th>\n",
       "      <th>disturbances_in_behaviour</th>\n",
       "      <th>general_decline</th>\n",
       "      <th>mobility_problems</th>\n",
       "      <th>motor_deficits</th>\n",
       "      <th>other_psychiatric_symptoms</th>\n",
       "      <th>other_symptoms_of_cortical_dysfunction</th>\n",
       "      <th>sensory_deficits</th>\n",
       "    </tr>\n",
       "  </thead>\n",
       "  <tbody>\n",
       "    <tr>\n",
       "      <th>0</th>\n",
       "      <td>0</td>\n",
       "      <td>0</td>\n",
       "      <td>0</td>\n",
       "      <td>0</td>\n",
       "      <td>0</td>\n",
       "      <td>0</td>\n",
       "      <td>0</td>\n",
       "      <td>0</td>\n",
       "      <td>0</td>\n",
       "      <td>0</td>\n",
       "      <td>0</td>\n",
       "      <td>0</td>\n",
       "      <td>0</td>\n",
       "    </tr>\n",
       "    <tr>\n",
       "      <th>1</th>\n",
       "      <td>0</td>\n",
       "      <td>0</td>\n",
       "      <td>0</td>\n",
       "      <td>0</td>\n",
       "      <td>0</td>\n",
       "      <td>0</td>\n",
       "      <td>0</td>\n",
       "      <td>0</td>\n",
       "      <td>0</td>\n",
       "      <td>0</td>\n",
       "      <td>0</td>\n",
       "      <td>0</td>\n",
       "      <td>0</td>\n",
       "    </tr>\n",
       "    <tr>\n",
       "      <th>2</th>\n",
       "      <td>0</td>\n",
       "      <td>0</td>\n",
       "      <td>0</td>\n",
       "      <td>0</td>\n",
       "      <td>0</td>\n",
       "      <td>0</td>\n",
       "      <td>0</td>\n",
       "      <td>0</td>\n",
       "      <td>0</td>\n",
       "      <td>0</td>\n",
       "      <td>0</td>\n",
       "      <td>0</td>\n",
       "      <td>0</td>\n",
       "    </tr>\n",
       "    <tr>\n",
       "      <th>3</th>\n",
       "      <td>0</td>\n",
       "      <td>0</td>\n",
       "      <td>0</td>\n",
       "      <td>0</td>\n",
       "      <td>0</td>\n",
       "      <td>0</td>\n",
       "      <td>0</td>\n",
       "      <td>0</td>\n",
       "      <td>0</td>\n",
       "      <td>0</td>\n",
       "      <td>0</td>\n",
       "      <td>0</td>\n",
       "      <td>0</td>\n",
       "    </tr>\n",
       "    <tr>\n",
       "      <th>4</th>\n",
       "      <td>1</td>\n",
       "      <td>0</td>\n",
       "      <td>0</td>\n",
       "      <td>0</td>\n",
       "      <td>0</td>\n",
       "      <td>0</td>\n",
       "      <td>0</td>\n",
       "      <td>0</td>\n",
       "      <td>0</td>\n",
       "      <td>0</td>\n",
       "      <td>0</td>\n",
       "      <td>0</td>\n",
       "      <td>0</td>\n",
       "    </tr>\n",
       "    <tr>\n",
       "      <th>5</th>\n",
       "      <td>0</td>\n",
       "      <td>0</td>\n",
       "      <td>0</td>\n",
       "      <td>0</td>\n",
       "      <td>0</td>\n",
       "      <td>0</td>\n",
       "      <td>0</td>\n",
       "      <td>0</td>\n",
       "      <td>1</td>\n",
       "      <td>0</td>\n",
       "      <td>0</td>\n",
       "      <td>0</td>\n",
       "      <td>0</td>\n",
       "    </tr>\n",
       "    <tr>\n",
       "      <th>6</th>\n",
       "      <td>0</td>\n",
       "      <td>0</td>\n",
       "      <td>0</td>\n",
       "      <td>0</td>\n",
       "      <td>0</td>\n",
       "      <td>0</td>\n",
       "      <td>0</td>\n",
       "      <td>0</td>\n",
       "      <td>0</td>\n",
       "      <td>0</td>\n",
       "      <td>0</td>\n",
       "      <td>0</td>\n",
       "      <td>0</td>\n",
       "    </tr>\n",
       "    <tr>\n",
       "      <th>7</th>\n",
       "      <td>0</td>\n",
       "      <td>0</td>\n",
       "      <td>0</td>\n",
       "      <td>0</td>\n",
       "      <td>0</td>\n",
       "      <td>0</td>\n",
       "      <td>0</td>\n",
       "      <td>0</td>\n",
       "      <td>0</td>\n",
       "      <td>0</td>\n",
       "      <td>0</td>\n",
       "      <td>0</td>\n",
       "      <td>0</td>\n",
       "    </tr>\n",
       "    <tr>\n",
       "      <th>8</th>\n",
       "      <td>0</td>\n",
       "      <td>0</td>\n",
       "      <td>0</td>\n",
       "      <td>0</td>\n",
       "      <td>0</td>\n",
       "      <td>0</td>\n",
       "      <td>0</td>\n",
       "      <td>0</td>\n",
       "      <td>0</td>\n",
       "      <td>0</td>\n",
       "      <td>0</td>\n",
       "      <td>0</td>\n",
       "      <td>0</td>\n",
       "    </tr>\n",
       "    <tr>\n",
       "      <th>9</th>\n",
       "      <td>1</td>\n",
       "      <td>0</td>\n",
       "      <td>0</td>\n",
       "      <td>0</td>\n",
       "      <td>0</td>\n",
       "      <td>0</td>\n",
       "      <td>0</td>\n",
       "      <td>0</td>\n",
       "      <td>0</td>\n",
       "      <td>0</td>\n",
       "      <td>0</td>\n",
       "      <td>0</td>\n",
       "      <td>0</td>\n",
       "    </tr>\n",
       "  </tbody>\n",
       "</table>\n",
       "</div>"
      ],
      "text/plain": [
       "   specific_symptoms  autonomic_dysfunction  \\\n",
       "0                  0                      0   \n",
       "1                  0                      0   \n",
       "2                  0                      0   \n",
       "3                  0                      0   \n",
       "4                  1                      0   \n",
       "5                  0                      0   \n",
       "6                  0                      0   \n",
       "7                  0                      0   \n",
       "8                  0                      0   \n",
       "9                  1                      0   \n",
       "\n",
       "   cerebellar_and_vestibular_system_dysfunction  \\\n",
       "0                                             0   \n",
       "1                                             0   \n",
       "2                                             0   \n",
       "3                                             0   \n",
       "4                                             0   \n",
       "5                                             0   \n",
       "6                                             0   \n",
       "7                                             0   \n",
       "8                                             0   \n",
       "9                                             0   \n",
       "\n",
       "   changes_in_consciousness_awareness  cognitive_and_memory_impairment  \\\n",
       "0                                   0                                0   \n",
       "1                                   0                                0   \n",
       "2                                   0                                0   \n",
       "3                                   0                                0   \n",
       "4                                   0                                0   \n",
       "5                                   0                                0   \n",
       "6                                   0                                0   \n",
       "7                                   0                                0   \n",
       "8                                   0                                0   \n",
       "9                                   0                                0   \n",
       "\n",
       "   disinhibition  disturbances_in_behaviour  general_decline  \\\n",
       "0              0                          0                0   \n",
       "1              0                          0                0   \n",
       "2              0                          0                0   \n",
       "3              0                          0                0   \n",
       "4              0                          0                0   \n",
       "5              0                          0                0   \n",
       "6              0                          0                0   \n",
       "7              0                          0                0   \n",
       "8              0                          0                0   \n",
       "9              0                          0                0   \n",
       "\n",
       "   mobility_problems  motor_deficits  other_psychiatric_symptoms  \\\n",
       "0                  0               0                           0   \n",
       "1                  0               0                           0   \n",
       "2                  0               0                           0   \n",
       "3                  0               0                           0   \n",
       "4                  0               0                           0   \n",
       "5                  1               0                           0   \n",
       "6                  0               0                           0   \n",
       "7                  0               0                           0   \n",
       "8                  0               0                           0   \n",
       "9                  0               0                           0   \n",
       "\n",
       "   other_symptoms_of_cortical_dysfunction  sensory_deficits  \n",
       "0                                       0                 0  \n",
       "1                                       0                 0  \n",
       "2                                       0                 0  \n",
       "3                                       0                 0  \n",
       "4                                       0                 0  \n",
       "5                                       0                 0  \n",
       "6                                       0                 0  \n",
       "7                                       0                 0  \n",
       "8                                       0                 0  \n",
       "9                                       0                 0  "
      ]
     },
     "execution_count": 180,
     "metadata": {},
     "output_type": "execute_result"
    }
   ],
   "source": [
    "df.head(10)"
   ]
  },
  {
   "cell_type": "code",
   "execution_count": null,
   "metadata": {},
   "outputs": [],
   "source": []
  },
  {
   "cell_type": "markdown",
   "metadata": {},
   "source": [
    "### Codes to perform Factor Analysis:"
   ]
  },
  {
   "cell_type": "markdown",
   "metadata": {},
   "source": [
    "Before peforming the Factor Analysis, I need to evaluate the \"factorability\" of the dataset. Factorability means \"can we find the factors in the dataset?\". There are two methods to check the factorability:\n",
    "\n",
    "<li>Bartlett's test </li>\n",
    "<li>Kaiser-Meyer-Olkin (KMO)</li>\n",
    "\n",
    "https://www.analysisinn.com/post/kmo-and-bartlett-s-test-of-sphericity/"
   ]
  },
  {
   "cell_type": "markdown",
   "metadata": {},
   "source": [
    "**Bartlett's test** checks whether or not the observed variables intercorrelate at all using the observed correlation matrix against the identity matrix. If the test found statistically insignificant, we should not employ the factor analysis."
   ]
  },
  {
   "cell_type": "code",
   "execution_count": 181,
   "metadata": {},
   "outputs": [
    {
     "data": {
      "text/plain": [
       "(75171.87525009175, 0.0)"
      ]
     },
     "execution_count": 181,
     "metadata": {},
     "output_type": "execute_result"
    }
   ],
   "source": [
    "from factor_analyzer.factor_analyzer import calculate_bartlett_sphericity\n",
    "chi_square_value,p_value=calculate_bartlett_sphericity(df)\n",
    "chi_square_value, p_value"
   ]
  },
  {
   "cell_type": "markdown",
   "metadata": {},
   "source": [
    "In this Bartlett's test, **the p-value is 0**. The test is statistically significant, indicating that the observed correlation matrix is not an identity matrix."
   ]
  },
  {
   "cell_type": "code",
   "execution_count": null,
   "metadata": {},
   "outputs": [],
   "source": []
  },
  {
   "cell_type": "markdown",
   "metadata": {},
   "source": [
    "Another test methods is **Kaiser-Meyer-Olkin (KMO)**  which measures the suitability of data for factor analysis. It determines the adequacy for each observed variable and for the complete model. KMO estimates the proportion of variance among all the observed variable. KMO values range between 0 and 1. Value of KMO less than 0.6 is considered inadequate. (https://www.statisticshowto.com/kaiser-meyer-olkin/)"
   ]
  },
  {
   "cell_type": "code",
   "execution_count": 182,
   "metadata": {},
   "outputs": [
    {
     "data": {
      "text/plain": [
       "0.8421434731351498"
      ]
     },
     "execution_count": 182,
     "metadata": {},
     "output_type": "execute_result"
    }
   ],
   "source": [
    "from factor_analyzer.factor_analyzer import calculate_kmo\n",
    "kmo_all,kmo_model=calculate_kmo(df)\n",
    "kmo_model"
   ]
  },
  {
   "cell_type": "markdown",
   "metadata": {},
   "source": [
    "The overall KMO for our data is **0.84**, which is excellent. This value indicates that I can proceed with my planned factor analysis."
   ]
  },
  {
   "cell_type": "markdown",
   "metadata": {},
   "source": [
    "### Choosing the Number of Factors"
   ]
  },
  {
   "cell_type": "code",
   "execution_count": 183,
   "metadata": {},
   "outputs": [
    {
     "data": {
      "text/html": [
       "<style>#sk-container-id-8 {color: black;background-color: white;}#sk-container-id-8 pre{padding: 0;}#sk-container-id-8 div.sk-toggleable {background-color: white;}#sk-container-id-8 label.sk-toggleable__label {cursor: pointer;display: block;width: 100%;margin-bottom: 0;padding: 0.3em;box-sizing: border-box;text-align: center;}#sk-container-id-8 label.sk-toggleable__label-arrow:before {content: \"▸\";float: left;margin-right: 0.25em;color: #696969;}#sk-container-id-8 label.sk-toggleable__label-arrow:hover:before {color: black;}#sk-container-id-8 div.sk-estimator:hover label.sk-toggleable__label-arrow:before {color: black;}#sk-container-id-8 div.sk-toggleable__content {max-height: 0;max-width: 0;overflow: hidden;text-align: left;background-color: #f0f8ff;}#sk-container-id-8 div.sk-toggleable__content pre {margin: 0.2em;color: black;border-radius: 0.25em;background-color: #f0f8ff;}#sk-container-id-8 input.sk-toggleable__control:checked~div.sk-toggleable__content {max-height: 200px;max-width: 100%;overflow: auto;}#sk-container-id-8 input.sk-toggleable__control:checked~label.sk-toggleable__label-arrow:before {content: \"▾\";}#sk-container-id-8 div.sk-estimator input.sk-toggleable__control:checked~label.sk-toggleable__label {background-color: #d4ebff;}#sk-container-id-8 div.sk-label input.sk-toggleable__control:checked~label.sk-toggleable__label {background-color: #d4ebff;}#sk-container-id-8 input.sk-hidden--visually {border: 0;clip: rect(1px 1px 1px 1px);clip: rect(1px, 1px, 1px, 1px);height: 1px;margin: -1px;overflow: hidden;padding: 0;position: absolute;width: 1px;}#sk-container-id-8 div.sk-estimator {font-family: monospace;background-color: #f0f8ff;border: 1px dotted black;border-radius: 0.25em;box-sizing: border-box;margin-bottom: 0.5em;}#sk-container-id-8 div.sk-estimator:hover {background-color: #d4ebff;}#sk-container-id-8 div.sk-parallel-item::after {content: \"\";width: 100%;border-bottom: 1px solid gray;flex-grow: 1;}#sk-container-id-8 div.sk-label:hover label.sk-toggleable__label {background-color: #d4ebff;}#sk-container-id-8 div.sk-serial::before {content: \"\";position: absolute;border-left: 1px solid gray;box-sizing: border-box;top: 0;bottom: 0;left: 50%;z-index: 0;}#sk-container-id-8 div.sk-serial {display: flex;flex-direction: column;align-items: center;background-color: white;padding-right: 0.2em;padding-left: 0.2em;position: relative;}#sk-container-id-8 div.sk-item {position: relative;z-index: 1;}#sk-container-id-8 div.sk-parallel {display: flex;align-items: stretch;justify-content: center;background-color: white;position: relative;}#sk-container-id-8 div.sk-item::before, #sk-container-id-8 div.sk-parallel-item::before {content: \"\";position: absolute;border-left: 1px solid gray;box-sizing: border-box;top: 0;bottom: 0;left: 50%;z-index: -1;}#sk-container-id-8 div.sk-parallel-item {display: flex;flex-direction: column;z-index: 1;position: relative;background-color: white;}#sk-container-id-8 div.sk-parallel-item:first-child::after {align-self: flex-end;width: 50%;}#sk-container-id-8 div.sk-parallel-item:last-child::after {align-self: flex-start;width: 50%;}#sk-container-id-8 div.sk-parallel-item:only-child::after {width: 0;}#sk-container-id-8 div.sk-dashed-wrapped {border: 1px dashed gray;margin: 0 0.4em 0.5em 0.4em;box-sizing: border-box;padding-bottom: 0.4em;background-color: white;}#sk-container-id-8 div.sk-label label {font-family: monospace;font-weight: bold;display: inline-block;line-height: 1.2em;}#sk-container-id-8 div.sk-label-container {text-align: center;}#sk-container-id-8 div.sk-container {/* jupyter's `normalize.less` sets `[hidden] { display: none; }` but bootstrap.min.css set `[hidden] { display: none !important; }` so we also need the `!important` here to be able to override the default hidden behavior on the sphinx rendered scikit-learn.org. See: https://github.com/scikit-learn/scikit-learn/issues/21755 */display: inline-block !important;position: relative;}#sk-container-id-8 div.sk-text-repr-fallback {display: none;}</style><div id=\"sk-container-id-8\" class=\"sk-top-container\"><div class=\"sk-text-repr-fallback\"><pre>FactorAnalyzer(n_factors=10, rotation=&#x27;varimax&#x27;, rotation_kwargs={})</pre><b>In a Jupyter environment, please rerun this cell to show the HTML representation or trust the notebook. <br />On GitHub, the HTML representation is unable to render, please try loading this page with nbviewer.org.</b></div><div class=\"sk-container\" hidden><div class=\"sk-item\"><div class=\"sk-estimator sk-toggleable\"><input class=\"sk-toggleable__control sk-hidden--visually\" id=\"sk-estimator-id-8\" type=\"checkbox\" checked><label for=\"sk-estimator-id-8\" class=\"sk-toggleable__label sk-toggleable__label-arrow\">FactorAnalyzer</label><div class=\"sk-toggleable__content\"><pre>FactorAnalyzer(n_factors=10, rotation=&#x27;varimax&#x27;, rotation_kwargs={})</pre></div></div></div></div></div>"
      ],
      "text/plain": [
       "FactorAnalyzer(n_factors=10, rotation='varimax', rotation_kwargs={})"
      ]
     },
     "execution_count": 183,
     "metadata": {},
     "output_type": "execute_result"
    }
   ],
   "source": [
    "# Initiallly lets create factor analysis object with n_factors = 10\n",
    "fa = FactorAnalyzer(n_factors = 10, rotation='varimax')\n",
    "fa.fit(df)"
   ]
  },
  {
   "cell_type": "code",
   "execution_count": 184,
   "metadata": {},
   "outputs": [
    {
     "data": {
      "text/plain": [
       "array([3.58686475, 1.72980889, 1.00234144, 0.97307426, 0.82935311,\n",
       "       0.75386381, 0.735717  , 0.66027359, 0.6491006 , 0.59171448,\n",
       "       0.5669548 , 0.49660963, 0.42432363])"
      ]
     },
     "execution_count": 184,
     "metadata": {},
     "output_type": "execute_result"
    }
   ],
   "source": [
    "# Check Eigenvalues\n",
    "ev, v = fa.get_eigenvalues()\n",
    "ev"
   ]
  },
  {
   "cell_type": "markdown",
   "metadata": {},
   "source": [
    "**Here, you can see only for 3 eigenvalues are greater than 1. It means we need to choose only 3 factors.**"
   ]
  },
  {
   "cell_type": "code",
   "execution_count": 185,
   "metadata": {},
   "outputs": [
    {
     "data": {
      "image/png": "[encoded data removed]",
      "text/plain": [
       "<Figure size 1000x500 with 1 Axes>"
      ]
     },
     "metadata": {},
     "output_type": "display_data"
    }
   ],
   "source": [
    "# Create scree plot\n",
    "plt.figure(figsize=(10, 5))\n",
    "\n",
    "plt.scatter(range(1, df.shape[1]+1), ev)\n",
    "plt.plot(range(1, df.shape[1]+1), ev)\n",
    "\n",
    "# plt.title('Scree Plot')\n",
    "plt.xlabel('Factors')\n",
    "plt.ylabel('Eigenvalue')\n",
    "\n",
    "plt.grid()\n",
    "plt.show()"
   ]
  },
  {
   "cell_type": "markdown",
   "metadata": {},
   "source": [
    "### Performing Factor Analysis"
   ]
  },
  {
   "cell_type": "code",
   "execution_count": 186,
   "metadata": {},
   "outputs": [
    {
     "data": {
      "text/html": [
       "<style>#sk-container-id-9 {color: black;background-color: white;}#sk-container-id-9 pre{padding: 0;}#sk-container-id-9 div.sk-toggleable {background-color: white;}#sk-container-id-9 label.sk-toggleable__label {cursor: pointer;display: block;width: 100%;margin-bottom: 0;padding: 0.3em;box-sizing: border-box;text-align: center;}#sk-container-id-9 label.sk-toggleable__label-arrow:before {content: \"▸\";float: left;margin-right: 0.25em;color: #696969;}#sk-container-id-9 label.sk-toggleable__label-arrow:hover:before {color: black;}#sk-container-id-9 div.sk-estimator:hover label.sk-toggleable__label-arrow:before {color: black;}#sk-container-id-9 div.sk-toggleable__content {max-height: 0;max-width: 0;overflow: hidden;text-align: left;background-color: #f0f8ff;}#sk-container-id-9 div.sk-toggleable__content pre {margin: 0.2em;color: black;border-radius: 0.25em;background-color: #f0f8ff;}#sk-container-id-9 input.sk-toggleable__control:checked~div.sk-toggleable__content {max-height: 200px;max-width: 100%;overflow: auto;}#sk-container-id-9 input.sk-toggleable__control:checked~label.sk-toggleable__label-arrow:before {content: \"▾\";}#sk-container-id-9 div.sk-estimator input.sk-toggleable__control:checked~label.sk-toggleable__label {background-color: #d4ebff;}#sk-container-id-9 div.sk-label input.sk-toggleable__control:checked~label.sk-toggleable__label {background-color: #d4ebff;}#sk-container-id-9 input.sk-hidden--visually {border: 0;clip: rect(1px 1px 1px 1px);clip: rect(1px, 1px, 1px, 1px);height: 1px;margin: -1px;overflow: hidden;padding: 0;position: absolute;width: 1px;}#sk-container-id-9 div.sk-estimator {font-family: monospace;background-color: #f0f8ff;border: 1px dotted black;border-radius: 0.25em;box-sizing: border-box;margin-bottom: 0.5em;}#sk-container-id-9 div.sk-estimator:hover {background-color: #d4ebff;}#sk-container-id-9 div.sk-parallel-item::after {content: \"\";width: 100%;border-bottom: 1px solid gray;flex-grow: 1;}#sk-container-id-9 div.sk-label:hover label.sk-toggleable__label {background-color: #d4ebff;}#sk-container-id-9 div.sk-serial::before {content: \"\";position: absolute;border-left: 1px solid gray;box-sizing: border-box;top: 0;bottom: 0;left: 50%;z-index: 0;}#sk-container-id-9 div.sk-serial {display: flex;flex-direction: column;align-items: center;background-color: white;padding-right: 0.2em;padding-left: 0.2em;position: relative;}#sk-container-id-9 div.sk-item {position: relative;z-index: 1;}#sk-container-id-9 div.sk-parallel {display: flex;align-items: stretch;justify-content: center;background-color: white;position: relative;}#sk-container-id-9 div.sk-item::before, #sk-container-id-9 div.sk-parallel-item::before {content: \"\";position: absolute;border-left: 1px solid gray;box-sizing: border-box;top: 0;bottom: 0;left: 50%;z-index: -1;}#sk-container-id-9 div.sk-parallel-item {display: flex;flex-direction: column;z-index: 1;position: relative;background-color: white;}#sk-container-id-9 div.sk-parallel-item:first-child::after {align-self: flex-end;width: 50%;}#sk-container-id-9 div.sk-parallel-item:last-child::after {align-self: flex-start;width: 50%;}#sk-container-id-9 div.sk-parallel-item:only-child::after {width: 0;}#sk-container-id-9 div.sk-dashed-wrapped {border: 1px dashed gray;margin: 0 0.4em 0.5em 0.4em;box-sizing: border-box;padding-bottom: 0.4em;background-color: white;}#sk-container-id-9 div.sk-label label {font-family: monospace;font-weight: bold;display: inline-block;line-height: 1.2em;}#sk-container-id-9 div.sk-label-container {text-align: center;}#sk-container-id-9 div.sk-container {/* jupyter's `normalize.less` sets `[hidden] { display: none; }` but bootstrap.min.css set `[hidden] { display: none !important; }` so we also need the `!important` here to be able to override the default hidden behavior on the sphinx rendered scikit-learn.org. See: https://github.com/scikit-learn/scikit-learn/issues/21755 */display: inline-block !important;position: relative;}#sk-container-id-9 div.sk-text-repr-fallback {display: none;}</style><div id=\"sk-container-id-9\" class=\"sk-top-container\"><div class=\"sk-text-repr-fallback\"><pre>FactorAnalyzer(rotation=&#x27;varimax&#x27;, rotation_kwargs={})</pre><b>In a Jupyter environment, please rerun this cell to show the HTML representation or trust the notebook. <br />On GitHub, the HTML representation is unable to render, please try loading this page with nbviewer.org.</b></div><div class=\"sk-container\" hidden><div class=\"sk-item\"><div class=\"sk-estimator sk-toggleable\"><input class=\"sk-toggleable__control sk-hidden--visually\" id=\"sk-estimator-id-9\" type=\"checkbox\" checked><label for=\"sk-estimator-id-9\" class=\"sk-toggleable__label sk-toggleable__label-arrow\">FactorAnalyzer</label><div class=\"sk-toggleable__content\"><pre>FactorAnalyzer(rotation=&#x27;varimax&#x27;, rotation_kwargs={})</pre></div></div></div></div></div>"
      ],
      "text/plain": [
       "FactorAnalyzer(rotation='varimax', rotation_kwargs={})"
      ]
     },
     "execution_count": 186,
     "metadata": {},
     "output_type": "execute_result"
    }
   ],
   "source": [
    "# Create factor analysis object with n_factors = 3\n",
    "fa = FactorAnalyzer(n_factors = 3, rotation='varimax')\n",
    "fa.fit(df)"
   ]
  },
  {
   "cell_type": "code",
   "execution_count": 187,
   "metadata": {},
   "outputs": [],
   "source": [
    "# fa.loadings_"
   ]
  },
  {
   "cell_type": "code",
   "execution_count": 188,
   "metadata": {},
   "outputs": [
    {
     "data": {
      "text/html": [
       "<div>\n",
       "<style scoped>\n",
       "    .dataframe tbody tr th:only-of-type {\n",
       "        vertical-align: middle;\n",
       "    }\n",
       "\n",
       "    .dataframe tbody tr th {\n",
       "        vertical-align: top;\n",
       "    }\n",
       "\n",
       "    .dataframe thead th {\n",
       "        text-align: right;\n",
       "    }\n",
       "</style>\n",
       "<table border=\"1\" class=\"dataframe\">\n",
       "  <thead>\n",
       "    <tr style=\"text-align: right;\">\n",
       "      <th></th>\n",
       "      <th>0</th>\n",
       "      <th>1</th>\n",
       "      <th>2</th>\n",
       "    </tr>\n",
       "  </thead>\n",
       "  <tbody>\n",
       "    <tr>\n",
       "      <th>specific_symptoms</th>\n",
       "      <td>0.265970</td>\n",
       "      <td>0.200917</td>\n",
       "      <td>0.383394</td>\n",
       "    </tr>\n",
       "    <tr>\n",
       "      <th>autonomic_dysfunction</th>\n",
       "      <td>0.047698</td>\n",
       "      <td>0.277222</td>\n",
       "      <td>0.283418</td>\n",
       "    </tr>\n",
       "    <tr>\n",
       "      <th>cerebellar_and_vestibular_system_dysfunction</th>\n",
       "      <td>0.060057</td>\n",
       "      <td>0.611035</td>\n",
       "      <td>0.033559</td>\n",
       "    </tr>\n",
       "    <tr>\n",
       "      <th>changes_in_consciousness_awareness</th>\n",
       "      <td>0.509277</td>\n",
       "      <td>0.005054</td>\n",
       "      <td>0.450721</td>\n",
       "    </tr>\n",
       "    <tr>\n",
       "      <th>cognitive_and_memory_impairment</th>\n",
       "      <td>0.771587</td>\n",
       "      <td>0.030406</td>\n",
       "      <td>0.192071</td>\n",
       "    </tr>\n",
       "    <tr>\n",
       "      <th>disinhibition</th>\n",
       "      <td>0.436451</td>\n",
       "      <td>0.059213</td>\n",
       "      <td>0.340316</td>\n",
       "    </tr>\n",
       "    <tr>\n",
       "      <th>disturbances_in_behaviour</th>\n",
       "      <td>0.342954</td>\n",
       "      <td>0.212030</td>\n",
       "      <td>0.535430</td>\n",
       "    </tr>\n",
       "    <tr>\n",
       "      <th>general_decline</th>\n",
       "      <td>0.245546</td>\n",
       "      <td>0.153467</td>\n",
       "      <td>0.461895</td>\n",
       "    </tr>\n",
       "    <tr>\n",
       "      <th>mobility_problems</th>\n",
       "      <td>0.064006</td>\n",
       "      <td>0.454970</td>\n",
       "      <td>0.336153</td>\n",
       "    </tr>\n",
       "    <tr>\n",
       "      <th>motor_deficits</th>\n",
       "      <td>0.060480</td>\n",
       "      <td>0.674716</td>\n",
       "      <td>0.113492</td>\n",
       "    </tr>\n",
       "    <tr>\n",
       "      <th>other_psychiatric_symptoms</th>\n",
       "      <td>0.080180</td>\n",
       "      <td>-0.047339</td>\n",
       "      <td>0.209701</td>\n",
       "    </tr>\n",
       "    <tr>\n",
       "      <th>other_symptoms_of_cortical_dysfunction</th>\n",
       "      <td>0.632075</td>\n",
       "      <td>0.153929</td>\n",
       "      <td>0.190874</td>\n",
       "    </tr>\n",
       "    <tr>\n",
       "      <th>sensory_deficits</th>\n",
       "      <td>0.048157</td>\n",
       "      <td>0.426775</td>\n",
       "      <td>-0.024099</td>\n",
       "    </tr>\n",
       "  </tbody>\n",
       "</table>\n",
       "</div>"
      ],
      "text/plain": [
       "                                                     0         1         2\n",
       "specific_symptoms                             0.265970  0.200917  0.383394\n",
       "autonomic_dysfunction                         0.047698  0.277222  0.283418\n",
       "cerebellar_and_vestibular_system_dysfunction  0.060057  0.611035  0.033559\n",
       "changes_in_consciousness_awareness            0.509277  0.005054  0.450721\n",
       "cognitive_and_memory_impairment               0.771587  0.030406  0.192071\n",
       "disinhibition                                 0.436451  0.059213  0.340316\n",
       "disturbances_in_behaviour                     0.342954  0.212030  0.535430\n",
       "general_decline                               0.245546  0.153467  0.461895\n",
       "mobility_problems                             0.064006  0.454970  0.336153\n",
       "motor_deficits                                0.060480  0.674716  0.113492\n",
       "other_psychiatric_symptoms                    0.080180 -0.047339  0.209701\n",
       "other_symptoms_of_cortical_dysfunction        0.632075  0.153929  0.190874\n",
       "sensory_deficits                              0.048157  0.426775 -0.024099"
      ]
     },
     "execution_count": 188,
     "metadata": {},
     "output_type": "execute_result"
    }
   ],
   "source": [
    "# pd.DataFrame.from_records(fa.loadings_)\n",
    "pd.DataFrame(fa.loadings_,index=df.columns)"
   ]
  },
  {
   "cell_type": "markdown",
   "metadata": {},
   "source": [
    "Loadings indicate how much a factor explains a variable. The loading score will range from -1 to 1. **Values close to -1 or 1 indicate that the factor has an influence on these variables.** Values close to 0 indicates that the factor has a lower influencer on the variable."
   ]
  },
  {
   "cell_type": "markdown",
   "metadata": {},
   "source": [
    "### Conclusion"
   ]
  },
  {
   "cell_type": "markdown",
   "metadata": {},
   "source": [
    "So from the above factor loading valuesm we can see:\n",
    "    \n",
    "**Factor 1 has high factor loadings:**<br>\n",
    "    cognitive_and_memory_impairment, other_symptoms_of_cortical_dysfunction, changes_in_consciousness_awareness\n",
    "    \n",
    "**Factor 2 has high factor loadings:**<br>\n",
    "    motor_deficits, cerebellar_and_vestibular_system_dysfunction, mobility_problems\n",
    "    \n",
    "**Factor 3 has high factor loadings:**<br>\n",
    "    disturbances_in_behaviour, general_decline, changes_in_consciousness_awareness"
   ]
  },
  {
   "cell_type": "code",
   "execution_count": 189,
   "metadata": {},
   "outputs": [
    {
     "data": {
      "text/plain": [
       "'\\nimport numpy as np\\nZ=np.abs(fa.loadings_)\\nfig, ax = plt.subplots()\\nc = ax.pcolor(Z)\\n\\nfig.colorbar(c, ax=ax)\\nax.set_yticks(np.arange(fa.loadings_.shape[0]), minor=True)\\nax.set_xticks(np.arange(fa.loadings_.shape[1]), minor=True)\\n\\nplt.show()\\n'"
      ]
     },
     "execution_count": 189,
     "metadata": {},
     "output_type": "execute_result"
    }
   ],
   "source": [
    "\"\"\"\n",
    "import numpy as np\n",
    "Z=np.abs(fa.loadings_)\n",
    "fig, ax = plt.subplots()\n",
    "c = ax.pcolor(Z)\n",
    "\n",
    "fig.colorbar(c, ax=ax)\n",
    "ax.set_yticks(np.arange(fa.loadings_.shape[0]), minor=True)\n",
    "ax.set_xticks(np.arange(fa.loadings_.shape[1]), minor=True)\n",
    "\n",
    "plt.show()\n",
    "\"\"\""
   ]
  },
  {
   "cell_type": "code",
   "execution_count": null,
   "metadata": {},
   "outputs": [],
   "source": []
  }
 ],
 "metadata": {
  "interpreter": {
   "hash": "40d3a090f54c6569ab1632332b64b2c03c39dcf918b08424e98f38b5ae0af88f"
  },
  "kernelspec": {
   "display_name": "Python 3 (ipykernel)",
   "language": "python",
   "name": "python3"
  },
  "language_info": {
   "codemirror_mode": {
    "name": "ipython",
    "version": 3
   },
   "file_extension": ".py",
   "mimetype": "text/x-python",
   "name": "python",
   "nbconvert_exporter": "python",
   "pygments_lexer": "ipython3",
   "version": "3.10.4"
  }
 },
 "nbformat": 4,
 "nbformat_minor": 2
}
