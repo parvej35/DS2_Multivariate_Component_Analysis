{
 "cells": [
  {
   "cell_type": "code",
   "execution_count": 70,
   "id": "75ae8405",
   "metadata": {},
   "outputs": [],
   "source": [
    "import pandas as pd\n",
    "import numpy as np\n",
    "import matplotlib.pyplot as plt\n",
    "import matplotlib.collections as mc"
   ]
  },
  {
   "cell_type": "code",
   "execution_count": 27,
   "id": "a0c278e2",
   "metadata": {},
   "outputs": [
    {
     "data": {
      "text/html": [
       "<div>\n",
       "<style scoped>\n",
       "    .dataframe tbody tr th:only-of-type {\n",
       "        vertical-align: middle;\n",
       "    }\n",
       "\n",
       "    .dataframe tbody tr th {\n",
       "        vertical-align: top;\n",
       "    }\n",
       "\n",
       "    .dataframe thead th {\n",
       "        text-align: right;\n",
       "    }\n",
       "</style>\n",
       "<table border=\"1\" class=\"dataframe\">\n",
       "  <thead>\n",
       "    <tr style=\"text-align: right;\">\n",
       "      <th></th>\n",
       "      <th>Type</th>\n",
       "      <th>fixed acidity</th>\n",
       "      <th>volatile acidity</th>\n",
       "      <th>citric acid</th>\n",
       "      <th>residual sugar</th>\n",
       "      <th>chlorides</th>\n",
       "      <th>free sulfur dioxide</th>\n",
       "      <th>total sulfur dioxide</th>\n",
       "      <th>density</th>\n",
       "      <th>pH</th>\n",
       "      <th>sulphates</th>\n",
       "      <th>alcohol</th>\n",
       "      <th>quality</th>\n",
       "    </tr>\n",
       "  </thead>\n",
       "  <tbody>\n",
       "    <tr>\n",
       "      <th>0</th>\n",
       "      <td>1</td>\n",
       "      <td>7.4</td>\n",
       "      <td>0.70</td>\n",
       "      <td>0.00</td>\n",
       "      <td>1.9</td>\n",
       "      <td>0.076</td>\n",
       "      <td>11.0</td>\n",
       "      <td>34.0</td>\n",
       "      <td>0.9978</td>\n",
       "      <td>3.51</td>\n",
       "      <td>0.56</td>\n",
       "      <td>9.4</td>\n",
       "      <td>5</td>\n",
       "    </tr>\n",
       "    <tr>\n",
       "      <th>1</th>\n",
       "      <td>1</td>\n",
       "      <td>7.8</td>\n",
       "      <td>0.88</td>\n",
       "      <td>0.00</td>\n",
       "      <td>2.6</td>\n",
       "      <td>0.098</td>\n",
       "      <td>25.0</td>\n",
       "      <td>67.0</td>\n",
       "      <td>0.9968</td>\n",
       "      <td>3.20</td>\n",
       "      <td>0.68</td>\n",
       "      <td>9.8</td>\n",
       "      <td>5</td>\n",
       "    </tr>\n",
       "    <tr>\n",
       "      <th>2</th>\n",
       "      <td>1</td>\n",
       "      <td>7.8</td>\n",
       "      <td>0.76</td>\n",
       "      <td>0.04</td>\n",
       "      <td>2.3</td>\n",
       "      <td>0.092</td>\n",
       "      <td>15.0</td>\n",
       "      <td>54.0</td>\n",
       "      <td>0.9970</td>\n",
       "      <td>3.26</td>\n",
       "      <td>0.65</td>\n",
       "      <td>9.8</td>\n",
       "      <td>5</td>\n",
       "    </tr>\n",
       "    <tr>\n",
       "      <th>3</th>\n",
       "      <td>1</td>\n",
       "      <td>11.2</td>\n",
       "      <td>0.28</td>\n",
       "      <td>0.56</td>\n",
       "      <td>1.9</td>\n",
       "      <td>0.075</td>\n",
       "      <td>17.0</td>\n",
       "      <td>60.0</td>\n",
       "      <td>0.9980</td>\n",
       "      <td>3.16</td>\n",
       "      <td>0.58</td>\n",
       "      <td>9.8</td>\n",
       "      <td>6</td>\n",
       "    </tr>\n",
       "    <tr>\n",
       "      <th>4</th>\n",
       "      <td>1</td>\n",
       "      <td>7.4</td>\n",
       "      <td>0.70</td>\n",
       "      <td>0.00</td>\n",
       "      <td>1.9</td>\n",
       "      <td>0.076</td>\n",
       "      <td>11.0</td>\n",
       "      <td>34.0</td>\n",
       "      <td>0.9978</td>\n",
       "      <td>3.51</td>\n",
       "      <td>0.56</td>\n",
       "      <td>9.4</td>\n",
       "      <td>5</td>\n",
       "    </tr>\n",
       "  </tbody>\n",
       "</table>\n",
       "</div>"
      ],
      "text/plain": [
       "   Type  fixed acidity  volatile acidity  citric acid  residual sugar  \\\n",
       "0     1            7.4              0.70         0.00             1.9   \n",
       "1     1            7.8              0.88         0.00             2.6   \n",
       "2     1            7.8              0.76         0.04             2.3   \n",
       "3     1           11.2              0.28         0.56             1.9   \n",
       "4     1            7.4              0.70         0.00             1.9   \n",
       "\n",
       "   chlorides  free sulfur dioxide  total sulfur dioxide  density    pH  \\\n",
       "0      0.076                 11.0                  34.0   0.9978  3.51   \n",
       "1      0.098                 25.0                  67.0   0.9968  3.20   \n",
       "2      0.092                 15.0                  54.0   0.9970  3.26   \n",
       "3      0.075                 17.0                  60.0   0.9980  3.16   \n",
       "4      0.076                 11.0                  34.0   0.9978  3.51   \n",
       "\n",
       "   sulphates  alcohol  quality  \n",
       "0       0.56      9.4        5  \n",
       "1       0.68      9.8        5  \n",
       "2       0.65      9.8        5  \n",
       "3       0.58      9.8        6  \n",
       "4       0.56      9.4        5  "
      ]
     },
     "execution_count": 27,
     "metadata": {},
     "output_type": "execute_result"
    }
   ],
   "source": [
    "wine = pd.read_csv('wine.csv')\n",
    "wine['Type'] = wine.Type.map({'W':0 , 'R' :1 })\n",
    "wine.head()"
   ]
  },
  {
   "cell_type": "code",
   "execution_count": 30,
   "id": "f3f1562e",
   "metadata": {},
   "outputs": [],
   "source": [
    "y = wine.quality"
   ]
  },
  {
   "cell_type": "code",
   "execution_count": 33,
   "id": "c8a20db7",
   "metadata": {},
   "outputs": [],
   "source": [
    "data = wine.iloc[:, :12].values"
   ]
  },
  {
   "cell_type": "code",
   "execution_count": 39,
   "id": "7477d17b",
   "metadata": {},
   "outputs": [
    {
     "data": {
      "text/plain": [
       "(6497, 12)"
      ]
     },
     "execution_count": 39,
     "metadata": {},
     "output_type": "execute_result"
    }
   ],
   "source": [
    "centered = data - data.mean(axis = 0)\n",
    "zscores = centered / data.std(axis = 0)\n",
    "zscores.shape"
   ]
  },
  {
   "cell_type": "code",
   "execution_count": 52,
   "id": "352d7010",
   "metadata": {},
   "outputs": [],
   "source": [
    "X = np.stack((np.ones(zscores.shape[0]), zscores[:, 0], zscores[:, 1], zscores[:, 2], zscores[:, 3], zscores[:, 4], zscores[:, 5], zscores[:, 6], zscores[:, 7], zscores[:, 8], zscores[:, 9],zscores[:, 10], zscores[:, 11]), axis=1)"
   ]
  },
  {
   "cell_type": "code",
   "execution_count": 53,
   "id": "d7b44d84",
   "metadata": {},
   "outputs": [
    {
     "name": "stdout",
     "output_type": "stream",
     "text": [
      "[ 5.81837771  0.155642    0.11027401 -0.24568548 -0.00909927  0.29704168\n",
      " -0.02652718  0.08762284 -0.07927578 -0.311567    0.08018737  0.10739154\n",
      "  0.26556038]\n"
     ]
    }
   ],
   "source": [
    "b = np.linalg.inv(X.T @ X) @ X.T @ y\n",
    "print(b)"
   ]
  },
  {
   "cell_type": "code",
   "execution_count": 54,
   "id": "970b593c",
   "metadata": {},
   "outputs": [],
   "source": [
    "# Residuals\n",
    "ypred = X @ b\n",
    "residuals = y - ypred"
   ]
  },
  {
   "cell_type": "code",
   "execution_count": 55,
   "id": "7204e973",
   "metadata": {},
   "outputs": [
    {
     "name": "stdout",
     "output_type": "stream",
     "text": [
      "70.35109898515084 70.29164568988737\n"
     ]
    }
   ],
   "source": [
    "# How much of the variance of y is explained by the model?\n",
    "# If the relationship is perfect, it's 1 (100%)\n",
    "R2 = 1 - ypred.var() / y.var()\n",
    "# The adjusted R2 is corrected for the sample size and number of regressors\n",
    "adjusted_R2 = 1 - ((1 - R2) * (len(y) - 1) / (len(y) - X.shape[1] - 1))\n",
    "\n",
    "print(R2*100, adjusted_R2*100)"
   ]
  },
  {
   "cell_type": "code",
   "execution_count": 67,
   "id": "792e539b",
   "metadata": {},
   "outputs": [
    {
     "data": {
      "image/png": "[encoded data removed]",
      "text/plain": [
       "<Figure size 432x288 with 1 Axes>"
      ]
     },
     "metadata": {
      "needs_background": "light"
     },
     "output_type": "display_data"
    }
   ],
   "source": [
    "plt.plot(y, ypred, 'ok')\n",
    "plt.axis('equal')\n",
    "plt.show()"
   ]
  },
  {
   "cell_type": "code",
   "execution_count": 76,
   "id": "990255f5",
   "metadata": {},
   "outputs": [],
   "source": [
    "coef = np.polyfit(y, ypred, deg=1)\n",
    "\n",
    "curvefit = np.poly1d(coef)"
   ]
  },
  {
   "cell_type": "code",
   "execution_count": 77,
   "id": "e0246f04",
   "metadata": {},
   "outputs": [
    {
     "data": {
      "image/png": "[encoded data removed]",
      "text/plain": [
       "<Figure size 432x288 with 1 Axes>"
      ]
     },
     "metadata": {
      "needs_background": "light"
     },
     "output_type": "display_data"
    }
   ],
   "source": [
    "x = np.linspace(2.5, 9.5, 101)\n",
    "newy = curvefit(x)\n",
    "\n",
    "# The residuals\n",
    "segs = np.array(((y, y),(ypred, coef[1] + coef[0]*y ))).T\n",
    "axes = plt.axes()\n",
    "axes.add_collection(mc.LineCollection(segs, color=\"red\", linewidths=0.75))\n",
    "\n",
    "plt.plot(y, ypred, 'ok')\n",
    "plt.plot(x, newy, '-r', label='curve fit')\n",
    "\n",
    "\n",
    "plt.axvline(x.mean(), ls='--', lw=0.75)\n",
    "plt.axhline(newy.mean(), ls='--', lw=0.75)\n",
    "plt.show()"
   ]
  },
  {
   "cell_type": "code",
   "execution_count": null,
   "id": "0f258447",
   "metadata": {},
   "outputs": [],
   "source": []
  }
 ],
 "metadata": {
  "kernelspec": {
   "display_name": "Python 3 (ipykernel)",
   "language": "python",
   "name": "python3"
  },
  "language_info": {
   "codemirror_mode": {
    "name": "ipython",
    "version": 3
   },
   "file_extension": ".py",
   "mimetype": "text/x-python",
   "name": "python",
   "nbconvert_exporter": "python",
   "pygments_lexer": "ipython3",
   "version": "3.9.7"
  }
 },
 "nbformat": 4,
 "nbformat_minor": 5
}
